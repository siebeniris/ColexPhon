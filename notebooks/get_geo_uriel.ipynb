{
 "cells": [
  {
   "cell_type": "code",
   "execution_count": 19,
   "id": "38f9dfd6-0daa-4bdb-9421-fe47af63cda4",
   "metadata": {
    "tags": []
   },
   "outputs": [],
   "source": [
    "import pandas as pd\n",
    "from itertools import combinations\n",
    "import scipy.sparse as sparse\n"
   ]
  },
  {
   "cell_type": "code",
   "execution_count": 2,
   "id": "cfb18c63-9a96-4c8c-b832-a4102db96985",
   "metadata": {
    "tags": []
   },
   "outputs": [],
   "source": [
    "path = \"~/Documents/experiments/LangSim/data/lang2vec_distances/GEOGRAPHIC.csv\""
   ]
  },
  {
   "cell_type": "code",
   "execution_count": 27,
   "id": "6cd31355-59de-46eb-9533-3365b5797b94",
   "metadata": {
    "tags": []
   },
   "outputs": [],
   "source": [
    "geofile = \"/Users/yiyichen/Documents/experiments/datasets/lang2vec/lang2vec/data/distances2/geographic_upper_round1_sparse.npz\""
   ]
  },
  {
   "cell_type": "code",
   "execution_count": 28,
   "id": "a26edcf0-1092-4b4a-a179-d750613cac61",
   "metadata": {
    "tags": []
   },
   "outputs": [],
   "source": [
    "data = sparse.load_npz(geofile)"
   ]
  },
  {
   "cell_type": "code",
   "execution_count": 4,
   "id": "dd3e8a58-ff37-414d-ad53-940844777aff",
   "metadata": {
    "tags": []
   },
   "outputs": [],
   "source": [
    "def get_feature_distances(src_langs, tgt_langs):\n",
    "    distances = []\n",
    "    for src, tgt in zip(src_langs, tgt_langs):\n",
    "        if src == \"arb\":\n",
    "            src = \"ara\"\n",
    "        if tgt == \"arb\":\n",
    "            tgt = \"ara\"\n",
    "\n",
    "        if src in langs and tgt in langs:\n",
    "            indeces = [langs.index(i) for i in [src, tgt]]\n",
    "            if indeces[0] > indeces[1]:\n",
    "                distances.append(data[indeces[1], indeces[0]])\n",
    "            else:\n",
    "                distances.append(data[indeces[0], indeces[1]])\n",
    "        else:\n",
    "            distances.append(None)\n",
    "            print(\"not found:\", src, tgt)\n",
    "    return distances\n",
    "\n",
    "\n",
    "# colex_df[\"geographical\"] = get_feature_distances(src_langs, tgt_langs)\n",
    "# colex_df.to_csv(\"colex.csv\", index=False)"
   ]
  },
  {
   "cell_type": "code",
   "execution_count": 5,
   "id": "ac33ded3-b714-4073-b302-839ec49b478c",
   "metadata": {},
   "outputs": [],
   "source": [
    "df = pd.read_csv(\"../data/preprocessed/colex_pron_geo_dedup.csv\")"
   ]
  },
  {
   "cell_type": "code",
   "execution_count": 6,
   "id": "636e074c-248e-4fdd-9832-444010d96f58",
   "metadata": {},
   "outputs": [],
   "source": [
    "langs = list(set(df.LANG_PRON.tolist()))"
   ]
  },
  {
   "cell_type": "code",
   "execution_count": 7,
   "id": "b0cd898a-785c-43b2-a7ff-c5563d189183",
   "metadata": {},
   "outputs": [
    {
     "data": {
      "text/plain": [
       "164"
      ]
     },
     "execution_count": 7,
     "metadata": {},
     "output_type": "execute_result"
    }
   ],
   "source": [
    "len(langs)"
   ]
  },
  {
   "cell_type": "code",
   "execution_count": 8,
   "id": "07ad0be0-3fff-4dea-ae75-e5216f75d64c",
   "metadata": {},
   "outputs": [],
   "source": [
    "xs=[]\n",
    "ys = []\n",
    "for x, y in combinations(langs,2):\n",
    "    xs.append(x)\n",
    "    ys.append(y)"
   ]
  },
  {
   "cell_type": "code",
   "execution_count": 11,
   "id": "f6b63ea0-1e83-4492-98e3-2d8708da0fff",
   "metadata": {
    "tags": []
   },
   "outputs": [],
   "source": [
    "df_geo = pd.DataFrame(list(zip(xs,ys)))"
   ]
  },
  {
   "cell_type": "code",
   "execution_count": 13,
   "id": "d61cb244-a2a2-4d26-ae9d-fad0929fe3c6",
   "metadata": {
    "tags": []
   },
   "outputs": [],
   "source": [
    "df_geo.columns = [\"src\", \"tgt\"]"
   ]
  },
  {
   "cell_type": "code",
   "execution_count": 29,
   "id": "8853a907-5a03-4c24-bd82-2f24b3274aa2",
   "metadata": {
    "tags": []
   },
   "outputs": [],
   "source": [
    "df_geo[\"geo_distance\"] = get_feature_distances(xs,ys)"
   ]
  },
  {
   "cell_type": "code",
   "execution_count": 31,
   "id": "ac6f5202-c766-4aeb-9f8f-e5f99cb7089a",
   "metadata": {
    "tags": []
   },
   "outputs": [
    {
     "data": {
      "text/plain": [
       "0.1    8313\n",
       "0.0    2915\n",
       "0.2    1560\n",
       "1.0     325\n",
       "0.3      92\n",
       "0.6      89\n",
       "0.5      66\n",
       "0.4       6\n",
       "Name: geo_distance, dtype: int64"
      ]
     },
     "execution_count": 31,
     "metadata": {},
     "output_type": "execute_result"
    }
   ],
   "source": [
    "df_geo[\"geo_distance\"].value_counts()"
   ]
  },
  {
   "cell_type": "code",
   "execution_count": 33,
   "id": "6b08576c-e3cb-4b27-aedf-4695b4cf3735",
   "metadata": {
    "tags": []
   },
   "outputs": [],
   "source": [
    "df_geo.to_csv(\"geo.csv\", index=False)"
   ]
  },
  {
   "cell_type": "code",
   "execution_count": 67,
   "id": "3e1bfbb9-e7ca-4c44-ac01-8e7ccb8e1ee2",
   "metadata": {
    "tags": []
   },
   "outputs": [],
   "source": [
    "lang_geo = dict()\n",
    "for lang, lat, long in zip(df[\"LANG_PRON\"], df[\"Latitude\"], df[\"Longitude\"]):\n",
    "    lang_geo[lang]= (lat,long)"
   ]
  },
  {
   "cell_type": "code",
   "execution_count": 68,
   "id": "f1abe605-1ceb-48e8-852d-022b1293a9b2",
   "metadata": {
    "scrolled": true,
    "tags": []
   },
   "outputs": [
    {
     "data": {
      "text/plain": [
       "{'fra': (48.0, 48.0),\n",
       " 'pol': (52.0, 52.0),\n",
       " 'por': (39.0, 39.0),\n",
       " 'spa': (40.0, 40.0),\n",
       " 'fin': (62.0, 62.0),\n",
       " 'msa': (nan, nan),\n",
       " 'eus': (43.0, 43.0),\n",
       " 'swe': (60.0, 60.0),\n",
       " 'isl': (65.0, 65.0),\n",
       " 'ukr': (49.0, 49.0),\n",
       " 'rus': (56.0, 56.0),\n",
       " 'ces': (50.0, 50.0),\n",
       " 'ron': (46.0, 46.0),\n",
       " 'slv': (46.0, 46.0),\n",
       " 'fas': (nan, nan),\n",
       " 'cmn': (34.0, 34.0),\n",
       " 'nld': (52.5, 52.5),\n",
       " 'hun': (47.0, 47.0),\n",
       " 'eng': (52.0, 52.0),\n",
       " 'ast': (43.25, 43.25),\n",
       " 'epo': (53.08, 53.08),\n",
       " 'deu': (52.0, 52.0),\n",
       " 'tgl': (15.0, 15.0),\n",
       " 'enm': (nan, nan),\n",
       " 'ara': (nan, nan),\n",
       " 'ita': (43.0, 43.0),\n",
       " 'slk': (49.0, 49.0),\n",
       " 'dan': (56.0, 56.0),\n",
       " 'ind': (0.0, 0.0),\n",
       " 'gle': (53.0, 53.0),\n",
       " 'glg': (43.0, 43.0),\n",
       " 'heb': (31.5, 31.5),\n",
       " 'bul': (42.5, 42.5),\n",
       " 'hin': (25.0, 25.0),\n",
       " 'kor': (37.5, 37.5),\n",
       " 'sqi': (nan, nan),\n",
       " 'jpn': (29.13, 29.13),\n",
       " 'kat': (42.0, 42.0),\n",
       " 'nor': (59.27, 59.27),\n",
       " 'cym': (52.0, 52.0),\n",
       " 'ell': (39.0, 39.0),\n",
       " 'tur': (39.0, 39.0),\n",
       " 'tam': (11.0, 11.0),\n",
       " 'tha': (16.0, 16.0),\n",
       " 'lit': (55.0, 55.0),\n",
       " 'vie': (10.5, 10.5),\n",
       " 'mya': (16.8, 16.8),\n",
       " 'lav': (nan, nan),\n",
       " 'mlt': (35.92, 35.92),\n",
       " 'afr': (-31.0, -31.0),\n",
       " 'hye': (38.5, 38.5),\n",
       " 'kaz': (50.0, 50.0),\n",
       " 'hbs': (nan, nan),\n",
       " 'gla': (57.0, 57.0),\n",
       " 'bel': (54.0, 54.0),\n",
       " 'aze': (nan, nan),\n",
       " 'grc': (39.0, 39.0),\n",
       " 'mon': (nan, nan),\n",
       " 'glv': (54.17, 54.17),\n",
       " 'mkd': (40.74, 40.74),\n",
       " 'est': (59.0, 59.0),\n",
       " 'khm': (12.5, 12.5),\n",
       " 'zha': (nan, nan),\n",
       " 'scn': (37.5, 37.5),\n",
       " 'urd': (25.0, 25.0),\n",
       " 'nno': (nan, nan),\n",
       " 'ltz': (49.83, 49.83),\n",
       " 'kmr': (38.0, 38.0),\n",
       " 'kik': (-0.75, -0.75),\n",
       " 'bak': (53.0, 53.0),\n",
       " 'kal': (64.0, 64.0),\n",
       " 'nep': (nan, nan),\n",
       " 'lmo': (45.88, 45.88),\n",
       " 'ido': (nan, nan),\n",
       " 'pan': (31.0, 31.0),\n",
       " 'bre': (48.0, 48.0),\n",
       " 'fry': (53.0, 53.0),\n",
       " 'sco': (55.54, 55.54),\n",
       " 'haw': (19.58, 19.58),\n",
       " 'hau': (12.0, 12.0),\n",
       " 'fao': (62.0, 62.0),\n",
       " 'kir': (42.0, 42.0),\n",
       " 'ton': (-21.17, -21.17),\n",
       " 'bcl': (13.33, 13.33),\n",
       " 'mal': (10.0, 10.0),\n",
       " 'lao': (18.0, 18.0),\n",
       " 'san': (28.7, 28.7),\n",
       " 'che': (43.25, 43.25),\n",
       " 'nap': (39.23, 39.23),\n",
       " 'pms': (45.3, 45.3),\n",
       " 'oci': (42.72, 42.72),\n",
       " 'ewe': (6.33, 6.33),\n",
       " 'ben': (24.0, 24.0),\n",
       " 'olo': (nan, nan),\n",
       " 'got': (43.22, 43.22),\n",
       " 'amh': (10.0, 10.0),\n",
       " 'vol': (nan, nan),\n",
       " 'frr': (54.65, 54.65),\n",
       " 'ang': (51.06, 51.06),\n",
       " 'ina': (nan, nan),\n",
       " 'nya': (-14.0, -14.0),\n",
       " 'tgk': (38.4, 38.4),\n",
       " 'zul': (-30.0, -30.0),\n",
       " 'nav': (36.17, 36.17),\n",
       " 'asm': (26.0, 26.0),\n",
       " 'mic': (45.0, 45.0),\n",
       " 'tel': (16.0, 16.0),\n",
       " 'tyv': (52.0, 52.0),\n",
       " 'dsb': (51.75, 51.75),\n",
       " 'srn': (5.83, 5.83),\n",
       " 'tuk': (40.0, 40.0),\n",
       " 'cos': (42.0, 42.0),\n",
       " 'lim': (51.0, 51.0),\n",
       " 'xho': (-32.0, -32.0),\n",
       " 'pdc': (nan, nan),\n",
       " 'cor': (50.33, 50.33),\n",
       " 'sce': (31.5, 31.5),\n",
       " 'yor': (8.0, 8.0),\n",
       " 'mar': (19.0, 19.0),\n",
       " 'pus': (nan, nan),\n",
       " 'abk': (43.08, 43.08),\n",
       " 'sah': (62.0, 62.0),\n",
       " 'sme': (69.0, 69.0),\n",
       " 'yid': (nan, nan),\n",
       " 'srd': (nan, nan),\n",
       " 'ilo': (16.0, 16.0),\n",
       " 'liv': (56.83, 56.83),\n",
       " 'kxd': (4.94, 4.94),\n",
       " 'dlm': (42.71, 42.71),\n",
       " 'dzo': (27.5, 27.5),\n",
       " 'krl': (64.0, 64.0),\n",
       " 'ceb': (10.0, 10.0),\n",
       " 'lij': (44.42, 44.42),\n",
       " 'mnc': (49.5, 49.5),\n",
       " 'sga': (53.0, 53.0),\n",
       " 'bod': (30.0, 30.0),\n",
       " 'ltg': (nan, nan),\n",
       " 'hrx': (nan, nan),\n",
       " 'new': (27.67, 27.67),\n",
       " 'xal': (46.32, 46.32),\n",
       " 'nds': (53.1, 53.1),\n",
       " 'rgn': (44.23, 44.23),\n",
       " 'shn': (20.93, 20.93),\n",
       " 'ori': (nan, nan),\n",
       " 'nci': (19.42, 19.42),\n",
       " 'kbd': (43.5, 43.5),\n",
       " 'arz': (30.0, 30.0),\n",
       " 'cop': (26.0, 26.0),\n",
       " 'ckb': (36.0, 36.0),\n",
       " 'dng': (42.86, 42.86),\n",
       " 'mah': (7.12, 7.12),\n",
       " 'mlg': (nan, nan),\n",
       " 'pjt': (-26.0, -26.0),\n",
       " 'khb': (21.38, 21.38),\n",
       " 'guj': (23.0, 23.0),\n",
       " 'ppl': (13.83, 13.83),\n",
       " 'mdf': (54.0, 54.0),\n",
       " 'ady': (45.23, 45.23),\n",
       " 'stq': (nan, nan),\n",
       " 'kan': (14.0, 14.0),\n",
       " 'apw': (33.75, 33.75),\n",
       " 'div': (4.17, 4.17),\n",
       " 'fro': (nan, nan),\n",
       " 'syl': (24.84, 24.84)}"
      ]
     },
     "execution_count": 68,
     "metadata": {},
     "output_type": "execute_result"
    }
   ],
   "source": [
    "lang_geo"
   ]
  },
  {
   "cell_type": "code",
   "execution_count": 71,
   "id": "b90deec3-51f5-4c68-a723-39de0f9ca239",
   "metadata": {},
   "outputs": [
    {
     "data": {
      "text/plain": [
       "15191"
      ]
     },
     "execution_count": 71,
     "metadata": {},
     "output_type": "execute_result"
    }
   ],
   "source": [
    "len(df[df[\"LANG_PRON\"]==\"fas\"])"
   ]
  },
  {
   "cell_type": "code",
   "execution_count": 62,
   "id": "f0645e3e-e40c-4e07-ac15-f7a0f1763d7b",
   "metadata": {
    "tags": []
   },
   "outputs": [
    {
     "name": "stdout",
     "output_type": "stream",
     "text": [
      "Collecting haversine\n",
      "  Downloading haversine-2.8.0-py2.py3-none-any.whl (7.7 kB)\n",
      "Installing collected packages: haversine\n",
      "Successfully installed haversine-2.8.0\n"
     ]
    }
   ],
   "source": [
    "!pip install haversine\n"
   ]
  },
  {
   "cell_type": "code",
   "execution_count": null,
   "id": "bcbb3065-217e-4a4b-9af6-eac801ae480e",
   "metadata": {},
   "outputs": [],
   "source": []
  }
 ],
 "metadata": {
  "kernelspec": {
   "display_name": "colexphon",
   "language": "python",
   "name": "colexphon"
  },
  "language_info": {
   "codemirror_mode": {
    "name": "ipython",
    "version": 3
   },
   "file_extension": ".py",
   "mimetype": "text/x-python",
   "name": "python",
   "nbconvert_exporter": "python",
   "pygments_lexer": "ipython3",
   "version": "3.10.0"
  }
 },
 "nbformat": 4,
 "nbformat_minor": 5
}
