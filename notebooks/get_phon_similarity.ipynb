{
 "cells": [
  {
   "cell_type": "code",
   "execution_count": 2,
   "id": "11bc4861-f358-4245-99de-60bd994d7677",
   "metadata": {
    "scrolled": true,
    "tags": []
   },
   "outputs": [],
   "source": [
    "import lingpy as lp"
   ]
  },
  {
   "cell_type": "code",
   "execution_count": 3,
   "id": "4e708b09-3022-42f8-98cb-b851eb11d81b",
   "metadata": {
    "tags": []
   },
   "outputs": [
    {
     "name": "stdout",
     "output_type": "stream",
     "text": [
      "INFO: Pandarallel will run on 10 workers.\n",
      "INFO: Pandarallel will use standard multiprocessing data transfer (pipe) to transfer data between the main process and workers.\n"
     ]
    }
   ],
   "source": [
    "from pandarallel import pandarallel\n",
    "\n",
    "pandarallel.initialize(progress_bar=True)"
   ]
  },
  {
   "cell_type": "code",
   "execution_count": 28,
   "id": "02b6d690-f1a3-4998-b1f3-63062657e632",
   "metadata": {
    "tags": []
   },
   "outputs": [],
   "source": [
    "from Levenshtein import distance, ratio"
   ]
  },
  {
   "cell_type": "code",
   "execution_count": 1,
   "id": "5599f9e7-3384-444e-9f84-def9ad744b73",
   "metadata": {
    "tags": []
   },
   "outputs": [],
   "source": [
    "import pandas as pd"
   ]
  },
  {
   "cell_type": "code",
   "execution_count": 4,
   "id": "c5a0c1bd-65ae-446c-9187-2b25248d04a6",
   "metadata": {
    "tags": []
   },
   "outputs": [],
   "source": [
    "from lingpy.align.pairwise import nw_align"
   ]
  },
  {
   "cell_type": "code",
   "execution_count": 5,
   "id": "9e818122-8e57-479c-b96d-093d15151b1b",
   "metadata": {
    "tags": []
   },
   "outputs": [],
   "source": [
    "def phon_sim(t1,t2):\n",
    "    t1 =''.join(t1.split())\n",
    "    t2 =''.join(t2.split())\n",
    "    almt1, almt2, sim =nw_align(t1,t2)\n",
    "    return sim/len(almt1)"
   ]
  },
  {
   "cell_type": "code",
   "execution_count": 30,
   "id": "5caf7730-73ce-49d6-92b2-987842a0cb68",
   "metadata": {
    "tags": []
   },
   "outputs": [],
   "source": [
    "def levenshtein_sim(t1,t2):\n",
    "    return ratio(t1,t2)"
   ]
  },
  {
   "cell_type": "code",
   "execution_count": 6,
   "id": "c3347d62-328e-48ea-a148-d2670ad4eee8",
   "metadata": {
    "tags": []
   },
   "outputs": [],
   "source": [
    "df = pd.read_csv(\"../data/preprocessed/colex_pron_geo_dedup.csv\")"
   ]
  },
  {
   "cell_type": "code",
   "execution_count": 6,
   "id": "7e4fdfc2-5480-45bb-8875-7aa3c5538c51",
   "metadata": {
    "tags": []
   },
   "outputs": [],
   "source": [
    "df = pd.read_csv(\"../data/preprocessed/colex_pron_geo_dedup.csv\")"
   ]
  },
  {
   "cell_type": "code",
   "execution_count": 20,
   "id": "b137cc6e-a0ee-4eb7-bb22-8370d1a76905",
   "metadata": {
    "tags": []
   },
   "outputs": [],
   "source": [
    "colex = []\n",
    "for c1, c2 in zip(df[\"C1\"], df[\"C2\"]):\n",
    "    comb = sorted([c1,c2])\n",
    "    colex.append(\"~\".join(comb))"
   ]
  },
  {
   "cell_type": "code",
   "execution_count": 21,
   "id": "2e419f8d-dc2e-4286-98e9-7a92293178a0",
   "metadata": {
    "tags": []
   },
   "outputs": [],
   "source": [
    "df[\"COLEX\"]=colex"
   ]
  },
  {
   "cell_type": "code",
   "execution_count": 23,
   "id": "27a31286-f6d9-4d52-8895-198256a4ad86",
   "metadata": {
    "tags": []
   },
   "outputs": [],
   "source": [
    "colex_list = list(set(colex))"
   ]
  },
  {
   "cell_type": "code",
   "execution_count": 23,
   "id": "c6461b20-9358-4214-b22a-1ff81ca7eda4",
   "metadata": {
    "tags": []
   },
   "outputs": [],
   "source": [
    "colex_list = list(set(colex))"
   ]
  },
  {
   "cell_type": "code",
   "execution_count": 24,
   "id": "bac6f538-3861-4fd4-b81f-24b16fcb27eb",
   "metadata": {
    "tags": []
   },
   "outputs": [
    {
     "data": {
      "text/plain": [
       "519580"
      ]
     },
     "execution_count": 24,
     "metadata": {},
     "output_type": "execute_result"
    }
   ],
   "source": [
    "len(colex_list)"
   ]
  },
  {
   "cell_type": "markdown",
   "id": "951439fc-c214-46c6-b3ab-da963a819a5f",
   "metadata": {
    "tags": []
   },
   "source": [
    "# using concept as id, get all the words in crosslingually and calculate their phonological similarity"
   ]
  },
  {
   "cell_type": "code",
   "execution_count": 36,
   "id": "f6e7e149-4182-4e33-bc99-75a204c631f4",
   "metadata": {
    "tags": []
   },
   "outputs": [
    {
     "data": {
      "text/plain": [
       "(22570, 'tiptoe')"
      ]
     },
     "execution_count": 36,
     "metadata": {},
     "output_type": "execute_result"
    }
   ],
   "source": [
    "len(concepts),concepts[0]"
   ]
  },
  {
   "cell_type": "code",
   "execution_count": 33,
   "id": "fe1082e2-a092-4aa0-babe-eac853142098",
   "metadata": {
    "tags": []
   },
   "outputs": [],
   "source": [
    "concepts = list(set(df[\"C1\"].tolist()+df[\"C2\"].tolist()))"
   ]
  },
  {
   "cell_type": "code",
   "execution_count": 40,
   "id": "593aead6-bc94-4a05-b252-c591ec9508b4",
   "metadata": {
    "tags": []
   },
   "outputs": [],
   "source": [
    "df_tiptoe = df[(df[\"C1\"]==\"tiptoe\") | (df[\"C2\"]==\"tiptoe\")]"
   ]
  },
  {
   "cell_type": "code",
   "execution_count": 44,
   "id": "7a3e5d08-d4c5-4c15-af49-26967a5f64bd",
   "metadata": {
    "tags": []
   },
   "outputs": [],
   "source": [
    "df_tiptoe= df_tiptoe.drop_duplicates(subset=[\"SENSE_LEMMA\", \"LANG_PRON\", \"PRON\"])"
   ]
  },
  {
   "cell_type": "code",
   "execution_count": 46,
   "id": "92550a74-3ee0-47c5-af1c-fc375e270117",
   "metadata": {
    "tags": []
   },
   "outputs": [],
   "source": [
    "prons = list(set(df_tiptoe[\"PRON\"].tolist()))\n",
    "idx = [x for x in range(len(prons))]"
   ]
  },
  {
   "cell_type": "code",
   "execution_count": 47,
   "id": "85594a64-d14a-4d8e-a964-73ab0267dd83",
   "metadata": {
    "tags": []
   },
   "outputs": [
    {
     "data": {
      "application/vnd.jupyter.widget-view+json": {
       "model_id": "5601132c18a74e77ae58386db837ac5d",
       "version_major": 2,
       "version_minor": 0
      },
      "text/plain": [
       "VBox(children=(HBox(children=(IntProgress(value=0, description='0.00%', max=13), Label(value='0 / 13'))), HBox…"
      ]
     },
     "metadata": {},
     "output_type": "display_data"
    }
   ],
   "source": [
    "X= pd.crosstab([idx, prons], prons).parallel_apply(\n",
    "        lambda col: [levenshtein_sim(col.name, x)\n",
    "                     for x in col.index.get_level_values(1)])"
   ]
  },
  {
   "cell_type": "code",
   "execution_count": 48,
   "id": "3233b16d-3381-4948-8edb-cab095938fdb",
   "metadata": {
    "tags": []
   },
   "outputs": [
    {
     "data": {
      "text/html": [
       "<div>\n",
       "<style scoped>\n",
       "    .dataframe tbody tr th:only-of-type {\n",
       "        vertical-align: middle;\n",
       "    }\n",
       "\n",
       "    .dataframe tbody tr th {\n",
       "        vertical-align: top;\n",
       "    }\n",
       "\n",
       "    .dataframe thead th {\n",
       "        text-align: right;\n",
       "    }\n",
       "</style>\n",
       "<table border=\"1\" class=\"dataframe\">\n",
       "  <thead>\n",
       "    <tr style=\"text-align: right;\">\n",
       "      <th></th>\n",
       "      <th>col_0</th>\n",
       "      <th>a l</th>\n",
       "      <th>h iː p i æˣ</th>\n",
       "      <th>n ɐ ŋ</th>\n",
       "      <th>p u ʁ b w a ʁ</th>\n",
       "      <th>t e p s u tː ɑːˣ</th>\n",
       "      <th>t eː n ə n</th>\n",
       "      <th>t oː</th>\n",
       "      <th>t ɪ p</th>\n",
       "      <th>t ɪ p t o ʊ</th>\n",
       "      <th>t͡s eː ə n ʃ p ɪ t͡s ə</th>\n",
       "      <th>ə̃ⁿ d̪ ä h</th>\n",
       "      <th>ʃ p i t͡ʃ k a</th>\n",
       "      <th>ʃ p ɪ t͡ʃ k a</th>\n",
       "    </tr>\n",
       "    <tr>\n",
       "      <th>row_0</th>\n",
       "      <th>row_1</th>\n",
       "      <th></th>\n",
       "      <th></th>\n",
       "      <th></th>\n",
       "      <th></th>\n",
       "      <th></th>\n",
       "      <th></th>\n",
       "      <th></th>\n",
       "      <th></th>\n",
       "      <th></th>\n",
       "      <th></th>\n",
       "      <th></th>\n",
       "      <th></th>\n",
       "      <th></th>\n",
       "    </tr>\n",
       "  </thead>\n",
       "  <tbody>\n",
       "    <tr>\n",
       "      <th>0</th>\n",
       "      <th>t ɪ p</th>\n",
       "      <td>0.250000</td>\n",
       "      <td>0.375000</td>\n",
       "      <td>0.400000</td>\n",
       "      <td>0.222222</td>\n",
       "      <td>0.380952</td>\n",
       "      <td>0.400000</td>\n",
       "      <td>0.444444</td>\n",
       "      <td>1.000000</td>\n",
       "      <td>0.625000</td>\n",
       "      <td>0.296296</td>\n",
       "      <td>0.266667</td>\n",
       "      <td>0.333333</td>\n",
       "      <td>0.333333</td>\n",
       "    </tr>\n",
       "    <tr>\n",
       "      <th>1</th>\n",
       "      <th>ʃ p i t͡ʃ k a</th>\n",
       "      <td>0.125000</td>\n",
       "      <td>0.416667</td>\n",
       "      <td>0.222222</td>\n",
       "      <td>0.461538</td>\n",
       "      <td>0.413793</td>\n",
       "      <td>0.347826</td>\n",
       "      <td>0.235294</td>\n",
       "      <td>0.333333</td>\n",
       "      <td>0.500000</td>\n",
       "      <td>0.457143</td>\n",
       "      <td>0.260870</td>\n",
       "      <td>1.000000</td>\n",
       "      <td>0.923077</td>\n",
       "    </tr>\n",
       "    <tr>\n",
       "      <th>2</th>\n",
       "      <th>a l</th>\n",
       "      <td>1.000000</td>\n",
       "      <td>0.142857</td>\n",
       "      <td>0.250000</td>\n",
       "      <td>0.250000</td>\n",
       "      <td>0.105263</td>\n",
       "      <td>0.153846</td>\n",
       "      <td>0.285714</td>\n",
       "      <td>0.250000</td>\n",
       "      <td>0.142857</td>\n",
       "      <td>0.080000</td>\n",
       "      <td>0.153846</td>\n",
       "      <td>0.125000</td>\n",
       "      <td>0.125000</td>\n",
       "    </tr>\n",
       "    <tr>\n",
       "      <th>3</th>\n",
       "      <th>t oː</th>\n",
       "      <td>0.285714</td>\n",
       "      <td>0.266667</td>\n",
       "      <td>0.222222</td>\n",
       "      <td>0.117647</td>\n",
       "      <td>0.300000</td>\n",
       "      <td>0.428571</td>\n",
       "      <td>1.000000</td>\n",
       "      <td>0.444444</td>\n",
       "      <td>0.400000</td>\n",
       "      <td>0.230769</td>\n",
       "      <td>0.142857</td>\n",
       "      <td>0.235294</td>\n",
       "      <td>0.235294</td>\n",
       "    </tr>\n",
       "    <tr>\n",
       "      <th>4</th>\n",
       "      <th>t eː n ə n</th>\n",
       "      <td>0.153846</td>\n",
       "      <td>0.476190</td>\n",
       "      <td>0.400000</td>\n",
       "      <td>0.347826</td>\n",
       "      <td>0.461538</td>\n",
       "      <td>1.000000</td>\n",
       "      <td>0.428571</td>\n",
       "      <td>0.400000</td>\n",
       "      <td>0.476190</td>\n",
       "      <td>0.500000</td>\n",
       "      <td>0.300000</td>\n",
       "      <td>0.347826</td>\n",
       "      <td>0.347826</td>\n",
       "    </tr>\n",
       "    <tr>\n",
       "      <th>5</th>\n",
       "      <th>n ɐ ŋ</th>\n",
       "      <td>0.250000</td>\n",
       "      <td>0.250000</td>\n",
       "      <td>1.000000</td>\n",
       "      <td>0.222222</td>\n",
       "      <td>0.190476</td>\n",
       "      <td>0.400000</td>\n",
       "      <td>0.222222</td>\n",
       "      <td>0.400000</td>\n",
       "      <td>0.250000</td>\n",
       "      <td>0.222222</td>\n",
       "      <td>0.266667</td>\n",
       "      <td>0.222222</td>\n",
       "      <td>0.222222</td>\n",
       "    </tr>\n",
       "    <tr>\n",
       "      <th>6</th>\n",
       "      <th>t͡s eː ə n ʃ p ɪ t͡s ə</th>\n",
       "      <td>0.080000</td>\n",
       "      <td>0.363636</td>\n",
       "      <td>0.222222</td>\n",
       "      <td>0.342857</td>\n",
       "      <td>0.473684</td>\n",
       "      <td>0.500000</td>\n",
       "      <td>0.230769</td>\n",
       "      <td>0.296296</td>\n",
       "      <td>0.424242</td>\n",
       "      <td>1.000000</td>\n",
       "      <td>0.250000</td>\n",
       "      <td>0.457143</td>\n",
       "      <td>0.514286</td>\n",
       "    </tr>\n",
       "    <tr>\n",
       "      <th>7</th>\n",
       "      <th>t ɪ p t o ʊ</th>\n",
       "      <td>0.142857</td>\n",
       "      <td>0.454545</td>\n",
       "      <td>0.250000</td>\n",
       "      <td>0.416667</td>\n",
       "      <td>0.518519</td>\n",
       "      <td>0.476190</td>\n",
       "      <td>0.400000</td>\n",
       "      <td>0.625000</td>\n",
       "      <td>1.000000</td>\n",
       "      <td>0.424242</td>\n",
       "      <td>0.285714</td>\n",
       "      <td>0.500000</td>\n",
       "      <td>0.500000</td>\n",
       "    </tr>\n",
       "    <tr>\n",
       "      <th>8</th>\n",
       "      <th>ə̃ⁿ d̪ ä h</th>\n",
       "      <td>0.153846</td>\n",
       "      <td>0.285714</td>\n",
       "      <td>0.266667</td>\n",
       "      <td>0.260870</td>\n",
       "      <td>0.230769</td>\n",
       "      <td>0.300000</td>\n",
       "      <td>0.142857</td>\n",
       "      <td>0.266667</td>\n",
       "      <td>0.285714</td>\n",
       "      <td>0.250000</td>\n",
       "      <td>1.000000</td>\n",
       "      <td>0.260870</td>\n",
       "      <td>0.260870</td>\n",
       "    </tr>\n",
       "    <tr>\n",
       "      <th>9</th>\n",
       "      <th>h iː p i æˣ</th>\n",
       "      <td>0.142857</td>\n",
       "      <td>1.000000</td>\n",
       "      <td>0.250000</td>\n",
       "      <td>0.333333</td>\n",
       "      <td>0.444444</td>\n",
       "      <td>0.476190</td>\n",
       "      <td>0.266667</td>\n",
       "      <td>0.375000</td>\n",
       "      <td>0.454545</td>\n",
       "      <td>0.363636</td>\n",
       "      <td>0.285714</td>\n",
       "      <td>0.416667</td>\n",
       "      <td>0.333333</td>\n",
       "    </tr>\n",
       "    <tr>\n",
       "      <th>10</th>\n",
       "      <th>ʃ p ɪ t͡ʃ k a</th>\n",
       "      <td>0.125000</td>\n",
       "      <td>0.333333</td>\n",
       "      <td>0.222222</td>\n",
       "      <td>0.461538</td>\n",
       "      <td>0.413793</td>\n",
       "      <td>0.347826</td>\n",
       "      <td>0.235294</td>\n",
       "      <td>0.333333</td>\n",
       "      <td>0.500000</td>\n",
       "      <td>0.514286</td>\n",
       "      <td>0.260870</td>\n",
       "      <td>0.923077</td>\n",
       "      <td>1.000000</td>\n",
       "    </tr>\n",
       "    <tr>\n",
       "      <th>11</th>\n",
       "      <th>t e p s u tː ɑːˣ</th>\n",
       "      <td>0.105263</td>\n",
       "      <td>0.444444</td>\n",
       "      <td>0.190476</td>\n",
       "      <td>0.413793</td>\n",
       "      <td>1.000000</td>\n",
       "      <td>0.461538</td>\n",
       "      <td>0.300000</td>\n",
       "      <td>0.380952</td>\n",
       "      <td>0.518519</td>\n",
       "      <td>0.473684</td>\n",
       "      <td>0.230769</td>\n",
       "      <td>0.413793</td>\n",
       "      <td>0.413793</td>\n",
       "    </tr>\n",
       "    <tr>\n",
       "      <th>12</th>\n",
       "      <th>p u ʁ b w a ʁ</th>\n",
       "      <td>0.250000</td>\n",
       "      <td>0.333333</td>\n",
       "      <td>0.222222</td>\n",
       "      <td>1.000000</td>\n",
       "      <td>0.413793</td>\n",
       "      <td>0.347826</td>\n",
       "      <td>0.117647</td>\n",
       "      <td>0.222222</td>\n",
       "      <td>0.416667</td>\n",
       "      <td>0.342857</td>\n",
       "      <td>0.260870</td>\n",
       "      <td>0.461538</td>\n",
       "      <td>0.461538</td>\n",
       "    </tr>\n",
       "  </tbody>\n",
       "</table>\n",
       "</div>"
      ],
      "text/plain": [
       "col_0                              a l  h iː p i æˣ     n ɐ ŋ  p u ʁ b w a ʁ  \\\n",
       "row_0 row_1                                                                    \n",
       "0     t ɪ p                   0.250000     0.375000  0.400000       0.222222   \n",
       "1     ʃ p i t͡ʃ k a           0.125000     0.416667  0.222222       0.461538   \n",
       "2     a l                     1.000000     0.142857  0.250000       0.250000   \n",
       "3     t oː                    0.285714     0.266667  0.222222       0.117647   \n",
       "4     t eː n ə n              0.153846     0.476190  0.400000       0.347826   \n",
       "5     n ɐ ŋ                   0.250000     0.250000  1.000000       0.222222   \n",
       "6     t͡s eː ə n ʃ p ɪ t͡s ə  0.080000     0.363636  0.222222       0.342857   \n",
       "7     t ɪ p t o ʊ             0.142857     0.454545  0.250000       0.416667   \n",
       "8     ə̃ⁿ d̪ ä h              0.153846     0.285714  0.266667       0.260870   \n",
       "9     h iː p i æˣ             0.142857     1.000000  0.250000       0.333333   \n",
       "10    ʃ p ɪ t͡ʃ k a           0.125000     0.333333  0.222222       0.461538   \n",
       "11    t e p s u tː ɑːˣ        0.105263     0.444444  0.190476       0.413793   \n",
       "12    p u ʁ b w a ʁ           0.250000     0.333333  0.222222       1.000000   \n",
       "\n",
       "col_0                         t e p s u tː ɑːˣ  t eː n ə n      t oː  \\\n",
       "row_0 row_1                                                            \n",
       "0     t ɪ p                           0.380952    0.400000  0.444444   \n",
       "1     ʃ p i t͡ʃ k a                   0.413793    0.347826  0.235294   \n",
       "2     a l                             0.105263    0.153846  0.285714   \n",
       "3     t oː                            0.300000    0.428571  1.000000   \n",
       "4     t eː n ə n                      0.461538    1.000000  0.428571   \n",
       "5     n ɐ ŋ                           0.190476    0.400000  0.222222   \n",
       "6     t͡s eː ə n ʃ p ɪ t͡s ə          0.473684    0.500000  0.230769   \n",
       "7     t ɪ p t o ʊ                     0.518519    0.476190  0.400000   \n",
       "8     ə̃ⁿ d̪ ä h                      0.230769    0.300000  0.142857   \n",
       "9     h iː p i æˣ                     0.444444    0.476190  0.266667   \n",
       "10    ʃ p ɪ t͡ʃ k a                   0.413793    0.347826  0.235294   \n",
       "11    t e p s u tː ɑːˣ                1.000000    0.461538  0.300000   \n",
       "12    p u ʁ b w a ʁ                   0.413793    0.347826  0.117647   \n",
       "\n",
       "col_0                            t ɪ p  t ɪ p t o ʊ  t͡s eː ə n ʃ p ɪ t͡s ə  \\\n",
       "row_0 row_1                                                                   \n",
       "0     t ɪ p                   1.000000     0.625000                0.296296   \n",
       "1     ʃ p i t͡ʃ k a           0.333333     0.500000                0.457143   \n",
       "2     a l                     0.250000     0.142857                0.080000   \n",
       "3     t oː                    0.444444     0.400000                0.230769   \n",
       "4     t eː n ə n              0.400000     0.476190                0.500000   \n",
       "5     n ɐ ŋ                   0.400000     0.250000                0.222222   \n",
       "6     t͡s eː ə n ʃ p ɪ t͡s ə  0.296296     0.424242                1.000000   \n",
       "7     t ɪ p t o ʊ             0.625000     1.000000                0.424242   \n",
       "8     ə̃ⁿ d̪ ä h              0.266667     0.285714                0.250000   \n",
       "9     h iː p i æˣ             0.375000     0.454545                0.363636   \n",
       "10    ʃ p ɪ t͡ʃ k a           0.333333     0.500000                0.514286   \n",
       "11    t e p s u tː ɑːˣ        0.380952     0.518519                0.473684   \n",
       "12    p u ʁ b w a ʁ           0.222222     0.416667                0.342857   \n",
       "\n",
       "col_0                         ə̃ⁿ d̪ ä h  ʃ p i t͡ʃ k a  ʃ p ɪ t͡ʃ k a  \n",
       "row_0 row_1                                                             \n",
       "0     t ɪ p                     0.266667       0.333333       0.333333  \n",
       "1     ʃ p i t͡ʃ k a             0.260870       1.000000       0.923077  \n",
       "2     a l                       0.153846       0.125000       0.125000  \n",
       "3     t oː                      0.142857       0.235294       0.235294  \n",
       "4     t eː n ə n                0.300000       0.347826       0.347826  \n",
       "5     n ɐ ŋ                     0.266667       0.222222       0.222222  \n",
       "6     t͡s eː ə n ʃ p ɪ t͡s ə    0.250000       0.457143       0.514286  \n",
       "7     t ɪ p t o ʊ               0.285714       0.500000       0.500000  \n",
       "8     ə̃ⁿ d̪ ä h                1.000000       0.260870       0.260870  \n",
       "9     h iː p i æˣ               0.285714       0.416667       0.333333  \n",
       "10    ʃ p ɪ t͡ʃ k a             0.260870       0.923077       1.000000  \n",
       "11    t e p s u tː ɑːˣ          0.230769       0.413793       0.413793  \n",
       "12    p u ʁ b w a ʁ             0.260870       0.461538       0.461538  "
      ]
     },
     "execution_count": 48,
     "metadata": {},
     "output_type": "execute_result"
    }
   ],
   "source": [
    "X"
   ]
  },
  {
   "cell_type": "code",
   "execution_count": 51,
   "id": "e1b47b2a-0b81-4112-b002-4d399c7066fa",
   "metadata": {
    "tags": []
   },
   "outputs": [
    {
     "data": {
      "text/html": [
       "<div>\n",
       "<style scoped>\n",
       "    .dataframe tbody tr th:only-of-type {\n",
       "        vertical-align: middle;\n",
       "    }\n",
       "\n",
       "    .dataframe tbody tr th {\n",
       "        vertical-align: top;\n",
       "    }\n",
       "\n",
       "    .dataframe thead th {\n",
       "        text-align: right;\n",
       "    }\n",
       "</style>\n",
       "<table border=\"1\" class=\"dataframe\">\n",
       "  <thead>\n",
       "    <tr style=\"text-align: right;\">\n",
       "      <th></th>\n",
       "      <th>SENSE_LEMMA</th>\n",
       "      <th>LANG</th>\n",
       "      <th>SYNSET1</th>\n",
       "      <th>SYNSET2</th>\n",
       "      <th>C1</th>\n",
       "      <th>C2</th>\n",
       "      <th>Conc.M.1</th>\n",
       "      <th>Conc.M.2</th>\n",
       "      <th>lang</th>\n",
       "      <th>LANG_PRON</th>\n",
       "      <th>LANG_NAME</th>\n",
       "      <th>lemma_lang</th>\n",
       "      <th>PRON</th>\n",
       "      <th>Latitude</th>\n",
       "      <th>Longitude</th>\n",
       "      <th>COLEX</th>\n",
       "    </tr>\n",
       "  </thead>\n",
       "  <tbody>\n",
       "    <tr>\n",
       "      <th>59628</th>\n",
       "      <td>pourboire</td>\n",
       "      <td>FR</td>\n",
       "      <td>tip#v#9</td>\n",
       "      <td>tiptoe#v#1</td>\n",
       "      <td>tip</td>\n",
       "      <td>tiptoe</td>\n",
       "      <td>4.50</td>\n",
       "      <td>3.89</td>\n",
       "      <td>fr</td>\n",
       "      <td>fra</td>\n",
       "      <td>French</td>\n",
       "      <td>pourboire_fra</td>\n",
       "      <td>p u ʁ b w a ʁ</td>\n",
       "      <td>48.0</td>\n",
       "      <td>48.0</td>\n",
       "      <td>tip~tiptoe</td>\n",
       "    </tr>\n",
       "    <tr>\n",
       "      <th>154454</th>\n",
       "      <td>andar</td>\n",
       "      <td>PT</td>\n",
       "      <td>tiptoe#v#1</td>\n",
       "      <td>walk#v#10</td>\n",
       "      <td>tiptoe</td>\n",
       "      <td>walk</td>\n",
       "      <td>3.89</td>\n",
       "      <td>4.07</td>\n",
       "      <td>pt</td>\n",
       "      <td>por</td>\n",
       "      <td>Portuguese</td>\n",
       "      <td>andar_por</td>\n",
       "      <td>ə̃ⁿ d̪ ä h</td>\n",
       "      <td>39.0</td>\n",
       "      <td>39.0</td>\n",
       "      <td>tiptoe~walk</td>\n",
       "    </tr>\n",
       "    <tr>\n",
       "      <th>245867</th>\n",
       "      <td>špička</td>\n",
       "      <td>SK</td>\n",
       "      <td>pike#n#3</td>\n",
       "      <td>tiptoe#n#1</td>\n",
       "      <td>pike</td>\n",
       "      <td>tiptoe</td>\n",
       "      <td>4.25</td>\n",
       "      <td>3.89</td>\n",
       "      <td>sk</td>\n",
       "      <td>slk</td>\n",
       "      <td>Slovak</td>\n",
       "      <td>špička_slk</td>\n",
       "      <td>ʃ p i t͡ʃ k a</td>\n",
       "      <td>49.0</td>\n",
       "      <td>49.0</td>\n",
       "      <td>pike~tiptoe</td>\n",
       "    </tr>\n",
       "    <tr>\n",
       "      <th>304010</th>\n",
       "      <td>tip</td>\n",
       "      <td>EN</td>\n",
       "      <td>tip#v#9</td>\n",
       "      <td>tiptoe#v#1</td>\n",
       "      <td>tip</td>\n",
       "      <td>tiptoe</td>\n",
       "      <td>4.50</td>\n",
       "      <td>3.89</td>\n",
       "      <td>en</td>\n",
       "      <td>eng</td>\n",
       "      <td>English</td>\n",
       "      <td>tip_eng</td>\n",
       "      <td>t ɪ p</td>\n",
       "      <td>52.0</td>\n",
       "      <td>52.0</td>\n",
       "      <td>tip~tiptoe</td>\n",
       "    </tr>\n",
       "    <tr>\n",
       "      <th>368255</th>\n",
       "      <td>tiptoe</td>\n",
       "      <td>EN</td>\n",
       "      <td>tiptoe#n#1</td>\n",
       "      <td>tiptoe#v#1</td>\n",
       "      <td>tiptoe</td>\n",
       "      <td>tiptoe</td>\n",
       "      <td>3.89</td>\n",
       "      <td>3.89</td>\n",
       "      <td>en</td>\n",
       "      <td>eng</td>\n",
       "      <td>English</td>\n",
       "      <td>tiptoe_eng</td>\n",
       "      <td>t ɪ p t o ʊ</td>\n",
       "      <td>52.0</td>\n",
       "      <td>52.0</td>\n",
       "      <td>tiptoe~tiptoe</td>\n",
       "    </tr>\n",
       "    <tr>\n",
       "      <th>394124</th>\n",
       "      <td>על</td>\n",
       "      <td>HE</td>\n",
       "      <td>about#r#2</td>\n",
       "      <td>tiptoe#n#1</td>\n",
       "      <td>about</td>\n",
       "      <td>tiptoe</td>\n",
       "      <td>1.77</td>\n",
       "      <td>3.89</td>\n",
       "      <td>he</td>\n",
       "      <td>heb</td>\n",
       "      <td>Hebrew</td>\n",
       "      <td>על_heb</td>\n",
       "      <td>a l</td>\n",
       "      <td>31.5</td>\n",
       "      <td>31.5</td>\n",
       "      <td>about~tiptoe</td>\n",
       "    </tr>\n",
       "    <tr>\n",
       "      <th>683874</th>\n",
       "      <td>nang</td>\n",
       "      <td>TL</td>\n",
       "      <td>scrubber#n#3</td>\n",
       "      <td>tiptoe#n#1</td>\n",
       "      <td>scrubber</td>\n",
       "      <td>tiptoe</td>\n",
       "      <td>4.52</td>\n",
       "      <td>3.89</td>\n",
       "      <td>tl</td>\n",
       "      <td>tgl</td>\n",
       "      <td>Tagalog</td>\n",
       "      <td>nang_tgl</td>\n",
       "      <td>n ɐ ŋ</td>\n",
       "      <td>15.0</td>\n",
       "      <td>15.0</td>\n",
       "      <td>scrubber~tiptoe</td>\n",
       "    </tr>\n",
       "    <tr>\n",
       "      <th>918224</th>\n",
       "      <td>tepsuttaa</td>\n",
       "      <td>FI</td>\n",
       "      <td>patter#v#2</td>\n",
       "      <td>tiptoe#v#1</td>\n",
       "      <td>patter</td>\n",
       "      <td>tiptoe</td>\n",
       "      <td>2.93</td>\n",
       "      <td>3.89</td>\n",
       "      <td>fi</td>\n",
       "      <td>fin</td>\n",
       "      <td>Finnish</td>\n",
       "      <td>tepsuttaa_fin</td>\n",
       "      <td>t e p s u tː ɑːˣ</td>\n",
       "      <td>62.0</td>\n",
       "      <td>62.0</td>\n",
       "      <td>patter~tiptoe</td>\n",
       "    </tr>\n",
       "    <tr>\n",
       "      <th>957085</th>\n",
       "      <td>hiipiä</td>\n",
       "      <td>FI</td>\n",
       "      <td>sneak#v#1</td>\n",
       "      <td>tiptoe#v#1</td>\n",
       "      <td>sneak</td>\n",
       "      <td>tiptoe</td>\n",
       "      <td>2.82</td>\n",
       "      <td>3.89</td>\n",
       "      <td>fi</td>\n",
       "      <td>fin</td>\n",
       "      <td>Finnish</td>\n",
       "      <td>hiipiä_fin</td>\n",
       "      <td>h iː p i æˣ</td>\n",
       "      <td>62.0</td>\n",
       "      <td>62.0</td>\n",
       "      <td>sneak~tiptoe</td>\n",
       "    </tr>\n",
       "    <tr>\n",
       "      <th>984350</th>\n",
       "      <td>tå</td>\n",
       "      <td>SV</td>\n",
       "      <td>digit#n#3</td>\n",
       "      <td>tiptoe#n#1</td>\n",
       "      <td>digit</td>\n",
       "      <td>tiptoe</td>\n",
       "      <td>4.52</td>\n",
       "      <td>3.89</td>\n",
       "      <td>sv</td>\n",
       "      <td>swe</td>\n",
       "      <td>Swedish</td>\n",
       "      <td>tå_swe</td>\n",
       "      <td>t oː</td>\n",
       "      <td>60.0</td>\n",
       "      <td>60.0</td>\n",
       "      <td>digit~tiptoe</td>\n",
       "    </tr>\n",
       "    <tr>\n",
       "      <th>995162</th>\n",
       "      <td>špička</td>\n",
       "      <td>CS</td>\n",
       "      <td>tiptoe#n#1</td>\n",
       "      <td>vertex#n#2</td>\n",
       "      <td>tiptoe</td>\n",
       "      <td>vertex</td>\n",
       "      <td>3.89</td>\n",
       "      <td>3.12</td>\n",
       "      <td>cs</td>\n",
       "      <td>ces</td>\n",
       "      <td>Czech</td>\n",
       "      <td>špička_ces</td>\n",
       "      <td>ʃ p ɪ t͡ʃ k a</td>\n",
       "      <td>50.0</td>\n",
       "      <td>50.0</td>\n",
       "      <td>tiptoe~vertex</td>\n",
       "    </tr>\n",
       "    <tr>\n",
       "      <th>1005919</th>\n",
       "      <td>zehenspitze</td>\n",
       "      <td>DE</td>\n",
       "      <td>tiptoe#n#1</td>\n",
       "      <td>toe#n#1</td>\n",
       "      <td>tiptoe</td>\n",
       "      <td>toe</td>\n",
       "      <td>3.89</td>\n",
       "      <td>4.93</td>\n",
       "      <td>de</td>\n",
       "      <td>deu</td>\n",
       "      <td>German</td>\n",
       "      <td>zehenspitze_deu</td>\n",
       "      <td>t͡s eː ə n ʃ p ɪ t͡s ə</td>\n",
       "      <td>52.0</td>\n",
       "      <td>52.0</td>\n",
       "      <td>tiptoe~toe</td>\n",
       "    </tr>\n",
       "    <tr>\n",
       "      <th>1005920</th>\n",
       "      <td>tenen</td>\n",
       "      <td>NL</td>\n",
       "      <td>tiptoe#n#1</td>\n",
       "      <td>toe#n#2</td>\n",
       "      <td>tiptoe</td>\n",
       "      <td>toe</td>\n",
       "      <td>3.89</td>\n",
       "      <td>4.93</td>\n",
       "      <td>nl</td>\n",
       "      <td>nld</td>\n",
       "      <td>Dutch; Flemish</td>\n",
       "      <td>tenen_nld</td>\n",
       "      <td>t eː n ə n</td>\n",
       "      <td>52.5</td>\n",
       "      <td>52.5</td>\n",
       "      <td>tiptoe~toe</td>\n",
       "    </tr>\n",
       "  </tbody>\n",
       "</table>\n",
       "</div>"
      ],
      "text/plain": [
       "         SENSE_LEMMA LANG       SYNSET1     SYNSET2        C1      C2  \\\n",
       "59628      pourboire   FR       tip#v#9  tiptoe#v#1       tip  tiptoe   \n",
       "154454         andar   PT    tiptoe#v#1   walk#v#10    tiptoe    walk   \n",
       "245867        špička   SK      pike#n#3  tiptoe#n#1      pike  tiptoe   \n",
       "304010           tip   EN       tip#v#9  tiptoe#v#1       tip  tiptoe   \n",
       "368255        tiptoe   EN    tiptoe#n#1  tiptoe#v#1    tiptoe  tiptoe   \n",
       "394124            על   HE     about#r#2  tiptoe#n#1     about  tiptoe   \n",
       "683874          nang   TL  scrubber#n#3  tiptoe#n#1  scrubber  tiptoe   \n",
       "918224     tepsuttaa   FI    patter#v#2  tiptoe#v#1    patter  tiptoe   \n",
       "957085        hiipiä   FI     sneak#v#1  tiptoe#v#1     sneak  tiptoe   \n",
       "984350            tå   SV     digit#n#3  tiptoe#n#1     digit  tiptoe   \n",
       "995162        špička   CS    tiptoe#n#1  vertex#n#2    tiptoe  vertex   \n",
       "1005919  zehenspitze   DE    tiptoe#n#1     toe#n#1    tiptoe     toe   \n",
       "1005920        tenen   NL    tiptoe#n#1     toe#n#2    tiptoe     toe   \n",
       "\n",
       "         Conc.M.1  Conc.M.2 lang LANG_PRON       LANG_NAME       lemma_lang  \\\n",
       "59628        4.50      3.89   fr       fra          French    pourboire_fra   \n",
       "154454       3.89      4.07   pt       por      Portuguese        andar_por   \n",
       "245867       4.25      3.89   sk       slk          Slovak       špička_slk   \n",
       "304010       4.50      3.89   en       eng         English          tip_eng   \n",
       "368255       3.89      3.89   en       eng         English       tiptoe_eng   \n",
       "394124       1.77      3.89   he       heb          Hebrew           על_heb   \n",
       "683874       4.52      3.89   tl       tgl         Tagalog         nang_tgl   \n",
       "918224       2.93      3.89   fi       fin         Finnish    tepsuttaa_fin   \n",
       "957085       2.82      3.89   fi       fin         Finnish       hiipiä_fin   \n",
       "984350       4.52      3.89   sv       swe         Swedish           tå_swe   \n",
       "995162       3.89      3.12   cs       ces           Czech       špička_ces   \n",
       "1005919      3.89      4.93   de       deu          German  zehenspitze_deu   \n",
       "1005920      3.89      4.93   nl       nld  Dutch; Flemish        tenen_nld   \n",
       "\n",
       "                           PRON  Latitude  Longitude            COLEX  \n",
       "59628             p u ʁ b w a ʁ      48.0       48.0       tip~tiptoe  \n",
       "154454               ə̃ⁿ d̪ ä h      39.0       39.0      tiptoe~walk  \n",
       "245867            ʃ p i t͡ʃ k a      49.0       49.0      pike~tiptoe  \n",
       "304010                    t ɪ p      52.0       52.0       tip~tiptoe  \n",
       "368255              t ɪ p t o ʊ      52.0       52.0    tiptoe~tiptoe  \n",
       "394124                      a l      31.5       31.5     about~tiptoe  \n",
       "683874                    n ɐ ŋ      15.0       15.0  scrubber~tiptoe  \n",
       "918224         t e p s u tː ɑːˣ      62.0       62.0    patter~tiptoe  \n",
       "957085              h iː p i æˣ      62.0       62.0     sneak~tiptoe  \n",
       "984350                     t oː      60.0       60.0     digit~tiptoe  \n",
       "995162            ʃ p ɪ t͡ʃ k a      50.0       50.0    tiptoe~vertex  \n",
       "1005919  t͡s eː ə n ʃ p ɪ t͡s ə      52.0       52.0       tiptoe~toe  \n",
       "1005920              t eː n ə n      52.5       52.5       tiptoe~toe  "
      ]
     },
     "execution_count": 51,
     "metadata": {},
     "output_type": "execute_result"
    }
   ],
   "source": [
    "df_tiptoe"
   ]
  },
  {
   "cell_type": "code",
   "execution_count": 50,
   "id": "452e02d1-5065-4aff-b6ba-ca75fc8081fd",
   "metadata": {
    "tags": []
   },
   "outputs": [
    {
     "data": {
      "text/plain": [
       "13"
      ]
     },
     "execution_count": 50,
     "metadata": {},
     "output_type": "execute_result"
    }
   ],
   "source": [
    "len(df_tiptoe)"
   ]
  },
  {
   "cell_type": "code",
   "execution_count": 26,
   "id": "d5310386-ccb0-4522-9d85-138c7c78df4d",
   "metadata": {
    "tags": []
   },
   "outputs": [
    {
     "data": {
      "text/html": [
       "<div>\n",
       "<style scoped>\n",
       "    .dataframe tbody tr th:only-of-type {\n",
       "        vertical-align: middle;\n",
       "    }\n",
       "\n",
       "    .dataframe tbody tr th {\n",
       "        vertical-align: top;\n",
       "    }\n",
       "\n",
       "    .dataframe thead th {\n",
       "        text-align: right;\n",
       "    }\n",
       "</style>\n",
       "<table border=\"1\" class=\"dataframe\">\n",
       "  <thead>\n",
       "    <tr style=\"text-align: right;\">\n",
       "      <th></th>\n",
       "      <th>SENSE_LEMMA</th>\n",
       "      <th>LANG</th>\n",
       "      <th>SYNSET1</th>\n",
       "      <th>SYNSET2</th>\n",
       "      <th>C1</th>\n",
       "      <th>C2</th>\n",
       "      <th>Conc.M.1</th>\n",
       "      <th>Conc.M.2</th>\n",
       "      <th>lang</th>\n",
       "      <th>LANG_PRON</th>\n",
       "      <th>LANG_NAME</th>\n",
       "      <th>lemma_lang</th>\n",
       "      <th>PRON</th>\n",
       "      <th>Latitude</th>\n",
       "      <th>Longitude</th>\n",
       "      <th>COLEX</th>\n",
       "    </tr>\n",
       "  </thead>\n",
       "  <tbody>\n",
       "    <tr>\n",
       "      <th>736672</th>\n",
       "      <td>hætta</td>\n",
       "      <td>IS</td>\n",
       "      <td>abandon#v#2</td>\n",
       "      <td>abort#n#1</td>\n",
       "      <td>abandon</td>\n",
       "      <td>abort</td>\n",
       "      <td>2.54</td>\n",
       "      <td>2.83</td>\n",
       "      <td>is</td>\n",
       "      <td>isl</td>\n",
       "      <td>Icelandic</td>\n",
       "      <td>hætta_isl</td>\n",
       "      <td>h a i h t a</td>\n",
       "      <td>65.0</td>\n",
       "      <td>65.0</td>\n",
       "      <td>abandon~abort</td>\n",
       "    </tr>\n",
       "    <tr>\n",
       "      <th>861303</th>\n",
       "      <td>abbandonare</td>\n",
       "      <td>IT</td>\n",
       "      <td>abandon#v#1</td>\n",
       "      <td>abort#v#1</td>\n",
       "      <td>abandon</td>\n",
       "      <td>abort</td>\n",
       "      <td>2.54</td>\n",
       "      <td>2.83</td>\n",
       "      <td>it</td>\n",
       "      <td>ita</td>\n",
       "      <td>Italian</td>\n",
       "      <td>abbandonare_ita</td>\n",
       "      <td>a b b a n d o n a r e</td>\n",
       "      <td>43.0</td>\n",
       "      <td>43.0</td>\n",
       "      <td>abandon~abort</td>\n",
       "    </tr>\n",
       "    <tr>\n",
       "      <th>861945</th>\n",
       "      <td>abandonner</td>\n",
       "      <td>FR</td>\n",
       "      <td>abandon#v#5</td>\n",
       "      <td>abort#n#1</td>\n",
       "      <td>abandon</td>\n",
       "      <td>abort</td>\n",
       "      <td>2.54</td>\n",
       "      <td>2.83</td>\n",
       "      <td>fr</td>\n",
       "      <td>fra</td>\n",
       "      <td>French</td>\n",
       "      <td>abandonner_fra</td>\n",
       "      <td>a b ɑ̃ d ɔ n e</td>\n",
       "      <td>48.0</td>\n",
       "      <td>48.0</td>\n",
       "      <td>abandon~abort</td>\n",
       "    </tr>\n",
       "    <tr>\n",
       "      <th>879940</th>\n",
       "      <td>εγκαταλείπω</td>\n",
       "      <td>EL</td>\n",
       "      <td>abandon#v#1</td>\n",
       "      <td>abort#v#1</td>\n",
       "      <td>abandon</td>\n",
       "      <td>abort</td>\n",
       "      <td>2.54</td>\n",
       "      <td>2.83</td>\n",
       "      <td>el</td>\n",
       "      <td>ell</td>\n",
       "      <td>Modern Greek (1453-)</td>\n",
       "      <td>εγκαταλείπω_ell</td>\n",
       "      <td>e ŋ ɡ a t a l i p o</td>\n",
       "      <td>39.0</td>\n",
       "      <td>39.0</td>\n",
       "      <td>abandon~abort</td>\n",
       "    </tr>\n",
       "    <tr>\n",
       "      <th>993803</th>\n",
       "      <td>放棄</td>\n",
       "      <td>ZH</td>\n",
       "      <td>abandon#v#2</td>\n",
       "      <td>abort#v#3</td>\n",
       "      <td>abandon</td>\n",
       "      <td>abort</td>\n",
       "      <td>2.54</td>\n",
       "      <td>2.83</td>\n",
       "      <td>zh</td>\n",
       "      <td>cmn</td>\n",
       "      <td>Mandarin Chinese</td>\n",
       "      <td>放棄_cmn</td>\n",
       "      <td>f ɑ ŋ ⁵ ¹ ⁻ ⁵ ³ t͡ɕʰ i ⁵ ¹</td>\n",
       "      <td>34.0</td>\n",
       "      <td>34.0</td>\n",
       "      <td>abandon~abort</td>\n",
       "    </tr>\n",
       "  </tbody>\n",
       "</table>\n",
       "</div>"
      ],
      "text/plain": [
       "        SENSE_LEMMA LANG      SYNSET1    SYNSET2       C1     C2  Conc.M.1  \\\n",
       "736672        hætta   IS  abandon#v#2  abort#n#1  abandon  abort      2.54   \n",
       "861303  abbandonare   IT  abandon#v#1  abort#v#1  abandon  abort      2.54   \n",
       "861945   abandonner   FR  abandon#v#5  abort#n#1  abandon  abort      2.54   \n",
       "879940  εγκαταλείπω   EL  abandon#v#1  abort#v#1  abandon  abort      2.54   \n",
       "993803           放棄   ZH  abandon#v#2  abort#v#3  abandon  abort      2.54   \n",
       "\n",
       "        Conc.M.2 lang LANG_PRON             LANG_NAME       lemma_lang  \\\n",
       "736672      2.83   is       isl             Icelandic        hætta_isl   \n",
       "861303      2.83   it       ita               Italian  abbandonare_ita   \n",
       "861945      2.83   fr       fra                French   abandonner_fra   \n",
       "879940      2.83   el       ell  Modern Greek (1453-)  εγκαταλείπω_ell   \n",
       "993803      2.83   zh       cmn      Mandarin Chinese           放棄_cmn   \n",
       "\n",
       "                              PRON  Latitude  Longitude          COLEX  \n",
       "736672                 h a i h t a      65.0       65.0  abandon~abort  \n",
       "861303       a b b a n d o n a r e      43.0       43.0  abandon~abort  \n",
       "861945              a b ɑ̃ d ɔ n e      48.0       48.0  abandon~abort  \n",
       "879940         e ŋ ɡ a t a l i p o      39.0       39.0  abandon~abort  \n",
       "993803  f ɑ ŋ ⁵ ¹ ⁻ ⁵ ³ t͡ɕʰ i ⁵ ¹      34.0       34.0  abandon~abort  "
      ]
     },
     "execution_count": 26,
     "metadata": {},
     "output_type": "execute_result"
    }
   ],
   "source": [
    "df[df[\"COLEX\"]==\"abandon~abort\"]"
   ]
  },
  {
   "cell_type": "code",
   "execution_count": 11,
   "id": "49231acc-4d01-4359-b4d3-38a537efc5e3",
   "metadata": {
    "scrolled": true,
    "tags": []
   },
   "outputs": [],
   "source": [
    "df_c1_c2 = df[(df[\"C1\"]==\"abandon\") & (df[\"C2\"]==\"abort\")]"
   ]
  },
  {
   "cell_type": "code",
   "execution_count": 13,
   "id": "4550d6bc-d16e-4665-87c0-4785cbe765b4",
   "metadata": {
    "tags": []
   },
   "outputs": [],
   "source": [
    "prons = list(set(df_c1_c2[\"PRON\"].tolist()))"
   ]
  },
  {
   "cell_type": "code",
   "execution_count": 14,
   "id": "2a0c95d5-4db3-4490-88ce-a522bd317bac",
   "metadata": {
    "tags": []
   },
   "outputs": [
    {
     "data": {
      "text/plain": [
       "5"
      ]
     },
     "execution_count": 14,
     "metadata": {},
     "output_type": "execute_result"
    }
   ],
   "source": [
    "len(prons)"
   ]
  },
  {
   "cell_type": "code",
   "execution_count": 15,
   "id": "6729a379-f509-4f3c-b23f-0c40f1085430",
   "metadata": {
    "tags": []
   },
   "outputs": [],
   "source": [
    "idx = [x for x in range(len(prons))]"
   ]
  },
  {
   "cell_type": "code",
   "execution_count": 31,
   "id": "4cecfefb-0eaa-47d2-a59b-e6caab983470",
   "metadata": {
    "tags": []
   },
   "outputs": [
    {
     "data": {
      "application/vnd.jupyter.widget-view+json": {
       "model_id": "8a20fa2fa06f4615a0a2135e779b8d6a",
       "version_major": 2,
       "version_minor": 0
      },
      "text/plain": [
       "VBox(children=(HBox(children=(IntProgress(value=0, description='0.00%', max=5), Label(value='0 / 5'))), HBox(c…"
      ]
     },
     "metadata": {},
     "output_type": "display_data"
    }
   ],
   "source": [
    "X= pd.crosstab([idx, prons], prons).parallel_apply(\n",
    "        lambda col: [levenshtein_sim(col.name, x)\n",
    "                     for x in col.index.get_level_values(1)])"
   ]
  },
  {
   "cell_type": "code",
   "execution_count": 32,
   "id": "768b9aea-77cb-469e-b38c-8e441f597ba8",
   "metadata": {
    "tags": []
   },
   "outputs": [
    {
     "data": {
      "text/html": [
       "<div>\n",
       "<style scoped>\n",
       "    .dataframe tbody tr th:only-of-type {\n",
       "        vertical-align: middle;\n",
       "    }\n",
       "\n",
       "    .dataframe tbody tr th {\n",
       "        vertical-align: top;\n",
       "    }\n",
       "\n",
       "    .dataframe thead th {\n",
       "        text-align: right;\n",
       "    }\n",
       "</style>\n",
       "<table border=\"1\" class=\"dataframe\">\n",
       "  <thead>\n",
       "    <tr style=\"text-align: right;\">\n",
       "      <th></th>\n",
       "      <th>col_0</th>\n",
       "      <th>a b b a n d o n a r e</th>\n",
       "      <th>a b ɑ̃ d ɔ n e</th>\n",
       "      <th>e ŋ ɡ a t a l i p o</th>\n",
       "      <th>f ɑ ŋ ⁵ ¹ ⁻ ⁵ ³ t͡ɕʰ i ⁵ ¹</th>\n",
       "      <th>h a i h t a</th>\n",
       "    </tr>\n",
       "    <tr>\n",
       "      <th>row_0</th>\n",
       "      <th>row_1</th>\n",
       "      <th></th>\n",
       "      <th></th>\n",
       "      <th></th>\n",
       "      <th></th>\n",
       "      <th></th>\n",
       "    </tr>\n",
       "  </thead>\n",
       "  <tbody>\n",
       "    <tr>\n",
       "      <th>0</th>\n",
       "      <th>e ŋ ɡ a t a l i p o</th>\n",
       "      <td>0.500000</td>\n",
       "      <td>0.424242</td>\n",
       "      <td>1.000000</td>\n",
       "      <td>0.488889</td>\n",
       "      <td>0.466667</td>\n",
       "    </tr>\n",
       "    <tr>\n",
       "      <th>1</th>\n",
       "      <th>h a i h t a</th>\n",
       "      <td>0.437500</td>\n",
       "      <td>0.400000</td>\n",
       "      <td>0.466667</td>\n",
       "      <td>0.324324</td>\n",
       "      <td>1.000000</td>\n",
       "    </tr>\n",
       "    <tr>\n",
       "      <th>2</th>\n",
       "      <th>f ɑ ŋ ⁵ ¹ ⁻ ⁵ ³ t͡ɕʰ i ⁵ ¹</th>\n",
       "      <td>0.425532</td>\n",
       "      <td>0.300000</td>\n",
       "      <td>0.488889</td>\n",
       "      <td>1.000000</td>\n",
       "      <td>0.324324</td>\n",
       "    </tr>\n",
       "    <tr>\n",
       "      <th>3</th>\n",
       "      <th>a b ɑ̃ d ɔ n e</th>\n",
       "      <td>0.628571</td>\n",
       "      <td>1.000000</td>\n",
       "      <td>0.424242</td>\n",
       "      <td>0.300000</td>\n",
       "      <td>0.400000</td>\n",
       "    </tr>\n",
       "    <tr>\n",
       "      <th>4</th>\n",
       "      <th>a b b a n d o n a r e</th>\n",
       "      <td>1.000000</td>\n",
       "      <td>0.628571</td>\n",
       "      <td>0.500000</td>\n",
       "      <td>0.425532</td>\n",
       "      <td>0.437500</td>\n",
       "    </tr>\n",
       "  </tbody>\n",
       "</table>\n",
       "</div>"
      ],
      "text/plain": [
       "col_0                             a b b a n d o n a r e  a b ɑ̃ d ɔ n e  \\\n",
       "row_0 row_1                                                               \n",
       "0     e ŋ ɡ a t a l i p o                      0.500000        0.424242   \n",
       "1     h a i h t a                              0.437500        0.400000   \n",
       "2     f ɑ ŋ ⁵ ¹ ⁻ ⁵ ³ t͡ɕʰ i ⁵ ¹               0.425532        0.300000   \n",
       "3     a b ɑ̃ d ɔ n e                           0.628571        1.000000   \n",
       "4     a b b a n d o n a r e                    1.000000        0.628571   \n",
       "\n",
       "col_0                             e ŋ ɡ a t a l i p o  \\\n",
       "row_0 row_1                                             \n",
       "0     e ŋ ɡ a t a l i p o                    1.000000   \n",
       "1     h a i h t a                            0.466667   \n",
       "2     f ɑ ŋ ⁵ ¹ ⁻ ⁵ ³ t͡ɕʰ i ⁵ ¹             0.488889   \n",
       "3     a b ɑ̃ d ɔ n e                         0.424242   \n",
       "4     a b b a n d o n a r e                  0.500000   \n",
       "\n",
       "col_0                             f ɑ ŋ ⁵ ¹ ⁻ ⁵ ³ t͡ɕʰ i ⁵ ¹  h a i h t a  \n",
       "row_0 row_1                                                                \n",
       "0     e ŋ ɡ a t a l i p o                           0.488889     0.466667  \n",
       "1     h a i h t a                                   0.324324     1.000000  \n",
       "2     f ɑ ŋ ⁵ ¹ ⁻ ⁵ ³ t͡ɕʰ i ⁵ ¹                    1.000000     0.324324  \n",
       "3     a b ɑ̃ d ɔ n e                                0.300000     0.400000  \n",
       "4     a b b a n d o n a r e                         0.425532     0.437500  "
      ]
     },
     "execution_count": 32,
     "metadata": {},
     "output_type": "execute_result"
    }
   ],
   "source": [
    "X"
   ]
  },
  {
   "cell_type": "code",
   "execution_count": 42,
   "id": "e2fdc201-df80-4918-aab8-ae0b4961d5c6",
   "metadata": {
    "tags": []
   },
   "outputs": [
    {
     "name": "stdout",
     "output_type": "stream",
     "text": [
      "['²', 't', 'ɵ', '-', 'ŋ', '-', 'a'] ['-', 't', 'ʰ', 'u', 'ŋ', 'k', 'a']\n"
     ]
    }
   ],
   "source": [
    "s = phon_sim(\"² t ɵ ŋ a\", \"tʰ u ŋ k a\")"
   ]
  },
  {
   "cell_type": "code",
   "execution_count": 43,
   "id": "ec30216e-4b58-4067-9719-570218d0e9a2",
   "metadata": {
    "tags": []
   },
   "outputs": [
    {
     "data": {
      "text/plain": [
       "-0.14285714285714285"
      ]
     },
     "execution_count": 43,
     "metadata": {},
     "output_type": "execute_result"
    }
   ],
   "source": [
    "s"
   ]
  },
  {
   "cell_type": "code",
   "execution_count": 31,
   "id": "02929bba-c4b3-4e0e-82bc-c50ed6f0b03d",
   "metadata": {
    "tags": []
   },
   "outputs": [],
   "source": [
    "t = \" ʁ ɔ t y b e ʁ ɑ̃\"\n",
    "p=\"p ʁ ɔ t y b e ʁ ɑ̃ s\""
   ]
  },
  {
   "cell_type": "code",
   "execution_count": 44,
   "id": "dbb3d4fd-f823-4583-b2e4-8ab4af92c30e",
   "metadata": {
    "tags": []
   },
   "outputs": [],
   "source": [
    "almt, almp, sim = nw_align(\"ɑ̃ f l y ʁ\", \"b o̞ i̯ l u r\")"
   ]
  },
  {
   "cell_type": "code",
   "execution_count": 46,
   "id": "d7a8c666-8284-423b-90b1-a5ce3434ab22",
   "metadata": {
    "tags": []
   },
   "outputs": [
    {
     "data": {
      "text/plain": [
       "-3.0"
      ]
     },
     "execution_count": 46,
     "metadata": {},
     "output_type": "execute_result"
    }
   ],
   "source": [
    "sim"
   ]
  },
  {
   "cell_type": "code",
   "execution_count": 32,
   "id": "e75a0066-10d0-48f0-a550-9a509c526773",
   "metadata": {
    "tags": []
   },
   "outputs": [
    {
     "data": {
      "text/plain": [
       "['ʁ', 'ɔ', 't', 'y', 'b', 'e', 'ʁ', 'ɑ̃']"
      ]
     },
     "execution_count": 32,
     "metadata": {},
     "output_type": "execute_result"
    }
   ],
   "source": [
    "t.split()"
   ]
  },
  {
   "cell_type": "code",
   "execution_count": 33,
   "id": "00acaed8-ef65-4ddd-95db-07ada7c9bae0",
   "metadata": {
    "tags": []
   },
   "outputs": [],
   "source": [
    "t =''.join(t.split())\n",
    "p =''.join(p.split())"
   ]
  },
  {
   "cell_type": "code",
   "execution_count": 34,
   "id": "18d8762f-6908-45b8-8756-eb60d7523d6a",
   "metadata": {
    "tags": []
   },
   "outputs": [],
   "source": [
    "almt, almp, sim = nw_align(t,p)"
   ]
  },
  {
   "cell_type": "code",
   "execution_count": 37,
   "id": "334c4999-0a6e-4990-9e43-c58eabbcdcc1",
   "metadata": {
    "tags": []
   },
   "outputs": [
    {
     "data": {
      "text/plain": [
       "0.6363636363636364"
      ]
     },
     "execution_count": 37,
     "metadata": {},
     "output_type": "execute_result"
    }
   ],
   "source": [
    "sim/len(almp)"
   ]
  },
  {
   "cell_type": "code",
   "execution_count": 36,
   "id": "cd3dd366-5865-422b-b284-7f3233c03215",
   "metadata": {
    "tags": []
   },
   "outputs": [
    {
     "data": {
      "text/plain": [
       "['p', 'ʁ', 'ɔ', 't', 'y', 'b', 'e', 'ʁ', 'ɑ', '̃', 's']"
      ]
     },
     "execution_count": 36,
     "metadata": {},
     "output_type": "execute_result"
    }
   ],
   "source": [
    "almp"
   ]
  },
  {
   "cell_type": "code",
   "execution_count": 25,
   "id": "7612d0ba-7ac9-4ca0-a4ff-f4009fc62c87",
   "metadata": {
    "tags": []
   },
   "outputs": [
    {
     "data": {
      "text/plain": [
       "7.0"
      ]
     },
     "execution_count": 25,
     "metadata": {},
     "output_type": "execute_result"
    }
   ],
   "source": [
    "sim"
   ]
  },
  {
   "cell_type": "code",
   "execution_count": 26,
   "id": "892d4d88-1485-42bd-a104-925385d48481",
   "metadata": {
    "tags": []
   },
   "outputs": [
    {
     "data": {
      "text/plain": [
       "7.0"
      ]
     },
     "execution_count": 26,
     "metadata": {},
     "output_type": "execute_result"
    }
   ],
   "source": [
    "sim"
   ]
  },
  {
   "cell_type": "code",
   "execution_count": 3,
   "id": "f602dde4-098f-458a-86d3-40f94157bd70",
   "metadata": {},
   "outputs": [],
   "source": [
    "# https://calc.hypotheses.org/1962\n",
    "\n",
    "#Similarity scores, on the other hand, assume some \n",
    "#high score for the identity of objects, which may vary, \n",
    "#depending on the object under question, and smaller scores\n",
    "#for dissimilar objects, with scores beyond zero being reserved for \n",
    "# those objects that have almost nothing in common."
   ]
  },
  {
   "cell_type": "markdown",
   "id": "795236ac-35ad-4bb9-85a3-f5539cafafbe",
   "metadata": {},
   "source": [
    "Hamming distance (Hamming 1950. This distance reflects the proportion of features where two segments differ. Turning the Hamming distance into a similarity score is straightforward, since we only need to calculate the proportion of features where two segments are identical."
   ]
  },
  {
   "cell_type": "code",
   "execution_count": 6,
   "id": "fdc2f673-da2c-4b73-931b-2f9d1b9a2686",
   "metadata": {
    "tags": []
   },
   "outputs": [],
   "source": [
    "from pyclts import CLTS\n",
    "    "
   ]
  },
  {
   "cell_type": "code",
   "execution_count": 7,
   "id": "9706bf1d-db33-4651-9e17-aceaa12e250e",
   "metadata": {
    "tags": []
   },
   "outputs": [],
   "source": [
    "clts =CLTS(\"../data/clts\")"
   ]
  },
  {
   "cell_type": "code",
   "execution_count": 12,
   "id": "9dfa239e-4f57-48d6-a344-973fa56600b8",
   "metadata": {
    "tags": []
   },
   "outputs": [],
   "source": [
    "bipa = clts.transcriptionsystem('bipa')"
   ]
  },
  {
   "cell_type": "code",
   "execution_count": null,
   "id": "55f94b2c-5bfe-4c33-8437-26684e7bb339",
   "metadata": {},
   "outputs": [],
   "source": []
  },
  {
   "cell_type": "code",
   "execution_count": 10,
   "id": "e148246f-0011-4503-9e01-76cd8795cc15",
   "metadata": {
    "tags": []
   },
   "outputs": [
    {
     "name": "stdout",
     "output_type": "stream",
     "text": [
      "    1 | airstream              | sibilant  \n",
      "    2 | articulation           | -         \n",
      "    3 | aspiration             | -         \n",
      "    4 | breathiness            | -         \n",
      "    5 | creakiness             | -         \n",
      "    6 | duration               | -         \n",
      "    7 | ejection               | -         \n",
      "    8 | friction               | -         \n",
      "    9 | glottalization         | -         \n",
      "   10 | labialization          | -         \n",
      "   11 | laminality             | -         \n",
      "   12 | manner                 | affricate \n",
      "   13 | nasalization           | -         \n",
      "   14 | palatalization         | -         \n",
      "   15 | pharyngealization      | -         \n",
      "   16 | phonation              | voiceless \n",
      "   17 | place                  | alveolar  \n",
      "   18 | preceding              | -         \n",
      "   19 | raising                | -         \n",
      "   20 | relative_articulation  | -         \n",
      "   21 | release                | -         \n",
      "   22 | syllabicity            | -         \n",
      "   23 | tongue_root            | -         \n",
      "   24 | velarization           | -         \n",
      "   25 | voicing                | -         \n"
     ]
    }
   ],
   "source": [
    "\n",
    "sound = bipa['ts']\n",
    "for i, (k, v) in enumerate(sorted(sound.featuredict.items())):\n",
    "    print('{0:5} | {1:22} | {2:10}'.format(i+1, k, v or '-'))"
   ]
  },
  {
   "cell_type": "code",
   "execution_count": null,
   "id": "018669e7-7a3b-4cbe-b233-04d03478bcb9",
   "metadata": {},
   "outputs": [],
   "source": []
  }
 ],
 "metadata": {
  "kernelspec": {
   "display_name": "colexphon",
   "language": "python",
   "name": "colexphon"
  },
  "language_info": {
   "codemirror_mode": {
    "name": "ipython",
    "version": 3
   },
   "file_extension": ".py",
   "mimetype": "text/x-python",
   "name": "python",
   "nbconvert_exporter": "python",
   "pygments_lexer": "ipython3",
   "version": "3.10.0"
  }
 },
 "nbformat": 4,
 "nbformat_minor": 5
}
