{
 "cells": [
  {
   "cell_type": "code",
   "execution_count": 66,
   "id": "919f3252-ffc1-4f38-aeea-dede9e3a2600",
   "metadata": {
    "tags": []
   },
   "outputs": [],
   "source": [
    "import pandas as pd\n",
    "import numpy as np\n",
    "import json\n",
    "from collections import Counter, defaultdict"
   ]
  },
  {
   "cell_type": "code",
   "execution_count": 25,
   "id": "e12150c4-ec88-4cdd-b719-69a594ad957a",
   "metadata": {
    "tags": []
   },
   "outputs": [
    {
     "name": "stdout",
     "output_type": "stream",
     "text": [
      "INFO: Pandarallel will run on 10 workers.\n",
      "INFO: Pandarallel will use standard multiprocessing data transfer (pipe) to transfer data between the main process and workers.\n"
     ]
    }
   ],
   "source": [
    "from pandarallel import pandarallel\n",
    "\n",
    "pandarallel.initialize(progress_bar=True)"
   ]
  },
  {
   "cell_type": "code",
   "execution_count": 5,
   "id": "4da314ef-f465-4c15-937f-406f74d1904b",
   "metadata": {
    "tags": []
   },
   "outputs": [],
   "source": [
    "df_colex= pd.read_csv(\"../data/preprocessed/colex_pron_langs.csv\",sep=\"\\t\")"
   ]
  },
  {
   "cell_type": "code",
   "execution_count": null,
   "id": "bc7e85fb-4ce6-4682-9286-e90d6eedd17e",
   "metadata": {},
   "outputs": [],
   "source": [
    "df_col"
   ]
  },
  {
   "cell_type": "code",
   "execution_count": 107,
   "id": "c95121c8-d96e-4385-9e11-dddc729914ef",
   "metadata": {
    "tags": []
   },
   "outputs": [],
   "source": [
    "df_colex[\"diff\"] = df_colex[\"C1\"]!=df_colex[\"C2\"]"
   ]
  },
  {
   "cell_type": "code",
   "execution_count": 110,
   "id": "8783b551-d219-4f5b-8deb-8c63e8a0f3e8",
   "metadata": {
    "tags": []
   },
   "outputs": [],
   "source": [
    "df_colex = df_colex[df_colex[\"diff\"]==True]"
   ]
  },
  {
   "cell_type": "code",
   "execution_count": 188,
   "id": "526476b4-d920-4b02-900c-45a0fae8e55a",
   "metadata": {
    "tags": []
   },
   "outputs": [],
   "source": [
    "df_colex.to_csv(\"../data/preprocessed/colex_pron_langs.csv\", index=False)"
   ]
  },
  {
   "cell_type": "code",
   "execution_count": 10,
   "id": "dc530189-ff0f-439f-9afc-4cc9def646ac",
   "metadata": {
    "tags": []
   },
   "outputs": [],
   "source": [
    "with open(\"../data/wordlists/concepts.json\") as f:\n",
    "    concepts = json.load(f)"
   ]
  },
  {
   "cell_type": "code",
   "execution_count": 7,
   "id": "57aa43d3-7fd5-4857-aa06-0249661d3c65",
   "metadata": {
    "tags": []
   },
   "outputs": [],
   "source": [
    "df_concrete = pd.read_csv(\"../data/wordlists/concreteness_ratings.csv\")"
   ]
  },
  {
   "cell_type": "code",
   "execution_count": 35,
   "id": "06ab05e9-25f8-4bd2-923b-b641d6f77069",
   "metadata": {
    "tags": []
   },
   "outputs": [],
   "source": [
    "df_concrete[\"lemma\"] = df_concrete[\"Word\"].replace(' ', '_', regex=True).str.lower()"
   ]
  },
  {
   "cell_type": "code",
   "execution_count": 36,
   "id": "efd60776-5a79-4d67-acb2-5eda1dcac453",
   "metadata": {
    "tags": []
   },
   "outputs": [],
   "source": [
    "concept_concreteness = dict(zip(df_concrete[\"lemma\"], df_concrete[\"Conc.M\"]))"
   ]
  },
  {
   "cell_type": "markdown",
   "id": "6f352667-2dfb-45ff-97e0-7a80e1cdc052",
   "metadata": {
    "tags": []
   },
   "source": [
    "### Hypothesis 1: The concepts that are more abstract are more proable to colexifiy\n",
    "\n",
    "The concepts that are less in concreteness is colexified in more languages/in more colexifications patterns, i.e., There are more sense_lemmas for the concept"
   ]
  },
  {
   "cell_type": "code",
   "execution_count": 169,
   "id": "ce44b78b-f770-4fc1-8be6-e7cd89cae067",
   "metadata": {
    "tags": []
   },
   "outputs": [],
   "source": [
    "import numpy as np\n",
    "import matplotlib.pyplot as plt  # To visualize\n",
    "import pandas as pd  # To read data\n",
    "from sklearn.linear_model import LinearRegression\n",
    "import seaborn as sns\n",
    "%matplotlib inline"
   ]
  },
  {
   "cell_type": "code",
   "execution_count": 111,
   "id": "5d299397-3197-443a-b4e9-0e963ea0e133",
   "metadata": {
    "tags": []
   },
   "outputs": [],
   "source": [
    "counter_c1 = dict(Counter(df_colex[\"C1\"].tolist()).most_common())\n",
    "counter_c2 = dict(Counter(df_colex[\"C2\"].tolist()).most_common())\n"
   ]
  },
  {
   "cell_type": "code",
   "execution_count": 112,
   "id": "2414e5c9-8b5e-41b8-b544-f79df75fb879",
   "metadata": {
    "scrolled": true,
    "tags": []
   },
   "outputs": [
    {
     "data": {
      "text/plain": [
       "22425"
      ]
     },
     "execution_count": 112,
     "metadata": {},
     "output_type": "execute_result"
    }
   ],
   "source": [
    "len(counter_c1)"
   ]
  },
  {
   "cell_type": "code",
   "execution_count": 113,
   "id": "eede357a-dd09-458c-92af-44dab9ab6ec6",
   "metadata": {
    "tags": []
   },
   "outputs": [],
   "source": [
    "counter_c1.update(counter_c2)"
   ]
  },
  {
   "cell_type": "code",
   "execution_count": 114,
   "id": "d1b34f21-77f5-4da1-8481-ed284f8df677",
   "metadata": {
    "tags": []
   },
   "outputs": [
    {
     "data": {
      "text/plain": [
       "24561"
      ]
     },
     "execution_count": 114,
     "metadata": {},
     "output_type": "execute_result"
    }
   ],
   "source": [
    "len(counter_c1)"
   ]
  },
  {
   "cell_type": "code",
   "execution_count": 115,
   "id": "9841bdb8-8210-4787-8955-de82bf07a5f8",
   "metadata": {
    "tags": []
   },
   "outputs": [],
   "source": [
    "df_concept_freq = pd.DataFrame.from_dict(counter_c1, orient=\"index\")"
   ]
  },
  {
   "cell_type": "code",
   "execution_count": 116,
   "id": "9d9aa875-61dc-40a4-ae0c-282c948a1c84",
   "metadata": {
    "tags": []
   },
   "outputs": [],
   "source": [
    "df_concept_freq.columns=[\"FREQ\"]"
   ]
  },
  {
   "cell_type": "code",
   "execution_count": 117,
   "id": "6e7a4053-23a8-4e49-8fa4-d7ab58db313f",
   "metadata": {
    "tags": []
   },
   "outputs": [],
   "source": [
    "df_concept_freq[\"Concept\"] = df_concept_freq.index"
   ]
  },
  {
   "cell_type": "code",
   "execution_count": 118,
   "id": "f587d4f7-f818-49e4-92a3-6944299b8e3b",
   "metadata": {
    "tags": []
   },
   "outputs": [
    {
     "data": {
      "application/vnd.jupyter.widget-view+json": {
       "model_id": "64c06bd647c945a0bb87c36fb57bbe62",
       "version_major": 2,
       "version_minor": 0
      },
      "text/plain": [
       "VBox(children=(HBox(children=(IntProgress(value=0, description='0.00%', max=2457), Label(value='0 / 2457'))), …"
      ]
     },
     "metadata": {},
     "output_type": "display_data"
    }
   ],
   "source": [
    "df_concept_freq[\"Concreteness\"]= df_concept_freq.Concept.parallel_apply(lambda x: concept_concreteness[x])"
   ]
  },
  {
   "cell_type": "code",
   "execution_count": 119,
   "id": "755b0a43-abcb-4f0a-b130-2d02638d8c3c",
   "metadata": {
    "tags": []
   },
   "outputs": [
    {
     "data": {
      "text/html": [
       "<div>\n",
       "<style scoped>\n",
       "    .dataframe tbody tr th:only-of-type {\n",
       "        vertical-align: middle;\n",
       "    }\n",
       "\n",
       "    .dataframe tbody tr th {\n",
       "        vertical-align: top;\n",
       "    }\n",
       "\n",
       "    .dataframe thead th {\n",
       "        text-align: right;\n",
       "    }\n",
       "</style>\n",
       "<table border=\"1\" class=\"dataframe\">\n",
       "  <thead>\n",
       "    <tr style=\"text-align: right;\">\n",
       "      <th></th>\n",
       "      <th>FREQ</th>\n",
       "      <th>Concept</th>\n",
       "      <th>Concreteness</th>\n",
       "    </tr>\n",
       "  </thead>\n",
       "  <tbody>\n",
       "    <tr>\n",
       "      <th>carry</th>\n",
       "      <td>4106</td>\n",
       "      <td>carry</td>\n",
       "      <td>4.04</td>\n",
       "    </tr>\n",
       "    <tr>\n",
       "      <th>give</th>\n",
       "      <td>17439</td>\n",
       "      <td>give</td>\n",
       "      <td>2.83</td>\n",
       "    </tr>\n",
       "    <tr>\n",
       "      <th>beat</th>\n",
       "      <td>1446</td>\n",
       "      <td>beat</td>\n",
       "      <td>3.97</td>\n",
       "    </tr>\n",
       "    <tr>\n",
       "      <th>accept</th>\n",
       "      <td>92</td>\n",
       "      <td>accept</td>\n",
       "      <td>3.03</td>\n",
       "    </tr>\n",
       "    <tr>\n",
       "      <th>make</th>\n",
       "      <td>24726</td>\n",
       "      <td>make</td>\n",
       "      <td>2.67</td>\n",
       "    </tr>\n",
       "  </tbody>\n",
       "</table>\n",
       "</div>"
      ],
      "text/plain": [
       "         FREQ Concept  Concreteness\n",
       "carry    4106   carry          4.04\n",
       "give    17439    give          2.83\n",
       "beat     1446    beat          3.97\n",
       "accept     92  accept          3.03\n",
       "make    24726    make          2.67"
      ]
     },
     "execution_count": 119,
     "metadata": {},
     "output_type": "execute_result"
    }
   ],
   "source": [
    "df_concept_freq.head()"
   ]
  },
  {
   "cell_type": "code",
   "execution_count": 172,
   "id": "43ff5b3e-f6aa-4ad7-8435-a7f664a2b25e",
   "metadata": {
    "tags": []
   },
   "outputs": [
    {
     "data": {
      "text/plain": [
       "<Axes: xlabel='Concreteness', ylabel='Count'>"
      ]
     },
     "execution_count": 172,
     "metadata": {},
     "output_type": "execute_result"
    },
    {
     "data": {
      "image/png": "[encoded data removed]",
      "text/plain": [
       "<Figure size 640x480 with 1 Axes>"
      ]
     },
     "metadata": {},
     "output_type": "display_data"
    }
   ],
   "source": [
    "sns.histplot(data=df_concept_freq, x=\"Concreteness\")"
   ]
  },
  {
   "cell_type": "code",
   "execution_count": 120,
   "id": "da7f6416-bbbd-4f3a-b597-44507ef9b56c",
   "metadata": {
    "tags": []
   },
   "outputs": [],
   "source": [
    "Y_freq = df_concept_freq[\"FREQ\"].values.reshape(-1,1)"
   ]
  },
  {
   "cell_type": "code",
   "execution_count": 121,
   "id": "9eab9e0a-43e9-4d0a-b31e-73311abc7e3e",
   "metadata": {
    "tags": []
   },
   "outputs": [
    {
     "data": {
      "text/plain": [
       "array([[ 4106],\n",
       "       [17439],\n",
       "       [ 1446],\n",
       "       ...,\n",
       "       [    1],\n",
       "       [    1],\n",
       "       [    1]])"
      ]
     },
     "execution_count": 121,
     "metadata": {},
     "output_type": "execute_result"
    }
   ],
   "source": [
    "Y_freq"
   ]
  },
  {
   "cell_type": "code",
   "execution_count": 122,
   "id": "3a359eeb-d7ea-41fb-9821-6961b954f5f7",
   "metadata": {
    "tags": []
   },
   "outputs": [],
   "source": [
    "X_freq = df_concept_freq[\"Concreteness\"].values.reshape(-1,1)"
   ]
  },
  {
   "cell_type": "code",
   "execution_count": 123,
   "id": "6229082d-62b4-4932-bd4b-a41e33773e90",
   "metadata": {
    "tags": []
   },
   "outputs": [
    {
     "data": {
      "text/plain": [
       "array([[4.04],\n",
       "       [2.83],\n",
       "       [3.97],\n",
       "       ...,\n",
       "       [4.86],\n",
       "       [4.57],\n",
       "       [3.14]])"
      ]
     },
     "execution_count": 123,
     "metadata": {},
     "output_type": "execute_result"
    }
   ],
   "source": [
    "X_freq"
   ]
  },
  {
   "cell_type": "code",
   "execution_count": 124,
   "id": "c2d00c74-c4b0-495a-937e-aba9d4e5d87f",
   "metadata": {
    "tags": []
   },
   "outputs": [],
   "source": [
    "linear_reg = LinearRegression()"
   ]
  },
  {
   "cell_type": "code",
   "execution_count": 125,
   "id": "ea2ebaa1-dc32-44ea-ac4c-e18d515bfbab",
   "metadata": {
    "tags": []
   },
   "outputs": [
    {
     "data": {
      "text/html": [
       "<style>#sk-container-id-2 {color: black;background-color: white;}#sk-container-id-2 pre{padding: 0;}#sk-container-id-2 div.sk-toggleable {background-color: white;}#sk-container-id-2 label.sk-toggleable__label {cursor: pointer;display: block;width: 100%;margin-bottom: 0;padding: 0.3em;box-sizing: border-box;text-align: center;}#sk-container-id-2 label.sk-toggleable__label-arrow:before {content: \"▸\";float: left;margin-right: 0.25em;color: #696969;}#sk-container-id-2 label.sk-toggleable__label-arrow:hover:before {color: black;}#sk-container-id-2 div.sk-estimator:hover label.sk-toggleable__label-arrow:before {color: black;}#sk-container-id-2 div.sk-toggleable__content {max-height: 0;max-width: 0;overflow: hidden;text-align: left;background-color: #f0f8ff;}#sk-container-id-2 div.sk-toggleable__content pre {margin: 0.2em;color: black;border-radius: 0.25em;background-color: #f0f8ff;}#sk-container-id-2 input.sk-toggleable__control:checked~div.sk-toggleable__content {max-height: 200px;max-width: 100%;overflow: auto;}#sk-container-id-2 input.sk-toggleable__control:checked~label.sk-toggleable__label-arrow:before {content: \"▾\";}#sk-container-id-2 div.sk-estimator input.sk-toggleable__control:checked~label.sk-toggleable__label {background-color: #d4ebff;}#sk-container-id-2 div.sk-label input.sk-toggleable__control:checked~label.sk-toggleable__label {background-color: #d4ebff;}#sk-container-id-2 input.sk-hidden--visually {border: 0;clip: rect(1px 1px 1px 1px);clip: rect(1px, 1px, 1px, 1px);height: 1px;margin: -1px;overflow: hidden;padding: 0;position: absolute;width: 1px;}#sk-container-id-2 div.sk-estimator {font-family: monospace;background-color: #f0f8ff;border: 1px dotted black;border-radius: 0.25em;box-sizing: border-box;margin-bottom: 0.5em;}#sk-container-id-2 div.sk-estimator:hover {background-color: #d4ebff;}#sk-container-id-2 div.sk-parallel-item::after {content: \"\";width: 100%;border-bottom: 1px solid gray;flex-grow: 1;}#sk-container-id-2 div.sk-label:hover label.sk-toggleable__label {background-color: #d4ebff;}#sk-container-id-2 div.sk-serial::before {content: \"\";position: absolute;border-left: 1px solid gray;box-sizing: border-box;top: 0;bottom: 0;left: 50%;z-index: 0;}#sk-container-id-2 div.sk-serial {display: flex;flex-direction: column;align-items: center;background-color: white;padding-right: 0.2em;padding-left: 0.2em;position: relative;}#sk-container-id-2 div.sk-item {position: relative;z-index: 1;}#sk-container-id-2 div.sk-parallel {display: flex;align-items: stretch;justify-content: center;background-color: white;position: relative;}#sk-container-id-2 div.sk-item::before, #sk-container-id-2 div.sk-parallel-item::before {content: \"\";position: absolute;border-left: 1px solid gray;box-sizing: border-box;top: 0;bottom: 0;left: 50%;z-index: -1;}#sk-container-id-2 div.sk-parallel-item {display: flex;flex-direction: column;z-index: 1;position: relative;background-color: white;}#sk-container-id-2 div.sk-parallel-item:first-child::after {align-self: flex-end;width: 50%;}#sk-container-id-2 div.sk-parallel-item:last-child::after {align-self: flex-start;width: 50%;}#sk-container-id-2 div.sk-parallel-item:only-child::after {width: 0;}#sk-container-id-2 div.sk-dashed-wrapped {border: 1px dashed gray;margin: 0 0.4em 0.5em 0.4em;box-sizing: border-box;padding-bottom: 0.4em;background-color: white;}#sk-container-id-2 div.sk-label label {font-family: monospace;font-weight: bold;display: inline-block;line-height: 1.2em;}#sk-container-id-2 div.sk-label-container {text-align: center;}#sk-container-id-2 div.sk-container {/* jupyter's `normalize.less` sets `[hidden] { display: none; }` but bootstrap.min.css set `[hidden] { display: none !important; }` so we also need the `!important` here to be able to override the default hidden behavior on the sphinx rendered scikit-learn.org. See: https://github.com/scikit-learn/scikit-learn/issues/21755 */display: inline-block !important;position: relative;}#sk-container-id-2 div.sk-text-repr-fallback {display: none;}</style><div id=\"sk-container-id-2\" class=\"sk-top-container\"><div class=\"sk-text-repr-fallback\"><pre>LinearRegression()</pre><b>In a Jupyter environment, please rerun this cell to show the HTML representation or trust the notebook. <br />On GitHub, the HTML representation is unable to render, please try loading this page with nbviewer.org.</b></div><div class=\"sk-container\" hidden><div class=\"sk-item\"><div class=\"sk-estimator sk-toggleable\"><input class=\"sk-toggleable__control sk-hidden--visually\" id=\"sk-estimator-id-2\" type=\"checkbox\" checked><label for=\"sk-estimator-id-2\" class=\"sk-toggleable__label sk-toggleable__label-arrow\">LinearRegression</label><div class=\"sk-toggleable__content\"><pre>LinearRegression()</pre></div></div></div></div></div>"
      ],
      "text/plain": [
       "LinearRegression()"
      ]
     },
     "execution_count": 125,
     "metadata": {},
     "output_type": "execute_result"
    }
   ],
   "source": [
    "linear_reg.fit(X_freq, Y_freq)"
   ]
  },
  {
   "cell_type": "code",
   "execution_count": 126,
   "id": "a30ce80c-1bab-44ed-9417-1fa7429dc63b",
   "metadata": {
    "tags": []
   },
   "outputs": [],
   "source": [
    "Y_pred = linear_reg.predict(X_freq)"
   ]
  },
  {
   "cell_type": "code",
   "execution_count": 127,
   "id": "33b7cbab-9346-4622-80b6-1cb3ae0b8946",
   "metadata": {
    "tags": []
   },
   "outputs": [
    {
     "data": {
      "image/png": "[encoded data removed]",
      "text/plain": [
       "<Figure size 640x480 with 1 Axes>"
      ]
     },
     "metadata": {},
     "output_type": "display_data"
    }
   ],
   "source": [
    "plt.scatter(X_freq, Y_freq)\n",
    "plt.plot(X_freq, Y_pred, color='red')\n",
    "plt.show()"
   ]
  },
  {
   "cell_type": "markdown",
   "id": "49c85f82-d7e7-4e17-b716-203a13e916b8",
   "metadata": {
    "tags": []
   },
   "source": [
    "### get the frequency by languages."
   ]
  },
  {
   "cell_type": "code",
   "execution_count": 67,
   "id": "39d2fd7f-441c-4117-b3ab-4c8c2be32b1a",
   "metadata": {
    "tags": []
   },
   "outputs": [],
   "source": [
    "concept_lang_counter = defaultdict(dict)\n",
    "for lang, c1, c2 in zip(df_colex[\"LANG\"], df_colex[\"C1\"], df_colex[\"C2\"]):\n",
    "    if c1 not in concept_lang_counter:\n",
    "        concept_lang_counter[c1]=defaultdict(int)\n",
    "    if c2 not in concept_lang_counter:\n",
    "        concept_lang_counter[c2]=defaultdict(int)\n",
    "    \n",
    "    concept_lang_counter[c1][lang]+=1\n",
    "    concept_lang_counter[c2][lang]+=1\n",
    "    "
   ]
  },
  {
   "cell_type": "code",
   "execution_count": 174,
   "id": "3a239562-b41b-4c81-9a25-0862ddedaa31",
   "metadata": {
    "tags": []
   },
   "outputs": [],
   "source": [
    "concept_langs = {k: len(v) for k,v in concept_lang_counter.items()}"
   ]
  },
  {
   "cell_type": "code",
   "execution_count": 175,
   "id": "ba41af55-be2d-4c18-98f1-3f7de8690429",
   "metadata": {
    "tags": []
   },
   "outputs": [],
   "source": [
    "df_concept_langs = pd.DataFrame.from_dict(concept_langs, orient=\"index\")"
   ]
  },
  {
   "cell_type": "code",
   "execution_count": 176,
   "id": "761d0c81-dffb-4131-aa1b-5c5e7f749b0f",
   "metadata": {
    "tags": []
   },
   "outputs": [],
   "source": [
    "df_concept_langs.columns = [\"langs\"]"
   ]
  },
  {
   "cell_type": "code",
   "execution_count": 177,
   "id": "e91e2109-faa3-41b2-8620-4e5b01a77198",
   "metadata": {
    "tags": []
   },
   "outputs": [],
   "source": [
    "df_concept_langs[\"Concept\"] = df_concept_langs.index"
   ]
  },
  {
   "cell_type": "code",
   "execution_count": 178,
   "id": "b75bc655-088a-46c6-807a-24653bc1ae41",
   "metadata": {
    "tags": []
   },
   "outputs": [
    {
     "data": {
      "application/vnd.jupyter.widget-view+json": {
       "model_id": "8387e9e286d44b4981227862064bf5c4",
       "version_major": 2,
       "version_minor": 0
      },
      "text/plain": [
       "VBox(children=(HBox(children=(IntProgress(value=0, description='0.00%', max=2468), Label(value='0 / 2468'))), …"
      ]
     },
     "metadata": {},
     "output_type": "display_data"
    }
   ],
   "source": [
    "df_concept_langs[\"Concreteness\"] = df_concept_langs.Concept.parallel_apply(lambda x: concept_concreteness[x])"
   ]
  },
  {
   "cell_type": "code",
   "execution_count": 179,
   "id": "87ce46f3-59a8-4762-908c-39de7d5b4819",
   "metadata": {
    "tags": []
   },
   "outputs": [
    {
     "data": {
      "text/html": [
       "<div>\n",
       "<style scoped>\n",
       "    .dataframe tbody tr th:only-of-type {\n",
       "        vertical-align: middle;\n",
       "    }\n",
       "\n",
       "    .dataframe tbody tr th {\n",
       "        vertical-align: top;\n",
       "    }\n",
       "\n",
       "    .dataframe thead th {\n",
       "        text-align: right;\n",
       "    }\n",
       "</style>\n",
       "<table border=\"1\" class=\"dataframe\">\n",
       "  <thead>\n",
       "    <tr style=\"text-align: right;\">\n",
       "      <th></th>\n",
       "      <th>langs</th>\n",
       "      <th>Concept</th>\n",
       "      <th>Concreteness</th>\n",
       "    </tr>\n",
       "  </thead>\n",
       "  <tbody>\n",
       "    <tr>\n",
       "      <th>abscess</th>\n",
       "      <td>26</td>\n",
       "      <td>abscess</td>\n",
       "      <td>4.48</td>\n",
       "    </tr>\n",
       "    <tr>\n",
       "      <th>potato</th>\n",
       "      <td>3</td>\n",
       "      <td>potato</td>\n",
       "      <td>4.85</td>\n",
       "    </tr>\n",
       "    <tr>\n",
       "      <th>tumor</th>\n",
       "      <td>34</td>\n",
       "      <td>tumor</td>\n",
       "      <td>4.56</td>\n",
       "    </tr>\n",
       "    <tr>\n",
       "      <th>nodule</th>\n",
       "      <td>28</td>\n",
       "      <td>nodule</td>\n",
       "      <td>3.62</td>\n",
       "    </tr>\n",
       "    <tr>\n",
       "      <th>gnarl</th>\n",
       "      <td>4</td>\n",
       "      <td>gnarl</td>\n",
       "      <td>3.13</td>\n",
       "    </tr>\n",
       "    <tr>\n",
       "      <th>...</th>\n",
       "      <td>...</td>\n",
       "      <td>...</td>\n",
       "      <td>...</td>\n",
       "    </tr>\n",
       "    <tr>\n",
       "      <th>desexualize</th>\n",
       "      <td>2</td>\n",
       "      <td>desexualize</td>\n",
       "      <td>1.71</td>\n",
       "    </tr>\n",
       "    <tr>\n",
       "      <th>federalize</th>\n",
       "      <td>4</td>\n",
       "      <td>federalize</td>\n",
       "      <td>2.11</td>\n",
       "    </tr>\n",
       "    <tr>\n",
       "      <th>internationalize</th>\n",
       "      <td>6</td>\n",
       "      <td>internationalize</td>\n",
       "      <td>1.80</td>\n",
       "    </tr>\n",
       "    <tr>\n",
       "      <th>iodize</th>\n",
       "      <td>6</td>\n",
       "      <td>iodize</td>\n",
       "      <td>2.76</td>\n",
       "    </tr>\n",
       "    <tr>\n",
       "      <th>ionize</th>\n",
       "      <td>3</td>\n",
       "      <td>ionize</td>\n",
       "      <td>2.52</td>\n",
       "    </tr>\n",
       "  </tbody>\n",
       "</table>\n",
       "<p>24677 rows × 3 columns</p>\n",
       "</div>"
      ],
      "text/plain": [
       "                  langs           Concept  Concreteness\n",
       "abscess              26           abscess          4.48\n",
       "potato                3            potato          4.85\n",
       "tumor                34             tumor          4.56\n",
       "nodule               28            nodule          3.62\n",
       "gnarl                 4             gnarl          3.13\n",
       "...                 ...               ...           ...\n",
       "desexualize           2       desexualize          1.71\n",
       "federalize            4        federalize          2.11\n",
       "internationalize      6  internationalize          1.80\n",
       "iodize                6            iodize          2.76\n",
       "ionize                3            ionize          2.52\n",
       "\n",
       "[24677 rows x 3 columns]"
      ]
     },
     "execution_count": 179,
     "metadata": {},
     "output_type": "execute_result"
    }
   ],
   "source": [
    "df_concept_langs"
   ]
  },
  {
   "cell_type": "code",
   "execution_count": null,
   "id": "393834f3-a9fa-47fc-a2a9-83e4a49f4943",
   "metadata": {},
   "outputs": [],
   "source": []
  },
  {
   "cell_type": "code",
   "execution_count": 134,
   "id": "383713a5-f9fd-4541-b4cf-a5a23465c843",
   "metadata": {
    "tags": []
   },
   "outputs": [],
   "source": [
    "X = df_concept_langs[\"Concreteness\"].values.reshape(-1,1)\n",
    "Y = df_concept_langs[\"langs\"].values.reshape(-1,1)"
   ]
  },
  {
   "cell_type": "code",
   "execution_count": 135,
   "id": "ac321d4b-cecc-4d5a-a407-c1e4fa4b4d37",
   "metadata": {
    "tags": []
   },
   "outputs": [],
   "source": [
    "linear_regressor = LinearRegression()  # create object for the class\n",
    "linear_regressor.fit(X, Y)  # perform linear regression\n",
    "Y_pred = linear_regressor.predict(X)"
   ]
  },
  {
   "cell_type": "code",
   "execution_count": 136,
   "id": "8dad555a-e184-41e8-aa19-9bc5209b2918",
   "metadata": {
    "tags": []
   },
   "outputs": [
    {
     "data": {
      "image/png": "[encoded data removed]",
      "text/plain": [
       "<Figure size 640x480 with 1 Axes>"
      ]
     },
     "metadata": {},
     "output_type": "display_data"
    }
   ],
   "source": [
    "plt.scatter(X, Y)\n",
    "plt.plot(X, Y_pred, color='red')\n",
    "plt.show()"
   ]
  },
  {
   "cell_type": "markdown",
   "id": "74dad81a-c989-4bb5-b955-e6e65575b1f6",
   "metadata": {
    "tags": []
   },
   "source": [
    "## Hypothesis 2: The concepts closer in concreteness are more proable to colexifiy"
   ]
  },
  {
   "cell_type": "code",
   "execution_count": 137,
   "id": "9e7d193e-5374-40d6-9c07-dff98b954d7e",
   "metadata": {
    "tags": []
   },
   "outputs": [
    {
     "name": "stderr",
     "output_type": "stream",
     "text": [
      "/var/folders/bj/qp6k2wl11h5gpn8j4hg0tgf40000gn/T/ipykernel_75169/2539985545.py:1: SettingWithCopyWarning: \n",
      "A value is trying to be set on a copy of a slice from a DataFrame.\n",
      "Try using .loc[row_indexer,col_indexer] = value instead\n",
      "\n",
      "See the caveats in the documentation: https://pandas.pydata.org/pandas-docs/stable/user_guide/indexing.html#returning-a-view-versus-a-copy\n",
      "  df_colex[\"COLEX\"]= df_colex[\"C1\"] +\"~\"+df_colex[\"C2\"]\n"
     ]
    }
   ],
   "source": [
    "df_colex[\"COLEX\"]= df_colex[\"C1\"] +\"~\"+df_colex[\"C2\"]"
   ]
  },
  {
   "cell_type": "code",
   "execution_count": 140,
   "id": "365d156f-d724-4939-9159-0d1e70452830",
   "metadata": {
    "tags": []
   },
   "outputs": [
    {
     "name": "stderr",
     "output_type": "stream",
     "text": [
      "/var/folders/bj/qp6k2wl11h5gpn8j4hg0tgf40000gn/T/ipykernel_75169/3690088133.py:1: SettingWithCopyWarning: \n",
      "A value is trying to be set on a copy of a slice from a DataFrame.\n",
      "Try using .loc[row_indexer,col_indexer] = value instead\n",
      "\n",
      "See the caveats in the documentation: https://pandas.pydata.org/pandas-docs/stable/user_guide/indexing.html#returning-a-view-versus-a-copy\n",
      "  df_colex[\"ConcDist\"]= df_colex[\"Conc.M.2\"]-df_colex[\"Conc.M.1\"]\n"
     ]
    }
   ],
   "source": [
    "df_colex[\"ConcDist\"]= df_colex[\"Conc.M.2\"]-df_colex[\"Conc.M.1\"]"
   ]
  },
  {
   "cell_type": "code",
   "execution_count": 142,
   "id": "8f81421e-19db-4505-971e-c8b7f5b94d42",
   "metadata": {
    "tags": []
   },
   "outputs": [
    {
     "name": "stderr",
     "output_type": "stream",
     "text": [
      "/var/folders/bj/qp6k2wl11h5gpn8j4hg0tgf40000gn/T/ipykernel_75169/925098403.py:1: SettingWithCopyWarning: \n",
      "A value is trying to be set on a copy of a slice from a DataFrame.\n",
      "Try using .loc[row_indexer,col_indexer] = value instead\n",
      "\n",
      "See the caveats in the documentation: https://pandas.pydata.org/pandas-docs/stable/user_guide/indexing.html#returning-a-view-versus-a-copy\n",
      "  df_colex[\"ConcDist\"]=df_colex[\"ConcDist\"].abs()\n"
     ]
    }
   ],
   "source": [
    "df_colex[\"ConcDist\"]=df_colex[\"ConcDist\"].abs()"
   ]
  },
  {
   "cell_type": "code",
   "execution_count": 153,
   "id": "8a59bfba-411f-491e-b423-d9c1dc4ccdc7",
   "metadata": {
    "tags": []
   },
   "outputs": [
    {
     "data": {
      "text/html": [
       "<div>\n",
       "<style scoped>\n",
       "    .dataframe tbody tr th:only-of-type {\n",
       "        vertical-align: middle;\n",
       "    }\n",
       "\n",
       "    .dataframe tbody tr th {\n",
       "        vertical-align: top;\n",
       "    }\n",
       "\n",
       "    .dataframe thead th {\n",
       "        text-align: right;\n",
       "    }\n",
       "</style>\n",
       "<table border=\"1\" class=\"dataframe\">\n",
       "  <thead>\n",
       "    <tr style=\"text-align: right;\">\n",
       "      <th></th>\n",
       "      <th>Unnamed: 0</th>\n",
       "      <th>SENSE_LEMMA</th>\n",
       "      <th>LANG</th>\n",
       "      <th>SYNSET1</th>\n",
       "      <th>SYNSET2</th>\n",
       "      <th>C1</th>\n",
       "      <th>C2</th>\n",
       "      <th>Conc.M.1</th>\n",
       "      <th>Conc.M.2</th>\n",
       "      <th>lang</th>\n",
       "      <th>LANG_PRON</th>\n",
       "      <th>LANG_NAME</th>\n",
       "      <th>COLEX</th>\n",
       "      <th>diff</th>\n",
       "      <th>ConcDist</th>\n",
       "    </tr>\n",
       "  </thead>\n",
       "  <tbody>\n",
       "    <tr>\n",
       "      <th>0</th>\n",
       "      <td>0</td>\n",
       "      <td>tubercule</td>\n",
       "      <td>FR</td>\n",
       "      <td>abscess#n#1</td>\n",
       "      <td>potato#n#1</td>\n",
       "      <td>abscess</td>\n",
       "      <td>potato</td>\n",
       "      <td>4.48</td>\n",
       "      <td>4.85</td>\n",
       "      <td>fr</td>\n",
       "      <td>fra</td>\n",
       "      <td>French</td>\n",
       "      <td>abscess~potato</td>\n",
       "      <td>True</td>\n",
       "      <td>0.37</td>\n",
       "    </tr>\n",
       "    <tr>\n",
       "      <th>1</th>\n",
       "      <td>1</td>\n",
       "      <td>tubercule</td>\n",
       "      <td>FR</td>\n",
       "      <td>abscess#n#1</td>\n",
       "      <td>tumor#n#1</td>\n",
       "      <td>abscess</td>\n",
       "      <td>tumor</td>\n",
       "      <td>4.48</td>\n",
       "      <td>4.56</td>\n",
       "      <td>fr</td>\n",
       "      <td>fra</td>\n",
       "      <td>French</td>\n",
       "      <td>abscess~tumor</td>\n",
       "      <td>True</td>\n",
       "      <td>0.08</td>\n",
       "    </tr>\n",
       "    <tr>\n",
       "      <th>2</th>\n",
       "      <td>2</td>\n",
       "      <td>tubercule</td>\n",
       "      <td>FR</td>\n",
       "      <td>abscess#n#1</td>\n",
       "      <td>nodule#n#2</td>\n",
       "      <td>abscess</td>\n",
       "      <td>nodule</td>\n",
       "      <td>4.48</td>\n",
       "      <td>3.62</td>\n",
       "      <td>fr</td>\n",
       "      <td>fra</td>\n",
       "      <td>French</td>\n",
       "      <td>abscess~nodule</td>\n",
       "      <td>True</td>\n",
       "      <td>0.86</td>\n",
       "    </tr>\n",
       "    <tr>\n",
       "      <th>3</th>\n",
       "      <td>3</td>\n",
       "      <td>tubercule</td>\n",
       "      <td>FR</td>\n",
       "      <td>potato#n#1</td>\n",
       "      <td>tumor#n#1</td>\n",
       "      <td>potato</td>\n",
       "      <td>tumor</td>\n",
       "      <td>4.85</td>\n",
       "      <td>4.56</td>\n",
       "      <td>fr</td>\n",
       "      <td>fra</td>\n",
       "      <td>French</td>\n",
       "      <td>potato~tumor</td>\n",
       "      <td>True</td>\n",
       "      <td>0.29</td>\n",
       "    </tr>\n",
       "    <tr>\n",
       "      <th>4</th>\n",
       "      <td>4</td>\n",
       "      <td>tubercule</td>\n",
       "      <td>FR</td>\n",
       "      <td>nodule#n#2</td>\n",
       "      <td>potato#n#1</td>\n",
       "      <td>nodule</td>\n",
       "      <td>potato</td>\n",
       "      <td>3.62</td>\n",
       "      <td>4.85</td>\n",
       "      <td>fr</td>\n",
       "      <td>fra</td>\n",
       "      <td>French</td>\n",
       "      <td>nodule~potato</td>\n",
       "      <td>True</td>\n",
       "      <td>1.23</td>\n",
       "    </tr>\n",
       "    <tr>\n",
       "      <th>...</th>\n",
       "      <td>...</td>\n",
       "      <td>...</td>\n",
       "      <td>...</td>\n",
       "      <td>...</td>\n",
       "      <td>...</td>\n",
       "      <td>...</td>\n",
       "      <td>...</td>\n",
       "      <td>...</td>\n",
       "      <td>...</td>\n",
       "      <td>...</td>\n",
       "      <td>...</td>\n",
       "      <td>...</td>\n",
       "      <td>...</td>\n",
       "      <td>...</td>\n",
       "      <td>...</td>\n",
       "    </tr>\n",
       "    <tr>\n",
       "      <th>4191744</th>\n",
       "      <td>4275212</td>\n",
       "      <td>ぴくぴく動く</td>\n",
       "      <td>JA</td>\n",
       "      <td>jerk#v#2</td>\n",
       "      <td>twitch#v#1</td>\n",
       "      <td>jerk</td>\n",
       "      <td>twitch</td>\n",
       "      <td>3.26</td>\n",
       "      <td>3.79</td>\n",
       "      <td>ja</td>\n",
       "      <td>jpn</td>\n",
       "      <td>Japanese</td>\n",
       "      <td>jerk~twitch</td>\n",
       "      <td>True</td>\n",
       "      <td>0.53</td>\n",
       "    </tr>\n",
       "    <tr>\n",
       "      <th>4191745</th>\n",
       "      <td>4275213</td>\n",
       "      <td>ヒクつく</td>\n",
       "      <td>JA</td>\n",
       "      <td>jerk#v#2</td>\n",
       "      <td>twitch#v#1</td>\n",
       "      <td>jerk</td>\n",
       "      <td>twitch</td>\n",
       "      <td>3.26</td>\n",
       "      <td>3.79</td>\n",
       "      <td>ja</td>\n",
       "      <td>jpn</td>\n",
       "      <td>Japanese</td>\n",
       "      <td>jerk~twitch</td>\n",
       "      <td>True</td>\n",
       "      <td>0.53</td>\n",
       "    </tr>\n",
       "    <tr>\n",
       "      <th>4191746</th>\n",
       "      <td>4275214</td>\n",
       "      <td>ひくひく+する</td>\n",
       "      <td>JA</td>\n",
       "      <td>jerk#v#2</td>\n",
       "      <td>twitch#v#1</td>\n",
       "      <td>jerk</td>\n",
       "      <td>twitch</td>\n",
       "      <td>3.26</td>\n",
       "      <td>3.79</td>\n",
       "      <td>ja</td>\n",
       "      <td>jpn</td>\n",
       "      <td>Japanese</td>\n",
       "      <td>jerk~twitch</td>\n",
       "      <td>True</td>\n",
       "      <td>0.53</td>\n",
       "    </tr>\n",
       "    <tr>\n",
       "      <th>4191747</th>\n",
       "      <td>4275215</td>\n",
       "      <td>ひくつく</td>\n",
       "      <td>JA</td>\n",
       "      <td>jerk#v#2</td>\n",
       "      <td>twitch#v#1</td>\n",
       "      <td>jerk</td>\n",
       "      <td>twitch</td>\n",
       "      <td>3.26</td>\n",
       "      <td>3.79</td>\n",
       "      <td>ja</td>\n",
       "      <td>jpn</td>\n",
       "      <td>Japanese</td>\n",
       "      <td>jerk~twitch</td>\n",
       "      <td>True</td>\n",
       "      <td>0.53</td>\n",
       "    </tr>\n",
       "    <tr>\n",
       "      <th>4191767</th>\n",
       "      <td>4275236</td>\n",
       "      <td>menyidangkan</td>\n",
       "      <td>ID</td>\n",
       "      <td>judge#v#1</td>\n",
       "      <td>pronounce#v#2</td>\n",
       "      <td>judge</td>\n",
       "      <td>pronounce</td>\n",
       "      <td>3.75</td>\n",
       "      <td>2.63</td>\n",
       "      <td>id</td>\n",
       "      <td>ind</td>\n",
       "      <td>Indonesian</td>\n",
       "      <td>judge~pronounce</td>\n",
       "      <td>True</td>\n",
       "      <td>1.12</td>\n",
       "    </tr>\n",
       "  </tbody>\n",
       "</table>\n",
       "<p>3685220 rows × 15 columns</p>\n",
       "</div>"
      ],
      "text/plain": [
       "         Unnamed: 0   SENSE_LEMMA LANG      SYNSET1        SYNSET2       C1  \\\n",
       "0                 0     tubercule   FR  abscess#n#1     potato#n#1  abscess   \n",
       "1                 1     tubercule   FR  abscess#n#1      tumor#n#1  abscess   \n",
       "2                 2     tubercule   FR  abscess#n#1     nodule#n#2  abscess   \n",
       "3                 3     tubercule   FR   potato#n#1      tumor#n#1   potato   \n",
       "4                 4     tubercule   FR   nodule#n#2     potato#n#1   nodule   \n",
       "...             ...           ...  ...          ...            ...      ...   \n",
       "4191744     4275212        ぴくぴく動く   JA     jerk#v#2     twitch#v#1     jerk   \n",
       "4191745     4275213          ヒクつく   JA     jerk#v#2     twitch#v#1     jerk   \n",
       "4191746     4275214       ひくひく+する   JA     jerk#v#2     twitch#v#1     jerk   \n",
       "4191747     4275215          ひくつく   JA     jerk#v#2     twitch#v#1     jerk   \n",
       "4191767     4275236  menyidangkan   ID    judge#v#1  pronounce#v#2    judge   \n",
       "\n",
       "                C2  Conc.M.1  Conc.M.2 lang LANG_PRON   LANG_NAME  \\\n",
       "0           potato      4.48      4.85   fr       fra      French   \n",
       "1            tumor      4.48      4.56   fr       fra      French   \n",
       "2           nodule      4.48      3.62   fr       fra      French   \n",
       "3            tumor      4.85      4.56   fr       fra      French   \n",
       "4           potato      3.62      4.85   fr       fra      French   \n",
       "...            ...       ...       ...  ...       ...         ...   \n",
       "4191744     twitch      3.26      3.79   ja       jpn    Japanese   \n",
       "4191745     twitch      3.26      3.79   ja       jpn    Japanese   \n",
       "4191746     twitch      3.26      3.79   ja       jpn    Japanese   \n",
       "4191747     twitch      3.26      3.79   ja       jpn    Japanese   \n",
       "4191767  pronounce      3.75      2.63   id       ind  Indonesian   \n",
       "\n",
       "                   COLEX  diff  ConcDist  \n",
       "0         abscess~potato  True      0.37  \n",
       "1          abscess~tumor  True      0.08  \n",
       "2         abscess~nodule  True      0.86  \n",
       "3           potato~tumor  True      0.29  \n",
       "4          nodule~potato  True      1.23  \n",
       "...                  ...   ...       ...  \n",
       "4191744      jerk~twitch  True      0.53  \n",
       "4191745      jerk~twitch  True      0.53  \n",
       "4191746      jerk~twitch  True      0.53  \n",
       "4191747      jerk~twitch  True      0.53  \n",
       "4191767  judge~pronounce  True      1.12  \n",
       "\n",
       "[3685220 rows x 15 columns]"
      ]
     },
     "execution_count": 153,
     "metadata": {},
     "output_type": "execute_result"
    }
   ],
   "source": [
    "df_colex"
   ]
  },
  {
   "cell_type": "code",
   "execution_count": 154,
   "id": "a3206157-055b-46a5-9a2c-29a95016766b",
   "metadata": {
    "tags": []
   },
   "outputs": [],
   "source": [
    "colex_con = dict(zip(df_colex[\"COLEX\"], df_colex[\"ConcDist\"]))"
   ]
  },
  {
   "cell_type": "code",
   "execution_count": 149,
   "id": "26dd0450-79ba-41f6-8e16-ef92f6ad7559",
   "metadata": {
    "tags": []
   },
   "outputs": [],
   "source": [
    "colex_lang_counter = defaultdict(dict)\n",
    "for lang, colex in zip(df_colex[\"LANG_PRON\"], df_colex[\"COLEX\"]):\n",
    "    if colex not in colex_lang_counter:\n",
    "        colex_lang_counter[colex]=defaultdict(int)\n",
    "    \n",
    "    colex_lang_counter[colex][lang]+=1\n",
    "    "
   ]
  },
  {
   "cell_type": "code",
   "execution_count": 159,
   "id": "4e357ca5-8da4-429a-9ae9-fa12a6e4c198",
   "metadata": {
    "tags": []
   },
   "outputs": [],
   "source": [
    "langs_len= len(list(set(df_colex[\"LANG_PRON\"])))"
   ]
  },
  {
   "cell_type": "code",
   "execution_count": 160,
   "id": "43775a9f-a8bb-444e-a0f7-ba8502b4e224",
   "metadata": {
    "tags": []
   },
   "outputs": [
    {
     "data": {
      "text/plain": [
       "210"
      ]
     },
     "execution_count": 160,
     "metadata": {},
     "output_type": "execute_result"
    }
   ],
   "source": [
    "langs_len"
   ]
  },
  {
   "cell_type": "code",
   "execution_count": 180,
   "id": "9f5783b9-f5e1-43a9-812d-2fbb5e6b0bb5",
   "metadata": {
    "scrolled": true,
    "tags": []
   },
   "outputs": [],
   "source": [
    "colex_langs = {k:len(v) for k,v in colex_lang_counter.items()}"
   ]
  },
  {
   "cell_type": "code",
   "execution_count": 181,
   "id": "b128efe8-ac7f-492b-ba52-8e1a77059388",
   "metadata": {
    "tags": []
   },
   "outputs": [
    {
     "data": {
      "application/vnd.jupyter.widget-view+json": {
       "model_id": "80885821b8bd4c9da6195df11439f292",
       "version_major": 2,
       "version_minor": 0
      },
      "text/plain": [
       "VBox(children=(HBox(children=(IntProgress(value=0, description='0.00%', max=82904), Label(value='0 / 82904')))…"
      ]
     },
     "metadata": {},
     "output_type": "display_data"
    }
   ],
   "source": [
    "df_colex_lang= pd.DataFrame.from_dict(colex_langs, orient=\"index\")\n",
    "df_colex_lang.columns = [\"langs\"]\n",
    "df_colex_lang[\"COLEX\"] = df_colex_lang.index\n",
    "df_colex_lang[\"ConcDist\"] = df_colex_lang[\"COLEX\"].parallel_apply(lambda x: colex_con[x])"
   ]
  },
  {
   "cell_type": "code",
   "execution_count": 182,
   "id": "f0c66793-3665-46e4-aaed-5588b556acb2",
   "metadata": {
    "tags": []
   },
   "outputs": [
    {
     "data": {
      "text/html": [
       "<div>\n",
       "<style scoped>\n",
       "    .dataframe tbody tr th:only-of-type {\n",
       "        vertical-align: middle;\n",
       "    }\n",
       "\n",
       "    .dataframe tbody tr th {\n",
       "        vertical-align: top;\n",
       "    }\n",
       "\n",
       "    .dataframe thead th {\n",
       "        text-align: right;\n",
       "    }\n",
       "</style>\n",
       "<table border=\"1\" class=\"dataframe\">\n",
       "  <thead>\n",
       "    <tr style=\"text-align: right;\">\n",
       "      <th></th>\n",
       "      <th>langs</th>\n",
       "      <th>COLEX</th>\n",
       "      <th>ConcDist</th>\n",
       "    </tr>\n",
       "  </thead>\n",
       "  <tbody>\n",
       "    <tr>\n",
       "      <th>abscess~potato</th>\n",
       "      <td>1</td>\n",
       "      <td>abscess~potato</td>\n",
       "      <td>0.37</td>\n",
       "    </tr>\n",
       "    <tr>\n",
       "      <th>abscess~tumor</th>\n",
       "      <td>2</td>\n",
       "      <td>abscess~tumor</td>\n",
       "      <td>0.08</td>\n",
       "    </tr>\n",
       "    <tr>\n",
       "      <th>abscess~nodule</th>\n",
       "      <td>1</td>\n",
       "      <td>abscess~nodule</td>\n",
       "      <td>0.86</td>\n",
       "    </tr>\n",
       "    <tr>\n",
       "      <th>potato~tumor</th>\n",
       "      <td>1</td>\n",
       "      <td>potato~tumor</td>\n",
       "      <td>0.29</td>\n",
       "    </tr>\n",
       "    <tr>\n",
       "      <th>nodule~potato</th>\n",
       "      <td>1</td>\n",
       "      <td>nodule~potato</td>\n",
       "      <td>1.23</td>\n",
       "    </tr>\n",
       "    <tr>\n",
       "      <th>...</th>\n",
       "      <td>...</td>\n",
       "      <td>...</td>\n",
       "      <td>...</td>\n",
       "    </tr>\n",
       "    <tr>\n",
       "      <th>interconnect~weave</th>\n",
       "      <td>1</td>\n",
       "      <td>interconnect~weave</td>\n",
       "      <td>1.39</td>\n",
       "    </tr>\n",
       "    <tr>\n",
       "      <th>intersperse~intervene</th>\n",
       "      <td>2</td>\n",
       "      <td>intersperse~intervene</td>\n",
       "      <td>0.34</td>\n",
       "    </tr>\n",
       "    <tr>\n",
       "      <th>loop~relate</th>\n",
       "      <td>1</td>\n",
       "      <td>loop~relate</td>\n",
       "      <td>2.26</td>\n",
       "    </tr>\n",
       "    <tr>\n",
       "      <th>iron~iron_out</th>\n",
       "      <td>1</td>\n",
       "      <td>iron~iron_out</td>\n",
       "      <td>1.88</td>\n",
       "    </tr>\n",
       "    <tr>\n",
       "      <th>irrigate~water</th>\n",
       "      <td>1</td>\n",
       "      <td>irrigate~water</td>\n",
       "      <td>1.47</td>\n",
       "    </tr>\n",
       "  </tbody>\n",
       "</table>\n",
       "<p>829037 rows × 3 columns</p>\n",
       "</div>"
      ],
      "text/plain": [
       "                       langs                  COLEX  ConcDist\n",
       "abscess~potato             1         abscess~potato      0.37\n",
       "abscess~tumor              2          abscess~tumor      0.08\n",
       "abscess~nodule             1         abscess~nodule      0.86\n",
       "potato~tumor               1           potato~tumor      0.29\n",
       "nodule~potato              1          nodule~potato      1.23\n",
       "...                      ...                    ...       ...\n",
       "interconnect~weave         1     interconnect~weave      1.39\n",
       "intersperse~intervene      2  intersperse~intervene      0.34\n",
       "loop~relate                1            loop~relate      2.26\n",
       "iron~iron_out              1          iron~iron_out      1.88\n",
       "irrigate~water             1         irrigate~water      1.47\n",
       "\n",
       "[829037 rows x 3 columns]"
      ]
     },
     "execution_count": 182,
     "metadata": {},
     "output_type": "execute_result"
    }
   ],
   "source": [
    "df_colex_lang"
   ]
  },
  {
   "cell_type": "code",
   "execution_count": 183,
   "id": "24dcbbfa-35f7-4a05-b7bb-cf85038cfa79",
   "metadata": {
    "tags": []
   },
   "outputs": [
    {
     "data": {
      "text/plain": [
       "<Axes: xlabel='ConcDist', ylabel='Count'>"
      ]
     },
     "execution_count": 183,
     "metadata": {},
     "output_type": "execute_result"
    },
    {
     "data": {
      "image/png": "[encoded data removed]",
      "text/plain": [
       "<Figure size 640x480 with 1 Axes>"
      ]
     },
     "metadata": {},
     "output_type": "display_data"
    }
   ],
   "source": [
    "sns.histplot(data= df_colex, x=\"ConcDist\")"
   ]
  },
  {
   "cell_type": "code",
   "execution_count": 187,
   "id": "c68535a1-ece6-465e-a2de-499b75bfac56",
   "metadata": {
    "tags": []
   },
   "outputs": [
    {
     "data": {
      "text/plain": [
       "<Axes: xlabel='ConcDist', ylabel='Count'>"
      ]
     },
     "execution_count": 187,
     "metadata": {},
     "output_type": "execute_result"
    },
    {
     "data": {
      "image/png": "[encoded data removed]",
      "text/plain": [
       "<Figure size 640x480 with 1 Axes>"
      ]
     },
     "metadata": {},
     "output_type": "display_data"
    }
   ],
   "source": [
    "sns.histplot(data= df_colex_lang, x=\"ConcDist\")"
   ]
  },
  {
   "cell_type": "code",
   "execution_count": 171,
   "id": "5a4a5c3e-a279-45bc-adfe-f58134d31afc",
   "metadata": {
    "tags": []
   },
   "outputs": [
    {
     "data": {
      "text/html": [
       "<div>\n",
       "<style scoped>\n",
       "    .dataframe tbody tr th:only-of-type {\n",
       "        vertical-align: middle;\n",
       "    }\n",
       "\n",
       "    .dataframe tbody tr th {\n",
       "        vertical-align: top;\n",
       "    }\n",
       "\n",
       "    .dataframe thead th {\n",
       "        text-align: right;\n",
       "    }\n",
       "</style>\n",
       "<table border=\"1\" class=\"dataframe\">\n",
       "  <thead>\n",
       "    <tr style=\"text-align: right;\">\n",
       "      <th></th>\n",
       "      <th>Unnamed: 0</th>\n",
       "      <th>SENSE_LEMMA</th>\n",
       "      <th>LANG</th>\n",
       "      <th>SYNSET1</th>\n",
       "      <th>SYNSET2</th>\n",
       "      <th>C1</th>\n",
       "      <th>C2</th>\n",
       "      <th>Conc.M.1</th>\n",
       "      <th>Conc.M.2</th>\n",
       "      <th>lang</th>\n",
       "      <th>LANG_PRON</th>\n",
       "      <th>LANG_NAME</th>\n",
       "      <th>COLEX</th>\n",
       "      <th>diff</th>\n",
       "      <th>ConcDist</th>\n",
       "    </tr>\n",
       "  </thead>\n",
       "  <tbody>\n",
       "    <tr>\n",
       "      <th>67</th>\n",
       "      <td>67</td>\n",
       "      <td>sponc</td>\n",
       "      <td>GA</td>\n",
       "      <td>courage#n#1</td>\n",
       "      <td>semen#n#1</td>\n",
       "      <td>courage</td>\n",
       "      <td>semen</td>\n",
       "      <td>1.52</td>\n",
       "      <td>4.79</td>\n",
       "      <td>ga</td>\n",
       "      <td>gle</td>\n",
       "      <td>Irish</td>\n",
       "      <td>courage~semen</td>\n",
       "      <td>True</td>\n",
       "      <td>3.27</td>\n",
       "    </tr>\n",
       "    <tr>\n",
       "      <th>154</th>\n",
       "      <td>157</td>\n",
       "      <td>turutan</td>\n",
       "      <td>MS</td>\n",
       "      <td>string#n#4</td>\n",
       "      <td>succession#n#3</td>\n",
       "      <td>string</td>\n",
       "      <td>succession</td>\n",
       "      <td>4.76</td>\n",
       "      <td>1.73</td>\n",
       "      <td>ms</td>\n",
       "      <td>msa</td>\n",
       "      <td>Malay (macrolanguage)</td>\n",
       "      <td>string~succession</td>\n",
       "      <td>True</td>\n",
       "      <td>3.03</td>\n",
       "    </tr>\n",
       "    <tr>\n",
       "      <th>161</th>\n",
       "      <td>164</td>\n",
       "      <td>turutan</td>\n",
       "      <td>MS</td>\n",
       "      <td>string#n#4</td>\n",
       "      <td>succession#n#2</td>\n",
       "      <td>string</td>\n",
       "      <td>succession</td>\n",
       "      <td>4.76</td>\n",
       "      <td>1.73</td>\n",
       "      <td>ms</td>\n",
       "      <td>msa</td>\n",
       "      <td>Malay (macrolanguage)</td>\n",
       "      <td>string~succession</td>\n",
       "      <td>True</td>\n",
       "      <td>3.03</td>\n",
       "    </tr>\n",
       "    <tr>\n",
       "      <th>493</th>\n",
       "      <td>530</td>\n",
       "      <td>الكرمة</td>\n",
       "      <td>AR</td>\n",
       "      <td>grape#n#2</td>\n",
       "      <td>karma#n#1</td>\n",
       "      <td>grape</td>\n",
       "      <td>karma</td>\n",
       "      <td>5.00</td>\n",
       "      <td>1.93</td>\n",
       "      <td>ar</td>\n",
       "      <td>ara</td>\n",
       "      <td>Arabic</td>\n",
       "      <td>grape~karma</td>\n",
       "      <td>True</td>\n",
       "      <td>3.07</td>\n",
       "    </tr>\n",
       "    <tr>\n",
       "      <th>5486</th>\n",
       "      <td>5551</td>\n",
       "      <td>point</td>\n",
       "      <td>FR</td>\n",
       "      <td>moment#n#2</td>\n",
       "      <td>sign#n#1</td>\n",
       "      <td>moment</td>\n",
       "      <td>sign</td>\n",
       "      <td>1.61</td>\n",
       "      <td>4.62</td>\n",
       "      <td>fr</td>\n",
       "      <td>fra</td>\n",
       "      <td>French</td>\n",
       "      <td>moment~sign</td>\n",
       "      <td>True</td>\n",
       "      <td>3.01</td>\n",
       "    </tr>\n",
       "    <tr>\n",
       "      <th>...</th>\n",
       "      <td>...</td>\n",
       "      <td>...</td>\n",
       "      <td>...</td>\n",
       "      <td>...</td>\n",
       "      <td>...</td>\n",
       "      <td>...</td>\n",
       "      <td>...</td>\n",
       "      <td>...</td>\n",
       "      <td>...</td>\n",
       "      <td>...</td>\n",
       "      <td>...</td>\n",
       "      <td>...</td>\n",
       "      <td>...</td>\n",
       "      <td>...</td>\n",
       "      <td>...</td>\n",
       "    </tr>\n",
       "    <tr>\n",
       "      <th>4185671</th>\n",
       "      <td>4268770</td>\n",
       "      <td>vzgajati</td>\n",
       "      <td>SL</td>\n",
       "      <td>enlighten#v#1</td>\n",
       "      <td>train#v#1</td>\n",
       "      <td>enlighten</td>\n",
       "      <td>train</td>\n",
       "      <td>1.48</td>\n",
       "      <td>4.79</td>\n",
       "      <td>sl</td>\n",
       "      <td>slv</td>\n",
       "      <td>Slovenian</td>\n",
       "      <td>enlighten~train</td>\n",
       "      <td>True</td>\n",
       "      <td>3.31</td>\n",
       "    </tr>\n",
       "    <tr>\n",
       "      <th>4186122</th>\n",
       "      <td>4269243</td>\n",
       "      <td>ปลูกฝัง</td>\n",
       "      <td>TH</td>\n",
       "      <td>instill#v#1</td>\n",
       "      <td>plant#v#6</td>\n",
       "      <td>instill</td>\n",
       "      <td>plant</td>\n",
       "      <td>1.59</td>\n",
       "      <td>4.76</td>\n",
       "      <td>th</td>\n",
       "      <td>tha</td>\n",
       "      <td>Thai</td>\n",
       "      <td>instill~plant</td>\n",
       "      <td>True</td>\n",
       "      <td>3.17</td>\n",
       "    </tr>\n",
       "    <tr>\n",
       "      <th>4187630</th>\n",
       "      <td>4270834</td>\n",
       "      <td>faire_ribote</td>\n",
       "      <td>FR</td>\n",
       "      <td>revel#v#2</td>\n",
       "      <td>toast#v#2</td>\n",
       "      <td>revel</td>\n",
       "      <td>toast</td>\n",
       "      <td>1.69</td>\n",
       "      <td>4.93</td>\n",
       "      <td>fr</td>\n",
       "      <td>fra</td>\n",
       "      <td>French</td>\n",
       "      <td>revel~toast</td>\n",
       "      <td>True</td>\n",
       "      <td>3.24</td>\n",
       "    </tr>\n",
       "    <tr>\n",
       "      <th>4188761</th>\n",
       "      <td>4272022</td>\n",
       "      <td>ukan</td>\n",
       "      <td>EU</td>\n",
       "      <td>experience#v#3</td>\n",
       "      <td>house#v#1</td>\n",
       "      <td>experience</td>\n",
       "      <td>house</td>\n",
       "      <td>1.80</td>\n",
       "      <td>5.00</td>\n",
       "      <td>eu</td>\n",
       "      <td>eus</td>\n",
       "      <td>Basque</td>\n",
       "      <td>experience~house</td>\n",
       "      <td>True</td>\n",
       "      <td>3.20</td>\n",
       "    </tr>\n",
       "    <tr>\n",
       "      <th>4188768</th>\n",
       "      <td>4272029</td>\n",
       "      <td>ukan</td>\n",
       "      <td>EU</td>\n",
       "      <td>house#v#1</td>\n",
       "      <td>own#v#1</td>\n",
       "      <td>house</td>\n",
       "      <td>own</td>\n",
       "      <td>5.00</td>\n",
       "      <td>1.96</td>\n",
       "      <td>eu</td>\n",
       "      <td>eus</td>\n",
       "      <td>Basque</td>\n",
       "      <td>house~own</td>\n",
       "      <td>True</td>\n",
       "      <td>3.04</td>\n",
       "    </tr>\n",
       "  </tbody>\n",
       "</table>\n",
       "<p>9619 rows × 15 columns</p>\n",
       "</div>"
      ],
      "text/plain": [
       "         Unnamed: 0   SENSE_LEMMA LANG         SYNSET1         SYNSET2  \\\n",
       "67               67         sponc   GA     courage#n#1       semen#n#1   \n",
       "154             157       turutan   MS      string#n#4  succession#n#3   \n",
       "161             164       turutan   MS      string#n#4  succession#n#2   \n",
       "493             530        الكرمة   AR       grape#n#2       karma#n#1   \n",
       "5486           5551         point   FR      moment#n#2        sign#n#1   \n",
       "...             ...           ...  ...             ...             ...   \n",
       "4185671     4268770      vzgajati   SL   enlighten#v#1       train#v#1   \n",
       "4186122     4269243       ปลูกฝัง   TH     instill#v#1       plant#v#6   \n",
       "4187630     4270834  faire_ribote   FR       revel#v#2       toast#v#2   \n",
       "4188761     4272022          ukan   EU  experience#v#3       house#v#1   \n",
       "4188768     4272029          ukan   EU       house#v#1         own#v#1   \n",
       "\n",
       "                 C1          C2  Conc.M.1  Conc.M.2 lang LANG_PRON  \\\n",
       "67          courage       semen      1.52      4.79   ga       gle   \n",
       "154          string  succession      4.76      1.73   ms       msa   \n",
       "161          string  succession      4.76      1.73   ms       msa   \n",
       "493           grape       karma      5.00      1.93   ar       ara   \n",
       "5486         moment        sign      1.61      4.62   fr       fra   \n",
       "...             ...         ...       ...       ...  ...       ...   \n",
       "4185671   enlighten       train      1.48      4.79   sl       slv   \n",
       "4186122     instill       plant      1.59      4.76   th       tha   \n",
       "4187630       revel       toast      1.69      4.93   fr       fra   \n",
       "4188761  experience       house      1.80      5.00   eu       eus   \n",
       "4188768       house         own      5.00      1.96   eu       eus   \n",
       "\n",
       "                     LANG_NAME              COLEX  diff  ConcDist  \n",
       "67                       Irish      courage~semen  True      3.27  \n",
       "154      Malay (macrolanguage)  string~succession  True      3.03  \n",
       "161      Malay (macrolanguage)  string~succession  True      3.03  \n",
       "493                     Arabic        grape~karma  True      3.07  \n",
       "5486                    French        moment~sign  True      3.01  \n",
       "...                        ...                ...   ...       ...  \n",
       "4185671              Slovenian    enlighten~train  True      3.31  \n",
       "4186122                   Thai      instill~plant  True      3.17  \n",
       "4187630                 French        revel~toast  True      3.24  \n",
       "4188761                 Basque   experience~house  True      3.20  \n",
       "4188768                 Basque          house~own  True      3.04  \n",
       "\n",
       "[9619 rows x 15 columns]"
      ]
     },
     "execution_count": 171,
     "metadata": {},
     "output_type": "execute_result"
    }
   ],
   "source": [
    "df_colex[df_colex[\"ConcDist\"]>3]"
   ]
  },
  {
   "cell_type": "code",
   "execution_count": null,
   "id": "5b217bb5-640c-4669-b0e2-9cade88121c2",
   "metadata": {},
   "outputs": [],
   "source": []
  },
  {
   "cell_type": "code",
   "execution_count": null,
   "id": "c5f28443-03a6-4a9a-8bd6-bb40f5742d0b",
   "metadata": {},
   "outputs": [],
   "source": []
  }
 ],
 "metadata": {
  "kernelspec": {
   "display_name": "colexphon",
   "language": "python",
   "name": "colexphon"
  },
  "language_info": {
   "codemirror_mode": {
    "name": "ipython",
    "version": 3
   },
   "file_extension": ".py",
   "mimetype": "text/x-python",
   "name": "python",
   "nbconvert_exporter": "python",
   "pygments_lexer": "ipython3",
   "version": "3.10.0"
  }
 },
 "nbformat": 4,
 "nbformat_minor": 5
}
