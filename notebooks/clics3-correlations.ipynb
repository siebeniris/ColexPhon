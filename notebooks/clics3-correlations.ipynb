{
 "cells": [
  {
   "cell_type": "code",
   "execution_count": 4,
   "id": "c0b77da1-1a0a-4160-a434-df68a8d2f239",
   "metadata": {
    "tags": []
   },
   "outputs": [],
   "source": [
    "import pandas as pd\n",
    "import numpy as np\n",
    "import json"
   ]
  },
  {
   "cell_type": "code",
   "execution_count": 3,
   "id": "391843f1-04f5-49d5-987c-53c7c63edba6",
   "metadata": {
    "tags": []
   },
   "outputs": [],
   "source": [
    "from IPython.display import display\n",
    "pd.options.display.max_columns = None"
   ]
  },
  {
   "cell_type": "code",
   "execution_count": 75,
   "id": "3ceaca88-15e6-4d2c-a98e-6912618aab2c",
   "metadata": {
    "tags": []
   },
   "outputs": [],
   "source": [
    "df_clics= pd.read_csv(\"../data/colex/colex_clics3.csv\")"
   ]
  },
  {
   "cell_type": "markdown",
   "id": "1e2e14a1-8587-4200-809e-0a63fcf0ff88",
   "metadata": {},
   "source": [
    "## language information from Glottolog"
   ]
  },
  {
   "cell_type": "code",
   "execution_count": 150,
   "id": "0415e97e-156f-48d8-bf8f-3be705c935ce",
   "metadata": {
    "tags": []
   },
   "outputs": [],
   "source": [
    "file = \"../data/languages/clics_languages_glotto.csv\"\n",
    "df = pd.read_csv(file)"
   ]
  },
  {
   "cell_type": "code",
   "execution_count": 158,
   "id": "f4efe416-addc-4a81-9d7c-7e59bf790793",
   "metadata": {
    "tags": []
   },
   "outputs": [
    {
     "data": {
      "text/html": [
       "<div>\n",
       "<style scoped>\n",
       "    .dataframe tbody tr th:only-of-type {\n",
       "        vertical-align: middle;\n",
       "    }\n",
       "\n",
       "    .dataframe tbody tr th {\n",
       "        vertical-align: top;\n",
       "    }\n",
       "\n",
       "    .dataframe thead th {\n",
       "        text-align: right;\n",
       "    }\n",
       "</style>\n",
       "<table border=\"1\" class=\"dataframe\">\n",
       "  <thead>\n",
       "    <tr style=\"text-align: right;\">\n",
       "      <th></th>\n",
       "      <th>Glottocode</th>\n",
       "      <th>Name</th>\n",
       "      <th>Top-level family</th>\n",
       "      <th>Macroarea</th>\n",
       "      <th>Latitude</th>\n",
       "      <th>Longitude</th>\n",
       "      <th>Endangerment</th>\n",
       "    </tr>\n",
       "  </thead>\n",
       "  <tbody>\n",
       "  </tbody>\n",
       "</table>\n",
       "</div>"
      ],
      "text/plain": [
       "Empty DataFrame\n",
       "Columns: [Glottocode, Name, Top-level family, Macroarea, Latitude, Longitude, Endangerment]\n",
       "Index: []"
      ]
     },
     "execution_count": 158,
     "metadata": {},
     "output_type": "execute_result"
    }
   ],
   "source": [
    "df[df[\"Name\"].str.contains(\"Artificial\", na=False)]"
   ]
  },
  {
   "cell_type": "code",
   "execution_count": 159,
   "id": "30dc0b8c-ceaf-48a0-b6ae-c6b486ff95b9",
   "metadata": {
    "tags": []
   },
   "outputs": [
    {
     "data": {
      "text/html": [
       "<div>\n",
       "<style scoped>\n",
       "    .dataframe tbody tr th:only-of-type {\n",
       "        vertical-align: middle;\n",
       "    }\n",
       "\n",
       "    .dataframe tbody tr th {\n",
       "        vertical-align: top;\n",
       "    }\n",
       "\n",
       "    .dataframe thead th {\n",
       "        text-align: right;\n",
       "    }\n",
       "</style>\n",
       "<table border=\"1\" class=\"dataframe\">\n",
       "  <thead>\n",
       "    <tr style=\"text-align: right;\">\n",
       "      <th></th>\n",
       "      <th>Glottocode</th>\n",
       "      <th>Name</th>\n",
       "      <th>Top-level family</th>\n",
       "      <th>Macroarea</th>\n",
       "      <th>Latitude</th>\n",
       "      <th>Longitude</th>\n",
       "      <th>Endangerment</th>\n",
       "    </tr>\n",
       "  </thead>\n",
       "  <tbody>\n",
       "    <tr>\n",
       "      <th>1301</th>\n",
       "      <td>sese1246</td>\n",
       "      <td>Seselwa Creole French</td>\n",
       "      <td>Indo-European</td>\n",
       "      <td>Africa</td>\n",
       "      <td>-4.62314</td>\n",
       "      <td>55.4503</td>\n",
       "      <td>AES(ordinal=1, id='safe', name='not endangered...</td>\n",
       "    </tr>\n",
       "    <tr>\n",
       "      <th>1331</th>\n",
       "      <td>jama1262</td>\n",
       "      <td>Jamaican Creole English</td>\n",
       "      <td>Indo-European</td>\n",
       "      <td>North America</td>\n",
       "      <td>18.13000</td>\n",
       "      <td>-77.2612</td>\n",
       "      <td>AES(ordinal=3, id='definite', name='shifting',...</td>\n",
       "    </tr>\n",
       "  </tbody>\n",
       "</table>\n",
       "</div>"
      ],
      "text/plain": [
       "     Glottocode                     Name Top-level family      Macroarea  \\\n",
       "1301   sese1246    Seselwa Creole French    Indo-European         Africa   \n",
       "1331   jama1262  Jamaican Creole English    Indo-European  North America   \n",
       "\n",
       "      Latitude  Longitude                                       Endangerment  \n",
       "1301  -4.62314    55.4503  AES(ordinal=1, id='safe', name='not endangered...  \n",
       "1331  18.13000   -77.2612  AES(ordinal=3, id='definite', name='shifting',...  "
      ]
     },
     "execution_count": 159,
     "metadata": {},
     "output_type": "execute_result"
    }
   ],
   "source": [
    "df[df[\"Name\"].str.contains(\"Creole\", na=False)]"
   ]
  },
  {
   "cell_type": "code",
   "execution_count": 160,
   "id": "1ebc7ea2-92b2-44b8-a95f-be4eb4efcd36",
   "metadata": {
    "tags": []
   },
   "outputs": [
    {
     "data": {
      "text/html": [
       "<div>\n",
       "<style scoped>\n",
       "    .dataframe tbody tr th:only-of-type {\n",
       "        vertical-align: middle;\n",
       "    }\n",
       "\n",
       "    .dataframe tbody tr th {\n",
       "        vertical-align: top;\n",
       "    }\n",
       "\n",
       "    .dataframe thead th {\n",
       "        text-align: right;\n",
       "    }\n",
       "</style>\n",
       "<table border=\"1\" class=\"dataframe\">\n",
       "  <thead>\n",
       "    <tr style=\"text-align: right;\">\n",
       "      <th></th>\n",
       "      <th>Glottocode</th>\n",
       "      <th>Name</th>\n",
       "      <th>Top-level family</th>\n",
       "      <th>Macroarea</th>\n",
       "      <th>Latitude</th>\n",
       "      <th>Longitude</th>\n",
       "      <th>Endangerment</th>\n",
       "    </tr>\n",
       "  </thead>\n",
       "  <tbody>\n",
       "  </tbody>\n",
       "</table>\n",
       "</div>"
      ],
      "text/plain": [
       "Empty DataFrame\n",
       "Columns: [Glottocode, Name, Top-level family, Macroarea, Latitude, Longitude, Endangerment]\n",
       "Index: []"
      ]
     },
     "execution_count": 160,
     "metadata": {},
     "output_type": "execute_result"
    }
   ],
   "source": [
    "df[df[\"Name\"].str.contains(\"Pidgin\", na=False)]"
   ]
  },
  {
   "cell_type": "code",
   "execution_count": 163,
   "id": "078c383f-7e43-4ec6-ba6c-61dbff1801fb",
   "metadata": {
    "tags": []
   },
   "outputs": [
    {
     "data": {
      "text/html": [
       "<div>\n",
       "<style scoped>\n",
       "    .dataframe tbody tr th:only-of-type {\n",
       "        vertical-align: middle;\n",
       "    }\n",
       "\n",
       "    .dataframe tbody tr th {\n",
       "        vertical-align: top;\n",
       "    }\n",
       "\n",
       "    .dataframe thead th {\n",
       "        text-align: right;\n",
       "    }\n",
       "</style>\n",
       "<table border=\"1\" class=\"dataframe\">\n",
       "  <thead>\n",
       "    <tr style=\"text-align: right;\">\n",
       "      <th></th>\n",
       "      <th>Glottocode</th>\n",
       "      <th>Name</th>\n",
       "      <th>Top-level family</th>\n",
       "      <th>Macroarea</th>\n",
       "      <th>Latitude</th>\n",
       "      <th>Longitude</th>\n",
       "      <th>Endangerment</th>\n",
       "    </tr>\n",
       "  </thead>\n",
       "  <tbody>\n",
       "    <tr>\n",
       "      <th>1981</th>\n",
       "      <td>leng1262</td>\n",
       "      <td>Lengua</td>\n",
       "      <td>Lengua-Mascoy</td>\n",
       "      <td>South America</td>\n",
       "      <td>-22.6559</td>\n",
       "      <td>-58.9053</td>\n",
       "      <td>AES(ordinal=3, id='definite', name='shifting',...</td>\n",
       "    </tr>\n",
       "  </tbody>\n",
       "</table>\n",
       "</div>"
      ],
      "text/plain": [
       "     Glottocode    Name Top-level family      Macroarea  Latitude  Longitude  \\\n",
       "1981   leng1262  Lengua    Lengua-Mascoy  South America  -22.6559   -58.9053   \n",
       "\n",
       "                                           Endangerment  \n",
       "1981  AES(ordinal=3, id='definite', name='shifting',...  "
      ]
     },
     "execution_count": 163,
     "metadata": {},
     "output_type": "execute_result"
    }
   ],
   "source": [
    "df[df[\"Name\"]==\"Lengua\"]"
   ]
  },
  {
   "cell_type": "code",
   "execution_count": 151,
   "id": "74e1d034-432c-44de-a5b3-142b6d6efe1d",
   "metadata": {
    "tags": []
   },
   "outputs": [],
   "source": [
    "# df_america= df[df[\"macroarea\"].str.contains(\"America\", na=False)]"
   ]
  },
  {
   "cell_type": "code",
   "execution_count": 152,
   "id": "83431d27-47d6-4e91-b22a-e36a7f4fc327",
   "metadata": {
    "tags": []
   },
   "outputs": [],
   "source": [
    "# lang2lat=dict()\n",
    "# lang2long=dict()\n",
    "# for iso, lat, long in zip(df[\"glottocode\"], df[\"latitude\"], df[\"longitude\"]):\n",
    "#     lang2lat[iso]=lat\n",
    "#     lang2long[iso]=long"
   ]
  },
  {
   "cell_type": "code",
   "execution_count": 153,
   "id": "22e0067b-22ee-4223-9bd7-6e1894f7f6b3",
   "metadata": {
    "tags": []
   },
   "outputs": [],
   "source": [
    "# len(lang2lat)"
   ]
  },
  {
   "cell_type": "code",
   "execution_count": 12,
   "id": "ad80ff85-b4cd-4590-a187-50d0fa4e8a7f",
   "metadata": {
    "tags": []
   },
   "outputs": [],
   "source": [
    "# df_clics[df_clics[\"Glottocode_wals\"].isin(lang2lat)].to_csv(\"../americas/colex.csv\", index=False)\n"
   ]
  },
  {
   "cell_type": "code",
   "execution_count": 154,
   "id": "f6d425ed-6ee1-4a93-ba83-60244e5571d8",
   "metadata": {
    "tags": []
   },
   "outputs": [
    {
     "data": {
      "text/plain": [
       "'/Users/yiyichen/Documents/experiments/ColexPhon/notebooks'"
      ]
     },
     "execution_count": 154,
     "metadata": {},
     "output_type": "execute_result"
    }
   ],
   "source": [
    "import os\n",
    "os.getcwd()"
   ]
  },
  {
   "cell_type": "code",
   "execution_count": 17,
   "id": "b6d63a86-3aa1-4381-b9ac-db4296c14955",
   "metadata": {
    "tags": []
   },
   "outputs": [],
   "source": [
    "# df_colex= pd.read_csv(\"../americas/colex_clics.csv\")"
   ]
  },
  {
   "cell_type": "markdown",
   "id": "371f3921-499b-4d3e-888c-06237b3b12ee",
   "metadata": {},
   "source": [
    "## concepticon concepts to map to concreteness list"
   ]
  },
  {
   "cell_type": "code",
   "execution_count": 82,
   "id": "8133e39e-b5a9-4dab-957f-c9980b00c949",
   "metadata": {
    "tags": []
   },
   "outputs": [],
   "source": [
    "with open(\"../data/wordlists/conceptset.json\") as f:\n",
    "    concepts= json.load(f)"
   ]
  },
  {
   "cell_type": "code",
   "execution_count": 85,
   "id": "e802a558-8489-48d7-9ab6-16732544a38c",
   "metadata": {
    "scrolled": true,
    "tags": []
   },
   "outputs": [
    {
     "data": {
      "text/plain": [
       "3967"
      ]
     },
     "execution_count": 85,
     "metadata": {},
     "output_type": "execute_result"
    }
   ],
   "source": [
    "len(concepts[\"conceptset_labels\"])"
   ]
  },
  {
   "cell_type": "markdown",
   "id": "d032c049-ef2e-418b-9f82-73b6d0badfa5",
   "metadata": {},
   "source": [
    "### concreteness rating list"
   ]
  },
  {
   "cell_type": "code",
   "execution_count": 86,
   "id": "fb53a0c7-632c-4466-88af-a06f42c47266",
   "metadata": {
    "tags": []
   },
   "outputs": [],
   "source": [
    "df_conc = pd.read_csv(\"../data/wordlists/concreteness_ratings.csv\")"
   ]
  },
  {
   "cell_type": "code",
   "execution_count": 87,
   "id": "656f6fad-e24b-4d44-82f8-f5aacac34bf4",
   "metadata": {
    "tags": []
   },
   "outputs": [
    {
     "data": {
      "text/html": [
       "<div>\n",
       "<style scoped>\n",
       "    .dataframe tbody tr th:only-of-type {\n",
       "        vertical-align: middle;\n",
       "    }\n",
       "\n",
       "    .dataframe tbody tr th {\n",
       "        vertical-align: top;\n",
       "    }\n",
       "\n",
       "    .dataframe thead th {\n",
       "        text-align: right;\n",
       "    }\n",
       "</style>\n",
       "<table border=\"1\" class=\"dataframe\">\n",
       "  <thead>\n",
       "    <tr style=\"text-align: right;\">\n",
       "      <th></th>\n",
       "      <th>Word</th>\n",
       "      <th>Bigram</th>\n",
       "      <th>Conc.M</th>\n",
       "      <th>Conc.SD</th>\n",
       "      <th>Unknown</th>\n",
       "      <th>Total</th>\n",
       "      <th>Percent_known</th>\n",
       "      <th>SUBTLEX</th>\n",
       "    </tr>\n",
       "  </thead>\n",
       "  <tbody>\n",
       "    <tr>\n",
       "      <th>0</th>\n",
       "      <td>a</td>\n",
       "      <td>0</td>\n",
       "      <td>1.46</td>\n",
       "      <td>1.14</td>\n",
       "      <td>2</td>\n",
       "      <td>30</td>\n",
       "      <td>0.93</td>\n",
       "      <td>1041179</td>\n",
       "    </tr>\n",
       "    <tr>\n",
       "      <th>1</th>\n",
       "      <td>aardvark</td>\n",
       "      <td>0</td>\n",
       "      <td>4.68</td>\n",
       "      <td>0.86</td>\n",
       "      <td>0</td>\n",
       "      <td>28</td>\n",
       "      <td>1.00</td>\n",
       "      <td>21</td>\n",
       "    </tr>\n",
       "    <tr>\n",
       "      <th>2</th>\n",
       "      <td>aback</td>\n",
       "      <td>0</td>\n",
       "      <td>1.65</td>\n",
       "      <td>1.07</td>\n",
       "      <td>4</td>\n",
       "      <td>27</td>\n",
       "      <td>0.85</td>\n",
       "      <td>15</td>\n",
       "    </tr>\n",
       "    <tr>\n",
       "      <th>3</th>\n",
       "      <td>abacus</td>\n",
       "      <td>0</td>\n",
       "      <td>4.52</td>\n",
       "      <td>1.12</td>\n",
       "      <td>2</td>\n",
       "      <td>29</td>\n",
       "      <td>0.93</td>\n",
       "      <td>12</td>\n",
       "    </tr>\n",
       "    <tr>\n",
       "      <th>4</th>\n",
       "      <td>abandon</td>\n",
       "      <td>0</td>\n",
       "      <td>2.54</td>\n",
       "      <td>1.45</td>\n",
       "      <td>1</td>\n",
       "      <td>27</td>\n",
       "      <td>0.96</td>\n",
       "      <td>413</td>\n",
       "    </tr>\n",
       "  </tbody>\n",
       "</table>\n",
       "</div>"
      ],
      "text/plain": [
       "       Word  Bigram  Conc.M  Conc.SD  Unknown  Total  Percent_known  SUBTLEX\n",
       "0         a       0    1.46     1.14        2     30           0.93  1041179\n",
       "1  aardvark       0    4.68     0.86        0     28           1.00       21\n",
       "2     aback       0    1.65     1.07        4     27           0.85       15\n",
       "3    abacus       0    4.52     1.12        2     29           0.93       12\n",
       "4   abandon       0    2.54     1.45        1     27           0.96      413"
      ]
     },
     "execution_count": 87,
     "metadata": {},
     "output_type": "execute_result"
    }
   ],
   "source": [
    "df_conc.head()"
   ]
  },
  {
   "cell_type": "code",
   "execution_count": 88,
   "id": "23b289bd-80b6-47f3-a3a3-7f60990bc4c4",
   "metadata": {
    "tags": []
   },
   "outputs": [],
   "source": [
    "conc_dict=dict(zip(df_conc[\"Word\"].str.lower(), df_conc[\"Conc.M\"]))\n",
    "conc_sd_dict = dict(zip(df_conc[\"Word\"].str.lower(), df_conc[\"Conc.SD\"]))"
   ]
  },
  {
   "cell_type": "code",
   "execution_count": 89,
   "id": "801b5bd9-9058-4f80-8b47-709dce6ce101",
   "metadata": {
    "tags": []
   },
   "outputs": [],
   "source": [
    "id2concept = dict()\n",
    "for concept , idx_ in concepts[\"conceptset_labels\"].items():\n",
    "    idx, _ = idx_\n",
    "    id2concept[int(idx)]= concept.lower()"
   ]
  },
  {
   "cell_type": "code",
   "execution_count": 90,
   "id": "bc619869-628e-4542-a5bd-1bd68f59407e",
   "metadata": {
    "tags": []
   },
   "outputs": [],
   "source": [
    "df_clics[\"Concept_x\"]= df_clics[\"Concepticon_ID_x\"].apply(lambda x: id2concept[x])\n",
    "df_clics[\"Concept_y\"]= df_clics[\"Concepticon_ID_y\"].apply(lambda x: id2concept[x])"
   ]
  },
  {
   "cell_type": "code",
   "execution_count": 91,
   "id": "27f354c3-620b-4f95-a91d-92dcda8a2a65",
   "metadata": {
    "scrolled": true,
    "tags": []
   },
   "outputs": [
    {
     "data": {
      "text/plain": [
       "Index(['Form_ID_x', 'Form_ID_y', 'Concepticon_ID_x', 'Concepticon_ID_y',\n",
       "       'Colex_ID', 'Language_ID', 'Parameter_ID', 'Value', 'Form',\n",
       "       'Language_Name', 'Glottocode_clics', 'Glottolog_Name', 'ISO639P3code',\n",
       "       'Macroarea', 'Family', 'Wals_ID', 'Wals_Name', 'Latitude', 'Longitude',\n",
       "       'Glottocode_wals', 'Subfamily', 'Genus', 'Concept_x', 'Concept_y'],\n",
       "      dtype='object')"
      ]
     },
     "execution_count": 91,
     "metadata": {},
     "output_type": "execute_result"
    }
   ],
   "source": [
    "df_clics.columns"
   ]
  },
  {
   "cell_type": "code",
   "execution_count": 92,
   "id": "35074d99-217b-4051-ae7e-46adcccc1419",
   "metadata": {
    "tags": []
   },
   "outputs": [],
   "source": [
    "def get_clean_concept(x):\n",
    "    if \"(\" in x:\n",
    "        pattern= \"\\(\\w*?\\)\"\n",
    "        \n",
    "        m = re.findall(pattern, x)\n",
    "        if m:\n",
    "            x= x.replace(m[0], \"\").replace(\" \", \"\").lower()\n",
    "            return x\n",
    "        else:\n",
    "            return x\n",
    "    else:\n",
    "        return x"
   ]
  },
  {
   "cell_type": "code",
   "execution_count": 109,
   "id": "1a1ebcda-0b54-4a8e-98a7-5ae6ab5b8455",
   "metadata": {
    "tags": []
   },
   "outputs": [],
   "source": [
    "def get_conc(x):\n",
    "    x = get_clean_concept(x)\n",
    "    # deal with or\n",
    "    if \" or \" in x:\n",
    "        xs = x.split(\" or \")\n",
    "        concs =[]\n",
    "        stds = []\n",
    "        for x_ in xs:\n",
    "            if x_ in conc_dict:\n",
    "                concs.append(conc_dict[x_])\n",
    "                stds.append(conc_sd_dict[x_])\n",
    "        conc_m = np.mean(concs)\n",
    "        conc_std = np.mean(stds)\n",
    "        return pd.Series([conc_m, conc_std])\n",
    "    else:\n",
    "        if x in conc_dict:\n",
    "            return pd.Series([conc_dict[x], conc_sd_dict[x]])\n",
    "        else:\n",
    "            return pd.Series([np.NaN, np.NaN])"
   ]
  },
  {
   "cell_type": "code",
   "execution_count": 72,
   "id": "31f2df0c-246e-4e4a-b197-862c76c4ceef",
   "metadata": {
    "tags": []
   },
   "outputs": [
    {
     "name": "stdout",
     "output_type": "stream",
     "text": [
      "[3.07]\n",
      "3.07\n",
      "0.0\n"
     ]
    }
   ],
   "source": [
    "get_conc(\"be dead or die\")"
   ]
  },
  {
   "cell_type": "code",
   "execution_count": 73,
   "id": "6853a951-1ec9-4f36-ba7e-c56a84949223",
   "metadata": {
    "tags": []
   },
   "outputs": [
    {
     "name": "stdout",
     "output_type": "stream",
     "text": [
      "[4.9, 4.75]\n",
      "4.825\n",
      "0.07500000000000018\n"
     ]
    }
   ],
   "source": [
    "get_conc(\"branch or twig\")"
   ]
  },
  {
   "cell_type": "code",
   "execution_count": 110,
   "id": "c3de6bf5-8917-4621-a4a9-9188cf921b0a",
   "metadata": {
    "tags": []
   },
   "outputs": [
    {
     "name": "stderr",
     "output_type": "stream",
     "text": [
      "/Users/yiyichen/anaconda3/envs/colexphon/lib/python3.10/site-packages/numpy/core/fromnumeric.py:3464: RuntimeWarning: Mean of empty slice.\n",
      "  return _methods._mean(a, axis=axis, dtype=dtype,\n",
      "/Users/yiyichen/anaconda3/envs/colexphon/lib/python3.10/site-packages/numpy/core/fromnumeric.py:3464: RuntimeWarning: Mean of empty slice.\n",
      "  return _methods._mean(a, axis=axis, dtype=dtype,\n"
     ]
    }
   ],
   "source": [
    "df_clics[[\"Conc.M.x\", \"Conc.SD.x\"]]=df_clics[\"Concept_x\"].apply(lambda x: get_conc(x))\n",
    "df_clics[[\"Conc.M.y\", \"Conc.SD.y\"]]=df_clics[\"Concept_y\"].apply(lambda x: get_conc(x))\n",
    "\n",
    "# df_clics[\"Conc.M.y\"]=df_clics[\"Concept_y\"].apply(lambda x: get_conc[x])\n",
    "# df_clics[\"Conc.SD.x\"]=df_clics[\"Concept_x\"].apply(lambda x: conc_sd_dict[x])\n",
    "# df_clics[\"Conc.SD.y\"]=df_clics[\"Concept_y\"].apply(lambda x: conc_sd_dict[x])"
   ]
  },
  {
   "cell_type": "code",
   "execution_count": 113,
   "id": "befd2ace-5d1c-4f5b-a65d-18b9b9a9a587",
   "metadata": {
    "tags": []
   },
   "outputs": [],
   "source": [
    "df_clics[\"diff\"]=df_clics[\"Concepticon_ID_x\"]!=df_clics[\"Concepticon_ID_y\"]"
   ]
  },
  {
   "cell_type": "code",
   "execution_count": 118,
   "id": "43dd4bbb-5871-4a91-aa84-b6895f9d2989",
   "metadata": {
    "tags": []
   },
   "outputs": [
    {
     "data": {
      "text/plain": [
       "Index(['Form_ID_x', 'Form_ID_y', 'Concepticon_ID_x', 'Concepticon_ID_y',\n",
       "       'Colex_ID', 'Language_ID', 'Parameter_ID', 'Value', 'Form',\n",
       "       'Language_Name', 'Glottocode_clics', 'Glottolog_Name', 'ISO639P3code',\n",
       "       'Macroarea', 'Family', 'Wals_ID', 'Wals_Name', 'Latitude', 'Longitude',\n",
       "       'Glottocode_wals', 'Subfamily', 'Genus', 'Concept_x', 'Concept_y',\n",
       "       'Conc.M.x', 'Conc.SD.x', 'Conc.M.y', 'Conc.SD.y', 'diff'],\n",
       "      dtype='object')"
      ]
     },
     "execution_count": 118,
     "metadata": {},
     "output_type": "execute_result"
    }
   ],
   "source": [
    "df_clics[df_clics[\"diff\"]==True].columns"
   ]
  },
  {
   "cell_type": "code",
   "execution_count": 123,
   "id": "c22bb016-f218-4a93-8ef2-1227deb8dfc9",
   "metadata": {
    "scrolled": true,
    "tags": []
   },
   "outputs": [
    {
     "data": {
      "text/plain": [
       "23.666667"
      ]
     },
     "execution_count": 123,
     "metadata": {},
     "output_type": "execute_result"
    }
   ],
   "source": [
    "lang2lat[\"chao1238\"]"
   ]
  },
  {
   "cell_type": "code",
   "execution_count": 125,
   "id": "9607180d-d771-428b-bccd-6b6ccf465c68",
   "metadata": {
    "tags": []
   },
   "outputs": [],
   "source": [
    "lang2lat = {k:v for k,v in lang2lat.items() if pd.notna(v)}\n",
    "lang2long = {k:v for k,v in lang2long.items() if pd.notna(v)}\n"
   ]
  },
  {
   "cell_type": "code",
   "execution_count": 130,
   "id": "dc1a7e3d-c8a9-48dd-9f28-1d244258c4de",
   "metadata": {
    "tags": []
   },
   "outputs": [],
   "source": [
    "df_clics[\"Latitude\"] = df_clics[\"Glottocode_clics\"].apply(lambda x: lang2lat.get(x,x))\n",
    "df_clics[\"Longitude\"]= df_clics[\"Glottocode_clics\"].apply(lambda x:lang2long.get(x,x))"
   ]
  },
  {
   "cell_type": "code",
   "execution_count": 165,
   "id": "94e245f7-2a1e-4b77-8a0e-d472a393424a",
   "metadata": {
    "tags": []
   },
   "outputs": [],
   "source": [
    "df_new = df_clics[[\"Form_ID_x\", \"Form_ID_y\", \"Concepticon_ID_x\", \"Concepticon_ID_y\", \"Value\", \"Form\", \"Concept_x\", \"Concept_y\", \"Conc.M.x\", \"Conc.M.y\", \"Conc.SD.x\", \"Conc.SD.y\", \"Glottocode_clics\", \"diff\", \"ISO639P3code\"]]"
   ]
  },
  {
   "cell_type": "code",
   "execution_count": 169,
   "id": "19ee23fa-ce4e-4c3c-90a4-8b634246d71b",
   "metadata": {
    "tags": []
   },
   "outputs": [
    {
     "name": "stderr",
     "output_type": "stream",
     "text": [
      "/var/folders/bj/qp6k2wl11h5gpn8j4hg0tgf40000gn/T/ipykernel_92861/2412446148.py:1: SettingWithCopyWarning: \n",
      "A value is trying to be set on a copy of a slice from a DataFrame\n",
      "\n",
      "See the caveats in the documentation: https://pandas.pydata.org/pandas-docs/stable/user_guide/indexing.html#returning-a-view-versus-a-copy\n",
      "  df_new.rename(columns={\"Glottocode_clics\":\"Glottocode\"}, inplace=True)\n"
     ]
    }
   ],
   "source": [
    "df_new.rename(columns={\"Glottocode_clics\":\"Glottocode\"}, inplace=True)"
   ]
  },
  {
   "cell_type": "code",
   "execution_count": 170,
   "id": "c83d78af-e7ff-4ded-9b3d-209e6a3252b8",
   "metadata": {
    "tags": []
   },
   "outputs": [],
   "source": [
    "df_merge = pd.merge(df_new, df, how=\"left\", on=[\"Glottocode\"])"
   ]
  },
  {
   "cell_type": "code",
   "execution_count": 226,
   "id": "e33c7fd1-04b2-42a1-b856-e5835ccec4a7",
   "metadata": {
    "tags": []
   },
   "outputs": [
    {
     "data": {
      "text/plain": [
       "1989"
      ]
     },
     "execution_count": 226,
     "metadata": {},
     "output_type": "execute_result"
    }
   ],
   "source": [
    "len(set(df_merge[\"Glottocode\"].tolist()))"
   ]
  },
  {
   "cell_type": "code",
   "execution_count": null,
   "id": "9428db36-3cbe-432f-aed8-29cc436b7267",
   "metadata": {
    "tags": []
   },
   "outputs": [],
   "source": []
  },
  {
   "cell_type": "markdown",
   "id": "0d5544c2-0e7a-4de2-b7eb-2f4e645b1ad8",
   "metadata": {
    "tags": []
   },
   "source": [
    "# Correlations\n",
    "## the concepts closer in concretness are more probable to colexify"
   ]
  },
  {
   "cell_type": "code",
   "execution_count": 2,
   "id": "4d9d3a6c-40ca-4a4c-a796-d9ca783f7473",
   "metadata": {
    "tags": []
   },
   "outputs": [
    {
     "name": "stdout",
     "output_type": "stream",
     "text": [
      "INFO: Pandarallel will run on 10 workers.\n",
      "INFO: Pandarallel will use standard multiprocessing data transfer (pipe) to transfer data between the main process and workers.\n"
     ]
    }
   ],
   "source": [
    "import numpy as np\n",
    "import matplotlib.pyplot as plt  # To visualize\n",
    "import pandas as pd  # To read data\n",
    "import json\n",
    "from collections import Counter, defaultdict\n",
    "\n",
    "from sklearn.linear_model import LinearRegression\n",
    "import seaborn as sns\n",
    "%matplotlib inline\n",
    "\n",
    "from pandarallel import pandarallel\n",
    "\n",
    "pandarallel.initialize(progress_bar=True)"
   ]
  },
  {
   "cell_type": "code",
   "execution_count": 174,
   "id": "85f3e271-cc98-4430-bcf1-f297d672851e",
   "metadata": {
    "tags": []
   },
   "outputs": [],
   "source": [
    "df_merge[\"ConcDist\"] = df_merge[\"Conc.M.x\"]-df_merge[\"Conc.M.y\"]\n",
    "df_merge[\"ConcDist\"] = df_merge[\"ConcDist\"].abs()"
   ]
  },
  {
   "cell_type": "code",
   "execution_count": 211,
   "id": "ca39ac4e-fa36-4c93-ab12-7d429ac0e9b2",
   "metadata": {
    "tags": []
   },
   "outputs": [],
   "source": [
    "df_merge.to_csv(\"../data/colex/colex_clics3_glottolog.csv\", index=False)"
   ]
  },
  {
   "cell_type": "code",
   "execution_count": 5,
   "id": "1e791e09-039b-4be2-ada1-ed5819ec2a90",
   "metadata": {
    "tags": []
   },
   "outputs": [],
   "source": [
    "df_merge= pd.read_csv(\"../data/colex/colex_clics3_glottolog.csv\")"
   ]
  },
  {
   "cell_type": "code",
   "execution_count": 8,
   "id": "6cb6a9c4-37c4-4b6c-8fb2-023ead1e5304",
   "metadata": {
    "tags": []
   },
   "outputs": [],
   "source": [
    "df=df_merge"
   ]
  },
  {
   "cell_type": "code",
   "execution_count": 13,
   "id": "3a75ce6f-941f-4ff8-912d-fb6655bc85ee",
   "metadata": {
    "scrolled": true,
    "tags": []
   },
   "outputs": [
    {
     "data": {
      "text/html": [
       "<div>\n",
       "<style scoped>\n",
       "    .dataframe tbody tr th:only-of-type {\n",
       "        vertical-align: middle;\n",
       "    }\n",
       "\n",
       "    .dataframe tbody tr th {\n",
       "        vertical-align: top;\n",
       "    }\n",
       "\n",
       "    .dataframe thead th {\n",
       "        text-align: right;\n",
       "    }\n",
       "</style>\n",
       "<table border=\"1\" class=\"dataframe\">\n",
       "  <thead>\n",
       "    <tr style=\"text-align: right;\">\n",
       "      <th></th>\n",
       "      <th>Form_ID_x</th>\n",
       "      <th>Form_ID_y</th>\n",
       "      <th>Concepticon_ID_x</th>\n",
       "      <th>Concepticon_ID_y</th>\n",
       "      <th>Value</th>\n",
       "      <th>Form</th>\n",
       "      <th>Concept_x</th>\n",
       "      <th>Concept_y</th>\n",
       "      <th>Conc.M.x</th>\n",
       "      <th>Conc.M.y</th>\n",
       "      <th>Conc.SD.x</th>\n",
       "      <th>Conc.SD.y</th>\n",
       "      <th>Glottocode</th>\n",
       "      <th>diff</th>\n",
       "      <th>ISO639P3code</th>\n",
       "      <th>Name</th>\n",
       "      <th>Top-level family</th>\n",
       "      <th>Macroarea</th>\n",
       "      <th>Latitude</th>\n",
       "      <th>Longitude</th>\n",
       "      <th>Endangerment</th>\n",
       "      <th>ConcDist</th>\n",
       "      <th>COLEX</th>\n",
       "    </tr>\n",
       "  </thead>\n",
       "  <tbody>\n",
       "    <tr>\n",
       "      <th>53979</th>\n",
       "      <td>65500-221_year-1</td>\n",
       "      <td>65500-120_sun-1</td>\n",
       "      <td>1343</td>\n",
       "      <td>1226</td>\n",
       "      <td>kwat</td>\n",
       "      <td>kwat</td>\n",
       "      <td>sun</td>\n",
       "      <td>year</td>\n",
       "      <td>4.83</td>\n",
       "      <td>3.25</td>\n",
       "      <td>0.6</td>\n",
       "      <td>1.32</td>\n",
       "      <td>kama1373</td>\n",
       "      <td>True</td>\n",
       "      <td>kay</td>\n",
       "      <td>Kamayurá</td>\n",
       "      <td>Tupian</td>\n",
       "      <td>South America</td>\n",
       "      <td>-12.26610</td>\n",
       "      <td>-53.46510</td>\n",
       "      <td>AES(ordinal=3, id='definite', name='shifting',...</td>\n",
       "      <td>1.58</td>\n",
       "      <td>sun~year</td>\n",
       "    </tr>\n",
       "    <tr>\n",
       "      <th>53980</th>\n",
       "      <td>278-14-730-1</td>\n",
       "      <td>278-1-520-1</td>\n",
       "      <td>1343</td>\n",
       "      <td>1226</td>\n",
       "      <td>βari</td>\n",
       "      <td>βari</td>\n",
       "      <td>sun</td>\n",
       "      <td>year</td>\n",
       "      <td>4.83</td>\n",
       "      <td>3.25</td>\n",
       "      <td>0.6</td>\n",
       "      <td>1.32</td>\n",
       "      <td>pano1254</td>\n",
       "      <td>True</td>\n",
       "      <td>knt</td>\n",
       "      <td>Panoan Katukína</td>\n",
       "      <td>Pano-Tacanan</td>\n",
       "      <td>South America</td>\n",
       "      <td>-7.97456</td>\n",
       "      <td>-71.56151</td>\n",
       "      <td>AES(ordinal=3, id='definite', name='shifting',...</td>\n",
       "      <td>1.58</td>\n",
       "      <td>sun~year</td>\n",
       "    </tr>\n",
       "    <tr>\n",
       "      <th>53981</th>\n",
       "      <td>291-14-730-1</td>\n",
       "      <td>291-1-520-1</td>\n",
       "      <td>1343</td>\n",
       "      <td>1226</td>\n",
       "      <td>tena</td>\n",
       "      <td>tena</td>\n",
       "      <td>sun</td>\n",
       "      <td>year</td>\n",
       "      <td>4.83</td>\n",
       "      <td>3.25</td>\n",
       "      <td>0.6</td>\n",
       "      <td>1.32</td>\n",
       "      <td>siri1273</td>\n",
       "      <td>True</td>\n",
       "      <td>srq</td>\n",
       "      <td>Sirionó</td>\n",
       "      <td>Tupian</td>\n",
       "      <td>South America</td>\n",
       "      <td>-15.52980</td>\n",
       "      <td>-63.96880</td>\n",
       "      <td>AES(ordinal=5, id='critical', name='nearly ext...</td>\n",
       "      <td>1.58</td>\n",
       "      <td>sun~year</td>\n",
       "    </tr>\n",
       "    <tr>\n",
       "      <th>53982</th>\n",
       "      <td>292-14-730-1</td>\n",
       "      <td>292-1-520-1</td>\n",
       "      <td>1343</td>\n",
       "      <td>1226</td>\n",
       "      <td>kwalaɨ</td>\n",
       "      <td>kwalaɨ</td>\n",
       "      <td>sun</td>\n",
       "      <td>year</td>\n",
       "      <td>4.83</td>\n",
       "      <td>3.25</td>\n",
       "      <td>0.6</td>\n",
       "      <td>1.32</td>\n",
       "      <td>waya1270</td>\n",
       "      <td>True</td>\n",
       "      <td>oym</td>\n",
       "      <td>Wayampi</td>\n",
       "      <td>Tupian</td>\n",
       "      <td>South America</td>\n",
       "      <td>1.73817</td>\n",
       "      <td>-52.68870</td>\n",
       "      <td>AES(ordinal=3, id='definite', name='shifting',...</td>\n",
       "      <td>1.58</td>\n",
       "      <td>sun~year</td>\n",
       "    </tr>\n",
       "    <tr>\n",
       "      <th>53983</th>\n",
       "      <td>kor-457_year-1</td>\n",
       "      <td>kor-57_sun-1</td>\n",
       "      <td>1343</td>\n",
       "      <td>1226</td>\n",
       "      <td>해</td>\n",
       "      <td>hɛ</td>\n",
       "      <td>sun</td>\n",
       "      <td>year</td>\n",
       "      <td>4.83</td>\n",
       "      <td>3.25</td>\n",
       "      <td>0.6</td>\n",
       "      <td>1.32</td>\n",
       "      <td>kore1280</td>\n",
       "      <td>True</td>\n",
       "      <td>kor</td>\n",
       "      <td>Korean</td>\n",
       "      <td>Koreanic</td>\n",
       "      <td>Eurasia</td>\n",
       "      <td>37.54000</td>\n",
       "      <td>126.98000</td>\n",
       "      <td>AES(ordinal=1, id='safe', name='not endangered...</td>\n",
       "      <td>1.58</td>\n",
       "      <td>sun~year</td>\n",
       "    </tr>\n",
       "  </tbody>\n",
       "</table>\n",
       "</div>"
      ],
      "text/plain": [
       "              Form_ID_x        Form_ID_y  Concepticon_ID_x  Concepticon_ID_y  \\\n",
       "53979  65500-221_year-1  65500-120_sun-1              1343              1226   \n",
       "53980      278-14-730-1      278-1-520-1              1343              1226   \n",
       "53981      291-14-730-1      291-1-520-1              1343              1226   \n",
       "53982      292-14-730-1      292-1-520-1              1343              1226   \n",
       "53983    kor-457_year-1     kor-57_sun-1              1343              1226   \n",
       "\n",
       "        Value    Form Concept_x Concept_y  Conc.M.x  Conc.M.y  Conc.SD.x  \\\n",
       "53979    kwat    kwat       sun      year      4.83      3.25        0.6   \n",
       "53980    βari    βari       sun      year      4.83      3.25        0.6   \n",
       "53981    tena    tena       sun      year      4.83      3.25        0.6   \n",
       "53982  kwalaɨ  kwalaɨ       sun      year      4.83      3.25        0.6   \n",
       "53983       해      hɛ       sun      year      4.83      3.25        0.6   \n",
       "\n",
       "       Conc.SD.y Glottocode  diff ISO639P3code             Name  \\\n",
       "53979       1.32   kama1373  True          kay         Kamayurá   \n",
       "53980       1.32   pano1254  True          knt  Panoan Katukína   \n",
       "53981       1.32   siri1273  True          srq          Sirionó   \n",
       "53982       1.32   waya1270  True          oym          Wayampi   \n",
       "53983       1.32   kore1280  True          kor           Korean   \n",
       "\n",
       "      Top-level family      Macroarea  Latitude  Longitude  \\\n",
       "53979           Tupian  South America -12.26610  -53.46510   \n",
       "53980     Pano-Tacanan  South America  -7.97456  -71.56151   \n",
       "53981           Tupian  South America -15.52980  -63.96880   \n",
       "53982           Tupian  South America   1.73817  -52.68870   \n",
       "53983         Koreanic        Eurasia  37.54000  126.98000   \n",
       "\n",
       "                                            Endangerment  ConcDist     COLEX  \n",
       "53979  AES(ordinal=3, id='definite', name='shifting',...      1.58  sun~year  \n",
       "53980  AES(ordinal=3, id='definite', name='shifting',...      1.58  sun~year  \n",
       "53981  AES(ordinal=5, id='critical', name='nearly ext...      1.58  sun~year  \n",
       "53982  AES(ordinal=3, id='definite', name='shifting',...      1.58  sun~year  \n",
       "53983  AES(ordinal=1, id='safe', name='not endangered...      1.58  sun~year  "
      ]
     },
     "execution_count": 13,
     "metadata": {},
     "output_type": "execute_result"
    }
   ],
   "source": [
    "df[(df[\"Concept_x\"]==\"sun\") &(df[\"Concept_y\"]==\"year\")]"
   ]
  },
  {
   "cell_type": "markdown",
   "id": "3f084d61-f053-4337-9d26-d301058a5afa",
   "metadata": {
    "tags": []
   },
   "source": [
    "### 1. only colexifications and conconcreteness distance"
   ]
  },
  {
   "cell_type": "code",
   "execution_count": 6,
   "id": "d49cdb11-5383-4033-809d-8f33983f2c12",
   "metadata": {
    "tags": []
   },
   "outputs": [
    {
     "name": "stdout",
     "output_type": "stream",
     "text": [
      "INFO: Pandarallel will run on 10 workers.\n",
      "INFO: Pandarallel will use standard multiprocessing data transfer (pipe) to transfer data between the main process and workers.\n"
     ]
    }
   ],
   "source": [
    "import numpy as np\n",
    "import matplotlib.pyplot as plt  # To visualize\n",
    "import pandas as pd  # To read data\n",
    "import json\n",
    "from collections import Counter, defaultdict\n",
    "\n",
    "from sklearn.linear_model import LinearRegression\n",
    "import seaborn as sns\n",
    "%matplotlib inline\n",
    "\n",
    "from pandarallel import pandarallel\n",
    "\n",
    "pandarallel.initialize(progress_bar=True)\n",
    "import scipy.stats"
   ]
  },
  {
   "cell_type": "code",
   "execution_count": 178,
   "id": "7b3ffc37-a26b-4270-aa5c-e4286ba10cbe",
   "metadata": {
    "tags": []
   },
   "outputs": [],
   "source": [
    "df_merge[\"COLEX\"]= df_merge[\"Concept_x\"]+\"~\"+df_merge[\"Concept_y\"]"
   ]
  },
  {
   "cell_type": "code",
   "execution_count": 180,
   "id": "d0c2d27c-5fe8-4837-947e-9a99c1fb06c7",
   "metadata": {
    "tags": []
   },
   "outputs": [],
   "source": [
    "colex_condist = dict(zip(df_merge[\"COLEX\"],df_merge[\"ConcDist\"]))"
   ]
  },
  {
   "cell_type": "code",
   "execution_count": 185,
   "id": "313b4d22-8403-43c6-aad2-f3166c0b7392",
   "metadata": {
    "scrolled": true,
    "tags": []
   },
   "outputs": [],
   "source": [
    "df_colex_concdist = pd.DataFrame.from_dict(colex_condist, orient=\"index\").dropna()"
   ]
  },
  {
   "cell_type": "code",
   "execution_count": 189,
   "id": "f09168ab-0ff3-46a7-a74a-358a01178fc7",
   "metadata": {
    "tags": []
   },
   "outputs": [],
   "source": [
    "df_colex_concdist.rename(columns={0:\"ConcDist\"}, inplace=True)"
   ]
  },
  {
   "cell_type": "code",
   "execution_count": 212,
   "id": "f33fb27e-bad7-4c0f-a4eb-3edacba4b33c",
   "metadata": {
    "tags": []
   },
   "outputs": [
    {
     "data": {
      "image/png": "[encoded data removed]",
      "text/plain": [
       "<Figure size 800x800 with 1 Axes>"
      ]
     },
     "metadata": {},
     "output_type": "display_data"
    }
   ],
   "source": [
    "sns.set(rc={'figure.figsize':(8,8)})\n",
    "sns.set_style(\"whitegrid\")\n",
    "\n",
    "b= sns.histplot(data=df_colex_concdist, x=\"ConcDist\", kde=True)\n",
    "b.set_xlabel(\"Concreteness Distance\", fontsize=16)\n",
    "b.set_ylabel(\"Colexification Patterns\", fontsize=16)\n",
    "fig = b.get_figure()\n",
    "fig.savefig(\"../data/images/clics3_concdist_colex_patterns.png\")"
   ]
  },
  {
   "cell_type": "code",
   "execution_count": 213,
   "id": "9fd11f2c-c961-4f1e-ba01-cf748a41cfa6",
   "metadata": {
    "tags": []
   },
   "outputs": [],
   "source": [
    "def correlation(X_df):\n",
    "    X = X_df.index.values\n",
    "    print(X.shape)\n",
    "    Y = X_df[\"#COLEX\"].values\n",
    "    print(Y.shape)\n",
    "    pearsonr = scipy.stats.pearsonr(X,Y)\n",
    "    print(\"correlation:\", pearsonr)\n",
    "    \n",
    "    sns.lmplot(x=\"ConcDist\", y=\"#COLEX\", data=X_df, lowess=True, line_kws={\"color\":\"red\"})\n",
    "    \n",
    "#     slope, intercept, r, p, stderr = scipy.stats.linregress(X,Y)\n",
    "#     line = f'Regression line: y={intercept:.2f}+{slope:.2f}x, r={r:.2f}'\n",
    "#     plots_linear(X,Y, slope, intercept, r, p, stderr,line)"
   ]
  },
  {
   "cell_type": "code",
   "execution_count": 214,
   "id": "49f34fe5-60a7-4510-8801-560eea428099",
   "metadata": {
    "tags": []
   },
   "outputs": [],
   "source": [
    "df_colex_concdist[\"COLEX\"]=df_colex_concdist.index\n",
    "X_df = pd.DataFrame.from_dict(df_colex_concdist.groupby(\"ConcDist\").agg(\"count\")[\"COLEX\"].to_dict(), orient=\"index\").rename(columns={0:\"#COLEX\"})\n",
    "X_df[\"ConcDist\"]=X_df.index"
   ]
  },
  {
   "cell_type": "code",
   "execution_count": 218,
   "id": "134ac796-b422-49fd-a61c-c3d738133318",
   "metadata": {
    "tags": []
   },
   "outputs": [
    {
     "name": "stdout",
     "output_type": "stream",
     "text": [
      "(701,)\n",
      "(701,)\n",
      "correlation: PearsonRResult(statistic=-0.3843198108855552, pvalue=4.296530003695257e-26)\n"
     ]
    },
    {
     "data": {
      "image/png": "[encoded data removed]",
      "text/plain": [
       "<Figure size 500x500 with 1 Axes>"
      ]
     },
     "metadata": {},
     "output_type": "display_data"
    }
   ],
   "source": [
    "correlation(X_df)"
   ]
  },
  {
   "cell_type": "code",
   "execution_count": 190,
   "id": "600b4237-4806-4440-87a5-c883cb2b1183",
   "metadata": {
    "tags": []
   },
   "outputs": [
    {
     "data": {
      "text/plain": [
       "<Axes: xlabel='ConcDist', ylabel='Count'>"
      ]
     },
     "execution_count": 190,
     "metadata": {},
     "output_type": "execute_result"
    },
    {
     "data": {
      "image/png": "[encoded data removed]",
      "text/plain": [
       "<Figure size 640x480 with 1 Axes>"
      ]
     },
     "metadata": {},
     "output_type": "display_data"
    }
   ],
   "source": [
    "\n",
    "sns.histplot(data=df_colex_concdist, x=\"ConcDist\")"
   ]
  },
  {
   "cell_type": "code",
   "execution_count": 215,
   "id": "98c4fb0d-91d7-4615-9171-b2852e4e0f6a",
   "metadata": {
    "tags": []
   },
   "outputs": [
    {
     "data": {
      "text/html": [
       "<div>\n",
       "<style scoped>\n",
       "    .dataframe tbody tr th:only-of-type {\n",
       "        vertical-align: middle;\n",
       "    }\n",
       "\n",
       "    .dataframe tbody tr th {\n",
       "        vertical-align: top;\n",
       "    }\n",
       "\n",
       "    .dataframe thead th {\n",
       "        text-align: right;\n",
       "    }\n",
       "</style>\n",
       "<table border=\"1\" class=\"dataframe\">\n",
       "  <thead>\n",
       "    <tr style=\"text-align: right;\">\n",
       "      <th></th>\n",
       "      <th>ConcDist</th>\n",
       "      <th>COLEX</th>\n",
       "    </tr>\n",
       "  </thead>\n",
       "  <tbody>\n",
       "    <tr>\n",
       "      <th>earth (soil)~mud</th>\n",
       "      <td>0.06</td>\n",
       "      <td>earth (soil)~mud</td>\n",
       "    </tr>\n",
       "    <tr>\n",
       "      <th>earth (soil)~dust</th>\n",
       "      <td>0.40</td>\n",
       "      <td>earth (soil)~dust</td>\n",
       "    </tr>\n",
       "    <tr>\n",
       "      <th>earth (soil)~sand</th>\n",
       "      <td>0.20</td>\n",
       "      <td>earth (soil)~sand</td>\n",
       "    </tr>\n",
       "    <tr>\n",
       "      <th>earth (soil)~ash</th>\n",
       "      <td>0.16</td>\n",
       "      <td>earth (soil)~ash</td>\n",
       "    </tr>\n",
       "    <tr>\n",
       "      <th>earth (soil)~dirty</th>\n",
       "      <td>0.57</td>\n",
       "      <td>earth (soil)~dirty</td>\n",
       "    </tr>\n",
       "  </tbody>\n",
       "</table>\n",
       "</div>"
      ],
      "text/plain": [
       "                    ConcDist               COLEX\n",
       "earth (soil)~mud        0.06    earth (soil)~mud\n",
       "earth (soil)~dust       0.40   earth (soil)~dust\n",
       "earth (soil)~sand       0.20   earth (soil)~sand\n",
       "earth (soil)~ash        0.16    earth (soil)~ash\n",
       "earth (soil)~dirty      0.57  earth (soil)~dirty"
      ]
     },
     "execution_count": 215,
     "metadata": {},
     "output_type": "execute_result"
    }
   ],
   "source": [
    "df_colex_concdist.head()"
   ]
  },
  {
   "cell_type": "markdown",
   "id": "34a48532-6208-41d6-9eba-819d770ffcc2",
   "metadata": {},
   "source": [
    "### 2. all colexifications (including different forms) and their concreteness"
   ]
  },
  {
   "cell_type": "code",
   "execution_count": 192,
   "id": "37b8d2fc-32bc-4320-abf2-f7ce0f7df82d",
   "metadata": {
    "tags": []
   },
   "outputs": [
    {
     "data": {
      "text/plain": [
       "(76346, 66827)"
      ]
     },
     "execution_count": 192,
     "metadata": {},
     "output_type": "execute_result"
    }
   ],
   "source": [
    "len(df_merge), len(df_merge.drop_duplicates([\"COLEX\", \"Glottocode\"]))"
   ]
  },
  {
   "cell_type": "code",
   "execution_count": 195,
   "id": "eabc6ad6-fae0-4091-9a16-a48c625576b5",
   "metadata": {
    "tags": []
   },
   "outputs": [
    {
     "data": {
      "text/plain": [
       "<Axes: xlabel='ConcDist', ylabel='Count'>"
      ]
     },
     "execution_count": 195,
     "metadata": {},
     "output_type": "execute_result"
    },
    {
     "data": {
      "image/png": "[encoded data removed]",
      "text/plain": [
       "<Figure size 640x480 with 1 Axes>"
      ]
     },
     "metadata": {},
     "output_type": "display_data"
    }
   ],
   "source": [
    "sns.histplot(data=df_merge, x=\"ConcDist\")"
   ]
  },
  {
   "cell_type": "code",
   "execution_count": 219,
   "id": "26392e52-97e3-4f5b-a3cd-699b31eea692",
   "metadata": {
    "tags": []
   },
   "outputs": [
    {
     "data": {
      "image/png": "[encoded data removed]",
      "text/plain": [
       "<Figure size 800x800 with 1 Axes>"
      ]
     },
     "metadata": {},
     "output_type": "display_data"
    }
   ],
   "source": [
    "sns.set(rc={'figure.figsize':(8,8)})\n",
    "sns.set_style(\"whitegrid\")\n",
    "\n",
    "b= sns.histplot(data=df_merge, x=\"ConcDist\", kde=True)\n",
    "b.set_xlabel(\"Concreteness Distance\", fontsize=16)\n",
    "b.set_ylabel(\"#Colexifications\", fontsize=16)\n",
    "fig = b.get_figure()\n",
    "fig.savefig(\"../data/images/clics3_concdist_all_colex.png\")"
   ]
  },
  {
   "cell_type": "code",
   "execution_count": 220,
   "id": "8cdc8a54-1044-4177-a626-6bb9f72e6193",
   "metadata": {
    "tags": []
   },
   "outputs": [],
   "source": [
    "X_all = pd.DataFrame.from_dict(df_merge.groupby(\"ConcDist\").agg(\"count\")[\"COLEX\"].to_dict(), orient=\"index\").rename(columns={0:\"#COLEX\"})\n",
    "X_all[\"ConcDist\"]=X_all.index"
   ]
  },
  {
   "cell_type": "code",
   "execution_count": 221,
   "id": "d82d5859-87b8-4536-bfc7-1ee90e8edd2a",
   "metadata": {
    "tags": []
   },
   "outputs": [
    {
     "name": "stdout",
     "output_type": "stream",
     "text": [
      "(701,)\n",
      "(701,)\n",
      "correlation: PearsonRResult(statistic=-0.35001068806378066, pvalue=1.2436867510402552e-21)\n"
     ]
    },
    {
     "data": {
      "image/png": "[encoded data removed]",
      "text/plain": [
       "<Figure size 500x500 with 1 Axes>"
      ]
     },
     "metadata": {},
     "output_type": "display_data"
    }
   ],
   "source": [
    "correlation(X_all)"
   ]
  },
  {
   "cell_type": "code",
   "execution_count": 198,
   "id": "966c726b-d4f8-4cfd-bca6-3f34b2624682",
   "metadata": {
    "scrolled": true,
    "tags": []
   },
   "outputs": [
    {
     "data": {
      "text/html": [
       "<div>\n",
       "<style scoped>\n",
       "    .dataframe tbody tr th:only-of-type {\n",
       "        vertical-align: middle;\n",
       "    }\n",
       "\n",
       "    .dataframe tbody tr th {\n",
       "        vertical-align: top;\n",
       "    }\n",
       "\n",
       "    .dataframe thead th {\n",
       "        text-align: right;\n",
       "    }\n",
       "</style>\n",
       "<table border=\"1\" class=\"dataframe\">\n",
       "  <thead>\n",
       "    <tr style=\"text-align: right;\">\n",
       "      <th></th>\n",
       "      <th>Form_ID_x</th>\n",
       "      <th>Form_ID_y</th>\n",
       "      <th>Concepticon_ID_x</th>\n",
       "      <th>Concepticon_ID_y</th>\n",
       "      <th>Value</th>\n",
       "      <th>Form</th>\n",
       "      <th>Concept_x</th>\n",
       "      <th>Concept_y</th>\n",
       "      <th>Conc.M.x</th>\n",
       "      <th>Conc.M.y</th>\n",
       "      <th>Conc.SD.x</th>\n",
       "      <th>Conc.SD.y</th>\n",
       "      <th>Glottocode</th>\n",
       "      <th>diff</th>\n",
       "      <th>ISO639P3code</th>\n",
       "      <th>Name</th>\n",
       "      <th>Top-level family</th>\n",
       "      <th>Macroarea</th>\n",
       "      <th>Latitude</th>\n",
       "      <th>Longitude</th>\n",
       "      <th>Endangerment</th>\n",
       "      <th>ConcDist</th>\n",
       "      <th>COLEX</th>\n",
       "    </tr>\n",
       "  </thead>\n",
       "  <tbody>\n",
       "    <tr>\n",
       "      <th>0</th>\n",
       "      <td>Chaozhou-61_soilearth-1</td>\n",
       "      <td>Chaozhou-60_mudearth-1</td>\n",
       "      <td>1228</td>\n",
       "      <td>640</td>\n",
       "      <td>tʰou⁵⁵</td>\n",
       "      <td>tʰou⁵⁵</td>\n",
       "      <td>earth (soil)</td>\n",
       "      <td>mud</td>\n",
       "      <td>4.8</td>\n",
       "      <td>4.86</td>\n",
       "      <td>0.55</td>\n",
       "      <td>0.44</td>\n",
       "      <td>chao1238</td>\n",
       "      <td>True</td>\n",
       "      <td>NaN</td>\n",
       "      <td>Chaozhou</td>\n",
       "      <td>Sino-Tibetan</td>\n",
       "      <td>Eurasia</td>\n",
       "      <td>23.666667</td>\n",
       "      <td>116.633333</td>\n",
       "      <td>NaN</td>\n",
       "      <td>0.06</td>\n",
       "      <td>earth (soil)~mud</td>\n",
       "    </tr>\n",
       "    <tr>\n",
       "      <th>1</th>\n",
       "      <td>Chengdu-61_soilearth-1</td>\n",
       "      <td>Chengdu-60_mudearth-1</td>\n",
       "      <td>1228</td>\n",
       "      <td>640</td>\n",
       "      <td>ȵi³¹pa⁴⁴</td>\n",
       "      <td>ȵi³¹pa⁴⁴</td>\n",
       "      <td>earth (soil)</td>\n",
       "      <td>mud</td>\n",
       "      <td>4.8</td>\n",
       "      <td>4.86</td>\n",
       "      <td>0.55</td>\n",
       "      <td>0.44</td>\n",
       "      <td>chen1267</td>\n",
       "      <td>True</td>\n",
       "      <td>NaN</td>\n",
       "      <td>Chengdu Mandarin</td>\n",
       "      <td>Sino-Tibetan</td>\n",
       "      <td>Eurasia</td>\n",
       "      <td>30.605768</td>\n",
       "      <td>103.970947</td>\n",
       "      <td>NaN</td>\n",
       "      <td>0.06</td>\n",
       "      <td>earth (soil)~mud</td>\n",
       "    </tr>\n",
       "    <tr>\n",
       "      <th>2</th>\n",
       "      <td>Fuzhou-61_soilearth-1</td>\n",
       "      <td>Fuzhou-60_mudearth-1</td>\n",
       "      <td>1228</td>\n",
       "      <td>640</td>\n",
       "      <td>tʰu⁵²</td>\n",
       "      <td>tʰu⁵²</td>\n",
       "      <td>earth (soil)</td>\n",
       "      <td>mud</td>\n",
       "      <td>4.8</td>\n",
       "      <td>4.86</td>\n",
       "      <td>0.55</td>\n",
       "      <td>0.44</td>\n",
       "      <td>fuzh1239</td>\n",
       "      <td>True</td>\n",
       "      <td>NaN</td>\n",
       "      <td>Houguan</td>\n",
       "      <td>Sino-Tibetan</td>\n",
       "      <td>Eurasia</td>\n",
       "      <td>26.089040</td>\n",
       "      <td>119.294243</td>\n",
       "      <td>NaN</td>\n",
       "      <td>0.06</td>\n",
       "      <td>earth (soil)~mud</td>\n",
       "    </tr>\n",
       "    <tr>\n",
       "      <th>3</th>\n",
       "      <td>Guangzhou-61_soilearth-1</td>\n",
       "      <td>Guangzhou-60_mudearth-1</td>\n",
       "      <td>1228</td>\n",
       "      <td>640</td>\n",
       "      <td>nɐi²¹</td>\n",
       "      <td>nɐi²¹</td>\n",
       "      <td>earth (soil)</td>\n",
       "      <td>mud</td>\n",
       "      <td>4.8</td>\n",
       "      <td>4.86</td>\n",
       "      <td>0.55</td>\n",
       "      <td>0.44</td>\n",
       "      <td>guan1279</td>\n",
       "      <td>True</td>\n",
       "      <td>NaN</td>\n",
       "      <td>Guangzhou</td>\n",
       "      <td>Sino-Tibetan</td>\n",
       "      <td>Eurasia</td>\n",
       "      <td>23.125350</td>\n",
       "      <td>112.947655</td>\n",
       "      <td>NaN</td>\n",
       "      <td>0.06</td>\n",
       "      <td>earth (soil)~mud</td>\n",
       "    </tr>\n",
       "    <tr>\n",
       "      <th>4</th>\n",
       "      <td>Meixian-61_soilearth-1</td>\n",
       "      <td>Meixian-60_mudearth-1</td>\n",
       "      <td>1228</td>\n",
       "      <td>640</td>\n",
       "      <td>nɛ¹²</td>\n",
       "      <td>nɛ¹²</td>\n",
       "      <td>earth (soil)</td>\n",
       "      <td>mud</td>\n",
       "      <td>4.8</td>\n",
       "      <td>4.86</td>\n",
       "      <td>0.55</td>\n",
       "      <td>0.44</td>\n",
       "      <td>yuet1238</td>\n",
       "      <td>True</td>\n",
       "      <td>NaN</td>\n",
       "      <td>Meixian</td>\n",
       "      <td>Sino-Tibetan</td>\n",
       "      <td>Eurasia</td>\n",
       "      <td>24.352296</td>\n",
       "      <td>115.890338</td>\n",
       "      <td>NaN</td>\n",
       "      <td>0.06</td>\n",
       "      <td>earth (soil)~mud</td>\n",
       "    </tr>\n",
       "    <tr>\n",
       "      <th>...</th>\n",
       "      <td>...</td>\n",
       "      <td>...</td>\n",
       "      <td>...</td>\n",
       "      <td>...</td>\n",
       "      <td>...</td>\n",
       "      <td>...</td>\n",
       "      <td>...</td>\n",
       "      <td>...</td>\n",
       "      <td>...</td>\n",
       "      <td>...</td>\n",
       "      <td>...</td>\n",
       "      <td>...</td>\n",
       "      <td>...</td>\n",
       "      <td>...</td>\n",
       "      <td>...</td>\n",
       "      <td>...</td>\n",
       "      <td>...</td>\n",
       "      <td>...</td>\n",
       "      <td>...</td>\n",
       "      <td>...</td>\n",
       "      <td>...</td>\n",
       "      <td>...</td>\n",
       "      <td>...</td>\n",
       "    </tr>\n",
       "    <tr>\n",
       "      <th>76341</th>\n",
       "      <td>alor1247-bana-ringworm-1</td>\n",
       "      <td>alor1247-bana-tinea-1</td>\n",
       "      <td>3173</td>\n",
       "      <td>3171</td>\n",
       "      <td>naɔ</td>\n",
       "      <td>naɔ</td>\n",
       "      <td>tinea</td>\n",
       "      <td>ringworm</td>\n",
       "      <td>NaN</td>\n",
       "      <td>4.50</td>\n",
       "      <td>NaN</td>\n",
       "      <td>1.01</td>\n",
       "      <td>alor1247</td>\n",
       "      <td>True</td>\n",
       "      <td>aol</td>\n",
       "      <td>Alorese</td>\n",
       "      <td>Austronesian</td>\n",
       "      <td>Papunesia</td>\n",
       "      <td>-8.203820</td>\n",
       "      <td>124.264000</td>\n",
       "      <td>AES(ordinal=1, id='safe', name='not endangered...</td>\n",
       "      <td>NaN</td>\n",
       "      <td>tinea~ringworm</td>\n",
       "    </tr>\n",
       "    <tr>\n",
       "      <th>76342</th>\n",
       "      <td>atim1239-ringworm-1</td>\n",
       "      <td>atim1239-tinea-1</td>\n",
       "      <td>3173</td>\n",
       "      <td>3171</td>\n",
       "      <td>kaˈfisiŋ</td>\n",
       "      <td>kaˈfisiŋ</td>\n",
       "      <td>tinea</td>\n",
       "      <td>ringworm</td>\n",
       "      <td>NaN</td>\n",
       "      <td>4.50</td>\n",
       "      <td>NaN</td>\n",
       "      <td>1.01</td>\n",
       "      <td>atim1239</td>\n",
       "      <td>True</td>\n",
       "      <td>abz</td>\n",
       "      <td>Atimelang</td>\n",
       "      <td>Timor-Alor-Pantar</td>\n",
       "      <td>Papunesia</td>\n",
       "      <td>NaN</td>\n",
       "      <td>NaN</td>\n",
       "      <td>NaN</td>\n",
       "      <td>NaN</td>\n",
       "      <td>tinea~ringworm</td>\n",
       "    </tr>\n",
       "    <tr>\n",
       "      <th>76343</th>\n",
       "      <td>kara1499-ringworm-1</td>\n",
       "      <td>kara1499-tinea-1</td>\n",
       "      <td>3173</td>\n",
       "      <td>3171</td>\n",
       "      <td>jes</td>\n",
       "      <td>jes</td>\n",
       "      <td>tinea</td>\n",
       "      <td>ringworm</td>\n",
       "      <td>NaN</td>\n",
       "      <td>4.50</td>\n",
       "      <td>NaN</td>\n",
       "      <td>1.01</td>\n",
       "      <td>kara1499</td>\n",
       "      <td>True</td>\n",
       "      <td>kgv</td>\n",
       "      <td>Kalamang</td>\n",
       "      <td>West Bomberai</td>\n",
       "      <td>Papunesia</td>\n",
       "      <td>-3.470370</td>\n",
       "      <td>132.678000</td>\n",
       "      <td>AES(ordinal=3, id='definite', name='shifting',...</td>\n",
       "      <td>NaN</td>\n",
       "      <td>tinea~ringworm</td>\n",
       "    </tr>\n",
       "    <tr>\n",
       "      <th>76344</th>\n",
       "      <td>kelo1247-hopte-ringworm-1</td>\n",
       "      <td>kelo1247-hopte-tinea-1</td>\n",
       "      <td>3173</td>\n",
       "      <td>3171</td>\n",
       "      <td>kat</td>\n",
       "      <td>kat</td>\n",
       "      <td>tinea</td>\n",
       "      <td>ringworm</td>\n",
       "      <td>NaN</td>\n",
       "      <td>4.50</td>\n",
       "      <td>NaN</td>\n",
       "      <td>1.01</td>\n",
       "      <td>kelo1247</td>\n",
       "      <td>True</td>\n",
       "      <td>kyo</td>\n",
       "      <td>Klon</td>\n",
       "      <td>Timor-Alor-Pantar</td>\n",
       "      <td>Papunesia</td>\n",
       "      <td>-8.406880</td>\n",
       "      <td>124.429000</td>\n",
       "      <td>AES(ordinal=3, id='definite', name='shifting',...</td>\n",
       "      <td>NaN</td>\n",
       "      <td>tinea~ringworm</td>\n",
       "    </tr>\n",
       "    <tr>\n",
       "      <th>76345</th>\n",
       "      <td>tetu1245-suai-ringworm-1</td>\n",
       "      <td>tetu1245-suai-tinea-1</td>\n",
       "      <td>3173</td>\n",
       "      <td>3171</td>\n",
       "      <td>kaˈhanok</td>\n",
       "      <td>kaˈhanok</td>\n",
       "      <td>tinea</td>\n",
       "      <td>ringworm</td>\n",
       "      <td>NaN</td>\n",
       "      <td>4.50</td>\n",
       "      <td>NaN</td>\n",
       "      <td>1.01</td>\n",
       "      <td>sout2898</td>\n",
       "      <td>True</td>\n",
       "      <td>tet</td>\n",
       "      <td>Southern Tetun</td>\n",
       "      <td>Austronesian</td>\n",
       "      <td>Papunesia</td>\n",
       "      <td>NaN</td>\n",
       "      <td>NaN</td>\n",
       "      <td>NaN</td>\n",
       "      <td>NaN</td>\n",
       "      <td>tinea~ringworm</td>\n",
       "    </tr>\n",
       "  </tbody>\n",
       "</table>\n",
       "<p>76346 rows × 23 columns</p>\n",
       "</div>"
      ],
      "text/plain": [
       "                       Form_ID_x                Form_ID_y  Concepticon_ID_x  \\\n",
       "0        Chaozhou-61_soilearth-1   Chaozhou-60_mudearth-1              1228   \n",
       "1         Chengdu-61_soilearth-1    Chengdu-60_mudearth-1              1228   \n",
       "2          Fuzhou-61_soilearth-1     Fuzhou-60_mudearth-1              1228   \n",
       "3       Guangzhou-61_soilearth-1  Guangzhou-60_mudearth-1              1228   \n",
       "4         Meixian-61_soilearth-1    Meixian-60_mudearth-1              1228   \n",
       "...                          ...                      ...               ...   \n",
       "76341   alor1247-bana-ringworm-1    alor1247-bana-tinea-1              3173   \n",
       "76342        atim1239-ringworm-1         atim1239-tinea-1              3173   \n",
       "76343        kara1499-ringworm-1         kara1499-tinea-1              3173   \n",
       "76344  kelo1247-hopte-ringworm-1   kelo1247-hopte-tinea-1              3173   \n",
       "76345   tetu1245-suai-ringworm-1    tetu1245-suai-tinea-1              3173   \n",
       "\n",
       "       Concepticon_ID_y     Value      Form     Concept_x Concept_y  Conc.M.x  \\\n",
       "0                   640    tʰou⁵⁵    tʰou⁵⁵  earth (soil)       mud       4.8   \n",
       "1                   640  ȵi³¹pa⁴⁴  ȵi³¹pa⁴⁴  earth (soil)       mud       4.8   \n",
       "2                   640     tʰu⁵²     tʰu⁵²  earth (soil)       mud       4.8   \n",
       "3                   640     nɐi²¹     nɐi²¹  earth (soil)       mud       4.8   \n",
       "4                   640      nɛ¹²      nɛ¹²  earth (soil)       mud       4.8   \n",
       "...                 ...       ...       ...           ...       ...       ...   \n",
       "76341              3171       naɔ       naɔ         tinea  ringworm       NaN   \n",
       "76342              3171  kaˈfisiŋ  kaˈfisiŋ         tinea  ringworm       NaN   \n",
       "76343              3171       jes       jes         tinea  ringworm       NaN   \n",
       "76344              3171       kat       kat         tinea  ringworm       NaN   \n",
       "76345              3171  kaˈhanok  kaˈhanok         tinea  ringworm       NaN   \n",
       "\n",
       "       Conc.M.y  Conc.SD.x  Conc.SD.y Glottocode  diff ISO639P3code  \\\n",
       "0          4.86       0.55       0.44   chao1238  True          NaN   \n",
       "1          4.86       0.55       0.44   chen1267  True          NaN   \n",
       "2          4.86       0.55       0.44   fuzh1239  True          NaN   \n",
       "3          4.86       0.55       0.44   guan1279  True          NaN   \n",
       "4          4.86       0.55       0.44   yuet1238  True          NaN   \n",
       "...         ...        ...        ...        ...   ...          ...   \n",
       "76341      4.50        NaN       1.01   alor1247  True          aol   \n",
       "76342      4.50        NaN       1.01   atim1239  True          abz   \n",
       "76343      4.50        NaN       1.01   kara1499  True          kgv   \n",
       "76344      4.50        NaN       1.01   kelo1247  True          kyo   \n",
       "76345      4.50        NaN       1.01   sout2898  True          tet   \n",
       "\n",
       "                   Name   Top-level family  Macroarea   Latitude   Longitude  \\\n",
       "0              Chaozhou       Sino-Tibetan    Eurasia  23.666667  116.633333   \n",
       "1      Chengdu Mandarin       Sino-Tibetan    Eurasia  30.605768  103.970947   \n",
       "2               Houguan       Sino-Tibetan    Eurasia  26.089040  119.294243   \n",
       "3             Guangzhou       Sino-Tibetan    Eurasia  23.125350  112.947655   \n",
       "4               Meixian       Sino-Tibetan    Eurasia  24.352296  115.890338   \n",
       "...                 ...                ...        ...        ...         ...   \n",
       "76341           Alorese       Austronesian  Papunesia  -8.203820  124.264000   \n",
       "76342         Atimelang  Timor-Alor-Pantar  Papunesia        NaN         NaN   \n",
       "76343          Kalamang      West Bomberai  Papunesia  -3.470370  132.678000   \n",
       "76344              Klon  Timor-Alor-Pantar  Papunesia  -8.406880  124.429000   \n",
       "76345    Southern Tetun       Austronesian  Papunesia        NaN         NaN   \n",
       "\n",
       "                                            Endangerment  ConcDist  \\\n",
       "0                                                    NaN      0.06   \n",
       "1                                                    NaN      0.06   \n",
       "2                                                    NaN      0.06   \n",
       "3                                                    NaN      0.06   \n",
       "4                                                    NaN      0.06   \n",
       "...                                                  ...       ...   \n",
       "76341  AES(ordinal=1, id='safe', name='not endangered...       NaN   \n",
       "76342                                                NaN       NaN   \n",
       "76343  AES(ordinal=3, id='definite', name='shifting',...       NaN   \n",
       "76344  AES(ordinal=3, id='definite', name='shifting',...       NaN   \n",
       "76345                                                NaN       NaN   \n",
       "\n",
       "                  COLEX  \n",
       "0      earth (soil)~mud  \n",
       "1      earth (soil)~mud  \n",
       "2      earth (soil)~mud  \n",
       "3      earth (soil)~mud  \n",
       "4      earth (soil)~mud  \n",
       "...                 ...  \n",
       "76341    tinea~ringworm  \n",
       "76342    tinea~ringworm  \n",
       "76343    tinea~ringworm  \n",
       "76344    tinea~ringworm  \n",
       "76345    tinea~ringworm  \n",
       "\n",
       "[76346 rows x 23 columns]"
      ]
     },
     "execution_count": 198,
     "metadata": {},
     "output_type": "execute_result"
    }
   ],
   "source": [
    "df_merge"
   ]
  },
  {
   "cell_type": "markdown",
   "id": "92659a5f-40a2-40f7-9d4a-3e155424a2b1",
   "metadata": {
    "tags": []
   },
   "source": [
    "### 3. count colexification by languages and their concreteness"
   ]
  },
  {
   "cell_type": "code",
   "execution_count": null,
   "id": "330eabc0-e805-452a-936a-b7bfedfec884",
   "metadata": {},
   "outputs": [],
   "source": [
    "colex_condist"
   ]
  },
  {
   "cell_type": "code",
   "execution_count": 200,
   "id": "183d4b64-a74e-47d0-abe7-fdad75dd5071",
   "metadata": {
    "tags": []
   },
   "outputs": [],
   "source": [
    "\n",
    "colex_lang_counter = defaultdict(dict)\n",
    "for lang, colex in zip(df_merge[\"Glottocode\"], df_merge[\"COLEX\"]):\n",
    "    if colex not in colex_lang_counter:\n",
    "        colex_lang_counter[colex]=defaultdict(int)\n",
    "    \n",
    "    colex_lang_counter[colex][lang]+=1\n",
    "    "
   ]
  },
  {
   "cell_type": "code",
   "execution_count": 202,
   "id": "c669b3e3-39d2-4c16-87eb-9c853d408ab7",
   "metadata": {
    "tags": []
   },
   "outputs": [],
   "source": [
    "langs_len = len(list(set(df_merge[\"Glottocode\"])))"
   ]
  },
  {
   "cell_type": "code",
   "execution_count": 203,
   "id": "c1aff6a0-0d19-40f9-ab7d-97a9416721ed",
   "metadata": {
    "tags": []
   },
   "outputs": [
    {
     "data": {
      "text/plain": [
       "1989"
      ]
     },
     "execution_count": 203,
     "metadata": {},
     "output_type": "execute_result"
    }
   ],
   "source": [
    "langs_len"
   ]
  },
  {
   "cell_type": "code",
   "execution_count": 204,
   "id": "70f2c7b6-0b1b-47a3-a96e-146def16b4f4",
   "metadata": {
    "tags": []
   },
   "outputs": [],
   "source": [
    "colex_langs = {k:len(v) for k,v in colex_lang_counter.items()}"
   ]
  },
  {
   "cell_type": "code",
   "execution_count": 205,
   "id": "8e035958-7399-47ce-b3fc-dcad80b04a89",
   "metadata": {
    "scrolled": true,
    "tags": []
   },
   "outputs": [
    {
     "data": {
      "text/plain": [
       "{'earth (soil)~mud': 16,\n",
       " 'earth (soil)~dust': 25,\n",
       " 'earth (soil)~sand': 41,\n",
       " 'earth (soil)~ash': 6,\n",
       " 'earth (soil)~dirty': 9,\n",
       " 'earth (soil)~field': 15,\n",
       " 'earth (soil)~land': 151,\n",
       " 'earth (soil)~country': 61,\n",
       " 'earth (soil)~mainland': 27,\n",
       " 'earth (soil)~world': 64,\n",
       " 'earth (soil)~island': 9,\n",
       " 'earth (soil)~place (position)': 13,\n",
       " 'earth (soil)~plain': 5,\n",
       " 'earth (soil)~clay': 47,\n",
       " 'earth (soil)~floor': 57,\n",
       " 'earth (soil)~down or below': 5,\n",
       " 'earth (soil)~adobe': 3,\n",
       " 'earth (soil)~ground': 69,\n",
       " 'earth (soil)~area': 8,\n",
       " 'earth (soil)~raining or rain': 3,\n",
       " 'dust~ash': 79,\n",
       " 'dust~cloud': 3,\n",
       " 'dust~sand': 7,\n",
       " 'dust~smoke (exhaust)': 22,\n",
       " 'dust~fog': 13,\n",
       " 'dust~clay': 5,\n",
       " 'dust~land': 6,\n",
       " 'dust~mud': 4,\n",
       " 'dust~flour': 5,\n",
       " 'mud~dirty': 8,\n",
       " 'mud~shore': 3,\n",
       " 'mud~clay': 62,\n",
       " 'mud~mortar binder': 3,\n",
       " 'mud~adobe': 5,\n",
       " 'mud~swamp': 12,\n",
       " 'mountain or hill~top': 13,\n",
       " 'mountain or hill~stone or rock': 9,\n",
       " 'mountain or hill~precipice': 8,\n",
       " 'precipice~stone or rock': 53,\n",
       " 'precipice~reef': 5,\n",
       " 'precipice~wall (of house)': 6,\n",
       " 'precipice~edge': 5,\n",
       " 'precipice~valley': 4,\n",
       " 'plain~smooth': 5,\n",
       " 'plain~field': 77,\n",
       " 'plain~garden': 4,\n",
       " 'plain~pasture': 24,\n",
       " 'plain~flat': 21,\n",
       " 'plain~floor': 3,\n",
       " 'plain~land': 4,\n",
       " 'plain~valley': 15,\n",
       " 'valley~swamp': 3,\n",
       " 'valley~river': 4,\n",
       " 'cave~hole': 46,\n",
       " 'cave~grave': 5,\n",
       " 'cave~ditch': 4,\n",
       " 'cave~nest': 3,\n",
       " 'cave~lair': 15,\n",
       " 'calm~be silent': 4,\n",
       " 'calm~silence': 38,\n",
       " 'calm~quiet': 12,\n",
       " 'rough (of sea)~wave': 10,\n",
       " 'rough (of sea)~rough': 11,\n",
       " 'bay~lagoon': 6,\n",
       " 'bay~port': 5,\n",
       " 'bay~cape': 3,\n",
       " 'lagoon~lake': 50,\n",
       " 'lagoon~swamp': 4,\n",
       " 'tide~high tide': 25,\n",
       " 'tide~low tide': 12,\n",
       " 'tide~wave': 3,\n",
       " 'forest~tree': 16,\n",
       " 'forest~mountain': 10,\n",
       " 'forest~wood': 16,\n",
       " 'forest~pasture': 4,\n",
       " 'forest~plant (vegetation)': 3,\n",
       " 'forest~thick': 5,\n",
       " 'forest~grass': 11,\n",
       " 'thunder~lightning': 31,\n",
       " 'thunder~cloud': 5,\n",
       " 'thunder~sky': 5,\n",
       " 'thunder~bolt (of lightning)': 17,\n",
       " 'thunder~sound or noise': 3,\n",
       " 'thunder~thunder (verb)': 16,\n",
       " 'light (radiation)~day (not night)': 21,\n",
       " 'light (radiation)~bright': 42,\n",
       " 'light (radiation)~white': 5,\n",
       " 'light (radiation)~light (color)': 27,\n",
       " 'light (radiation)~fire': 16,\n",
       " 'light (radiation)~clear': 5,\n",
       " 'light (radiation)~sun': 9,\n",
       " 'light (radiation)~candle': 9,\n",
       " 'light (radiation)~easy': 4,\n",
       " 'light (radiation)~torch or lamp': 16,\n",
       " 'light (radiation)~world': 7,\n",
       " 'light (radiation)~shine': 9,\n",
       " 'light (radiation)~hell': 3,\n",
       " 'light (radiation)~dawn': 12,\n",
       " 'light (radiation)~month': 3,\n",
       " 'light (radiation)~electricity': 6,\n",
       " 'darkness~night': 31,\n",
       " 'darkness~dark': 39,\n",
       " 'darkness~obscure': 12,\n",
       " 'darkness~evening': 6,\n",
       " 'darkness~dirty': 3,\n",
       " 'darkness~black': 13,\n",
       " 'darkness~hit': 17,\n",
       " 'shade~ghost': 7,\n",
       " 'shade~soul': 17,\n",
       " 'dew~fog': 16,\n",
       " 'dew~ice': 3,\n",
       " 'dew~snow': 4,\n",
       " 'flame~fire': 40,\n",
       " 'flame~torch or lamp': 3,\n",
       " 'flame~red': 4,\n",
       " 'flame~hell': 3,\n",
       " 'flame~tongue': 6,\n",
       " 'flame~smoke (exhaust)': 3,\n",
       " 'ash~charcoal': 5,\n",
       " 'ash~fire': 7,\n",
       " 'ash~white': 7,\n",
       " 'ash~cloud': 4,\n",
       " 'ash~fireplace': 3,\n",
       " 'ash~oven': 5,\n",
       " 'ash~smoke (exhaust)': 4,\n",
       " 'embers~charcoal': 68,\n",
       " 'embers~fire': 6,\n",
       " 'burn (something)~burning': 81,\n",
       " 'burn (something)~hot': 7,\n",
       " 'burn (something)~light (ignite)': 45,\n",
       " 'burn (something)~arson': 12,\n",
       " 'burn (something)~shoot': 5,\n",
       " 'burn (something)~smoke (inhale)': 3,\n",
       " 'burn (something)~roast or fry': 10,\n",
       " 'burn (something)~cook (something)': 6,\n",
       " 'burn (something)~bake': 7,\n",
       " 'extinguish~kill': 28,\n",
       " 'extinguish~die': 9,\n",
       " 'extinguish~destroy': 3,\n",
       " 'extinguish~murder': 5,\n",
       " 'extinguish~fart': 3,\n",
       " 'move~walk': 19,\n",
       " 'move~mix': 16,\n",
       " 'move~go': 21,\n",
       " 'move~come': 4,\n",
       " 'move~drive': 4,\n",
       " 'move~shake': 8,\n",
       " 'move~ride': 3,\n",
       " 'move~i': 3,\n",
       " 'move~change': 5,\n",
       " 'turn (something)~turn around': 34,\n",
       " 'turn (something)~roll': 17,\n",
       " 'turn (something)~twist (around)': 10,\n",
       " 'turn (something)~change': 23,\n",
       " 'turn (something)~come back': 11,\n",
       " 'turn (something)~mix': 4,\n",
       " 'turn (something)~dig': 3,\n",
       " 'turn (something)~translate': 13,\n",
       " 'roll~turn around': 13,\n",
       " 'roll~twist (around)': 20,\n",
       " 'roll~wrap': 16,\n",
       " 'roll~fold': 5,\n",
       " 'twist (around)~turn around': 17,\n",
       " 'twist (around)~wrap': 11,\n",
       " 'twist (around)~squeeze': 20,\n",
       " 'twist (around)~spin': 25,\n",
       " 'twist (around)~braid (verb) or weave (basket)': 12,\n",
       " 'twist (around)~weave': 5,\n",
       " 'twist (around)~bend': 14,\n",
       " 'twist (around)~braid': 7,\n",
       " 'twist (around)~knead': 3,\n",
       " 'twist (around)~grind': 3,\n",
       " 'twist (around)~crooked': 5,\n",
       " 'twist (around)~fold': 7,\n",
       " 'rise (move upwards)~go up (ascend)': 99,\n",
       " 'rise (move upwards)~stand': 13,\n",
       " 'rise (move upwards)~grow': 10,\n",
       " 'rise (move upwards)~climb': 59,\n",
       " 'rise (move upwards)~land (descend)': 3,\n",
       " 'rise (move upwards)~pick up': 6,\n",
       " 'rise (move upwards)~lift': 17,\n",
       " 'rise (move upwards)~fly (move through air)': 4,\n",
       " 'rise (move upwards)~ride': 6,\n",
       " 'rise (move upwards)~wake up': 11,\n",
       " 'rise (move upwards)~go out': 6,\n",
       " 'rise (move upwards)~jump': 4,\n",
       " 'rise (move upwards)~be born': 4,\n",
       " 'rise (move upwards)~leave': 10,\n",
       " 'lift~carry': 9,\n",
       " 'lift~get': 3,\n",
       " 'lift~pick up': 107,\n",
       " 'lift~take': 13,\n",
       " 'lift~build': 11,\n",
       " 'lift~go up (ascend)': 10,\n",
       " 'lift~stretch': 3,\n",
       " 'lift~put': 3,\n",
       " 'lift~carry on head': 3,\n",
       " 'lift~carry in hand': 8,\n",
       " 'lift~carry under arm': 3,\n",
       " 'lift~weigh': 5,\n",
       " 'lift~stand up': 3,\n",
       " 'fall~tumble (fall down)': 41,\n",
       " 'fall~eat': 6,\n",
       " 'fall~cut': 3,\n",
       " 'fall~climb': 3,\n",
       " 'fall~drip (emit liquid)': 8,\n",
       " 'fall~drop': 18,\n",
       " 'fall~sink (descend)': 8,\n",
       " 'fall~kill': 4,\n",
       " 'fall~drop (something)': 51,\n",
       " 'fall~go down (descend)': 11,\n",
       " 'fall~cut down': 9,\n",
       " 'fall~slip': 3,\n",
       " 'fall~be born': 6,\n",
       " 'fall~land (descend)': 3,\n",
       " 'fall~go': 5,\n",
       " 'drip (emit liquid)~pour': 9,\n",
       " 'drip (emit liquid)~dribble': 32,\n",
       " 'drip (emit liquid)~drop (something)': 24,\n",
       " 'drip (emit liquid)~flow': 17,\n",
       " 'throw~lie down': 3,\n",
       " 'throw~sow seeds': 6,\n",
       " 'throw~shoot': 37,\n",
       " 'throw~drop (something)': 6,\n",
       " 'throw~pour': 7,\n",
       " 'throw~cut down': 4,\n",
       " 'throw~pull': 4,\n",
       " 'throw~eat': 3,\n",
       " 'throw~put': 3,\n",
       " 'throw~let go or set free': 3,\n",
       " 'throw~divorce': 6,\n",
       " 'throw~strike or beat': 3,\n",
       " 'throw~hang up': 3,\n",
       " 'throw~misplace': 5,\n",
       " 'shake~shiver': 81,\n",
       " 'shake~swing (movement)': 7,\n",
       " 'shake~mix': 8,\n",
       " 'shake~jog (something)': 40,\n",
       " 'shake~swing (something)': 10,\n",
       " 'shake~sway': 3,\n",
       " 'flow~go': 13,\n",
       " 'flow~blow (of wind)': 4,\n",
       " 'flow~run': 32,\n",
       " 'flow~come': 4,\n",
       " 'flow~walk': 14,\n",
       " 'flow~float': 20,\n",
       " 'flow~pour': 9,\n",
       " 'flow~dribble': 6,\n",
       " 'flow~go down (descend)': 4,\n",
       " 'flow~fly (move through air)': 3,\n",
       " 'flow~swim': 4,\n",
       " 'flow~sail': 5,\n",
       " 'flow~leave': 6,\n",
       " 'flow~retreat': 3,\n",
       " 'flow~stream (flow continuously)': 36,\n",
       " 'sink (descend)~drowned': 19,\n",
       " 'sink (descend)~dive': 24,\n",
       " 'sink (descend)~enter': 3,\n",
       " 'sink (descend)~go down (descend)': 3,\n",
       " 'sink (descend)~set (heavenly bodies)': 8,\n",
       " 'sink (descend)~drown': 6,\n",
       " 'float~go': 3,\n",
       " 'float~swim': 72,\n",
       " 'float~sail': 40,\n",
       " 'float~bathe': 3,\n",
       " 'float~fly (move through air)': 5,\n",
       " 'swim~wash': 3,\n",
       " 'swim~walk': 3,\n",
       " 'swim~dig': 3,\n",
       " 'swim~sail': 50,\n",
       " 'swim~bathe': 29,\n",
       " 'swim~row': 26,\n",
       " 'swim~water': 3,\n",
       " 'sail~row': 19,\n",
       " 'sail~sailcloth': 16,\n",
       " 'sail~walk': 3,\n",
       " 'blow (of wind)~shoot': 6,\n",
       " 'blow (of wind)~fly (move through air)': 7,\n",
       " 'blow (of wind)~blow (with mouth)': 49,\n",
       " 'blow (of wind)~dig': 3,\n",
       " 'blow (of wind)~give': 3,\n",
       " 'blow (of wind)~fan (action)': 15,\n",
       " 'blow (of wind)~breath or breathe': 5,\n",
       " 'blow (of wind)~wind': 27,\n",
       " 'blow (of wind)~whistle': 4,\n",
       " 'blow (of wind)~come': 5,\n",
       " 'kneel~knee': 4,\n",
       " 'crouch~sit': 18,\n",
       " 'crouch~bend': 4,\n",
       " 'jump~run': 10,\n",
       " 'jump~dance': 15,\n",
       " 'jump~fly (move through air)': 20,\n",
       " 'jump~splash': 3,\n",
       " 'jump~flee': 4,\n",
       " 'kick~shoot': 4,\n",
       " 'kick~strike or beat': 11,\n",
       " 'kick~push': 8,\n",
       " 'kick~pound': 3,\n",
       " 'walk~go': 228,\n",
       " 'walk~come': 14,\n",
       " 'walk~run': 11,\n",
       " 'walk~enter': 6,\n",
       " 'walk~fly (move through air)': 7,\n",
       " 'walk~give': 3,\n",
       " 'walk~move (oneself)': 4,\n",
       " 'walk~ride': 6,\n",
       " 'walk~leave': 29,\n",
       " 'walk~go down (descend)': 6,\n",
       " 'walk~go up (ascend)': 6,\n",
       " 'walk~hunt': 3,\n",
       " 'walk~drive': 14,\n",
       " 'walk~come back': 7,\n",
       " 'walk~follow': 3,\n",
       " 'walk~blood': 3,\n",
       " 'walk~look for': 3,\n",
       " 'walk~cut': 5,\n",
       " 'walk~step (verb)': 11,\n",
       " 'walk~walk (take a walk)': 9,\n",
       " 'limp~lame': 60,\n",
       " 'run~flee': 71,\n",
       " 'run~fly (move through air)': 4,\n",
       " 'run~come': 3,\n",
       " 'run~hurry': 5,\n",
       " 'run~retreat': 6,\n",
       " 'run~give': 3,\n",
       " 'run~ride': 3,\n",
       " 'run~stream (flow continuously)': 4,\n",
       " 'run~escape': 10,\n",
       " 'run~sharp': 3,\n",
       " 'go~come': 21,\n",
       " 'go~leave': 81,\n",
       " 'go~go out': 3,\n",
       " 'go~last (endure)': 7,\n",
       " 'go~ride': 13,\n",
       " 'go~go down (descend)': 5,\n",
       " 'go~go up (ascend)': 6,\n",
       " 'go~enter': 8,\n",
       " 'go~fly (move through air)': 5,\n",
       " 'go~drive': 40,\n",
       " 'go~come back': 10,\n",
       " 'go~say': 3,\n",
       " 'go~bone': 3,\n",
       " 'go~let go or set free': 5,\n",
       " 'go~lead (guide)': 3,\n",
       " 'go~move (oneself)': 9,\n",
       " 'go~step (verb)': 8,\n",
       " 'go~pass': 8,\n",
       " 'go up (ascend)~climb': 119,\n",
       " 'go up (ascend)~crawl': 8,\n",
       " 'go up (ascend)~ride': 12,\n",
       " 'go up (ascend)~go out': 3,\n",
       " 'go up (ascend)~leave': 4,\n",
       " 'go up (ascend)~cut': 4,\n",
       " 'go up (ascend)~grow': 4,\n",
       " 'go up (ascend)~increase': 7,\n",
       " 'go up (ascend)~stand up': 13,\n",
       " 'go up (ascend)~pick up': 5,\n",
       " 'climb~ride': 17,\n",
       " 'climb~crawl or creep': 8,\n",
       " 'climb~creep': 6,\n",
       " 'go out~go down (descend)': 5,\n",
       " 'go out~leave': 28,\n",
       " 'go out~land (descend)': 5,\n",
       " 'go out~be born': 7,\n",
       " 'go out~enter': 5,\n",
       " 'come~arrive': 70,\n",
       " 'come~dog': 5,\n",
       " 'come~come back': 17,\n",
       " 'come~enter': 8,\n",
       " 'come~see': 3,\n",
       " 'come~go down (descend)': 4,\n",
       " 'come~say': 5,\n",
       " 'come~give': 4,\n",
       " 'come~bring': 6,\n",
       " 'come~approach': 6,\n",
       " 'come~get': 10,\n",
       " 'come~shoot': 4,\n",
       " 'come~here': 4,\n",
       " 'come~become': 5,\n",
       " 'leave~let go or set free': 4,\n",
       " 'leave~flee': 6,\n",
       " 'leave~go down (descend)': 3,\n",
       " 'leave~retreat': 6,\n",
       " 'leave~disappear': 6,\n",
       " 'leave~seize': 4,\n",
       " 'leave~divide': 5,\n",
       " 'leave~come back': 4,\n",
       " 'leave~divorce': 6,\n",
       " 'leave~separate': 6,\n",
       " 'leave~inside': 3,\n",
       " 'leave~drive': 12,\n",
       " 'leave~pass': 5,\n",
       " 'disappear~misplace': 48,\n",
       " 'disappear~cease': 6,\n",
       " 'disappear~be dead or die': 3,\n",
       " 'disappear~hide (conceal)': 3,\n",
       " 'disappear~flee': 4,\n",
       " 'disappear~set (heavenly bodies)': 3,\n",
       " 'flee~escape': 44,\n",
       " 'flee~retreat': 34,\n",
       " 'flee~hide (conceal)': 4,\n",
       " 'follow~pursue': 48,\n",
       " 'follow~look for': 5,\n",
       " 'follow~obey': 7,\n",
       " 'follow~arrive': 4,\n",
       " 'follow~imitate': 7,\n",
       " 'follow~hunt': 14,\n",
       " 'arrive~approach': 14,\n",
       " 'arrive~come back': 9,\n",
       " 'arrive~get': 17,\n",
       " 'arrive~land (descend)': 5,\n",
       " 'arrive~find': 4,\n",
       " 'arrive~be born': 5,\n",
       " 'arrive~meet': 4,\n",
       " 'arrive~understand': 4,\n",
       " 'arrive~ripen': 7,\n",
       " 'arrive~become': 5,\n",
       " 'approach~near': 10,\n",
       " 'enter~embrace': 3,\n",
       " 'enter~dive': 3,\n",
       " 'enter~put': 3,\n",
       " 'enter~near': 3,\n",
       " 'enter~father': 3,\n",
       " 'enter~put on': 5,\n",
       " 'enter~crawl or creep': 3,\n",
       " 'enter~set (heavenly bodies)': 13,\n",
       " 'enter~come back': 3,\n",
       " 'carry~carry on shoulder': 44,\n",
       " 'carry~get': 15,\n",
       " 'carry~give': 6,\n",
       " 'carry~carry in hand': 45,\n",
       " 'carry~bring': 46,\n",
       " 'carry~lead (guide)': 31,\n",
       " 'carry~carry on head': 33,\n",
       " 'carry~carry under arm': 19,\n",
       " 'carry~put on': 3,\n",
       " 'carry~send': 7,\n",
       " 'carry~drive': 7,\n",
       " 'carry~pick up': 24,\n",
       " 'carry~hold': 11,\n",
       " 'carry~own': 3,\n",
       " 'carry~take': 51,\n",
       " 'carry~choose': 3,\n",
       " 'carry~hear': 6,\n",
       " 'carry~dwell (live, reside)': 3,\n",
       " 'carry~put': 3,\n",
       " 'carry~seize': 8,\n",
       " 'carry~borrow': 4,\n",
       " 'carry~buy': 13,\n",
       " 'carry~catch': 3,\n",
       " 'carry~drag': 4,\n",
       " 'bring~take': 15,\n",
       " 'bring~carry in hand': 6,\n",
       " 'bring~lead (guide)': 9,\n",
       " 'bring~give': 9,\n",
       " 'bring~send': 4,\n",
       " 'bring~pick up': 3,\n",
       " 'bring~seize': 3,\n",
       " 'bring~hold': 4,\n",
       " 'bring~get': 9,\n",
       " 'bring~catch': 4,\n",
       " 'bring~drive': 4,\n",
       " 'send~let go or set free': 26,\n",
       " 'send~allow or permit': 7,\n",
       " 'send~lead (guide)': 6,\n",
       " 'send~command': 26,\n",
       " 'send~put': 4,\n",
       " 'send~drive': 7,\n",
       " 'send~take': 3,\n",
       " 'send~give': 3,\n",
       " 'send~say': 3,\n",
       " 'send~rule': 4,\n",
       " 'send~push': 4,\n",
       " 'ride~sit': 6,\n",
       " 'ride~drive': 15,\n",
       " 'push~squeeze': 10,\n",
       " 'push~pull': 7,\n",
       " 'push~dig': 5,\n",
       " 'push~split': 3,\n",
       " 'push~grind': 6,\n",
       " 'push~press': 17,\n",
       " 'push~pound': 3,\n",
       " 'push~refuse': 21,\n",
       " 'push~rub': 5,\n",
       " 'push~wipe': 5,\n",
       " 'road~path': 123,\n",
       " 'road~manner': 19,\n",
       " 'road~footprint': 12,\n",
       " 'road~path or road': 45,\n",
       " 'road~street': 18,\n",
       " 'axle~spindle': 8,\n",
       " 'canoe~boat': 150,\n",
       " 'canoe~outrigger': 57,\n",
       " 'canoe~raft': 7,\n",
       " 'canoe~trough': 5,\n",
       " 'canoe~ship': 9,\n",
       " 'row~paddle': 7,\n",
       " 'row~oar': 10,\n",
       " 'row~mix': 5,\n",
       " 'row~drive': 3,\n",
       " 'mast~doorpost': 3,\n",
       " 'mast~post': 11,\n",
       " 'port~bridge': 3,\n",
       " 'have~own': 94,\n",
       " 'have~hold': 20,\n",
       " 'have~keep': 17,\n",
       " 'have~get': 9,\n",
       " 'have~sit': 4,\n",
       " 'have~find': 3,\n",
       " 'have~dwell (live, reside)': 6,\n",
       " 'have~carry in hand': 4,\n",
       " 'have~rich': 13,\n",
       " 'have~remain': 3,\n",
       " 'have~be': 8,\n",
       " 'take~hold': 45,\n",
       " 'take~buy': 52,\n",
       " 'take~get': 74,\n",
       " 'take~do or make': 3,\n",
       " 'take~seize': 62,\n",
       " 'take~keep': 3,\n",
       " 'take~catch': 52,\n",
       " 'take~trap (catch)': 12,\n",
       " 'take~choose': 7,\n",
       " 'take~drink': 3,\n",
       " 'take~pick up': 30,\n",
       " 'take~borrow': 7,\n",
       " 'take~marry': 6,\n",
       " 'take~smoke (exhaust)': 3,\n",
       " 'take~give': 14,\n",
       " 'take~hunt': 4,\n",
       " 'take~carry in hand': 9,\n",
       " 'take~carry on head': 5,\n",
       " 'take~carry on shoulder': 5,\n",
       " 'take~lead (guide)': 4,\n",
       " 'take~break (destroy or get destroyed)': 4,\n",
       " 'seize~trap (catch)': 43,\n",
       " 'seize~catch': 121,\n",
       " 'seize~hold': 118,\n",
       " 'seize~buy': 9,\n",
       " 'seize~borrow': 3,\n",
       " 'seize~sing': 3,\n",
       " 'seize~get': 21,\n",
       " 'seize~embrace': 5,\n",
       " 'seize~keep': 5,\n",
       " 'seize~own': 4,\n",
       " 'seize~choose': 3,\n",
       " 'seize~stretch': 3,\n",
       " 'seize~cover': 4,\n",
       " 'seize~gather': 4,\n",
       " 'seize~pick up': 7,\n",
       " 'seize~pinch': 5,\n",
       " 'seize~hunt': 8,\n",
       " 'seize~touch': 5,\n",
       " 'seize~rub': 3,\n",
       " 'seize~carry in hand': 7,\n",
       " 'seize~burning': 3,\n",
       " 'seize~build': 3,\n",
       " 'hold~defend': 4,\n",
       " 'hold~squeeze': 3,\n",
       " 'hold~trap (catch)': 34,\n",
       " 'hold~catch': 96,\n",
       " 'hold~keep': 48,\n",
       " 'hold~own': 22,\n",
       " 'hold~preserve': 12,\n",
       " 'hold~buy': 7,\n",
       " 'hold~rule': 5,\n",
       " 'hold~get': 10,\n",
       " 'hold~carry in hand': 30,\n",
       " 'hold~embrace': 15,\n",
       " 'hold~touch': 6,\n",
       " 'hold~pinch': 3,\n",
       " 'hold~dig': 3,\n",
       " 'hold~fight': 4,\n",
       " 'hold~build': 4,\n",
       " 'hold~work (activity)': 3,\n",
       " 'hold~pull': 4,\n",
       " 'get~see': 10,\n",
       " 'get~gather': 5,\n",
       " 'get~kill': 3,\n",
       " 'get~find': 29,\n",
       " 'get~lie down': 4,\n",
       " 'get~catch': 19,\n",
       " 'get~buy': 22,\n",
       " 'get~earn': 13,\n",
       " 'get~own': 12,\n",
       " 'get~keep': 3,\n",
       " 'get~choose': 5,\n",
       " 'get~marry': 3,\n",
       " 'get~pick up': 13,\n",
       " 'get~meet': 10,\n",
       " 'get~trap (catch)': 6,\n",
       " 'get~borrow': 6,\n",
       " 'get~carry in hand': 3,\n",
       " 'get~understand': 3,\n",
       " 'get~want': 4,\n",
       " 'keep~preserve': 116,\n",
       " 'keep~own': 16,\n",
       " 'keep~catch': 3,\n",
       " 'keep~put': 10,\n",
       " 'keep~rescue': 4,\n",
       " 'keep~defend': 17,\n",
       " 'keep~pick up': 6,\n",
       " 'keep~hide (conceal)': 3,\n",
       " 'keep~guard': 21,\n",
       " 'keep~hide (oneself)': 4,\n",
       " 'keep~protect': 9,\n",
       " 'thing~tool': 12,\n",
       " 'thing~what': 12,\n",
       " 'thing~some': 9,\n",
       " 'thing~word': 6,\n",
       " 'thing~person': 3,\n",
       " 'thing~food': 3,\n",
       " 'thing~animal': 6,\n",
       " 'thing~which': 4,\n",
       " 'thing~item': 37,\n",
       " 'thing~affair': 33,\n",
       " 'thing~work (labour)': 7,\n",
       " 'give~borrow': 4,\n",
       " 'give~mother': 3,\n",
       " 'give~die': 5,\n",
       " 'give~kill': 4,\n",
       " 'give~seed': 3,\n",
       " 'give~hear': 8,\n",
       " 'give~bone': 4,\n",
       " 'give~permit': 7,\n",
       " 'give~see': 4,\n",
       " 'give~eye': 4,\n",
       " 'give~surrender': 9,\n",
       " 'give~lend': 17,\n",
       " 'give~give back': 5,\n",
       " 'give~betray': 7,\n",
       " 'give~allow or permit': 10,\n",
       " 'give~pay': 24,\n",
       " 'give~sell': 22,\n",
       " 'give~share': 9,\n",
       " 'give~put': 18,\n",
       " 'give~say': 6,\n",
       " 'give~do or make': 14,\n",
       " 'give~sacrifice': 4,\n",
       " 'give~thou': 4,\n",
       " 'give~now': 3,\n",
       " 'give~i': 5,\n",
       " 'give~he or she or it': 3,\n",
       " 'give~drink': 9,\n",
       " 'give~penis': 4,\n",
       " 'give~speak': 3,\n",
       " 'give~do': 13,\n",
       " 'give~far': 3,\n",
       " 'give~donate': 36,\n",
       " 'give~cause to (let)': 7,\n",
       " 'give back~come back': 15,\n",
       " 'give back~pay': 4,\n",
       " 'give back~answer': 7,\n",
       " 'destroy~grind': 6,\n",
       " 'destroy~break (destroy or get destroyed)': 27,\n",
       " 'destroy~rub': 9,\n",
       " 'destroy~misplace': 9,\n",
       " 'destroy~kill': 7,\n",
       " 'destroy~damage or injure': 16,\n",
       " 'destroy~finish': 5,\n",
       " 'destroy~spread out': 3,\n",
       " 'destroy~damage': 11,\n",
       " 'destroy~break (cleave)': 13,\n",
       " 'destroy~spoil (somebody or something)': 10,\n",
       " 'destroy~injure': 3,\n",
       " 'damage or injure~pain': 7,\n",
       " 'damage or injure~wound': 6,\n",
       " 'damage or injure~bad': 3,\n",
       " 'damage or injure~rotten': 3,\n",
       " 'find~meet': 39,\n",
       " 'find~see': 31,\n",
       " 'find~beget': 3,\n",
       " 'find~look for': 15,\n",
       " 'find~be born': 3,\n",
       " 'find~know (something)': 4,\n",
       " 'find~earn': 4,\n",
       " 'find~understand': 4,\n",
       " 'find~look': 4,\n",
       " 'misplace~forget': 6,\n",
       " 'misplace~drop (something)': 8,\n",
       " 'misplace~hide (conceal)': 3,\n",
       " 'money~silver': 118,\n",
       " 'money~coin': 49,\n",
       " 'money~scale': 5,\n",
       " 'money~iron': 15,\n",
       " 'money~price': 6,\n",
       " 'rich~wealth': 3,\n",
       " 'poor~difficult': 12,\n",
       " 'poor~beggar': 13,\n",
       " 'poor~orphan': 5,\n",
       " 'beggar~orphan': 3,\n",
       " 'stingy~envy': 3,\n",
       " 'stingy~greedy': 68,\n",
       " 'stingy~hard': 5,\n",
       " 'lend~borrow': 48,\n",
       " 'borrow~ask (request)': 16,\n",
       " 'borrow~catch': 5,\n",
       " 'borrow~hire or rent': 9,\n",
       " 'borrow~owe': 4,\n",
       " 'debt~owe': 16,\n",
       " 'debt~blame': 4,\n",
       " 'debt~bill': 7,\n",
       " 'pay~sell': 10,\n",
       " 'pay~trade or barter': 4,\n",
       " 'pay~buy': 12,\n",
       " 'pay~wages': 6,\n",
       " 'pay~answer': 6,\n",
       " 'pay~price': 4,\n",
       " 'bill~count': 8,\n",
       " 'bill~price': 5,\n",
       " 'hire or rent~wages': 3,\n",
       " 'earn~look for': 10,\n",
       " 'earn~victory': 3,\n",
       " 'buy~sell': 24,\n",
       " 'buy~cry': 4,\n",
       " 'buy~want': 5,\n",
       " 'buy~trade or barter': 9,\n",
       " 'buy~change': 3,\n",
       " 'buy~shout': 3,\n",
       " 'buy~pick up': 6,\n",
       " 'buy~catch': 4,\n",
       " 'buy~ask (request)': 4,\n",
       " 'sell~eye': 3,\n",
       " 'sell~betray': 18,\n",
       " 'sell~trade or barter': 22,\n",
       " 'sell~change': 3,\n",
       " 'trade or barter~change': 25,\n",
       " 'market~store': 8,\n",
       " 'market~town': 3,\n",
       " 'price~wages': 12,\n",
       " 'price~punishment': 4,\n",
       " 'price~expensive': 23,\n",
       " 'expensive~hard': 8,\n",
       " 'expensive~heavy': 5,\n",
       " 'expensive~difficult': 9,\n",
       " 'expensive~holy': 10,\n",
       " 'expensive~tall': 3,\n",
       " 'expensive~precious': 18,\n",
       " 'expensive~dear': 10,\n",
       " 'cheap~light (weight)': 10,\n",
       " 'cheap~easy': 22,\n",
       " 'cheap~low': 3,\n",
       " 'share~divide': 115,\n",
       " 'share~part': 4,\n",
       " 'share~separate': 23,\n",
       " 'share~split': 4,\n",
       " 'share~spread out': 3,\n",
       " 'weigh~pull': 20,\n",
       " 'weigh~stretch': 18,\n",
       " 'weigh~measure': 52,\n",
       " 'weigh~hang up': 8,\n",
       " 'weigh~try': 4,\n",
       " 'weigh~taste (something)': 3,\n",
       " 'weigh~count': 10,\n",
       " 'weigh~heavy': 5,\n",
       " 'weigh~read': 3,\n",
       " 'place (position)~chair': 14,\n",
       " 'place (position)~country': 13,\n",
       " 'place (position)~mainland': 5,\n",
       " 'place (position)~land': 14,\n",
       " 'place (position)~part': 3,\n",
       " 'place (position)~village': 3,\n",
       " 'place (position)~put': 4,\n",
       " 'place (position)~bed': 4,\n",
       " 'place (position)~floor': 5,\n",
       " 'place (position)~world': 6,\n",
       " 'place (position)~time': 6,\n",
       " 'place (position)~house': 3,\n",
       " 'place (position)~room': 4,\n",
       " 'place (position)~area': 28,\n",
       " 'place (position)~space (available)': 34,\n",
       " 'place (position)~ground': 9,\n",
       " 'put~do or make': 18,\n",
       " 'put~plant (something)': 5,\n",
       " 'put~fold': 5,\n",
       " 'put~hang up': 3,\n",
       " 'put~allow or permit': 3,\n",
       " 'put~gather': 5,\n",
       " 'put~cause': 3,\n",
       " 'put~let go or set free': 4,\n",
       " 'put~put on': 9,\n",
       " 'put~remain': 3,\n",
       " 'put~preserve': 3,\n",
       " 'put~cook (something)': 6,\n",
       " 'sit~dwell (live, reside)': 123,\n",
       " 'sit~be alive': 6,\n",
       " 'sit~eat': 4,\n",
       " 'sit~chair': 4,\n",
       " 'sit~remain': 27,\n",
       " 'sit~stand': 5,\n",
       " 'sit~be alive or life': 5,\n",
       " 'sit~lie down': 4,\n",
       " 'sit~sit down': 40,\n",
       " 'sit~set (heavenly bodies)': 5,\n",
       " 'lie down~sleep': 160,\n",
       " 'lie down~dig': 7,\n",
       " 'lie down~rest': 3,\n",
       " 'lie down~dwell (live, reside)': 6,\n",
       " 'lie down~kill': 3,\n",
       " 'lie down~woman': 5,\n",
       " 'lie down~gather': 3,\n",
       " 'lie down~what': 3,\n",
       " 'stand~stand up': 12,\n",
       " 'stand~last (endure)': 6,\n",
       " 'stand~dwell (live, reside)': 6,\n",
       " 'stand~remain': 6,\n",
       " 'stand~wake up': 19,\n",
       " 'stand~cease': 25,\n",
       " 'stand~hear': 3,\n",
       " 'stand~halt (stop)': 11,\n",
       " 'remain~dwell (live, reside)': 60,\n",
       " 'remain~remains': 7,\n",
       " 'remain~cease': 9,\n",
       " 'remain~be alive or life': 8,\n",
       " 'remain~last (endure)': 4,\n",
       " 'remain~come back': 4,\n",
       " 'remain~wait (for)': 4,\n",
       " 'remain~halt (stop)': 5,\n",
       " 'remain~become': 6,\n",
       " 'remain~be': 3,\n",
       " 'gather~mow': 11,\n",
       " 'gather~pile up': 56,\n",
       " 'gather~choose': 6,\n",
       " 'gather~pick up': 49,\n",
       " 'gather~fold': 11,\n",
       " 'gather~join': 25,\n",
       " 'gather~wrap': 5,\n",
       " 'gather~sweep': 14,\n",
       " 'gather~harvest': 3,\n",
       " 'gather~steal': 3,\n",
       " 'gather~pick': 10,\n",
       " 'pick up~pull': 4,\n",
       " 'pick up~pile up': 7,\n",
       " 'pick up~mow': 8,\n",
       " 'pick up~fold': 5,\n",
       " 'pick up~choose': 12,\n",
       " 'pick up~join': 3,\n",
       " 'pick up~catch': 6,\n",
       " 'pick up~trap (catch)': 3,\n",
       " 'join~tie': 9,\n",
       " 'join~meet': 5,\n",
       " 'join~touch': 3,\n",
       " 'join~split': 3,\n",
       " 'join~near': 4,\n",
       " 'join~kill': 3,\n",
       " 'join~mix': 6,\n",
       " 'join~pile up': 10,\n",
       " 'join~connect': 20,\n",
       " 'separate~divide': 57,\n",
       " 'separate~split': 12,\n",
       " 'separate~tear (shred)': 3,\n",
       " 'separate~divorce': 13,\n",
       " 'separate~cut': 4,\n",
       " 'separate~untie': 3,\n",
       " 'separate~spread out': 3,\n",
       " 'separate~choose': 6,\n",
       " 'divide~split': 19,\n",
       " 'divide~cut': 5,\n",
       " 'divide~spread out': 4,\n",
       " 'open~untie': 21,\n",
       " 'open~let go or set free': 6,\n",
       " 'open~spread out': 8,\n",
       " 'shut~cover': 37,\n",
       " 'shut~bury': 3,\n",
       " 'shut~tie': 8,\n",
       " 'cover~bury': 8,\n",
       " 'cover~wrap': 6,\n",
       " 'cover~hide (conceal)': 12,\n",
       " 'cover~put on': 3,\n",
       " 'cover~squeeze': 3,\n",
       " 'cover~split': 3,\n",
       " 'cover~hide (oneself)': 4,\n",
       " 'high~deep': 8,\n",
       " 'high~tall': 154,\n",
       " 'high~long': 23,\n",
       " 'high~loud': 16,\n",
       " 'high~big': 11,\n",
       " 'high~top': 10,\n",
       " 'high~up': 32,\n",
       " 'high~heaven': 3,\n",
       " 'high~sky': 5,\n",
       " 'high~above': 5,\n",
       " 'low~shallow': 19,\n",
       " 'low~short': 36,\n",
       " 'low~small': 6,\n",
       " 'low~down or below': 25,\n",
       " 'low~deep': 4,\n",
       " 'low~below or under': 40,\n",
       " 'low~bottom': 10,\n",
       " 'low~few': 4,\n",
       " 'low~down': 14,\n",
       " 'pointed~sharp': 110,\n",
       " 'pointed~end (of space)': 5,\n",
       " 'pointed~sour': 3,\n",
       " 'pointed~top': 10,\n",
       " 'pointed~tip (of object)': 5,\n",
       " 'edge~top': 14,\n",
       " 'edge~side': 48,\n",
       " 'edge~end (of space)': 23,\n",
       " 'edge~end (of time)': 7,\n",
       " 'edge~shore': 55,\n",
       " 'edge~corner': 15,\n",
       " 'edge~lip': 25,\n",
       " 'edge~boundary': 18,\n",
       " 'edge~mouth': 16,\n",
       " 'edge~beside': 5,\n",
       " 'edge~face': 3,\n",
       " 'edge~tooth': 3,\n",
       " 'edge~fringe': 35,\n",
       " 'edge~shore of lake': 6,\n",
       " 'edge~border': 4,\n",
       " 'side~half': 22,\n",
       " 'side~part': 12,\n",
       " 'side~country': 7,\n",
       " 'side~face': 5,\n",
       " 'side~rib': 5,\n",
       " 'side~shore': 9,\n",
       " 'side~boundary': 4,\n",
       " 'side~wall (of house)': 9,\n",
       " 'side~beside': 20,\n",
       " 'side~behind': 3,\n",
       " 'near~short': 15,\n",
       " 'near~beside': 66,\n",
       " 'near~neighbour': 3,\n",
       " 'near~soon': 4,\n",
       " 'near~sun': 3,\n",
       " 'east~dawn': 4,\n",
       " 'west~evening': 4,\n",
       " 'north~south': 17,\n",
       " 'north~bottom': 3,\n",
       " 'north~up': 6,\n",
       " 'south~midday': 10,\n",
       " 'south~right': 3,\n",
       " 'grow~plant (something)': 7,\n",
       " 'grow~be born': 7,\n",
       " 'grow~big': 34,\n",
       " 'grow~be alive': 13,\n",
       " 'grow~increase': 13,\n",
       " 'grow~raise (bring up)': 3,\n",
       " 'measure~try': 13,\n",
       " 'measure~count': 20,\n",
       " 'measure~taste (something)': 6,\n",
       " 'measure~guess': 3,\n",
       " 'measure~painting': 4,\n",
       " 'measure~imitate': 6,\n",
       " 'big~fat (obese)': 13,\n",
       " 'big~wide': 55,\n",
       " 'big~long': 15,\n",
       " 'big~thick': 31,\n",
       " 'big~many': 39,\n",
       " 'big~loud': 17,\n",
       " 'big~old': 11,\n",
       " 'big~mighty or powerful or strong': 5,\n",
       " 'big~tall': 20,\n",
       " 'big~enough': 4,\n",
       " 'big~fat (organic substance)': 13,\n",
       " 'big~father': 5,\n",
       " 'big~old (aged)': 8,\n",
       " 'small~few': 108,\n",
       " 'small~narrow': 40,\n",
       " 'small~short': 23,\n",
       " 'small~egg': 4,\n",
       " 'small~son': 4,\n",
       " 'small~child': 17,\n",
       " 'small~some': 6,\n",
       " 'small~child (young human)': 11,\n",
       " 'small~baby': 8,\n",
       " 'small~thin': 5,\n",
       " 'small~young': 27,\n",
       " 'small~thin (of shape of object)': 14,\n",
       " 'long~wide': 4,\n",
       " 'long~far': 64,\n",
       " 'long~many': 3,\n",
       " 'long~straight': 4,\n",
       " 'long~tall': 105,\n",
       " 'long~for a long time': 33,\n",
       " 'long~deep': 9,\n",
       " 'long~length': 4,\n",
       " 'tall~deep': 11,\n",
       " 'tall~loud': 18,\n",
       " 'tall~for a long time': 4,\n",
       " 'tall~top': 3,\n",
       " 'short~few': 9,\n",
       " 'short~wide': 5,\n",
       " 'short~shallow': 4,\n",
       " 'short~round': 5,\n",
       " 'wide~thick': 16,\n",
       " 'wide~flat': 10,\n",
       " 'narrow~thin': 11,\n",
       " 'narrow~few': 6,\n",
       " 'narrow~thin (of shape of object)': 35,\n",
       " 'narrow~thin (slim)': 5,\n",
       " 'narrow~fine or thin': 5,\n",
       " 'thick~heavy': 9,\n",
       " 'thick~dense': 9,\n",
       " 'thick~fat (obese)': 11,\n",
       " 'thick~fat (organic substance)': 5,\n",
       " \"thick~mother's brother\": 3,\n",
       " 'thick~full': 4,\n",
       " 'thin (of shape of object)~shallow': 10,\n",
       " ...}"
      ]
     },
     "execution_count": 205,
     "metadata": {},
     "output_type": "execute_result"
    }
   ],
   "source": [
    "colex_langs"
   ]
  },
  {
   "cell_type": "code",
   "execution_count": 206,
   "id": "96beb0c6-9261-4f26-8127-f637837a7d2f",
   "metadata": {
    "tags": []
   },
   "outputs": [
    {
     "data": {
      "application/vnd.jupyter.widget-view+json": {
       "model_id": "277953120b1b4b3caeb097c73f011657",
       "version_major": 2,
       "version_minor": 0
      },
      "text/plain": [
       "VBox(children=(HBox(children=(IntProgress(value=0, description='0.00%', max=423), Label(value='0 / 423'))), HB…"
      ]
     },
     "metadata": {},
     "output_type": "display_data"
    }
   ],
   "source": [
    "df_colex_lang= pd.DataFrame.from_dict(colex_langs, orient=\"index\")\n",
    "df_colex_lang.columns = [\"langs\"]\n",
    "df_colex_lang[\"COLEX\"] = df_colex_lang.index\n",
    "df_colex_lang[\"ConcDist\"] = df_colex_lang[\"COLEX\"].parallel_apply(lambda x: colex_condist[x])"
   ]
  },
  {
   "cell_type": "code",
   "execution_count": 208,
   "id": "b45f06b5-2c2e-4c58-96bd-42c9b180a290",
   "metadata": {
    "tags": []
   },
   "outputs": [
    {
     "data": {
      "text/html": [
       "<div>\n",
       "<style scoped>\n",
       "    .dataframe tbody tr th:only-of-type {\n",
       "        vertical-align: middle;\n",
       "    }\n",
       "\n",
       "    .dataframe tbody tr th {\n",
       "        vertical-align: top;\n",
       "    }\n",
       "\n",
       "    .dataframe thead th {\n",
       "        text-align: right;\n",
       "    }\n",
       "</style>\n",
       "<table border=\"1\" class=\"dataframe\">\n",
       "  <thead>\n",
       "    <tr style=\"text-align: right;\">\n",
       "      <th></th>\n",
       "      <th>langs</th>\n",
       "      <th>COLEX</th>\n",
       "      <th>ConcDist</th>\n",
       "    </tr>\n",
       "  </thead>\n",
       "  <tbody>\n",
       "    <tr>\n",
       "      <th>earth (soil)~mud</th>\n",
       "      <td>16</td>\n",
       "      <td>earth (soil)~mud</td>\n",
       "      <td>0.06</td>\n",
       "    </tr>\n",
       "    <tr>\n",
       "      <th>earth (soil)~dust</th>\n",
       "      <td>25</td>\n",
       "      <td>earth (soil)~dust</td>\n",
       "      <td>0.40</td>\n",
       "    </tr>\n",
       "    <tr>\n",
       "      <th>earth (soil)~sand</th>\n",
       "      <td>41</td>\n",
       "      <td>earth (soil)~sand</td>\n",
       "      <td>0.20</td>\n",
       "    </tr>\n",
       "    <tr>\n",
       "      <th>earth (soil)~ash</th>\n",
       "      <td>6</td>\n",
       "      <td>earth (soil)~ash</td>\n",
       "      <td>0.16</td>\n",
       "    </tr>\n",
       "    <tr>\n",
       "      <th>earth (soil)~dirty</th>\n",
       "      <td>9</td>\n",
       "      <td>earth (soil)~dirty</td>\n",
       "      <td>0.57</td>\n",
       "    </tr>\n",
       "    <tr>\n",
       "      <th>...</th>\n",
       "      <td>...</td>\n",
       "      <td>...</td>\n",
       "      <td>...</td>\n",
       "    </tr>\n",
       "    <tr>\n",
       "      <th>machine~motor</th>\n",
       "      <td>5</td>\n",
       "      <td>machine~motor</td>\n",
       "      <td>0.59</td>\n",
       "    </tr>\n",
       "    <tr>\n",
       "      <th>government~president</th>\n",
       "      <td>3</td>\n",
       "      <td>government~president</td>\n",
       "      <td>1.52</td>\n",
       "    </tr>\n",
       "    <tr>\n",
       "      <th>carcass~dead</th>\n",
       "      <td>3</td>\n",
       "      <td>carcass~dead</td>\n",
       "      <td>0.39</td>\n",
       "    </tr>\n",
       "    <tr>\n",
       "      <th>same-sex older sibling~same-sex younger sibling</th>\n",
       "      <td>4</td>\n",
       "      <td>same-sex older sibling~same-sex younger sibling</td>\n",
       "      <td>NaN</td>\n",
       "    </tr>\n",
       "    <tr>\n",
       "      <th>tinea~ringworm</th>\n",
       "      <td>6</td>\n",
       "      <td>tinea~ringworm</td>\n",
       "      <td>NaN</td>\n",
       "    </tr>\n",
       "  </tbody>\n",
       "</table>\n",
       "<p>4228 rows × 3 columns</p>\n",
       "</div>"
      ],
      "text/plain": [
       "                                                 langs  \\\n",
       "earth (soil)~mud                                    16   \n",
       "earth (soil)~dust                                   25   \n",
       "earth (soil)~sand                                   41   \n",
       "earth (soil)~ash                                     6   \n",
       "earth (soil)~dirty                                   9   \n",
       "...                                                ...   \n",
       "machine~motor                                        5   \n",
       "government~president                                 3   \n",
       "carcass~dead                                         3   \n",
       "same-sex older sibling~same-sex younger sibling      4   \n",
       "tinea~ringworm                                       6   \n",
       "\n",
       "                                                                                           COLEX  \\\n",
       "earth (soil)~mud                                                                earth (soil)~mud   \n",
       "earth (soil)~dust                                                              earth (soil)~dust   \n",
       "earth (soil)~sand                                                              earth (soil)~sand   \n",
       "earth (soil)~ash                                                                earth (soil)~ash   \n",
       "earth (soil)~dirty                                                            earth (soil)~dirty   \n",
       "...                                                                                          ...   \n",
       "machine~motor                                                                      machine~motor   \n",
       "government~president                                                        government~president   \n",
       "carcass~dead                                                                        carcass~dead   \n",
       "same-sex older sibling~same-sex younger sibling  same-sex older sibling~same-sex younger sibling   \n",
       "tinea~ringworm                                                                    tinea~ringworm   \n",
       "\n",
       "                                                 ConcDist  \n",
       "earth (soil)~mud                                     0.06  \n",
       "earth (soil)~dust                                    0.40  \n",
       "earth (soil)~sand                                    0.20  \n",
       "earth (soil)~ash                                     0.16  \n",
       "earth (soil)~dirty                                   0.57  \n",
       "...                                                   ...  \n",
       "machine~motor                                        0.59  \n",
       "government~president                                 1.52  \n",
       "carcass~dead                                         0.39  \n",
       "same-sex older sibling~same-sex younger sibling       NaN  \n",
       "tinea~ringworm                                        NaN  \n",
       "\n",
       "[4228 rows x 3 columns]"
      ]
     },
     "execution_count": 208,
     "metadata": {},
     "output_type": "execute_result"
    }
   ],
   "source": [
    "df_colex_lang"
   ]
  },
  {
   "cell_type": "code",
   "execution_count": 209,
   "id": "976ae474-9a97-4a97-a0d8-8d75a00e78b9",
   "metadata": {
    "tags": []
   },
   "outputs": [
    {
     "data": {
      "text/plain": [
       "<Axes: xlabel='ConcDist', ylabel='Count'>"
      ]
     },
     "execution_count": 209,
     "metadata": {},
     "output_type": "execute_result"
    },
    {
     "data": {
      "image/png": "[encoded data removed]",
      "text/plain": [
       "<Figure size 640x480 with 1 Axes>"
      ]
     },
     "metadata": {},
     "output_type": "display_data"
    }
   ],
   "source": [
    "sns.histplot(data= df_colex_lang, x=\"ConcDist\")"
   ]
  },
  {
   "cell_type": "code",
   "execution_count": 222,
   "id": "e9109111-5c4e-464e-baf5-e1e988f3fe8e",
   "metadata": {
    "tags": []
   },
   "outputs": [
    {
     "data": {
      "image/png": "[encoded data removed]",
      "text/plain": [
       "<Figure size 800x800 with 1 Axes>"
      ]
     },
     "metadata": {},
     "output_type": "display_data"
    }
   ],
   "source": [
    "sns.set(rc={'figure.figsize':(8,8)})\n",
    "sns.set_style(\"whitegrid\")\n",
    "\n",
    "b= sns.histplot(data=df_colex_lang, x=\"ConcDist\", kde=True)\n",
    "b.set_xlabel(\"Concreteness Distance\", fontsize=16)\n",
    "b.set_ylabel(\"#Languages where Colexification occur\", fontsize=16)\n",
    "fig = b.get_figure()\n",
    "fig.savefig(\"../data/images/clics3_concdist_langs_colex.png\")"
   ]
  },
  {
   "cell_type": "code",
   "execution_count": 223,
   "id": "0dcf04a5-d068-40b6-a347-5f1abde32903",
   "metadata": {
    "tags": []
   },
   "outputs": [],
   "source": [
    "X_langs = pd.DataFrame.from_dict(df_colex_lang.groupby(\"ConcDist\")[\"langs\"].agg(\"sum\").to_dict(), orient=\"index\").rename(columns={0:\"#LANGS\"})\n",
    "X_langs[\"ConcDist\"]=X_langs.index\n"
   ]
  },
  {
   "cell_type": "code",
   "execution_count": 224,
   "id": "34fdb256-2bc4-44bd-95e9-4f7f036a26bf",
   "metadata": {
    "tags": []
   },
   "outputs": [],
   "source": [
    "def correlation(X_df):\n",
    "    sns.set(rc={'figure.figsize':(20,20)})\n",
    "    X = X_df.index.values\n",
    "    print(X.shape)\n",
    "    Y = X_df[\"#LANGS\"].values\n",
    "    print(Y.shape)\n",
    "    pearsonr = scipy.stats.pearsonr(X,Y)\n",
    "    print(\"correlation:\", pearsonr)\n",
    "    \n",
    "    sns.lmplot(x=\"ConcDist\", y=\"#LANGS\", data=X_df, line_kws={\"color\":\"pink\"})\n",
    "    \n",
    "#     slope, intercept, r, p, stderr = scipy.stats.linregress(X,Y)\n",
    "#     line = f'Regression line: y={intercept:.2f}+{slope:.2f}x, r={r:.2f}'\n",
    "#     plots_linear(X,Y, slope, intercept, r, p, stderr,line)"
   ]
  },
  {
   "cell_type": "code",
   "execution_count": null,
   "id": "ee26af88-ea81-41d4-a64c-c1f07262cb57",
   "metadata": {},
   "outputs": [],
   "source": []
  },
  {
   "cell_type": "code",
   "execution_count": 225,
   "id": "c898afd2-94b3-4e20-9a79-4a309d8e026d",
   "metadata": {
    "tags": []
   },
   "outputs": [
    {
     "name": "stdout",
     "output_type": "stream",
     "text": [
      "(701,)\n",
      "(701,)\n",
      "correlation: PearsonRResult(statistic=-0.3537284388316944, pvalue=4.334939699211407e-22)\n"
     ]
    },
    {
     "data": {
      "image/png": "[encoded data removed]",
      "text/plain": [
       "<Figure size 500x500 with 1 Axes>"
      ]
     },
     "metadata": {},
     "output_type": "display_data"
    }
   ],
   "source": [
    "correlation(X_langs)"
   ]
  },
  {
   "cell_type": "code",
   "execution_count": null,
   "id": "be19ab16-3427-46fc-9793-d14b4a987c24",
   "metadata": {},
   "outputs": [],
   "source": []
  }
 ],
 "metadata": {
  "kernelspec": {
   "display_name": "colexphon",
   "language": "python",
   "name": "colexphon"
  },
  "language_info": {
   "codemirror_mode": {
    "name": "ipython",
    "version": 3
   },
   "file_extension": ".py",
   "mimetype": "text/x-python",
   "name": "python",
   "nbconvert_exporter": "python",
   "pygments_lexer": "ipython3",
   "version": "3.10.0"
  }
 },
 "nbformat": 4,
 "nbformat_minor": 5
}
