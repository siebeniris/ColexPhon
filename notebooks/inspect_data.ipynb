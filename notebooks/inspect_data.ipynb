{
 "cells": [
  {
   "cell_type": "code",
   "execution_count": 1,
   "id": "9da45718-c6da-48fd-a9c2-6c97b2e43110",
   "metadata": {},
   "outputs": [],
   "source": [
    "import pandas as pd\n",
    "import json\n",
    "import os"
   ]
  },
  {
   "cell_type": "code",
   "execution_count": null,
   "id": "7f932705-4441-49db-ac1a-983604c9871b",
   "metadata": {
    "tags": []
   },
   "outputs": [],
   "source": [
    "lang_list = []\n",
    "for file in os.listdir(\"../data/phon/preprocessed/\"):\n",
    "    if file.endswith(\".tsv\"):\n",
    "        lang = file.replace(\".tsv\", \"\")\n",
    "        lang_list.append(lang)\n",
    "        "
   ]
  },
  {
   "cell_type": "code",
   "execution_count": 34,
   "id": "ec15ac32-9ca8-4f33-ae48-b757207ddc97",
   "metadata": {
    "tags": []
   },
   "outputs": [],
   "source": [
    "with open(\"data/bn/bn_all_colex2id.json\") as f:\n",
    "    colex2id = json.load(f)"
   ]
  },
  {
   "cell_type": "code",
   "execution_count": 2,
   "id": "af1a73d9-c468-4906-9864-23151391016e",
   "metadata": {
    "tags": []
   },
   "outputs": [],
   "source": [
    "df = pd.read_csv(\"data/wordlists/concreteness_ratings.csv\")"
   ]
  },
  {
   "cell_type": "code",
   "execution_count": 3,
   "id": "9dfe9d36-7219-4875-9fd7-68ff38d070ea",
   "metadata": {
    "tags": []
   },
   "outputs": [
    {
     "data": {
      "text/html": [
       "<div>\n",
       "<style scoped>\n",
       "    .dataframe tbody tr th:only-of-type {\n",
       "        vertical-align: middle;\n",
       "    }\n",
       "\n",
       "    .dataframe tbody tr th {\n",
       "        vertical-align: top;\n",
       "    }\n",
       "\n",
       "    .dataframe thead th {\n",
       "        text-align: right;\n",
       "    }\n",
       "</style>\n",
       "<table border=\"1\" class=\"dataframe\">\n",
       "  <thead>\n",
       "    <tr style=\"text-align: right;\">\n",
       "      <th></th>\n",
       "      <th>Word</th>\n",
       "      <th>Bigram</th>\n",
       "      <th>Conc.M</th>\n",
       "      <th>Conc.SD</th>\n",
       "      <th>Unknown</th>\n",
       "      <th>Total</th>\n",
       "      <th>Percent_known</th>\n",
       "      <th>SUBTLEX</th>\n",
       "    </tr>\n",
       "  </thead>\n",
       "  <tbody>\n",
       "    <tr>\n",
       "      <th>0</th>\n",
       "      <td>a</td>\n",
       "      <td>0</td>\n",
       "      <td>1.46</td>\n",
       "      <td>1.14</td>\n",
       "      <td>2</td>\n",
       "      <td>30</td>\n",
       "      <td>0.93</td>\n",
       "      <td>1041179</td>\n",
       "    </tr>\n",
       "    <tr>\n",
       "      <th>1</th>\n",
       "      <td>aardvark</td>\n",
       "      <td>0</td>\n",
       "      <td>4.68</td>\n",
       "      <td>0.86</td>\n",
       "      <td>0</td>\n",
       "      <td>28</td>\n",
       "      <td>1.00</td>\n",
       "      <td>21</td>\n",
       "    </tr>\n",
       "    <tr>\n",
       "      <th>2</th>\n",
       "      <td>aback</td>\n",
       "      <td>0</td>\n",
       "      <td>1.65</td>\n",
       "      <td>1.07</td>\n",
       "      <td>4</td>\n",
       "      <td>27</td>\n",
       "      <td>0.85</td>\n",
       "      <td>15</td>\n",
       "    </tr>\n",
       "    <tr>\n",
       "      <th>3</th>\n",
       "      <td>abacus</td>\n",
       "      <td>0</td>\n",
       "      <td>4.52</td>\n",
       "      <td>1.12</td>\n",
       "      <td>2</td>\n",
       "      <td>29</td>\n",
       "      <td>0.93</td>\n",
       "      <td>12</td>\n",
       "    </tr>\n",
       "    <tr>\n",
       "      <th>4</th>\n",
       "      <td>abandon</td>\n",
       "      <td>0</td>\n",
       "      <td>2.54</td>\n",
       "      <td>1.45</td>\n",
       "      <td>1</td>\n",
       "      <td>27</td>\n",
       "      <td>0.96</td>\n",
       "      <td>413</td>\n",
       "    </tr>\n",
       "    <tr>\n",
       "      <th>...</th>\n",
       "      <td>...</td>\n",
       "      <td>...</td>\n",
       "      <td>...</td>\n",
       "      <td>...</td>\n",
       "      <td>...</td>\n",
       "      <td>...</td>\n",
       "      <td>...</td>\n",
       "      <td>...</td>\n",
       "    </tr>\n",
       "    <tr>\n",
       "      <th>39949</th>\n",
       "      <td>zebra crossing</td>\n",
       "      <td>1</td>\n",
       "      <td>4.56</td>\n",
       "      <td>0.75</td>\n",
       "      <td>1</td>\n",
       "      <td>28</td>\n",
       "      <td>0.96</td>\n",
       "      <td>0</td>\n",
       "    </tr>\n",
       "    <tr>\n",
       "      <th>39950</th>\n",
       "      <td>zero tolerance</td>\n",
       "      <td>1</td>\n",
       "      <td>2.21</td>\n",
       "      <td>1.45</td>\n",
       "      <td>0</td>\n",
       "      <td>29</td>\n",
       "      <td>1.00</td>\n",
       "      <td>0</td>\n",
       "    </tr>\n",
       "    <tr>\n",
       "      <th>39951</th>\n",
       "      <td>ZIP code</td>\n",
       "      <td>1</td>\n",
       "      <td>3.77</td>\n",
       "      <td>1.59</td>\n",
       "      <td>0</td>\n",
       "      <td>30</td>\n",
       "      <td>1.00</td>\n",
       "      <td>0</td>\n",
       "    </tr>\n",
       "    <tr>\n",
       "      <th>39952</th>\n",
       "      <td>zoom in</td>\n",
       "      <td>1</td>\n",
       "      <td>3.57</td>\n",
       "      <td>1.40</td>\n",
       "      <td>0</td>\n",
       "      <td>28</td>\n",
       "      <td>1.00</td>\n",
       "      <td>0</td>\n",
       "    </tr>\n",
       "    <tr>\n",
       "      <th>39953</th>\n",
       "      <td>zoom lens</td>\n",
       "      <td>1</td>\n",
       "      <td>4.81</td>\n",
       "      <td>0.49</td>\n",
       "      <td>1</td>\n",
       "      <td>27</td>\n",
       "      <td>0.96</td>\n",
       "      <td>0</td>\n",
       "    </tr>\n",
       "  </tbody>\n",
       "</table>\n",
       "<p>39954 rows × 8 columns</p>\n",
       "</div>"
      ],
      "text/plain": [
       "                 Word  Bigram  Conc.M  Conc.SD  Unknown  Total  Percent_known  \\\n",
       "0                   a       0    1.46     1.14        2     30           0.93   \n",
       "1            aardvark       0    4.68     0.86        0     28           1.00   \n",
       "2               aback       0    1.65     1.07        4     27           0.85   \n",
       "3              abacus       0    4.52     1.12        2     29           0.93   \n",
       "4             abandon       0    2.54     1.45        1     27           0.96   \n",
       "...               ...     ...     ...      ...      ...    ...            ...   \n",
       "39949  zebra crossing       1    4.56     0.75        1     28           0.96   \n",
       "39950  zero tolerance       1    2.21     1.45        0     29           1.00   \n",
       "39951        ZIP code       1    3.77     1.59        0     30           1.00   \n",
       "39952         zoom in       1    3.57     1.40        0     28           1.00   \n",
       "39953       zoom lens       1    4.81     0.49        1     27           0.96   \n",
       "\n",
       "       SUBTLEX  \n",
       "0      1041179  \n",
       "1           21  \n",
       "2           15  \n",
       "3           12  \n",
       "4          413  \n",
       "...        ...  \n",
       "39949        0  \n",
       "39950        0  \n",
       "39951        0  \n",
       "39952        0  \n",
       "39953        0  \n",
       "\n",
       "[39954 rows x 8 columns]"
      ]
     },
     "execution_count": 3,
     "metadata": {},
     "output_type": "execute_result"
    }
   ],
   "source": [
    "df"
   ]
  },
  {
   "cell_type": "code",
   "execution_count": 12,
   "id": "170c02ec-f455-4728-87ec-2f32cf3a9dec",
   "metadata": {
    "tags": []
   },
   "outputs": [],
   "source": [
    "df[\"lemma\"] = df[\"Word\"].replace(' ', '_', regex=True).str.lower()"
   ]
  },
  {
   "cell_type": "code",
   "execution_count": 13,
   "id": "6688f322-55a7-4cdd-9e7c-0d04574e0333",
   "metadata": {
    "tags": []
   },
   "outputs": [
    {
     "data": {
      "text/html": [
       "<div>\n",
       "<style scoped>\n",
       "    .dataframe tbody tr th:only-of-type {\n",
       "        vertical-align: middle;\n",
       "    }\n",
       "\n",
       "    .dataframe tbody tr th {\n",
       "        vertical-align: top;\n",
       "    }\n",
       "\n",
       "    .dataframe thead th {\n",
       "        text-align: right;\n",
       "    }\n",
       "</style>\n",
       "<table border=\"1\" class=\"dataframe\">\n",
       "  <thead>\n",
       "    <tr style=\"text-align: right;\">\n",
       "      <th></th>\n",
       "      <th>Word</th>\n",
       "      <th>Bigram</th>\n",
       "      <th>Conc.M</th>\n",
       "      <th>Conc.SD</th>\n",
       "      <th>Unknown</th>\n",
       "      <th>Total</th>\n",
       "      <th>Percent_known</th>\n",
       "      <th>SUBTLEX</th>\n",
       "      <th>lemma</th>\n",
       "    </tr>\n",
       "  </thead>\n",
       "  <tbody>\n",
       "    <tr>\n",
       "      <th>0</th>\n",
       "      <td>a</td>\n",
       "      <td>0</td>\n",
       "      <td>1.46</td>\n",
       "      <td>1.14</td>\n",
       "      <td>2</td>\n",
       "      <td>30</td>\n",
       "      <td>0.93</td>\n",
       "      <td>1041179</td>\n",
       "      <td>a</td>\n",
       "    </tr>\n",
       "    <tr>\n",
       "      <th>1</th>\n",
       "      <td>aardvark</td>\n",
       "      <td>0</td>\n",
       "      <td>4.68</td>\n",
       "      <td>0.86</td>\n",
       "      <td>0</td>\n",
       "      <td>28</td>\n",
       "      <td>1.00</td>\n",
       "      <td>21</td>\n",
       "      <td>aardvark</td>\n",
       "    </tr>\n",
       "    <tr>\n",
       "      <th>2</th>\n",
       "      <td>aback</td>\n",
       "      <td>0</td>\n",
       "      <td>1.65</td>\n",
       "      <td>1.07</td>\n",
       "      <td>4</td>\n",
       "      <td>27</td>\n",
       "      <td>0.85</td>\n",
       "      <td>15</td>\n",
       "      <td>aback</td>\n",
       "    </tr>\n",
       "    <tr>\n",
       "      <th>3</th>\n",
       "      <td>abacus</td>\n",
       "      <td>0</td>\n",
       "      <td>4.52</td>\n",
       "      <td>1.12</td>\n",
       "      <td>2</td>\n",
       "      <td>29</td>\n",
       "      <td>0.93</td>\n",
       "      <td>12</td>\n",
       "      <td>abacus</td>\n",
       "    </tr>\n",
       "    <tr>\n",
       "      <th>4</th>\n",
       "      <td>abandon</td>\n",
       "      <td>0</td>\n",
       "      <td>2.54</td>\n",
       "      <td>1.45</td>\n",
       "      <td>1</td>\n",
       "      <td>27</td>\n",
       "      <td>0.96</td>\n",
       "      <td>413</td>\n",
       "      <td>abandon</td>\n",
       "    </tr>\n",
       "    <tr>\n",
       "      <th>...</th>\n",
       "      <td>...</td>\n",
       "      <td>...</td>\n",
       "      <td>...</td>\n",
       "      <td>...</td>\n",
       "      <td>...</td>\n",
       "      <td>...</td>\n",
       "      <td>...</td>\n",
       "      <td>...</td>\n",
       "      <td>...</td>\n",
       "    </tr>\n",
       "    <tr>\n",
       "      <th>39949</th>\n",
       "      <td>zebra crossing</td>\n",
       "      <td>1</td>\n",
       "      <td>4.56</td>\n",
       "      <td>0.75</td>\n",
       "      <td>1</td>\n",
       "      <td>28</td>\n",
       "      <td>0.96</td>\n",
       "      <td>0</td>\n",
       "      <td>zebra_crossing</td>\n",
       "    </tr>\n",
       "    <tr>\n",
       "      <th>39950</th>\n",
       "      <td>zero tolerance</td>\n",
       "      <td>1</td>\n",
       "      <td>2.21</td>\n",
       "      <td>1.45</td>\n",
       "      <td>0</td>\n",
       "      <td>29</td>\n",
       "      <td>1.00</td>\n",
       "      <td>0</td>\n",
       "      <td>zero_tolerance</td>\n",
       "    </tr>\n",
       "    <tr>\n",
       "      <th>39951</th>\n",
       "      <td>ZIP code</td>\n",
       "      <td>1</td>\n",
       "      <td>3.77</td>\n",
       "      <td>1.59</td>\n",
       "      <td>0</td>\n",
       "      <td>30</td>\n",
       "      <td>1.00</td>\n",
       "      <td>0</td>\n",
       "      <td>zip_code</td>\n",
       "    </tr>\n",
       "    <tr>\n",
       "      <th>39952</th>\n",
       "      <td>zoom in</td>\n",
       "      <td>1</td>\n",
       "      <td>3.57</td>\n",
       "      <td>1.40</td>\n",
       "      <td>0</td>\n",
       "      <td>28</td>\n",
       "      <td>1.00</td>\n",
       "      <td>0</td>\n",
       "      <td>zoom_in</td>\n",
       "    </tr>\n",
       "    <tr>\n",
       "      <th>39953</th>\n",
       "      <td>zoom lens</td>\n",
       "      <td>1</td>\n",
       "      <td>4.81</td>\n",
       "      <td>0.49</td>\n",
       "      <td>1</td>\n",
       "      <td>27</td>\n",
       "      <td>0.96</td>\n",
       "      <td>0</td>\n",
       "      <td>zoom_lens</td>\n",
       "    </tr>\n",
       "  </tbody>\n",
       "</table>\n",
       "<p>39954 rows × 9 columns</p>\n",
       "</div>"
      ],
      "text/plain": [
       "                 Word  Bigram  Conc.M  Conc.SD  Unknown  Total  Percent_known  \\\n",
       "0                   a       0    1.46     1.14        2     30           0.93   \n",
       "1            aardvark       0    4.68     0.86        0     28           1.00   \n",
       "2               aback       0    1.65     1.07        4     27           0.85   \n",
       "3              abacus       0    4.52     1.12        2     29           0.93   \n",
       "4             abandon       0    2.54     1.45        1     27           0.96   \n",
       "...               ...     ...     ...      ...      ...    ...            ...   \n",
       "39949  zebra crossing       1    4.56     0.75        1     28           0.96   \n",
       "39950  zero tolerance       1    2.21     1.45        0     29           1.00   \n",
       "39951        ZIP code       1    3.77     1.59        0     30           1.00   \n",
       "39952         zoom in       1    3.57     1.40        0     28           1.00   \n",
       "39953       zoom lens       1    4.81     0.49        1     27           0.96   \n",
       "\n",
       "       SUBTLEX           lemma  \n",
       "0      1041179               a  \n",
       "1           21        aardvark  \n",
       "2           15           aback  \n",
       "3           12          abacus  \n",
       "4          413         abandon  \n",
       "...        ...             ...  \n",
       "39949        0  zebra_crossing  \n",
       "39950        0  zero_tolerance  \n",
       "39951        0        zip_code  \n",
       "39952        0         zoom_in  \n",
       "39953        0       zoom_lens  \n",
       "\n",
       "[39954 rows x 9 columns]"
      ]
     },
     "execution_count": 13,
     "metadata": {},
     "output_type": "execute_result"
    }
   ],
   "source": [
    "df"
   ]
  },
  {
   "cell_type": "code",
   "execution_count": 8,
   "id": "dff23a03-8e3e-457c-9480-0112635261b3",
   "metadata": {
    "tags": []
   },
   "outputs": [],
   "source": [
    "df_colex = pd.read_csv(\"data/bn/EN\", sep=\"\\t\", low_memory=False, header=None)"
   ]
  },
  {
   "cell_type": "code",
   "execution_count": 15,
   "id": "7ee78ca4-b056-4b68-9ed0-5d779b167a18",
   "metadata": {
    "tags": []
   },
   "outputs": [],
   "source": [
    "df_colex.columns = [\"LANG\", \"LEMMA\", \"SYN1\", \"SYN2\"]"
   ]
  },
  {
   "cell_type": "code",
   "execution_count": 16,
   "id": "0a087e7f-cbbd-49fb-80d2-5bdf66375e2f",
   "metadata": {
    "tags": []
   },
   "outputs": [
    {
     "data": {
      "text/html": [
       "<div>\n",
       "<style scoped>\n",
       "    .dataframe tbody tr th:only-of-type {\n",
       "        vertical-align: middle;\n",
       "    }\n",
       "\n",
       "    .dataframe tbody tr th {\n",
       "        vertical-align: top;\n",
       "    }\n",
       "\n",
       "    .dataframe thead th {\n",
       "        text-align: right;\n",
       "    }\n",
       "</style>\n",
       "<table border=\"1\" class=\"dataframe\">\n",
       "  <thead>\n",
       "    <tr style=\"text-align: right;\">\n",
       "      <th></th>\n",
       "      <th>LANG</th>\n",
       "      <th>LEMMA</th>\n",
       "      <th>SYN1</th>\n",
       "      <th>SYN2</th>\n",
       "    </tr>\n",
       "  </thead>\n",
       "  <tbody>\n",
       "    <tr>\n",
       "      <th>0</th>\n",
       "      <td>EN</td>\n",
       "      <td>numerary</td>\n",
       "      <td>bn:13655579a</td>\n",
       "      <td>bn:27189134a</td>\n",
       "    </tr>\n",
       "    <tr>\n",
       "      <th>1</th>\n",
       "      <td>EN</td>\n",
       "      <td>numerary</td>\n",
       "      <td>bn:00897170n</td>\n",
       "      <td>bn:27189134a</td>\n",
       "    </tr>\n",
       "    <tr>\n",
       "      <th>2</th>\n",
       "      <td>EN</td>\n",
       "      <td>numerary</td>\n",
       "      <td>bn:00897170n</td>\n",
       "      <td>bn:13655579a</td>\n",
       "    </tr>\n",
       "    <tr>\n",
       "      <th>3</th>\n",
       "      <td>EN</td>\n",
       "      <td>nunate</td>\n",
       "      <td>bn:03004720n</td>\n",
       "      <td>bn:27189157v</td>\n",
       "    </tr>\n",
       "    <tr>\n",
       "      <th>4</th>\n",
       "      <td>EN</td>\n",
       "      <td>nummular</td>\n",
       "      <td>bn:13664806a</td>\n",
       "      <td>bn:27189152a</td>\n",
       "    </tr>\n",
       "    <tr>\n",
       "      <th>...</th>\n",
       "      <td>...</td>\n",
       "      <td>...</td>\n",
       "      <td>...</td>\n",
       "      <td>...</td>\n",
       "    </tr>\n",
       "    <tr>\n",
       "      <th>17241688</th>\n",
       "      <td>EN</td>\n",
       "      <td>united_trade_union_congress</td>\n",
       "      <td>bn:00906897n</td>\n",
       "      <td>bn:00907014n</td>\n",
       "    </tr>\n",
       "    <tr>\n",
       "      <th>17241689</th>\n",
       "      <td>EN</td>\n",
       "      <td>united_trade_union_congress</td>\n",
       "      <td>bn:00906920n</td>\n",
       "      <td>bn:00907014n</td>\n",
       "    </tr>\n",
       "    <tr>\n",
       "      <th>17241690</th>\n",
       "      <td>EN</td>\n",
       "      <td>united_trade_union_congress</td>\n",
       "      <td>bn:00906897n</td>\n",
       "      <td>bn:00906920n</td>\n",
       "    </tr>\n",
       "    <tr>\n",
       "      <th>17241691</th>\n",
       "      <td>EN</td>\n",
       "      <td>sedulang</td>\n",
       "      <td>bn:09290071n</td>\n",
       "      <td>bn:09290161n</td>\n",
       "    </tr>\n",
       "    <tr>\n",
       "      <th>17241692</th>\n",
       "      <td>EN</td>\n",
       "      <td>the_wong_boys</td>\n",
       "      <td>bn:09189898n</td>\n",
       "      <td>bn:09190061n</td>\n",
       "    </tr>\n",
       "  </tbody>\n",
       "</table>\n",
       "<p>17241693 rows × 4 columns</p>\n",
       "</div>"
      ],
      "text/plain": [
       "         LANG                        LEMMA          SYN1          SYN2\n",
       "0          EN                     numerary  bn:13655579a  bn:27189134a\n",
       "1          EN                     numerary  bn:00897170n  bn:27189134a\n",
       "2          EN                     numerary  bn:00897170n  bn:13655579a\n",
       "3          EN                       nunate  bn:03004720n  bn:27189157v\n",
       "4          EN                     nummular  bn:13664806a  bn:27189152a\n",
       "...       ...                          ...           ...           ...\n",
       "17241688   EN  united_trade_union_congress  bn:00906897n  bn:00907014n\n",
       "17241689   EN  united_trade_union_congress  bn:00906920n  bn:00907014n\n",
       "17241690   EN  united_trade_union_congress  bn:00906897n  bn:00906920n\n",
       "17241691   EN                     sedulang  bn:09290071n  bn:09290161n\n",
       "17241692   EN                the_wong_boys  bn:09189898n  bn:09190061n\n",
       "\n",
       "[17241693 rows x 4 columns]"
      ]
     },
     "execution_count": 16,
     "metadata": {},
     "output_type": "execute_result"
    }
   ],
   "source": [
    "df_colex"
   ]
  },
  {
   "cell_type": "code",
   "execution_count": 17,
   "id": "96a2af46-774f-4a36-8ddc-a1f8d59f3d30",
   "metadata": {
    "tags": []
   },
   "outputs": [],
   "source": [
    "intersection = set(df.lemma.tolist()).intersection(set(df_colex.LEMMA.tolist()))"
   ]
  },
  {
   "cell_type": "code",
   "execution_count": 20,
   "id": "6d6fe1f0-ef81-4575-a33b-6b0578473393",
   "metadata": {
    "tags": []
   },
   "outputs": [
    {
     "data": {
      "text/plain": [
       "(17241693, 39954)"
      ]
     },
     "execution_count": 20,
     "metadata": {},
     "output_type": "execute_result"
    }
   ],
   "source": [
    "len(df_colex), len(df)"
   ]
  },
  {
   "cell_type": "code",
   "execution_count": 21,
   "id": "53887893-0069-4981-ab63-6c408aca3bbc",
   "metadata": {
    "tags": []
   },
   "outputs": [
    {
     "data": {
      "text/plain": [
       "1093340"
      ]
     },
     "execution_count": 21,
     "metadata": {},
     "output_type": "execute_result"
    }
   ],
   "source": [
    "len(set(df_colex.LEMMA.tolist()))"
   ]
  },
  {
   "cell_type": "code",
   "execution_count": 19,
   "id": "3ae733ce-ccf4-4dc0-9c12-d8f17819b240",
   "metadata": {
    "tags": []
   },
   "outputs": [
    {
     "data": {
      "text/plain": [
       "28423"
      ]
     },
     "execution_count": 19,
     "metadata": {},
     "output_type": "execute_result"
    }
   ],
   "source": [
    "len(intersection)"
   ]
  },
  {
   "cell_type": "code",
   "execution_count": 23,
   "id": "d636fed5-60be-44c4-a0d7-4c1cf755d8f3",
   "metadata": {
    "tags": []
   },
   "outputs": [],
   "source": [
    "df_inter = df_colex[df_colex.LEMMA.isin(intersection)]"
   ]
  },
  {
   "cell_type": "code",
   "execution_count": 29,
   "id": "9e8800d2-4105-43ca-8a51-824ee4e33568",
   "metadata": {
    "tags": []
   },
   "outputs": [
    {
     "data": {
      "text/html": [
       "<div>\n",
       "<style scoped>\n",
       "    .dataframe tbody tr th:only-of-type {\n",
       "        vertical-align: middle;\n",
       "    }\n",
       "\n",
       "    .dataframe tbody tr th {\n",
       "        vertical-align: top;\n",
       "    }\n",
       "\n",
       "    .dataframe thead th {\n",
       "        text-align: right;\n",
       "    }\n",
       "</style>\n",
       "<table border=\"1\" class=\"dataframe\">\n",
       "  <thead>\n",
       "    <tr style=\"text-align: right;\">\n",
       "      <th></th>\n",
       "      <th>LANG</th>\n",
       "      <th>LEMMA</th>\n",
       "      <th>SYN1</th>\n",
       "      <th>SYN2</th>\n",
       "    </tr>\n",
       "  </thead>\n",
       "  <tbody>\n",
       "    <tr>\n",
       "      <th>12916</th>\n",
       "      <td>EN</td>\n",
       "      <td>octopus</td>\n",
       "      <td>bn:15724629n</td>\n",
       "      <td>bn:27189726v</td>\n",
       "    </tr>\n",
       "    <tr>\n",
       "      <th>12917</th>\n",
       "      <td>EN</td>\n",
       "      <td>octopus</td>\n",
       "      <td>bn:15724629n</td>\n",
       "      <td>bn:16644556n</td>\n",
       "    </tr>\n",
       "    <tr>\n",
       "      <th>12918</th>\n",
       "      <td>EN</td>\n",
       "      <td>octopus</td>\n",
       "      <td>bn:00662707n</td>\n",
       "      <td>bn:15724629n</td>\n",
       "    </tr>\n",
       "    <tr>\n",
       "      <th>12919</th>\n",
       "      <td>EN</td>\n",
       "      <td>octopus</td>\n",
       "      <td>bn:00026737n</td>\n",
       "      <td>bn:15724629n</td>\n",
       "    </tr>\n",
       "    <tr>\n",
       "      <th>12920</th>\n",
       "      <td>EN</td>\n",
       "      <td>octopus</td>\n",
       "      <td>bn:01833328n</td>\n",
       "      <td>bn:15724629n</td>\n",
       "    </tr>\n",
       "    <tr>\n",
       "      <th>...</th>\n",
       "      <td>...</td>\n",
       "      <td>...</td>\n",
       "      <td>...</td>\n",
       "      <td>...</td>\n",
       "    </tr>\n",
       "    <tr>\n",
       "      <th>17241666</th>\n",
       "      <td>EN</td>\n",
       "      <td>earnestness</td>\n",
       "      <td>bn:00029412n</td>\n",
       "      <td>bn:00029413n</td>\n",
       "    </tr>\n",
       "    <tr>\n",
       "      <th>17241667</th>\n",
       "      <td>EN</td>\n",
       "      <td>earnings</td>\n",
       "      <td>bn:00029415n</td>\n",
       "      <td>bn:00029416n</td>\n",
       "    </tr>\n",
       "    <tr>\n",
       "      <th>17241672</th>\n",
       "      <td>EN</td>\n",
       "      <td>easiness</td>\n",
       "      <td>bn:00029454n</td>\n",
       "      <td>bn:00029460n</td>\n",
       "    </tr>\n",
       "    <tr>\n",
       "      <th>17241673</th>\n",
       "      <td>EN</td>\n",
       "      <td>easiness</td>\n",
       "      <td>bn:00029460n</td>\n",
       "      <td>bn:00029461n</td>\n",
       "    </tr>\n",
       "    <tr>\n",
       "      <th>17241674</th>\n",
       "      <td>EN</td>\n",
       "      <td>easiness</td>\n",
       "      <td>bn:00029454n</td>\n",
       "      <td>bn:00029461n</td>\n",
       "    </tr>\n",
       "  </tbody>\n",
       "</table>\n",
       "<p>2954283 rows × 4 columns</p>\n",
       "</div>"
      ],
      "text/plain": [
       "         LANG        LEMMA          SYN1          SYN2\n",
       "12916      EN      octopus  bn:15724629n  bn:27189726v\n",
       "12917      EN      octopus  bn:15724629n  bn:16644556n\n",
       "12918      EN      octopus  bn:00662707n  bn:15724629n\n",
       "12919      EN      octopus  bn:00026737n  bn:15724629n\n",
       "12920      EN      octopus  bn:01833328n  bn:15724629n\n",
       "...       ...          ...           ...           ...\n",
       "17241666   EN  earnestness  bn:00029412n  bn:00029413n\n",
       "17241667   EN     earnings  bn:00029415n  bn:00029416n\n",
       "17241672   EN     easiness  bn:00029454n  bn:00029460n\n",
       "17241673   EN     easiness  bn:00029460n  bn:00029461n\n",
       "17241674   EN     easiness  bn:00029454n  bn:00029461n\n",
       "\n",
       "[2954283 rows x 4 columns]"
      ]
     },
     "execution_count": 29,
     "metadata": {},
     "output_type": "execute_result"
    }
   ],
   "source": [
    "df_inter"
   ]
  },
  {
   "cell_type": "code",
   "execution_count": 31,
   "id": "efe6fefe-af0d-4d74-80b8-c518d0a6e40e",
   "metadata": {
    "tags": []
   },
   "outputs": [
    {
     "name": "stderr",
     "output_type": "stream",
     "text": [
      "/var/folders/bj/qp6k2wl11h5gpn8j4hg0tgf40000gn/T/ipykernel_20953/1504607152.py:1: SettingWithCopyWarning: \n",
      "A value is trying to be set on a copy of a slice from a DataFrame.\n",
      "Try using .loc[row_indexer,col_indexer] = value instead\n",
      "\n",
      "See the caveats in the documentation: https://pandas.pydata.org/pandas-docs/stable/user_guide/indexing.html#returning-a-view-versus-a-copy\n",
      "  df_inter[\"COLEX\"]= df_inter[\"SYN1\"]+\"_\"+df_inter[\"SYN2\"]\n"
     ]
    }
   ],
   "source": [
    "df_inter[\"COLEX\"]= df_inter[\"SYN1\"]+\"_\"+df_inter[\"SYN2\"]"
   ]
  },
  {
   "cell_type": "code",
   "execution_count": 35,
   "id": "d2c57970-8d89-4e3c-87b9-3bceb277a44b",
   "metadata": {
    "tags": []
   },
   "outputs": [
    {
     "name": "stderr",
     "output_type": "stream",
     "text": [
      "/var/folders/bj/qp6k2wl11h5gpn8j4hg0tgf40000gn/T/ipykernel_20953/1354528520.py:1: SettingWithCopyWarning: \n",
      "A value is trying to be set on a copy of a slice from a DataFrame.\n",
      "Try using .loc[row_indexer,col_indexer] = value instead\n",
      "\n",
      "See the caveats in the documentation: https://pandas.pydata.org/pandas-docs/stable/user_guide/indexing.html#returning-a-view-versus-a-copy\n",
      "  df_inter[\"COLEX_ID\"]= df_inter[\"COLEX\"].apply(lambda x: colex2id[x])\n"
     ]
    }
   ],
   "source": [
    "df_inter[\"COLEX_ID\"]= df_inter[\"COLEX\"].apply(lambda x: colex2id[x])"
   ]
  },
  {
   "cell_type": "code",
   "execution_count": 36,
   "id": "007bcc6a-d080-4f45-8fb6-1de687f65230",
   "metadata": {
    "tags": []
   },
   "outputs": [
    {
     "data": {
      "text/html": [
       "<div>\n",
       "<style scoped>\n",
       "    .dataframe tbody tr th:only-of-type {\n",
       "        vertical-align: middle;\n",
       "    }\n",
       "\n",
       "    .dataframe tbody tr th {\n",
       "        vertical-align: top;\n",
       "    }\n",
       "\n",
       "    .dataframe thead th {\n",
       "        text-align: right;\n",
       "    }\n",
       "</style>\n",
       "<table border=\"1\" class=\"dataframe\">\n",
       "  <thead>\n",
       "    <tr style=\"text-align: right;\">\n",
       "      <th></th>\n",
       "      <th>LANG</th>\n",
       "      <th>LEMMA</th>\n",
       "      <th>SYN1</th>\n",
       "      <th>SYN2</th>\n",
       "      <th>COLEX</th>\n",
       "      <th>COLEX_ID</th>\n",
       "    </tr>\n",
       "  </thead>\n",
       "  <tbody>\n",
       "    <tr>\n",
       "      <th>12916</th>\n",
       "      <td>EN</td>\n",
       "      <td>octopus</td>\n",
       "      <td>bn:15724629n</td>\n",
       "      <td>bn:27189726v</td>\n",
       "      <td>bn:15724629n_bn:27189726v</td>\n",
       "      <td>54748711</td>\n",
       "    </tr>\n",
       "    <tr>\n",
       "      <th>12917</th>\n",
       "      <td>EN</td>\n",
       "      <td>octopus</td>\n",
       "      <td>bn:15724629n</td>\n",
       "      <td>bn:16644556n</td>\n",
       "      <td>bn:15724629n_bn:16644556n</td>\n",
       "      <td>15472643</td>\n",
       "    </tr>\n",
       "    <tr>\n",
       "      <th>12918</th>\n",
       "      <td>EN</td>\n",
       "      <td>octopus</td>\n",
       "      <td>bn:00662707n</td>\n",
       "      <td>bn:15724629n</td>\n",
       "      <td>bn:00662707n_bn:15724629n</td>\n",
       "      <td>54748753</td>\n",
       "    </tr>\n",
       "    <tr>\n",
       "      <th>12919</th>\n",
       "      <td>EN</td>\n",
       "      <td>octopus</td>\n",
       "      <td>bn:00026737n</td>\n",
       "      <td>bn:15724629n</td>\n",
       "      <td>bn:00026737n_bn:15724629n</td>\n",
       "      <td>6496129</td>\n",
       "    </tr>\n",
       "    <tr>\n",
       "      <th>12920</th>\n",
       "      <td>EN</td>\n",
       "      <td>octopus</td>\n",
       "      <td>bn:01833328n</td>\n",
       "      <td>bn:15724629n</td>\n",
       "      <td>bn:01833328n_bn:15724629n</td>\n",
       "      <td>15826412</td>\n",
       "    </tr>\n",
       "    <tr>\n",
       "      <th>...</th>\n",
       "      <td>...</td>\n",
       "      <td>...</td>\n",
       "      <td>...</td>\n",
       "      <td>...</td>\n",
       "      <td>...</td>\n",
       "      <td>...</td>\n",
       "    </tr>\n",
       "    <tr>\n",
       "      <th>17241666</th>\n",
       "      <td>EN</td>\n",
       "      <td>earnestness</td>\n",
       "      <td>bn:00029412n</td>\n",
       "      <td>bn:00029413n</td>\n",
       "      <td>bn:00029412n_bn:00029413n</td>\n",
       "      <td>434816</td>\n",
       "    </tr>\n",
       "    <tr>\n",
       "      <th>17241667</th>\n",
       "      <td>EN</td>\n",
       "      <td>earnings</td>\n",
       "      <td>bn:00029415n</td>\n",
       "      <td>bn:00029416n</td>\n",
       "      <td>bn:00029415n_bn:00029416n</td>\n",
       "      <td>495662</td>\n",
       "    </tr>\n",
       "    <tr>\n",
       "      <th>17241672</th>\n",
       "      <td>EN</td>\n",
       "      <td>easiness</td>\n",
       "      <td>bn:00029454n</td>\n",
       "      <td>bn:00029460n</td>\n",
       "      <td>bn:00029454n_bn:00029460n</td>\n",
       "      <td>2901888</td>\n",
       "    </tr>\n",
       "    <tr>\n",
       "      <th>17241673</th>\n",
       "      <td>EN</td>\n",
       "      <td>easiness</td>\n",
       "      <td>bn:00029460n</td>\n",
       "      <td>bn:00029461n</td>\n",
       "      <td>bn:00029460n_bn:00029461n</td>\n",
       "      <td>4021225</td>\n",
       "    </tr>\n",
       "    <tr>\n",
       "      <th>17241674</th>\n",
       "      <td>EN</td>\n",
       "      <td>easiness</td>\n",
       "      <td>bn:00029454n</td>\n",
       "      <td>bn:00029461n</td>\n",
       "      <td>bn:00029454n_bn:00029461n</td>\n",
       "      <td>4662206</td>\n",
       "    </tr>\n",
       "  </tbody>\n",
       "</table>\n",
       "<p>2954283 rows × 6 columns</p>\n",
       "</div>"
      ],
      "text/plain": [
       "         LANG        LEMMA          SYN1          SYN2  \\\n",
       "12916      EN      octopus  bn:15724629n  bn:27189726v   \n",
       "12917      EN      octopus  bn:15724629n  bn:16644556n   \n",
       "12918      EN      octopus  bn:00662707n  bn:15724629n   \n",
       "12919      EN      octopus  bn:00026737n  bn:15724629n   \n",
       "12920      EN      octopus  bn:01833328n  bn:15724629n   \n",
       "...       ...          ...           ...           ...   \n",
       "17241666   EN  earnestness  bn:00029412n  bn:00029413n   \n",
       "17241667   EN     earnings  bn:00029415n  bn:00029416n   \n",
       "17241672   EN     easiness  bn:00029454n  bn:00029460n   \n",
       "17241673   EN     easiness  bn:00029460n  bn:00029461n   \n",
       "17241674   EN     easiness  bn:00029454n  bn:00029461n   \n",
       "\n",
       "                              COLEX  COLEX_ID  \n",
       "12916     bn:15724629n_bn:27189726v  54748711  \n",
       "12917     bn:15724629n_bn:16644556n  15472643  \n",
       "12918     bn:00662707n_bn:15724629n  54748753  \n",
       "12919     bn:00026737n_bn:15724629n   6496129  \n",
       "12920     bn:01833328n_bn:15724629n  15826412  \n",
       "...                             ...       ...  \n",
       "17241666  bn:00029412n_bn:00029413n    434816  \n",
       "17241667  bn:00029415n_bn:00029416n    495662  \n",
       "17241672  bn:00029454n_bn:00029460n   2901888  \n",
       "17241673  bn:00029460n_bn:00029461n   4021225  \n",
       "17241674  bn:00029454n_bn:00029461n   4662206  \n",
       "\n",
       "[2954283 rows x 6 columns]"
      ]
     },
     "execution_count": 36,
     "metadata": {},
     "output_type": "execute_result"
    }
   ],
   "source": [
    "df_inter"
   ]
  },
  {
   "cell_type": "code",
   "execution_count": 37,
   "id": "5d874bb0-8169-4dca-afd3-493a4a05bc06",
   "metadata": {
    "tags": []
   },
   "outputs": [],
   "source": [
    "synsets = set(df_inter[\"SYN1\"].tolist()+df_inter[\"SYN2\"].tolist())"
   ]
  },
  {
   "cell_type": "code",
   "execution_count": 39,
   "id": "635850f5-9aa9-416a-ac53-61b48f7af489",
   "metadata": {
    "tags": []
   },
   "outputs": [
    {
     "data": {
      "text/plain": [
       "201499"
      ]
     },
     "execution_count": 39,
     "metadata": {},
     "output_type": "execute_result"
    }
   ],
   "source": [
    "len(synsets)"
   ]
  },
  {
   "cell_type": "code",
   "execution_count": 40,
   "id": "2cac5680-9133-42fd-b5a0-ce04fdcba736",
   "metadata": {
    "tags": []
   },
   "outputs": [],
   "source": [
    "df_inter = df_inter[[\"LANG\", \"LEMMA\", \"COLEX\"]]"
   ]
  },
  {
   "cell_type": "code",
   "execution_count": 41,
   "id": "e231abea-b650-4f3d-8f3b-1a367eae8e74",
   "metadata": {
    "tags": []
   },
   "outputs": [],
   "source": [
    "df_inter.to_csv(\"data/preprocessed/EN.csv\", index=False)"
   ]
  },
  {
   "cell_type": "code",
   "execution_count": 43,
   "id": "34155153-0ac3-4fd0-8f9f-28170a0e01bc",
   "metadata": {
    "tags": []
   },
   "outputs": [],
   "source": [
    "with open(\"data/preprocessed/EN_synsets.json\", \"w\") as f:\n",
    "    json.dump(list(synsets), f)"
   ]
  },
  {
   "cell_type": "code",
   "execution_count": 45,
   "id": "d3903716-24bd-427c-a1dd-d2ffa4f084c3",
   "metadata": {
    "tags": []
   },
   "outputs": [],
   "source": [
    "with open(\"data/preprocessed/EN_colex.json\", \"w\") as f:\n",
    "    json.dump(list(set(df_inter[\"COLEX\"].tolist())), f)"
   ]
  },
  {
   "cell_type": "code",
   "execution_count": null,
   "id": "000b8dc0-012f-4448-8936-8a8f3820ab48",
   "metadata": {},
   "outputs": [],
   "source": []
  }
 ],
 "metadata": {
  "kernelspec": {
   "display_name": "colexphon",
   "language": "python",
   "name": "colexphon"
  },
  "language_info": {
   "codemirror_mode": {
    "name": "ipython",
    "version": 3
   },
   "file_extension": ".py",
   "mimetype": "text/x-python",
   "name": "python",
   "nbconvert_exporter": "python",
   "pygments_lexer": "ipython3",
   "version": "3.10.0"
  }
 },
 "nbformat": 4,
 "nbformat_minor": 5
}
