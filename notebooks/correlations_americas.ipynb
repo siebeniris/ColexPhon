{
 "cells": [
  {
   "cell_type": "code",
   "execution_count": 2,
   "id": "919f3252-ffc1-4f38-aeea-dede9e3a2600",
   "metadata": {
    "tags": []
   },
   "outputs": [],
   "source": [
    "import pandas as pd\n",
    "import numpy as np\n",
    "import json\n",
    "from collections import Counter, defaultdict"
   ]
  },
  {
   "cell_type": "code",
   "execution_count": 3,
   "id": "e12150c4-ec88-4cdd-b719-69a594ad957a",
   "metadata": {
    "tags": []
   },
   "outputs": [
    {
     "name": "stdout",
     "output_type": "stream",
     "text": [
      "INFO: Pandarallel will run on 10 workers.\n",
      "INFO: Pandarallel will use standard multiprocessing data transfer (pipe) to transfer data between the main process and workers.\n"
     ]
    }
   ],
   "source": [
    "from pandarallel import pandarallel\n",
    "\n",
    "pandarallel.initialize(progress_bar=True)"
   ]
  },
  {
   "cell_type": "code",
   "execution_count": 72,
   "id": "34ca13c0-50cc-4a72-9f90-50c02400b4f0",
   "metadata": {
    "tags": []
   },
   "outputs": [],
   "source": [
    "langs_america= pd.read_csv(\"../data/americas/languages_america.csv\")"
   ]
  },
  {
   "cell_type": "code",
   "execution_count": 90,
   "id": "d62e4789-a931-47ed-b0e6-5ad9d4864d34",
   "metadata": {
    "tags": []
   },
   "outputs": [
    {
     "data": {
      "text/html": [
       "<div>\n",
       "<style scoped>\n",
       "    .dataframe tbody tr th:only-of-type {\n",
       "        vertical-align: middle;\n",
       "    }\n",
       "\n",
       "    .dataframe tbody tr th {\n",
       "        vertical-align: top;\n",
       "    }\n",
       "\n",
       "    .dataframe thead th {\n",
       "        text-align: right;\n",
       "    }\n",
       "</style>\n",
       "<table border=\"1\" class=\"dataframe\">\n",
       "  <thead>\n",
       "    <tr style=\"text-align: right;\">\n",
       "      <th></th>\n",
       "      <th>glottocode</th>\n",
       "      <th>name</th>\n",
       "      <th>isocodes</th>\n",
       "      <th>level</th>\n",
       "      <th>macroarea</th>\n",
       "      <th>latitude</th>\n",
       "      <th>longitude</th>\n",
       "    </tr>\n",
       "  </thead>\n",
       "  <tbody>\n",
       "    <tr>\n",
       "      <th>0</th>\n",
       "      <td>aban1243</td>\n",
       "      <td>Abancay</td>\n",
       "      <td>NaN</td>\n",
       "      <td>dialect</td>\n",
       "      <td>South America</td>\n",
       "      <td>NaN</td>\n",
       "      <td>NaN</td>\n",
       "    </tr>\n",
       "    <tr>\n",
       "      <th>1</th>\n",
       "      <td>abip1241</td>\n",
       "      <td>Abipon</td>\n",
       "      <td>axb</td>\n",
       "      <td>language</td>\n",
       "      <td>South America</td>\n",
       "      <td>-29.00000</td>\n",
       "      <td>-61.0000</td>\n",
       "    </tr>\n",
       "    <tr>\n",
       "      <th>2</th>\n",
       "      <td>acat1240</td>\n",
       "      <td>Acatepec</td>\n",
       "      <td>NaN</td>\n",
       "      <td>dialect</td>\n",
       "      <td>North America</td>\n",
       "      <td>NaN</td>\n",
       "      <td>NaN</td>\n",
       "    </tr>\n",
       "    <tr>\n",
       "      <th>3</th>\n",
       "      <td>acat1239</td>\n",
       "      <td>Acatepec Me'phaa</td>\n",
       "      <td>tpx</td>\n",
       "      <td>language</td>\n",
       "      <td>North America</td>\n",
       "      <td>17.10340</td>\n",
       "      <td>-99.0602</td>\n",
       "    </tr>\n",
       "    <tr>\n",
       "      <th>4</th>\n",
       "      <td>acha1250</td>\n",
       "      <td>Achagua</td>\n",
       "      <td>aca</td>\n",
       "      <td>language</td>\n",
       "      <td>South America</td>\n",
       "      <td>4.38649</td>\n",
       "      <td>-72.2005</td>\n",
       "    </tr>\n",
       "  </tbody>\n",
       "</table>\n",
       "</div>"
      ],
      "text/plain": [
       "  glottocode              name isocodes     level      macroarea  latitude  \\\n",
       "0   aban1243           Abancay      NaN   dialect  South America       NaN   \n",
       "1   abip1241            Abipon      axb  language  South America -29.00000   \n",
       "2   acat1240          Acatepec      NaN   dialect  North America       NaN   \n",
       "3   acat1239  Acatepec Me'phaa      tpx  language  North America  17.10340   \n",
       "4   acha1250           Achagua      aca  language  South America   4.38649   \n",
       "\n",
       "   longitude  \n",
       "0        NaN  \n",
       "1   -61.0000  \n",
       "2        NaN  \n",
       "3   -99.0602  \n",
       "4   -72.2005  "
      ]
     },
     "execution_count": 90,
     "metadata": {},
     "output_type": "execute_result"
    }
   ],
   "source": [
    "langs_america.head()"
   ]
  },
  {
   "cell_type": "code",
   "execution_count": 75,
   "id": "dd1110cd-65ea-4644-b8f7-bc9aaaab1e9b",
   "metadata": {
    "tags": []
   },
   "outputs": [
    {
     "data": {
      "text/plain": [
       "nan"
      ]
     },
     "execution_count": 75,
     "metadata": {},
     "output_type": "execute_result"
    }
   ],
   "source": [
    "lang2lat=dict()\n",
    "lang2long=dict()\n",
    "for iso, lat, long in zip(langs_america[\"isocodes\"], langs_america[\"latitude\"], langs_america[\"longitude\"]):\n",
    "    lang2lat[iso]=lat\n",
    "    lang2long[iso]=long\n",
    "lang2lat.pop(np.nan)\n",
    "lang2long.pop(np.nan)"
   ]
  },
  {
   "cell_type": "code",
   "execution_count": 79,
   "id": "e554ce4e-f036-4140-a6ec-aeee0c0d2a54",
   "metadata": {
    "tags": []
   },
   "outputs": [],
   "source": [
    "df_colex_langs= pd.read_csv(\"../data/preprocessed/colex_pron_langs.csv\")"
   ]
  },
  {
   "cell_type": "code",
   "execution_count": 83,
   "id": "06503725-3cde-4969-929d-39e6a2871eb3",
   "metadata": {
    "tags": []
   },
   "outputs": [],
   "source": [
    "df_america= df_colex_langs[df_colex_langs[\"LANG_PRON\"].isin(lang2lat)].reset_index(drop=True)"
   ]
  },
  {
   "cell_type": "code",
   "execution_count": 88,
   "id": "8e944e9e-b870-439f-b672-7642a066950c",
   "metadata": {
    "tags": []
   },
   "outputs": [],
   "source": [
    "df_america[\"Latitude\"] = df_america[\"LANG_PRON\"].apply(lambda x:lang2lat[x])\n",
    "df_america[\"Longitude\"] = df_america[\"LANG_PRON\"].apply(lambda x:lang2long[x])"
   ]
  },
  {
   "cell_type": "code",
   "execution_count": 89,
   "id": "2522c8c1-d91c-4765-9817-daa81b58f687",
   "metadata": {
    "tags": []
   },
   "outputs": [
    {
     "data": {
      "text/html": [
       "<div>\n",
       "<style scoped>\n",
       "    .dataframe tbody tr th:only-of-type {\n",
       "        vertical-align: middle;\n",
       "    }\n",
       "\n",
       "    .dataframe tbody tr th {\n",
       "        vertical-align: top;\n",
       "    }\n",
       "\n",
       "    .dataframe thead th {\n",
       "        text-align: right;\n",
       "    }\n",
       "</style>\n",
       "<table border=\"1\" class=\"dataframe\">\n",
       "  <thead>\n",
       "    <tr style=\"text-align: right;\">\n",
       "      <th></th>\n",
       "      <th>Unnamed: 0</th>\n",
       "      <th>SENSE_LEMMA</th>\n",
       "      <th>LANG</th>\n",
       "      <th>SYNSET1</th>\n",
       "      <th>SYNSET2</th>\n",
       "      <th>C1</th>\n",
       "      <th>C2</th>\n",
       "      <th>Conc.M.1</th>\n",
       "      <th>Conc.M.2</th>\n",
       "      <th>lang</th>\n",
       "      <th>LANG_PRON</th>\n",
       "      <th>LANG_NAME</th>\n",
       "      <th>COLEX</th>\n",
       "      <th>diff</th>\n",
       "      <th>ConcDist</th>\n",
       "      <th>Latitude</th>\n",
       "      <th>Longitude</th>\n",
       "    </tr>\n",
       "  </thead>\n",
       "  <tbody>\n",
       "    <tr>\n",
       "      <th>0</th>\n",
       "      <td>89569</td>\n",
       "      <td>tsésǫʼ</td>\n",
       "      <td>NV</td>\n",
       "      <td>window#n#1</td>\n",
       "      <td>windowpane#n#1</td>\n",
       "      <td>window</td>\n",
       "      <td>windowpane</td>\n",
       "      <td>4.86</td>\n",
       "      <td>4.86</td>\n",
       "      <td>nv</td>\n",
       "      <td>nav</td>\n",
       "      <td>Navajo</td>\n",
       "      <td>window~windowpane</td>\n",
       "      <td>True</td>\n",
       "      <td>0.00</td>\n",
       "      <td>36.330000</td>\n",
       "      <td>-109.3800</td>\n",
       "    </tr>\n",
       "    <tr>\n",
       "      <th>1</th>\n",
       "      <td>89570</td>\n",
       "      <td>tsésǫʼ</td>\n",
       "      <td>NV</td>\n",
       "      <td>glass#n#1</td>\n",
       "      <td>window#n#1</td>\n",
       "      <td>glass</td>\n",
       "      <td>window</td>\n",
       "      <td>4.82</td>\n",
       "      <td>4.86</td>\n",
       "      <td>nv</td>\n",
       "      <td>nav</td>\n",
       "      <td>Navajo</td>\n",
       "      <td>glass~window</td>\n",
       "      <td>True</td>\n",
       "      <td>0.04</td>\n",
       "      <td>36.330000</td>\n",
       "      <td>-109.3800</td>\n",
       "    </tr>\n",
       "    <tr>\n",
       "      <th>2</th>\n",
       "      <td>89571</td>\n",
       "      <td>tsésǫʼ</td>\n",
       "      <td>NV</td>\n",
       "      <td>glass#n#1</td>\n",
       "      <td>windowpane#n#1</td>\n",
       "      <td>glass</td>\n",
       "      <td>windowpane</td>\n",
       "      <td>4.82</td>\n",
       "      <td>4.86</td>\n",
       "      <td>nv</td>\n",
       "      <td>nav</td>\n",
       "      <td>Navajo</td>\n",
       "      <td>glass~windowpane</td>\n",
       "      <td>True</td>\n",
       "      <td>0.04</td>\n",
       "      <td>36.330000</td>\n",
       "      <td>-109.3800</td>\n",
       "    </tr>\n",
       "    <tr>\n",
       "      <th>3</th>\n",
       "      <td>107706</td>\n",
       "      <td>aaqqat</td>\n",
       "      <td>KL</td>\n",
       "      <td>glove#n#2</td>\n",
       "      <td>mitten#n#1</td>\n",
       "      <td>glove</td>\n",
       "      <td>mitten</td>\n",
       "      <td>4.97</td>\n",
       "      <td>4.89</td>\n",
       "      <td>kl</td>\n",
       "      <td>kal</td>\n",
       "      <td>Kalaallisut</td>\n",
       "      <td>glove~mitten</td>\n",
       "      <td>True</td>\n",
       "      <td>0.08</td>\n",
       "      <td>69.376100</td>\n",
       "      <td>-52.8640</td>\n",
       "    </tr>\n",
       "    <tr>\n",
       "      <th>4</th>\n",
       "      <td>107717</td>\n",
       "      <td>lájish</td>\n",
       "      <td>NV</td>\n",
       "      <td>glove#n#2</td>\n",
       "      <td>mitten#n#1</td>\n",
       "      <td>glove</td>\n",
       "      <td>mitten</td>\n",
       "      <td>4.97</td>\n",
       "      <td>4.89</td>\n",
       "      <td>nv</td>\n",
       "      <td>nav</td>\n",
       "      <td>Navajo</td>\n",
       "      <td>glove~mitten</td>\n",
       "      <td>True</td>\n",
       "      <td>0.08</td>\n",
       "      <td>36.330000</td>\n",
       "      <td>-109.3800</td>\n",
       "    </tr>\n",
       "    <tr>\n",
       "      <th>...</th>\n",
       "      <td>...</td>\n",
       "      <td>...</td>\n",
       "      <td>...</td>\n",
       "      <td>...</td>\n",
       "      <td>...</td>\n",
       "      <td>...</td>\n",
       "      <td>...</td>\n",
       "      <td>...</td>\n",
       "      <td>...</td>\n",
       "      <td>...</td>\n",
       "      <td>...</td>\n",
       "      <td>...</td>\n",
       "      <td>...</td>\n",
       "      <td>...</td>\n",
       "      <td>...</td>\n",
       "      <td>...</td>\n",
       "      <td>...</td>\n",
       "    </tr>\n",
       "    <tr>\n",
       "      <th>374</th>\n",
       "      <td>4148707</td>\n",
       "      <td>tsin</td>\n",
       "      <td>NV</td>\n",
       "      <td>tree#n#1</td>\n",
       "      <td>wood#n#1</td>\n",
       "      <td>tree</td>\n",
       "      <td>wood</td>\n",
       "      <td>5.00</td>\n",
       "      <td>4.85</td>\n",
       "      <td>nv</td>\n",
       "      <td>nav</td>\n",
       "      <td>Navajo</td>\n",
       "      <td>tree~wood</td>\n",
       "      <td>True</td>\n",
       "      <td>0.15</td>\n",
       "      <td>36.330000</td>\n",
       "      <td>-109.3800</td>\n",
       "    </tr>\n",
       "    <tr>\n",
       "      <th>375</th>\n",
       "      <td>4214702</td>\n",
       "      <td>náô’da</td>\n",
       "      <td>APW</td>\n",
       "      <td>arise#v#3</td>\n",
       "      <td>awaken#v#1</td>\n",
       "      <td>arise</td>\n",
       "      <td>awaken</td>\n",
       "      <td>3.17</td>\n",
       "      <td>3.45</td>\n",
       "      <td>apw</td>\n",
       "      <td>apw</td>\n",
       "      <td>Western Apache</td>\n",
       "      <td>arise~awaken</td>\n",
       "      <td>True</td>\n",
       "      <td>0.28</td>\n",
       "      <td>33.857400</td>\n",
       "      <td>-110.1230</td>\n",
       "    </tr>\n",
       "    <tr>\n",
       "      <th>376</th>\n",
       "      <td>4229348</td>\n",
       "      <td>sei</td>\n",
       "      <td>PDC</td>\n",
       "      <td>be#v#1</td>\n",
       "      <td>exist#v#1</td>\n",
       "      <td>be</td>\n",
       "      <td>exist</td>\n",
       "      <td>1.85</td>\n",
       "      <td>2.38</td>\n",
       "      <td>pdc</td>\n",
       "      <td>pdc</td>\n",
       "      <td>Pennsylvania German</td>\n",
       "      <td>be~exist</td>\n",
       "      <td>True</td>\n",
       "      <td>0.53</td>\n",
       "      <td>40.030507</td>\n",
       "      <td>-76.3211</td>\n",
       "    </tr>\n",
       "    <tr>\n",
       "      <th>377</th>\n",
       "      <td>4229349</td>\n",
       "      <td>sei</td>\n",
       "      <td>PDC</td>\n",
       "      <td>be#v#5</td>\n",
       "      <td>exist#v#1</td>\n",
       "      <td>be</td>\n",
       "      <td>exist</td>\n",
       "      <td>1.85</td>\n",
       "      <td>2.38</td>\n",
       "      <td>pdc</td>\n",
       "      <td>pdc</td>\n",
       "      <td>Pennsylvania German</td>\n",
       "      <td>be~exist</td>\n",
       "      <td>True</td>\n",
       "      <td>0.53</td>\n",
       "      <td>40.030507</td>\n",
       "      <td>-76.3211</td>\n",
       "    </tr>\n",
       "    <tr>\n",
       "      <th>378</th>\n",
       "      <td>4274516</td>\n",
       "      <td>lausche</td>\n",
       "      <td>PDC</td>\n",
       "      <td>heed#v#1</td>\n",
       "      <td>listen#v#2</td>\n",
       "      <td>heed</td>\n",
       "      <td>listen</td>\n",
       "      <td>1.93</td>\n",
       "      <td>3.47</td>\n",
       "      <td>pdc</td>\n",
       "      <td>pdc</td>\n",
       "      <td>Pennsylvania German</td>\n",
       "      <td>heed~listen</td>\n",
       "      <td>True</td>\n",
       "      <td>1.54</td>\n",
       "      <td>40.030507</td>\n",
       "      <td>-76.3211</td>\n",
       "    </tr>\n",
       "  </tbody>\n",
       "</table>\n",
       "<p>379 rows × 17 columns</p>\n",
       "</div>"
      ],
      "text/plain": [
       "     Unnamed: 0 SENSE_LEMMA LANG     SYNSET1         SYNSET2      C1  \\\n",
       "0         89569      tsésǫʼ   NV  window#n#1  windowpane#n#1  window   \n",
       "1         89570      tsésǫʼ   NV   glass#n#1      window#n#1   glass   \n",
       "2         89571      tsésǫʼ   NV   glass#n#1  windowpane#n#1   glass   \n",
       "3        107706      aaqqat   KL   glove#n#2      mitten#n#1   glove   \n",
       "4        107717      lájish   NV   glove#n#2      mitten#n#1   glove   \n",
       "..          ...         ...  ...         ...             ...     ...   \n",
       "374     4148707        tsin   NV    tree#n#1        wood#n#1    tree   \n",
       "375     4214702      náô’da  APW   arise#v#3      awaken#v#1   arise   \n",
       "376     4229348         sei  PDC      be#v#1       exist#v#1      be   \n",
       "377     4229349         sei  PDC      be#v#5       exist#v#1      be   \n",
       "378     4274516     lausche  PDC    heed#v#1      listen#v#2    heed   \n",
       "\n",
       "             C2  Conc.M.1  Conc.M.2 lang LANG_PRON            LANG_NAME  \\\n",
       "0    windowpane      4.86      4.86   nv       nav               Navajo   \n",
       "1        window      4.82      4.86   nv       nav               Navajo   \n",
       "2    windowpane      4.82      4.86   nv       nav               Navajo   \n",
       "3        mitten      4.97      4.89   kl       kal          Kalaallisut   \n",
       "4        mitten      4.97      4.89   nv       nav               Navajo   \n",
       "..          ...       ...       ...  ...       ...                  ...   \n",
       "374        wood      5.00      4.85   nv       nav               Navajo   \n",
       "375      awaken      3.17      3.45  apw       apw       Western Apache   \n",
       "376       exist      1.85      2.38  pdc       pdc  Pennsylvania German   \n",
       "377       exist      1.85      2.38  pdc       pdc  Pennsylvania German   \n",
       "378      listen      1.93      3.47  pdc       pdc  Pennsylvania German   \n",
       "\n",
       "                 COLEX  diff  ConcDist   Latitude  Longitude  \n",
       "0    window~windowpane  True      0.00  36.330000  -109.3800  \n",
       "1         glass~window  True      0.04  36.330000  -109.3800  \n",
       "2     glass~windowpane  True      0.04  36.330000  -109.3800  \n",
       "3         glove~mitten  True      0.08  69.376100   -52.8640  \n",
       "4         glove~mitten  True      0.08  36.330000  -109.3800  \n",
       "..                 ...   ...       ...        ...        ...  \n",
       "374          tree~wood  True      0.15  36.330000  -109.3800  \n",
       "375       arise~awaken  True      0.28  33.857400  -110.1230  \n",
       "376           be~exist  True      0.53  40.030507   -76.3211  \n",
       "377           be~exist  True      0.53  40.030507   -76.3211  \n",
       "378        heed~listen  True      1.54  40.030507   -76.3211  \n",
       "\n",
       "[379 rows x 17 columns]"
      ]
     },
     "execution_count": 89,
     "metadata": {},
     "output_type": "execute_result"
    }
   ],
   "source": [
    "df_america"
   ]
  },
  {
   "cell_type": "code",
   "execution_count": 91,
   "id": "e251cee0-3d9f-42dd-93a5-d11dd5ce78e8",
   "metadata": {
    "tags": []
   },
   "outputs": [],
   "source": [
    "df= df_america"
   ]
  },
  {
   "cell_type": "code",
   "execution_count": 5,
   "id": "4da314ef-f465-4c15-937f-406f74d1904b",
   "metadata": {
    "tags": []
   },
   "outputs": [],
   "source": [
    "df= pd.read_csv(\"../data/americas/data.csv\")"
   ]
  },
  {
   "cell_type": "code",
   "execution_count": 7,
   "id": "a1fd2da4-377c-43b7-a8f9-cc4e37c8a0ae",
   "metadata": {
    "tags": []
   },
   "outputs": [
    {
     "data": {
      "text/plain": [
       "42"
      ]
     },
     "execution_count": 7,
     "metadata": {},
     "output_type": "execute_result"
    }
   ],
   "source": [
    "len(df)"
   ]
  },
  {
   "cell_type": "markdown",
   "id": "6f352667-2dfb-45ff-97e0-7a80e1cdc052",
   "metadata": {
    "tags": []
   },
   "source": [
    "### Hypothesis 1: The concepts that are more abstract are more proable to colexifiy\n",
    "\n",
    "The concepts that are less in concreteness is colexified in more languages/in more colexifications patterns, i.e., There are more sense_lemmas for the concept"
   ]
  },
  {
   "cell_type": "code",
   "execution_count": 92,
   "id": "ce44b78b-f770-4fc1-8be6-e7cd89cae067",
   "metadata": {
    "tags": []
   },
   "outputs": [],
   "source": [
    "import numpy as np\n",
    "import matplotlib.pyplot as plt  # To visualize\n",
    "import pandas as pd  # To read data\n",
    "from sklearn.linear_model import LinearRegression\n",
    "import seaborn as sns\n",
    "%matplotlib inline"
   ]
  },
  {
   "cell_type": "code",
   "execution_count": 93,
   "id": "5d299397-3197-443a-b4e9-0e963ea0e133",
   "metadata": {
    "tags": []
   },
   "outputs": [],
   "source": [
    "counter_c1 = dict(Counter(df[\"C1\"].tolist()).most_common())\n",
    "counter_c2 = dict(Counter(df[\"C2\"].tolist()).most_common())\n"
   ]
  },
  {
   "cell_type": "code",
   "execution_count": 94,
   "id": "2414e5c9-8b5e-41b8-b544-f79df75fb879",
   "metadata": {
    "scrolled": true,
    "tags": []
   },
   "outputs": [
    {
     "data": {
      "text/plain": [
       "174"
      ]
     },
     "execution_count": 94,
     "metadata": {},
     "output_type": "execute_result"
    }
   ],
   "source": [
    "len(counter_c1)"
   ]
  },
  {
   "cell_type": "code",
   "execution_count": 95,
   "id": "eede357a-dd09-458c-92af-44dab9ab6ec6",
   "metadata": {
    "tags": []
   },
   "outputs": [],
   "source": [
    "counter_c1.update(counter_c2)"
   ]
  },
  {
   "cell_type": "code",
   "execution_count": 96,
   "id": "d1b34f21-77f5-4da1-8481-ed284f8df677",
   "metadata": {
    "tags": []
   },
   "outputs": [
    {
     "data": {
      "text/plain": [
       "325"
      ]
     },
     "execution_count": 96,
     "metadata": {},
     "output_type": "execute_result"
    }
   ],
   "source": [
    "len(counter_c1)"
   ]
  },
  {
   "cell_type": "code",
   "execution_count": 97,
   "id": "9841bdb8-8210-4787-8955-de82bf07a5f8",
   "metadata": {
    "tags": []
   },
   "outputs": [],
   "source": [
    "df_concept_freq = pd.DataFrame.from_dict(counter_c1, orient=\"index\")"
   ]
  },
  {
   "cell_type": "code",
   "execution_count": 98,
   "id": "9d9aa875-61dc-40a4-ae0c-282c948a1c84",
   "metadata": {
    "tags": []
   },
   "outputs": [],
   "source": [
    "df_concept_freq.columns=[\"FREQ\"]"
   ]
  },
  {
   "cell_type": "code",
   "execution_count": 99,
   "id": "6e7a4053-23a8-4e49-8fa4-d7ab58db313f",
   "metadata": {
    "tags": []
   },
   "outputs": [],
   "source": [
    "df_concept_freq[\"Concept\"] = df_concept_freq.index"
   ]
  },
  {
   "cell_type": "code",
   "execution_count": 100,
   "id": "c91377cd-206f-42c0-bbd5-587db4e4b7f0",
   "metadata": {
    "tags": []
   },
   "outputs": [
    {
     "data": {
      "text/html": [
       "<div>\n",
       "<style scoped>\n",
       "    .dataframe tbody tr th:only-of-type {\n",
       "        vertical-align: middle;\n",
       "    }\n",
       "\n",
       "    .dataframe tbody tr th {\n",
       "        vertical-align: top;\n",
       "    }\n",
       "\n",
       "    .dataframe thead th {\n",
       "        text-align: right;\n",
       "    }\n",
       "</style>\n",
       "<table border=\"1\" class=\"dataframe\">\n",
       "  <thead>\n",
       "    <tr style=\"text-align: right;\">\n",
       "      <th></th>\n",
       "      <th>Unnamed: 0</th>\n",
       "      <th>SENSE_LEMMA</th>\n",
       "      <th>LANG</th>\n",
       "      <th>SYNSET1</th>\n",
       "      <th>SYNSET2</th>\n",
       "      <th>C1</th>\n",
       "      <th>C2</th>\n",
       "      <th>Conc.M.1</th>\n",
       "      <th>Conc.M.2</th>\n",
       "      <th>lang</th>\n",
       "      <th>LANG_PRON</th>\n",
       "      <th>LANG_NAME</th>\n",
       "      <th>COLEX</th>\n",
       "      <th>diff</th>\n",
       "      <th>ConcDist</th>\n",
       "      <th>Latitude</th>\n",
       "      <th>Longitude</th>\n",
       "    </tr>\n",
       "  </thead>\n",
       "  <tbody>\n",
       "    <tr>\n",
       "      <th>0</th>\n",
       "      <td>89569</td>\n",
       "      <td>tsésǫʼ</td>\n",
       "      <td>NV</td>\n",
       "      <td>window#n#1</td>\n",
       "      <td>windowpane#n#1</td>\n",
       "      <td>window</td>\n",
       "      <td>windowpane</td>\n",
       "      <td>4.86</td>\n",
       "      <td>4.86</td>\n",
       "      <td>nv</td>\n",
       "      <td>nav</td>\n",
       "      <td>Navajo</td>\n",
       "      <td>window~windowpane</td>\n",
       "      <td>True</td>\n",
       "      <td>0.00</td>\n",
       "      <td>36.3300</td>\n",
       "      <td>-109.380</td>\n",
       "    </tr>\n",
       "    <tr>\n",
       "      <th>1</th>\n",
       "      <td>89570</td>\n",
       "      <td>tsésǫʼ</td>\n",
       "      <td>NV</td>\n",
       "      <td>glass#n#1</td>\n",
       "      <td>window#n#1</td>\n",
       "      <td>glass</td>\n",
       "      <td>window</td>\n",
       "      <td>4.82</td>\n",
       "      <td>4.86</td>\n",
       "      <td>nv</td>\n",
       "      <td>nav</td>\n",
       "      <td>Navajo</td>\n",
       "      <td>glass~window</td>\n",
       "      <td>True</td>\n",
       "      <td>0.04</td>\n",
       "      <td>36.3300</td>\n",
       "      <td>-109.380</td>\n",
       "    </tr>\n",
       "    <tr>\n",
       "      <th>2</th>\n",
       "      <td>89571</td>\n",
       "      <td>tsésǫʼ</td>\n",
       "      <td>NV</td>\n",
       "      <td>glass#n#1</td>\n",
       "      <td>windowpane#n#1</td>\n",
       "      <td>glass</td>\n",
       "      <td>windowpane</td>\n",
       "      <td>4.82</td>\n",
       "      <td>4.86</td>\n",
       "      <td>nv</td>\n",
       "      <td>nav</td>\n",
       "      <td>Navajo</td>\n",
       "      <td>glass~windowpane</td>\n",
       "      <td>True</td>\n",
       "      <td>0.04</td>\n",
       "      <td>36.3300</td>\n",
       "      <td>-109.380</td>\n",
       "    </tr>\n",
       "    <tr>\n",
       "      <th>3</th>\n",
       "      <td>107706</td>\n",
       "      <td>aaqqat</td>\n",
       "      <td>KL</td>\n",
       "      <td>glove#n#2</td>\n",
       "      <td>mitten#n#1</td>\n",
       "      <td>glove</td>\n",
       "      <td>mitten</td>\n",
       "      <td>4.97</td>\n",
       "      <td>4.89</td>\n",
       "      <td>kl</td>\n",
       "      <td>kal</td>\n",
       "      <td>Kalaallisut</td>\n",
       "      <td>glove~mitten</td>\n",
       "      <td>True</td>\n",
       "      <td>0.08</td>\n",
       "      <td>69.3761</td>\n",
       "      <td>-52.864</td>\n",
       "    </tr>\n",
       "    <tr>\n",
       "      <th>4</th>\n",
       "      <td>107717</td>\n",
       "      <td>lájish</td>\n",
       "      <td>NV</td>\n",
       "      <td>glove#n#2</td>\n",
       "      <td>mitten#n#1</td>\n",
       "      <td>glove</td>\n",
       "      <td>mitten</td>\n",
       "      <td>4.97</td>\n",
       "      <td>4.89</td>\n",
       "      <td>nv</td>\n",
       "      <td>nav</td>\n",
       "      <td>Navajo</td>\n",
       "      <td>glove~mitten</td>\n",
       "      <td>True</td>\n",
       "      <td>0.08</td>\n",
       "      <td>36.3300</td>\n",
       "      <td>-109.380</td>\n",
       "    </tr>\n",
       "  </tbody>\n",
       "</table>\n",
       "</div>"
      ],
      "text/plain": [
       "   Unnamed: 0 SENSE_LEMMA LANG     SYNSET1         SYNSET2      C1  \\\n",
       "0       89569      tsésǫʼ   NV  window#n#1  windowpane#n#1  window   \n",
       "1       89570      tsésǫʼ   NV   glass#n#1      window#n#1   glass   \n",
       "2       89571      tsésǫʼ   NV   glass#n#1  windowpane#n#1   glass   \n",
       "3      107706      aaqqat   KL   glove#n#2      mitten#n#1   glove   \n",
       "4      107717      lájish   NV   glove#n#2      mitten#n#1   glove   \n",
       "\n",
       "           C2  Conc.M.1  Conc.M.2 lang LANG_PRON    LANG_NAME  \\\n",
       "0  windowpane      4.86      4.86   nv       nav       Navajo   \n",
       "1      window      4.82      4.86   nv       nav       Navajo   \n",
       "2  windowpane      4.82      4.86   nv       nav       Navajo   \n",
       "3      mitten      4.97      4.89   kl       kal  Kalaallisut   \n",
       "4      mitten      4.97      4.89   nv       nav       Navajo   \n",
       "\n",
       "               COLEX  diff  ConcDist  Latitude  Longitude  \n",
       "0  window~windowpane  True      0.00   36.3300   -109.380  \n",
       "1       glass~window  True      0.04   36.3300   -109.380  \n",
       "2   glass~windowpane  True      0.04   36.3300   -109.380  \n",
       "3       glove~mitten  True      0.08   69.3761    -52.864  \n",
       "4       glove~mitten  True      0.08   36.3300   -109.380  "
      ]
     },
     "execution_count": 100,
     "metadata": {},
     "output_type": "execute_result"
    }
   ],
   "source": [
    "df.head()"
   ]
  },
  {
   "cell_type": "code",
   "execution_count": 101,
   "id": "e72e87f7-2dae-4155-8e43-9f7e69e8d2c9",
   "metadata": {
    "tags": []
   },
   "outputs": [],
   "source": [
    "concept_concreteness_1 = dict(zip(df[\"C1\"], df[\"Conc.M.1\"]))\n",
    "concept_concreteness_2 = dict(zip(df[\"C2\"], df[\"Conc.M.2\"]))"
   ]
  },
  {
   "cell_type": "code",
   "execution_count": 102,
   "id": "6ed9aba7-0421-45c6-9e0e-8b9669dd998e",
   "metadata": {
    "tags": []
   },
   "outputs": [],
   "source": [
    "concept_concreteness_1.update(concept_concreteness_2)"
   ]
  },
  {
   "cell_type": "code",
   "execution_count": 103,
   "id": "679eee04-3773-4e14-9cae-8fd626c168ba",
   "metadata": {
    "tags": []
   },
   "outputs": [],
   "source": [
    "df_concept_freq[\"Concreteness\"] =df_concept_freq[\"Concept\"].apply(lambda x: concept_concreteness_1.get(x))"
   ]
  },
  {
   "cell_type": "code",
   "execution_count": 104,
   "id": "755b0a43-abcb-4f0a-b130-2d02638d8c3c",
   "metadata": {
    "tags": []
   },
   "outputs": [
    {
     "data": {
      "text/html": [
       "<div>\n",
       "<style scoped>\n",
       "    .dataframe tbody tr th:only-of-type {\n",
       "        vertical-align: middle;\n",
       "    }\n",
       "\n",
       "    .dataframe tbody tr th {\n",
       "        vertical-align: top;\n",
       "    }\n",
       "\n",
       "    .dataframe thead th {\n",
       "        text-align: right;\n",
       "    }\n",
       "</style>\n",
       "<table border=\"1\" class=\"dataframe\">\n",
       "  <thead>\n",
       "    <tr style=\"text-align: right;\">\n",
       "      <th></th>\n",
       "      <th>FREQ</th>\n",
       "      <th>Concept</th>\n",
       "      <th>Concreteness</th>\n",
       "    </tr>\n",
       "  </thead>\n",
       "  <tbody>\n",
       "    <tr>\n",
       "      <th>nine</th>\n",
       "      <td>36</td>\n",
       "      <td>nine</td>\n",
       "      <td>4.04</td>\n",
       "    </tr>\n",
       "    <tr>\n",
       "      <th>kilogram</th>\n",
       "      <td>19</td>\n",
       "      <td>kilogram</td>\n",
       "      <td>4.14</td>\n",
       "    </tr>\n",
       "    <tr>\n",
       "      <th>l</th>\n",
       "      <td>18</td>\n",
       "      <td>l</td>\n",
       "      <td>3.13</td>\n",
       "    </tr>\n",
       "    <tr>\n",
       "      <th>parable</th>\n",
       "      <td>18</td>\n",
       "      <td>parable</td>\n",
       "      <td>1.89</td>\n",
       "    </tr>\n",
       "    <tr>\n",
       "      <th>bluefin</th>\n",
       "      <td>18</td>\n",
       "      <td>bluefin</td>\n",
       "      <td>4.96</td>\n",
       "    </tr>\n",
       "    <tr>\n",
       "      <th>...</th>\n",
       "      <td>...</td>\n",
       "      <td>...</td>\n",
       "      <td>...</td>\n",
       "    </tr>\n",
       "    <tr>\n",
       "      <th>spy</th>\n",
       "      <td>1</td>\n",
       "      <td>spy</td>\n",
       "      <td>4.14</td>\n",
       "    </tr>\n",
       "    <tr>\n",
       "      <th>honeybee</th>\n",
       "      <td>1</td>\n",
       "      <td>honeybee</td>\n",
       "      <td>4.86</td>\n",
       "    </tr>\n",
       "    <tr>\n",
       "      <th>wood</th>\n",
       "      <td>1</td>\n",
       "      <td>wood</td>\n",
       "      <td>4.85</td>\n",
       "    </tr>\n",
       "    <tr>\n",
       "      <th>awaken</th>\n",
       "      <td>1</td>\n",
       "      <td>awaken</td>\n",
       "      <td>3.45</td>\n",
       "    </tr>\n",
       "    <tr>\n",
       "      <th>listen</th>\n",
       "      <td>1</td>\n",
       "      <td>listen</td>\n",
       "      <td>3.47</td>\n",
       "    </tr>\n",
       "  </tbody>\n",
       "</table>\n",
       "<p>325 rows × 3 columns</p>\n",
       "</div>"
      ],
      "text/plain": [
       "          FREQ   Concept  Concreteness\n",
       "nine        36      nine          4.04\n",
       "kilogram    19  kilogram          4.14\n",
       "l           18         l          3.13\n",
       "parable     18   parable          1.89\n",
       "bluefin     18   bluefin          4.96\n",
       "...        ...       ...           ...\n",
       "spy          1       spy          4.14\n",
       "honeybee     1  honeybee          4.86\n",
       "wood         1      wood          4.85\n",
       "awaken       1    awaken          3.45\n",
       "listen       1    listen          3.47\n",
       "\n",
       "[325 rows x 3 columns]"
      ]
     },
     "execution_count": 104,
     "metadata": {},
     "output_type": "execute_result"
    }
   ],
   "source": [
    "df_concept_freq"
   ]
  },
  {
   "cell_type": "code",
   "execution_count": 105,
   "id": "43ff5b3e-f6aa-4ad7-8435-a7f664a2b25e",
   "metadata": {
    "tags": []
   },
   "outputs": [
    {
     "data": {
      "text/plain": [
       "<Axes: xlabel='Concreteness', ylabel='Count'>"
      ]
     },
     "execution_count": 105,
     "metadata": {},
     "output_type": "execute_result"
    },
    {
     "data": {
      "image/png": "[encoded data removed]",
      "text/plain": [
       "<Figure size 640x480 with 1 Axes>"
      ]
     },
     "metadata": {},
     "output_type": "display_data"
    }
   ],
   "source": [
    "sns.histplot(data=df_concept_freq, x=\"Concreteness\")"
   ]
  },
  {
   "cell_type": "code",
   "execution_count": 34,
   "id": "da7f6416-bbbd-4f3a-b597-44507ef9b56c",
   "metadata": {
    "tags": []
   },
   "outputs": [],
   "source": [
    "Y_freq = df_concept_freq[\"FREQ\"].values.reshape(-1,1)"
   ]
  },
  {
   "cell_type": "code",
   "execution_count": 35,
   "id": "9eab9e0a-43e9-4d0a-b31e-73311abc7e3e",
   "metadata": {
    "scrolled": true,
    "tags": []
   },
   "outputs": [
    {
     "data": {
      "text/plain": [
       "array([[2],\n",
       "       [2],\n",
       "       [2],\n",
       "       [2],\n",
       "       [2],\n",
       "       [2],\n",
       "       [1],\n",
       "       [1],\n",
       "       [1],\n",
       "       [1],\n",
       "       [1],\n",
       "       [1],\n",
       "       [1],\n",
       "       [1],\n",
       "       [1],\n",
       "       [1],\n",
       "       [1],\n",
       "       [1],\n",
       "       [1],\n",
       "       [1],\n",
       "       [1],\n",
       "       [1],\n",
       "       [1],\n",
       "       [1],\n",
       "       [1],\n",
       "       [1],\n",
       "       [1],\n",
       "       [1],\n",
       "       [1],\n",
       "       [1],\n",
       "       [1],\n",
       "       [1],\n",
       "       [2],\n",
       "       [1],\n",
       "       [1],\n",
       "       [1],\n",
       "       [2],\n",
       "       [2],\n",
       "       [2],\n",
       "       [2],\n",
       "       [2],\n",
       "       [2],\n",
       "       [1],\n",
       "       [1],\n",
       "       [1],\n",
       "       [1],\n",
       "       [1],\n",
       "       [1],\n",
       "       [1],\n",
       "       [1],\n",
       "       [1],\n",
       "       [1],\n",
       "       [1],\n",
       "       [1],\n",
       "       [1],\n",
       "       [1],\n",
       "       [1],\n",
       "       [1],\n",
       "       [1],\n",
       "       [1],\n",
       "       [1],\n",
       "       [1],\n",
       "       [1],\n",
       "       [1],\n",
       "       [1]])"
      ]
     },
     "execution_count": 35,
     "metadata": {},
     "output_type": "execute_result"
    }
   ],
   "source": [
    "Y_freq"
   ]
  },
  {
   "cell_type": "code",
   "execution_count": 36,
   "id": "3a359eeb-d7ea-41fb-9821-6961b954f5f7",
   "metadata": {
    "tags": []
   },
   "outputs": [],
   "source": [
    "X_freq = df_concept_freq[\"Concreteness\"].values.reshape(-1,1)"
   ]
  },
  {
   "cell_type": "code",
   "execution_count": 37,
   "id": "6229082d-62b4-4932-bd4b-a41e33773e90",
   "metadata": {
    "scrolled": true,
    "tags": []
   },
   "outputs": [
    {
     "data": {
      "text/plain": [
       "array([[1.64],\n",
       "       [4.14],\n",
       "       [4.64],\n",
       "       [3.07],\n",
       "       [4.9 ],\n",
       "       [4.11],\n",
       "       [4.97],\n",
       "       [3.32],\n",
       "       [2.8 ],\n",
       "       [4.68],\n",
       "       [4.88],\n",
       "       [2.46],\n",
       "       [4.59],\n",
       "       [5.  ],\n",
       "       [2.6 ],\n",
       "       [4.6 ],\n",
       "       [4.97],\n",
       "       [4.1 ],\n",
       "       [4.61],\n",
       "       [4.76],\n",
       "       [4.25],\n",
       "       [3.18],\n",
       "       [4.7 ],\n",
       "       [3.74],\n",
       "       [2.54],\n",
       "       [4.75],\n",
       "       [4.93],\n",
       "       [4.48],\n",
       "       [4.44],\n",
       "       [4.81],\n",
       "       [1.6 ],\n",
       "       [4.8 ],\n",
       "       [4.57],\n",
       "       [4.81],\n",
       "       [5.  ],\n",
       "       [1.85],\n",
       "       [2.07],\n",
       "       [5.  ],\n",
       "       [4.9 ],\n",
       "       [3.92],\n",
       "       [4.63],\n",
       "       [3.9 ],\n",
       "       [4.89],\n",
       "       [3.48],\n",
       "       [4.38],\n",
       "       [4.88],\n",
       "       [4.45],\n",
       "       [1.33],\n",
       "       [4.71],\n",
       "       [4.73],\n",
       "       [4.89],\n",
       "       [4.9 ],\n",
       "       [4.78],\n",
       "       [4.54],\n",
       "       [4.93],\n",
       "       [3.73],\n",
       "       [3.52],\n",
       "       [4.83],\n",
       "       [4.5 ],\n",
       "       [2.21],\n",
       "       [4.97],\n",
       "       [3.93],\n",
       "       [3.1 ],\n",
       "       [4.85],\n",
       "       [2.38]])"
      ]
     },
     "execution_count": 37,
     "metadata": {},
     "output_type": "execute_result"
    }
   ],
   "source": [
    "X_freq"
   ]
  },
  {
   "cell_type": "code",
   "execution_count": 38,
   "id": "c2d00c74-c4b0-495a-937e-aba9d4e5d87f",
   "metadata": {
    "tags": []
   },
   "outputs": [],
   "source": [
    "linear_reg = LinearRegression()"
   ]
  },
  {
   "cell_type": "code",
   "execution_count": 39,
   "id": "ea2ebaa1-dc32-44ea-ac4c-e18d515bfbab",
   "metadata": {
    "tags": []
   },
   "outputs": [
    {
     "data": {
      "text/html": [
       "<style>#sk-container-id-1 {color: black;background-color: white;}#sk-container-id-1 pre{padding: 0;}#sk-container-id-1 div.sk-toggleable {background-color: white;}#sk-container-id-1 label.sk-toggleable__label {cursor: pointer;display: block;width: 100%;margin-bottom: 0;padding: 0.3em;box-sizing: border-box;text-align: center;}#sk-container-id-1 label.sk-toggleable__label-arrow:before {content: \"▸\";float: left;margin-right: 0.25em;color: #696969;}#sk-container-id-1 label.sk-toggleable__label-arrow:hover:before {color: black;}#sk-container-id-1 div.sk-estimator:hover label.sk-toggleable__label-arrow:before {color: black;}#sk-container-id-1 div.sk-toggleable__content {max-height: 0;max-width: 0;overflow: hidden;text-align: left;background-color: #f0f8ff;}#sk-container-id-1 div.sk-toggleable__content pre {margin: 0.2em;color: black;border-radius: 0.25em;background-color: #f0f8ff;}#sk-container-id-1 input.sk-toggleable__control:checked~div.sk-toggleable__content {max-height: 200px;max-width: 100%;overflow: auto;}#sk-container-id-1 input.sk-toggleable__control:checked~label.sk-toggleable__label-arrow:before {content: \"▾\";}#sk-container-id-1 div.sk-estimator input.sk-toggleable__control:checked~label.sk-toggleable__label {background-color: #d4ebff;}#sk-container-id-1 div.sk-label input.sk-toggleable__control:checked~label.sk-toggleable__label {background-color: #d4ebff;}#sk-container-id-1 input.sk-hidden--visually {border: 0;clip: rect(1px 1px 1px 1px);clip: rect(1px, 1px, 1px, 1px);height: 1px;margin: -1px;overflow: hidden;padding: 0;position: absolute;width: 1px;}#sk-container-id-1 div.sk-estimator {font-family: monospace;background-color: #f0f8ff;border: 1px dotted black;border-radius: 0.25em;box-sizing: border-box;margin-bottom: 0.5em;}#sk-container-id-1 div.sk-estimator:hover {background-color: #d4ebff;}#sk-container-id-1 div.sk-parallel-item::after {content: \"\";width: 100%;border-bottom: 1px solid gray;flex-grow: 1;}#sk-container-id-1 div.sk-label:hover label.sk-toggleable__label {background-color: #d4ebff;}#sk-container-id-1 div.sk-serial::before {content: \"\";position: absolute;border-left: 1px solid gray;box-sizing: border-box;top: 0;bottom: 0;left: 50%;z-index: 0;}#sk-container-id-1 div.sk-serial {display: flex;flex-direction: column;align-items: center;background-color: white;padding-right: 0.2em;padding-left: 0.2em;position: relative;}#sk-container-id-1 div.sk-item {position: relative;z-index: 1;}#sk-container-id-1 div.sk-parallel {display: flex;align-items: stretch;justify-content: center;background-color: white;position: relative;}#sk-container-id-1 div.sk-item::before, #sk-container-id-1 div.sk-parallel-item::before {content: \"\";position: absolute;border-left: 1px solid gray;box-sizing: border-box;top: 0;bottom: 0;left: 50%;z-index: -1;}#sk-container-id-1 div.sk-parallel-item {display: flex;flex-direction: column;z-index: 1;position: relative;background-color: white;}#sk-container-id-1 div.sk-parallel-item:first-child::after {align-self: flex-end;width: 50%;}#sk-container-id-1 div.sk-parallel-item:last-child::after {align-self: flex-start;width: 50%;}#sk-container-id-1 div.sk-parallel-item:only-child::after {width: 0;}#sk-container-id-1 div.sk-dashed-wrapped {border: 1px dashed gray;margin: 0 0.4em 0.5em 0.4em;box-sizing: border-box;padding-bottom: 0.4em;background-color: white;}#sk-container-id-1 div.sk-label label {font-family: monospace;font-weight: bold;display: inline-block;line-height: 1.2em;}#sk-container-id-1 div.sk-label-container {text-align: center;}#sk-container-id-1 div.sk-container {/* jupyter's `normalize.less` sets `[hidden] { display: none; }` but bootstrap.min.css set `[hidden] { display: none !important; }` so we also need the `!important` here to be able to override the default hidden behavior on the sphinx rendered scikit-learn.org. See: https://github.com/scikit-learn/scikit-learn/issues/21755 */display: inline-block !important;position: relative;}#sk-container-id-1 div.sk-text-repr-fallback {display: none;}</style><div id=\"sk-container-id-1\" class=\"sk-top-container\"><div class=\"sk-text-repr-fallback\"><pre>LinearRegression()</pre><b>In a Jupyter environment, please rerun this cell to show the HTML representation or trust the notebook. <br />On GitHub, the HTML representation is unable to render, please try loading this page with nbviewer.org.</b></div><div class=\"sk-container\" hidden><div class=\"sk-item\"><div class=\"sk-estimator sk-toggleable\"><input class=\"sk-toggleable__control sk-hidden--visually\" id=\"sk-estimator-id-1\" type=\"checkbox\" checked><label for=\"sk-estimator-id-1\" class=\"sk-toggleable__label sk-toggleable__label-arrow\">LinearRegression</label><div class=\"sk-toggleable__content\"><pre>LinearRegression()</pre></div></div></div></div></div>"
      ],
      "text/plain": [
       "LinearRegression()"
      ]
     },
     "execution_count": 39,
     "metadata": {},
     "output_type": "execute_result"
    }
   ],
   "source": [
    "linear_reg.fit(X_freq, Y_freq)"
   ]
  },
  {
   "cell_type": "code",
   "execution_count": 40,
   "id": "a30ce80c-1bab-44ed-9417-1fa7429dc63b",
   "metadata": {
    "tags": []
   },
   "outputs": [],
   "source": [
    "Y_pred = linear_reg.predict(X_freq)"
   ]
  },
  {
   "cell_type": "code",
   "execution_count": 41,
   "id": "33b7cbab-9346-4622-80b6-1cb3ae0b8946",
   "metadata": {
    "tags": []
   },
   "outputs": [
    {
     "data": {
      "image/png": "[encoded data removed]",
      "text/plain": [
       "<Figure size 640x480 with 1 Axes>"
      ]
     },
     "metadata": {},
     "output_type": "display_data"
    }
   ],
   "source": [
    "plt.scatter(X_freq, Y_freq)\n",
    "plt.plot(X_freq, Y_pred, color='red')\n",
    "plt.show()"
   ]
  },
  {
   "cell_type": "markdown",
   "id": "49c85f82-d7e7-4e17-b716-203a13e916b8",
   "metadata": {
    "tags": []
   },
   "source": [
    "### get the frequency by languages."
   ]
  },
  {
   "cell_type": "code",
   "execution_count": 106,
   "id": "39d2fd7f-441c-4117-b3ab-4c8c2be32b1a",
   "metadata": {
    "tags": []
   },
   "outputs": [],
   "source": [
    "concept_lang_counter = defaultdict(dict)\n",
    "for lang, c1, c2 in zip(df[\"LANG\"], df[\"C1\"], df[\"C2\"]):\n",
    "    if c1 not in concept_lang_counter:\n",
    "        concept_lang_counter[c1]=defaultdict(int)\n",
    "    if c2 not in concept_lang_counter:\n",
    "        concept_lang_counter[c2]=defaultdict(int)\n",
    "    \n",
    "    concept_lang_counter[c1][lang]+=1\n",
    "    concept_lang_counter[c2][lang]+=1\n",
    "    "
   ]
  },
  {
   "cell_type": "code",
   "execution_count": 107,
   "id": "3a239562-b41b-4c81-9a25-0862ddedaa31",
   "metadata": {
    "tags": []
   },
   "outputs": [],
   "source": [
    "concept_langs = {k: len(v) for k,v in concept_lang_counter.items()}"
   ]
  },
  {
   "cell_type": "code",
   "execution_count": 108,
   "id": "ba41af55-be2d-4c18-98f1-3f7de8690429",
   "metadata": {
    "tags": []
   },
   "outputs": [],
   "source": [
    "df_concept_langs = pd.DataFrame.from_dict(concept_langs, orient=\"index\")"
   ]
  },
  {
   "cell_type": "code",
   "execution_count": 109,
   "id": "761d0c81-dffb-4131-aa1b-5c5e7f749b0f",
   "metadata": {
    "tags": []
   },
   "outputs": [],
   "source": [
    "df_concept_langs.columns = [\"langs\"]"
   ]
  },
  {
   "cell_type": "code",
   "execution_count": 110,
   "id": "e91e2109-faa3-41b2-8620-4e5b01a77198",
   "metadata": {
    "tags": []
   },
   "outputs": [],
   "source": [
    "df_concept_langs[\"Concept\"] = df_concept_langs.index"
   ]
  },
  {
   "cell_type": "code",
   "execution_count": 111,
   "id": "b75bc655-088a-46c6-807a-24653bc1ae41",
   "metadata": {
    "tags": []
   },
   "outputs": [
    {
     "data": {
      "application/vnd.jupyter.widget-view+json": {
       "model_id": "549bddccce1141a1b65f973e8959076f",
       "version_major": 2,
       "version_minor": 0
      },
      "text/plain": [
       "VBox(children=(HBox(children=(IntProgress(value=0, description='0.00%', max=33), Label(value='0 / 33'))), HBox…"
      ]
     },
     "metadata": {},
     "output_type": "display_data"
    }
   ],
   "source": [
    "df_concept_langs[\"Concreteness\"] = df_concept_langs.Concept.parallel_apply(lambda x: concept_concreteness_1[x])"
   ]
  },
  {
   "cell_type": "code",
   "execution_count": 112,
   "id": "87ce46f3-59a8-4762-908c-39de7d5b4819",
   "metadata": {
    "tags": []
   },
   "outputs": [
    {
     "data": {
      "text/html": [
       "<div>\n",
       "<style scoped>\n",
       "    .dataframe tbody tr th:only-of-type {\n",
       "        vertical-align: middle;\n",
       "    }\n",
       "\n",
       "    .dataframe tbody tr th {\n",
       "        vertical-align: top;\n",
       "    }\n",
       "\n",
       "    .dataframe thead th {\n",
       "        text-align: right;\n",
       "    }\n",
       "</style>\n",
       "<table border=\"1\" class=\"dataframe\">\n",
       "  <thead>\n",
       "    <tr style=\"text-align: right;\">\n",
       "      <th></th>\n",
       "      <th>langs</th>\n",
       "      <th>Concept</th>\n",
       "      <th>Concreteness</th>\n",
       "    </tr>\n",
       "  </thead>\n",
       "  <tbody>\n",
       "    <tr>\n",
       "      <th>window</th>\n",
       "      <td>1</td>\n",
       "      <td>window</td>\n",
       "      <td>4.86</td>\n",
       "    </tr>\n",
       "    <tr>\n",
       "      <th>windowpane</th>\n",
       "      <td>1</td>\n",
       "      <td>windowpane</td>\n",
       "      <td>4.86</td>\n",
       "    </tr>\n",
       "    <tr>\n",
       "      <th>glass</th>\n",
       "      <td>1</td>\n",
       "      <td>glass</td>\n",
       "      <td>4.82</td>\n",
       "    </tr>\n",
       "    <tr>\n",
       "      <th>glove</th>\n",
       "      <td>2</td>\n",
       "      <td>glove</td>\n",
       "      <td>4.97</td>\n",
       "    </tr>\n",
       "    <tr>\n",
       "      <th>mitten</th>\n",
       "      <td>2</td>\n",
       "      <td>mitten</td>\n",
       "      <td>4.89</td>\n",
       "    </tr>\n",
       "    <tr>\n",
       "      <th>...</th>\n",
       "      <td>...</td>\n",
       "      <td>...</td>\n",
       "      <td>...</td>\n",
       "    </tr>\n",
       "    <tr>\n",
       "      <th>arise</th>\n",
       "      <td>1</td>\n",
       "      <td>arise</td>\n",
       "      <td>3.17</td>\n",
       "    </tr>\n",
       "    <tr>\n",
       "      <th>awaken</th>\n",
       "      <td>1</td>\n",
       "      <td>awaken</td>\n",
       "      <td>3.45</td>\n",
       "    </tr>\n",
       "    <tr>\n",
       "      <th>exist</th>\n",
       "      <td>1</td>\n",
       "      <td>exist</td>\n",
       "      <td>2.38</td>\n",
       "    </tr>\n",
       "    <tr>\n",
       "      <th>heed</th>\n",
       "      <td>1</td>\n",
       "      <td>heed</td>\n",
       "      <td>1.93</td>\n",
       "    </tr>\n",
       "    <tr>\n",
       "      <th>listen</th>\n",
       "      <td>1</td>\n",
       "      <td>listen</td>\n",
       "      <td>3.47</td>\n",
       "    </tr>\n",
       "  </tbody>\n",
       "</table>\n",
       "<p>325 rows × 3 columns</p>\n",
       "</div>"
      ],
      "text/plain": [
       "            langs     Concept  Concreteness\n",
       "window          1      window          4.86\n",
       "windowpane      1  windowpane          4.86\n",
       "glass           1       glass          4.82\n",
       "glove           2       glove          4.97\n",
       "mitten          2      mitten          4.89\n",
       "...           ...         ...           ...\n",
       "arise           1       arise          3.17\n",
       "awaken          1      awaken          3.45\n",
       "exist           1       exist          2.38\n",
       "heed            1        heed          1.93\n",
       "listen          1      listen          3.47\n",
       "\n",
       "[325 rows x 3 columns]"
      ]
     },
     "execution_count": 112,
     "metadata": {},
     "output_type": "execute_result"
    }
   ],
   "source": [
    "df_concept_langs"
   ]
  },
  {
   "cell_type": "code",
   "execution_count": 113,
   "id": "393834f3-a9fa-47fc-a2a9-83e4a49f4943",
   "metadata": {},
   "outputs": [
    {
     "data": {
      "text/plain": [
       "<Axes: xlabel='Concreteness', ylabel='Count'>"
      ]
     },
     "execution_count": 113,
     "metadata": {},
     "output_type": "execute_result"
    },
    {
     "data": {
      "image/png": "[encoded data removed]",
      "text/plain": [
       "<Figure size 640x480 with 1 Axes>"
      ]
     },
     "metadata": {},
     "output_type": "display_data"
    }
   ],
   "source": [
    "sns.histplot(data=df_concept_langs, x=\"Concreteness\")"
   ]
  },
  {
   "cell_type": "code",
   "execution_count": 51,
   "id": "383713a5-f9fd-4541-b4cf-a5a23465c843",
   "metadata": {
    "tags": []
   },
   "outputs": [],
   "source": [
    "X = df_concept_langs[\"Concreteness\"].values.reshape(-1,1)\n",
    "Y = df_concept_langs[\"langs\"].values.reshape(-1,1)"
   ]
  },
  {
   "cell_type": "code",
   "execution_count": 52,
   "id": "ac321d4b-cecc-4d5a-a407-c1e4fa4b4d37",
   "metadata": {
    "tags": []
   },
   "outputs": [],
   "source": [
    "linear_regressor = LinearRegression()  # create object for the class\n",
    "linear_regressor.fit(X, Y)  # perform linear regression\n",
    "Y_pred = linear_regressor.predict(X)"
   ]
  },
  {
   "cell_type": "code",
   "execution_count": 53,
   "id": "8dad555a-e184-41e8-aa19-9bc5209b2918",
   "metadata": {
    "tags": []
   },
   "outputs": [
    {
     "data": {
      "image/png": "[encoded data removed]",
      "text/plain": [
       "<Figure size 640x480 with 1 Axes>"
      ]
     },
     "metadata": {},
     "output_type": "display_data"
    }
   ],
   "source": [
    "plt.scatter(X, Y)\n",
    "plt.plot(X, Y_pred, color='red')\n",
    "plt.show()"
   ]
  },
  {
   "cell_type": "markdown",
   "id": "74dad81a-c989-4bb5-b955-e6e65575b1f6",
   "metadata": {
    "tags": []
   },
   "source": [
    "## Hypothesis 2: The concepts closer in concreteness are more proable to colexifiy"
   ]
  },
  {
   "cell_type": "code",
   "execution_count": 114,
   "id": "365d156f-d724-4939-9159-0d1e70452830",
   "metadata": {
    "tags": []
   },
   "outputs": [],
   "source": [
    "df[\"ConcDist\"]= df[\"Conc.M.2\"]-df[\"Conc.M.1\"]"
   ]
  },
  {
   "cell_type": "code",
   "execution_count": 116,
   "id": "8f81421e-19db-4505-971e-c8b7f5b94d42",
   "metadata": {
    "tags": []
   },
   "outputs": [],
   "source": [
    "df[\"ConcDist\"]=df[\"ConcDist\"].abs()"
   ]
  },
  {
   "cell_type": "code",
   "execution_count": 117,
   "id": "a3206157-055b-46a5-9a2c-29a95016766b",
   "metadata": {
    "tags": []
   },
   "outputs": [],
   "source": [
    "colex_con = dict(zip(df[\"COLEX\"], df[\"ConcDist\"]))"
   ]
  },
  {
   "cell_type": "code",
   "execution_count": 118,
   "id": "26dd0450-79ba-41f6-8e16-ef92f6ad7559",
   "metadata": {
    "tags": []
   },
   "outputs": [],
   "source": [
    "colex_lang_counter = defaultdict(dict)\n",
    "for lang, colex in zip(df[\"LANG_PRON\"], df[\"COLEX\"]):\n",
    "    if colex not in colex_lang_counter:\n",
    "        colex_lang_counter[colex]=defaultdict(int)\n",
    "    \n",
    "    colex_lang_counter[colex][lang]+=1\n",
    "    "
   ]
  },
  {
   "cell_type": "code",
   "execution_count": 119,
   "id": "4e357ca5-8da4-429a-9ae9-fa12a6e4c198",
   "metadata": {
    "tags": []
   },
   "outputs": [],
   "source": [
    "langs_len= len(list(set(df[\"LANG_PRON\"])))"
   ]
  },
  {
   "cell_type": "code",
   "execution_count": 120,
   "id": "43775a9f-a8bb-444e-a0f7-ba8502b4e224",
   "metadata": {
    "tags": []
   },
   "outputs": [
    {
     "data": {
      "text/plain": [
       "18"
      ]
     },
     "execution_count": 120,
     "metadata": {},
     "output_type": "execute_result"
    }
   ],
   "source": [
    "langs_len"
   ]
  },
  {
   "cell_type": "code",
   "execution_count": 121,
   "id": "9f5783b9-f5e1-43a9-812d-2fbb5e6b0bb5",
   "metadata": {
    "scrolled": true,
    "tags": []
   },
   "outputs": [],
   "source": [
    "colex_langs = {k:len(v) for k,v in colex_lang_counter.items()}"
   ]
  },
  {
   "cell_type": "code",
   "execution_count": 122,
   "id": "b128efe8-ac7f-492b-ba52-8e1a77059388",
   "metadata": {
    "scrolled": true,
    "tags": []
   },
   "outputs": [
    {
     "data": {
      "application/vnd.jupyter.widget-view+json": {
       "model_id": "292e34f0b6e84399a339117f31c7469b",
       "version_major": 2,
       "version_minor": 0
      },
      "text/plain": [
       "VBox(children=(HBox(children=(IntProgress(value=0, description='0.00%', max=21), Label(value='0 / 21'))), HBox…"
      ]
     },
     "metadata": {},
     "output_type": "display_data"
    }
   ],
   "source": [
    "df_colex_lang= pd.DataFrame.from_dict(colex_langs, orient=\"index\")\n",
    "df_colex_lang.columns = [\"langs\"]\n",
    "df_colex_lang[\"COLEX\"] = df_colex_lang.index\n",
    "df_colex_lang[\"ConcDist\"] = df_colex_lang[\"COLEX\"].parallel_apply(lambda x: colex_con[x])"
   ]
  },
  {
   "cell_type": "code",
   "execution_count": 123,
   "id": "f0c66793-3665-46e4-aaed-5588b556acb2",
   "metadata": {
    "scrolled": true,
    "tags": []
   },
   "outputs": [
    {
     "data": {
      "text/html": [
       "<div>\n",
       "<style scoped>\n",
       "    .dataframe tbody tr th:only-of-type {\n",
       "        vertical-align: middle;\n",
       "    }\n",
       "\n",
       "    .dataframe tbody tr th {\n",
       "        vertical-align: top;\n",
       "    }\n",
       "\n",
       "    .dataframe thead th {\n",
       "        text-align: right;\n",
       "    }\n",
       "</style>\n",
       "<table border=\"1\" class=\"dataframe\">\n",
       "  <thead>\n",
       "    <tr style=\"text-align: right;\">\n",
       "      <th></th>\n",
       "      <th>langs</th>\n",
       "      <th>COLEX</th>\n",
       "      <th>ConcDist</th>\n",
       "    </tr>\n",
       "  </thead>\n",
       "  <tbody>\n",
       "    <tr>\n",
       "      <th>window~windowpane</th>\n",
       "      <td>1</td>\n",
       "      <td>window~windowpane</td>\n",
       "      <td>0.00</td>\n",
       "    </tr>\n",
       "    <tr>\n",
       "      <th>glass~window</th>\n",
       "      <td>1</td>\n",
       "      <td>glass~window</td>\n",
       "      <td>0.04</td>\n",
       "    </tr>\n",
       "    <tr>\n",
       "      <th>glass~windowpane</th>\n",
       "      <td>1</td>\n",
       "      <td>glass~windowpane</td>\n",
       "      <td>0.04</td>\n",
       "    </tr>\n",
       "    <tr>\n",
       "      <th>glove~mitten</th>\n",
       "      <td>2</td>\n",
       "      <td>glove~mitten</td>\n",
       "      <td>0.08</td>\n",
       "    </tr>\n",
       "    <tr>\n",
       "      <th>goose~name</th>\n",
       "      <td>1</td>\n",
       "      <td>goose~name</td>\n",
       "      <td>1.31</td>\n",
       "    </tr>\n",
       "    <tr>\n",
       "      <th>...</th>\n",
       "      <td>...</td>\n",
       "      <td>...</td>\n",
       "      <td>...</td>\n",
       "    </tr>\n",
       "    <tr>\n",
       "      <th>shade~shadow</th>\n",
       "      <td>2</td>\n",
       "      <td>shade~shadow</td>\n",
       "      <td>1.16</td>\n",
       "    </tr>\n",
       "    <tr>\n",
       "      <th>tree~wood</th>\n",
       "      <td>1</td>\n",
       "      <td>tree~wood</td>\n",
       "      <td>0.15</td>\n",
       "    </tr>\n",
       "    <tr>\n",
       "      <th>arise~awaken</th>\n",
       "      <td>1</td>\n",
       "      <td>arise~awaken</td>\n",
       "      <td>0.28</td>\n",
       "    </tr>\n",
       "    <tr>\n",
       "      <th>be~exist</th>\n",
       "      <td>1</td>\n",
       "      <td>be~exist</td>\n",
       "      <td>0.53</td>\n",
       "    </tr>\n",
       "    <tr>\n",
       "      <th>heed~listen</th>\n",
       "      <td>1</td>\n",
       "      <td>heed~listen</td>\n",
       "      <td>1.54</td>\n",
       "    </tr>\n",
       "  </tbody>\n",
       "</table>\n",
       "<p>203 rows × 3 columns</p>\n",
       "</div>"
      ],
      "text/plain": [
       "                   langs              COLEX  ConcDist\n",
       "window~windowpane      1  window~windowpane      0.00\n",
       "glass~window           1       glass~window      0.04\n",
       "glass~windowpane       1   glass~windowpane      0.04\n",
       "glove~mitten           2       glove~mitten      0.08\n",
       "goose~name             1         goose~name      1.31\n",
       "...                  ...                ...       ...\n",
       "shade~shadow           2       shade~shadow      1.16\n",
       "tree~wood              1          tree~wood      0.15\n",
       "arise~awaken           1       arise~awaken      0.28\n",
       "be~exist               1           be~exist      0.53\n",
       "heed~listen            1        heed~listen      1.54\n",
       "\n",
       "[203 rows x 3 columns]"
      ]
     },
     "execution_count": 123,
     "metadata": {},
     "output_type": "execute_result"
    }
   ],
   "source": [
    "df_colex_lang"
   ]
  },
  {
   "cell_type": "code",
   "execution_count": 125,
   "id": "24dcbbfa-35f7-4a05-b7bb-cf85038cfa79",
   "metadata": {
    "tags": []
   },
   "outputs": [
    {
     "data": {
      "text/plain": [
       "<Axes: xlabel='ConcDist', ylabel='Count'>"
      ]
     },
     "execution_count": 125,
     "metadata": {},
     "output_type": "execute_result"
    },
    {
     "data": {
      "image/png": "[encoded data removed]",
      "text/plain": [
       "<Figure size 640x480 with 1 Axes>"
      ]
     },
     "metadata": {},
     "output_type": "display_data"
    }
   ],
   "source": [
    "sns.histplot(data= df, x=\"ConcDist\")"
   ]
  },
  {
   "cell_type": "code",
   "execution_count": 126,
   "id": "c68535a1-ece6-465e-a2de-499b75bfac56",
   "metadata": {
    "tags": []
   },
   "outputs": [
    {
     "data": {
      "text/plain": [
       "<Axes: xlabel='ConcDist', ylabel='Count'>"
      ]
     },
     "execution_count": 126,
     "metadata": {},
     "output_type": "execute_result"
    },
    {
     "data": {
      "image/png": "[encoded data removed]",
      "text/plain": [
       "<Figure size 640x480 with 1 Axes>"
      ]
     },
     "metadata": {},
     "output_type": "display_data"
    }
   ],
   "source": [
    "sns.histplot(data= df_colex_lang, x=\"ConcDist\")"
   ]
  },
  {
   "cell_type": "code",
   "execution_count": null,
   "id": "5b217bb5-640c-4669-b0e2-9cade88121c2",
   "metadata": {},
   "outputs": [],
   "source": []
  },
  {
   "cell_type": "code",
   "execution_count": null,
   "id": "c5f28443-03a6-4a9a-8bd6-bb40f5742d0b",
   "metadata": {},
   "outputs": [],
   "source": []
  }
 ],
 "metadata": {
  "kernelspec": {
   "display_name": "colexphon",
   "language": "python",
   "name": "colexphon"
  },
  "language_info": {
   "codemirror_mode": {
    "name": "ipython",
    "version": 3
   },
   "file_extension": ".py",
   "mimetype": "text/x-python",
   "name": "python",
   "nbconvert_exporter": "python",
   "pygments_lexer": "ipython3",
   "version": "3.10.0"
  }
 },
 "nbformat": 4,
 "nbformat_minor": 5
}
