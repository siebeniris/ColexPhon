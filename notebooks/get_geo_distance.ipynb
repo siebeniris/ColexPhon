{
 "cells": [
  {
   "cell_type": "code",
   "execution_count": 9,
   "id": "29d5c94c-f093-45f6-90d8-92866fc9ec1e",
   "metadata": {
    "tags": []
   },
   "outputs": [],
   "source": [
    "from geopy.distance import geodesic\n",
    "import pandas as pd\n",
    "from itertools import combinations"
   ]
  },
  {
   "cell_type": "code",
   "execution_count": 6,
   "id": "be21c529-af34-48f4-b8f9-0119a0411b4d",
   "metadata": {
    "tags": []
   },
   "outputs": [],
   "source": [
    "df= pd.read_csv(\"../data/preprocessed/colex_pron_langs.csv\")"
   ]
  },
  {
   "cell_type": "code",
   "execution_count": 10,
   "id": "ee2b23c9-85c1-41db-83e3-c96bf9da0983",
   "metadata": {
    "tags": []
   },
   "outputs": [],
   "source": [
    "langs = list(set(df[\"LANG_PRON\"].tolist()))"
   ]
  },
  {
   "cell_type": "code",
   "execution_count": 29,
   "id": "ce9f40b0-8b28-49a8-a691-2fa7db8f222e",
   "metadata": {
    "tags": []
   },
   "outputs": [],
   "source": [
    "lang_pairs = combinations(langs, 2)"
   ]
  },
  {
   "cell_type": "code",
   "execution_count": null,
   "id": "aaec8c44-d61e-48bd-88f3-5313936a85ae",
   "metadata": {},
   "outputs": [],
   "source": []
  },
  {
   "cell_type": "code",
   "execution_count": 12,
   "id": "5f0b12e0-e2ba-4a1d-aa2c-7d8bd749f34d",
   "metadata": {
    "tags": []
   },
   "outputs": [],
   "source": [
    "df_lang= pd.read_csv(\"../data/geo/languages.csv\")"
   ]
  },
  {
   "cell_type": "code",
   "execution_count": 14,
   "id": "24493dd1-6619-4535-a83d-a25bf4d4061f",
   "metadata": {
    "tags": []
   },
   "outputs": [],
   "source": [
    "df_lang.dropna(subset=[\"Latitude\",\"Longitude\"],inplace=True)"
   ]
  },
  {
   "cell_type": "code",
   "execution_count": 17,
   "id": "948b76c9-a3c5-40d8-8ccc-1811f49cf85e",
   "metadata": {
    "tags": []
   },
   "outputs": [],
   "source": [
    "df_lang.drop_duplicates(subset=[\"ISO639P3code\"], inplace=True)"
   ]
  },
  {
   "cell_type": "code",
   "execution_count": 18,
   "id": "f76befe7-1100-430e-9386-00c14d7c1c96",
   "metadata": {
    "tags": []
   },
   "outputs": [],
   "source": [
    "lang_geo = dict()\n",
    "for lang, lat, long in zip(df_lang[\"ISO639P3code\"], df_lang[\"Latitude\"],df_lang[\"Longitude\"]):\n",
    "    if lang in langs:\n",
    "        lang_geo[lang]=(lat, long)"
   ]
  },
  {
   "cell_type": "code",
   "execution_count": null,
   "id": "aba6b676-5e8b-41f6-b378-4cea0f28813e",
   "metadata": {
    "scrolled": true,
    "tags": []
   },
   "outputs": [],
   "source": [
    "lang_geo"
   ]
  },
  {
   "cell_type": "code",
   "execution_count": null,
   "id": "95947577-18fa-4496-9723-3fa2cafe11c5",
   "metadata": {
    "scrolled": true,
    "tags": []
   },
   "outputs": [],
   "source": [
    "lang2lang_dist=dict()\n",
    "for l1,l2 in lang_pairs:\n",
    "    l = tuple(sorted([l1,l2]))\n",
    "    print(l)\n",
    "    if l not in lang2lang_dist:\n",
    "        if l1 in lang_geo and l2 in lang_geo:\n",
    "            d = geodesic(lang_geo[l1], lang_geo[l2]).km\n",
    "            lang2lang_dist[l] = d\n"
   ]
  },
  {
   "cell_type": "code",
   "execution_count": null,
   "id": "6fb5dbee-30f1-40e5-ac36-c9bbba31ed9d",
   "metadata": {
    "scrolled": true,
    "tags": []
   },
   "outputs": [],
   "source": [
    "lang2lang_dist"
   ]
  },
  {
   "cell_type": "code",
   "execution_count": 32,
   "id": "6b0c0753-b2ab-4db9-b19c-dedcd94c3ea5",
   "metadata": {
    "tags": []
   },
   "outputs": [
    {
     "data": {
      "text/plain": [
       "686.2383778207055"
      ]
     },
     "execution_count": 32,
     "metadata": {},
     "output_type": "execute_result"
    }
   ],
   "source": [
    "lang2lang_dist[(\"deu\", \"eng\")]"
   ]
  },
  {
   "cell_type": "code",
   "execution_count": 24,
   "id": "a021d56d-7a0d-4750-998f-fba10a0a4159",
   "metadata": {
    "tags": []
   },
   "outputs": [
    {
     "data": {
      "text/plain": [
       "407.31046124338866"
      ]
     },
     "execution_count": 24,
     "metadata": {},
     "output_type": "execute_result"
    }
   ],
   "source": [
    "lang2lang_dist[(\"deu\", \"nld\")]"
   ]
  },
  {
   "cell_type": "code",
   "execution_count": 34,
   "id": "a6f83b39-e523-425e-9679-87cac50d5101",
   "metadata": {
    "tags": []
   },
   "outputs": [],
   "source": [
    "sources, targets, geos = [],[],[]\n",
    "for l, geo in lang2lang_dist.items():\n",
    "    sources.append(l[0])\n",
    "    targets.append(l[1])\n",
    "    geos.append(geo)"
   ]
  },
  {
   "cell_type": "code",
   "execution_count": 37,
   "id": "8a904934-f992-4a44-937a-9f0e13a004ec",
   "metadata": {
    "tags": []
   },
   "outputs": [],
   "source": [
    "df = pd.DataFrame.from_dict({\"source\":sources, \"target\":targets, \"GeoDist(KM)\":geos})"
   ]
  },
  {
   "cell_type": "code",
   "execution_count": 38,
   "id": "cdaeff1c-aa3d-4a93-898c-a9664ed3ce96",
   "metadata": {
    "tags": []
   },
   "outputs": [
    {
     "data": {
      "text/html": [
       "<div>\n",
       "<style scoped>\n",
       "    .dataframe tbody tr th:only-of-type {\n",
       "        vertical-align: middle;\n",
       "    }\n",
       "\n",
       "    .dataframe tbody tr th {\n",
       "        vertical-align: top;\n",
       "    }\n",
       "\n",
       "    .dataframe thead th {\n",
       "        text-align: right;\n",
       "    }\n",
       "</style>\n",
       "<table border=\"1\" class=\"dataframe\">\n",
       "  <thead>\n",
       "    <tr style=\"text-align: right;\">\n",
       "      <th></th>\n",
       "      <th>source</th>\n",
       "      <th>target</th>\n",
       "      <th>GeoDist(KM)</th>\n",
       "    </tr>\n",
       "  </thead>\n",
       "  <tbody>\n",
       "    <tr>\n",
       "      <th>0</th>\n",
       "      <td>fao</td>\n",
       "      <td>pan</td>\n",
       "      <td>6553.211869</td>\n",
       "    </tr>\n",
       "    <tr>\n",
       "      <th>1</th>\n",
       "      <td>fao</td>\n",
       "      <td>krl</td>\n",
       "      <td>1957.290335</td>\n",
       "    </tr>\n",
       "    <tr>\n",
       "      <th>2</th>\n",
       "      <td>abk</td>\n",
       "      <td>fao</td>\n",
       "      <td>3749.820430</td>\n",
       "    </tr>\n",
       "    <tr>\n",
       "      <th>3</th>\n",
       "      <td>fao</td>\n",
       "      <td>syl</td>\n",
       "      <td>8063.477398</td>\n",
       "    </tr>\n",
       "    <tr>\n",
       "      <th>4</th>\n",
       "      <td>fao</td>\n",
       "      <td>zul</td>\n",
       "      <td>10723.658990</td>\n",
       "    </tr>\n",
       "    <tr>\n",
       "      <th>...</th>\n",
       "      <td>...</td>\n",
       "      <td>...</td>\n",
       "      <td>...</td>\n",
       "    </tr>\n",
       "    <tr>\n",
       "      <th>9448</th>\n",
       "      <td>dzo</td>\n",
       "      <td>tam</td>\n",
       "      <td>2164.456554</td>\n",
       "    </tr>\n",
       "    <tr>\n",
       "      <th>9449</th>\n",
       "      <td>dzo</td>\n",
       "      <td>slv</td>\n",
       "      <td>6715.366398</td>\n",
       "    </tr>\n",
       "    <tr>\n",
       "      <th>9450</th>\n",
       "      <td>mah</td>\n",
       "      <td>tam</td>\n",
       "      <td>10161.230583</td>\n",
       "    </tr>\n",
       "    <tr>\n",
       "      <th>9451</th>\n",
       "      <td>mah</td>\n",
       "      <td>slv</td>\n",
       "      <td>13666.034121</td>\n",
       "    </tr>\n",
       "    <tr>\n",
       "      <th>9452</th>\n",
       "      <td>slv</td>\n",
       "      <td>tam</td>\n",
       "      <td>7096.793139</td>\n",
       "    </tr>\n",
       "  </tbody>\n",
       "</table>\n",
       "<p>9453 rows × 3 columns</p>\n",
       "</div>"
      ],
      "text/plain": [
       "     source target   GeoDist(KM)\n",
       "0       fao    pan   6553.211869\n",
       "1       fao    krl   1957.290335\n",
       "2       abk    fao   3749.820430\n",
       "3       fao    syl   8063.477398\n",
       "4       fao    zul  10723.658990\n",
       "...     ...    ...           ...\n",
       "9448    dzo    tam   2164.456554\n",
       "9449    dzo    slv   6715.366398\n",
       "9450    mah    tam  10161.230583\n",
       "9451    mah    slv  13666.034121\n",
       "9452    slv    tam   7096.793139\n",
       "\n",
       "[9453 rows x 3 columns]"
      ]
     },
     "execution_count": 38,
     "metadata": {},
     "output_type": "execute_result"
    }
   ],
   "source": [
    "df"
   ]
  },
  {
   "cell_type": "code",
   "execution_count": 40,
   "id": "df0e7fed-b228-4cf5-8e70-1e1207e85ed3",
   "metadata": {
    "tags": []
   },
   "outputs": [],
   "source": [
    "df.to_csv(\"../data/geo/geo_km.csv\", index=False)"
   ]
  },
  {
   "cell_type": "code",
   "execution_count": null,
   "id": "8dd08887-d767-44e4-b3a7-2f3a72208264",
   "metadata": {},
   "outputs": [],
   "source": []
  }
 ],
 "metadata": {
  "kernelspec": {
   "display_name": "colexphon",
   "language": "python",
   "name": "colexphon"
  },
  "language_info": {
   "codemirror_mode": {
    "name": "ipython",
    "version": 3
   },
   "file_extension": ".py",
   "mimetype": "text/x-python",
   "name": "python",
   "nbconvert_exporter": "python",
   "pygments_lexer": "ipython3",
   "version": "3.10.0"
  }
 },
 "nbformat": 4,
 "nbformat_minor": 5
}
