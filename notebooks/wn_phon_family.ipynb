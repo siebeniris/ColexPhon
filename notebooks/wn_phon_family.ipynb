{
 "cells": [
  {
   "cell_type": "code",
   "execution_count": 1,
   "id": "33050cfd-a0a3-4b43-a253-2e3c67ee9742",
   "metadata": {
    "tags": []
   },
   "outputs": [
    {
     "name": "stdout",
     "output_type": "stream",
     "text": [
      "INFO: Pandarallel will run on 10 workers.\n",
      "INFO: Pandarallel will use standard multiprocessing data transfer (pipe) to transfer data between the main process and workers.\n"
     ]
    }
   ],
   "source": [
    "import pandas as pd\n",
    "import numpy as np\n",
    "import json\n",
    "from tqdm import tqdm\n",
    "from pandarallel import pandarallel\n",
    "\n",
    "pandarallel.initialize(progress_bar=True)\n",
    "\n",
    "import matplotlib.pyplot as plt  # To visualize\n",
    "import json\n",
    "from collections import Counter, defaultdict\n",
    "from itertools import chain\n",
    "from sklearn.linear_model import LinearRegression\n",
    "from sklearn.feature_extraction.text import CountVectorizer\n",
    "from sklearn.cluster import KMeans, AffinityPropagation\n",
    "import seaborn as sns\n",
    "%matplotlib inline\n",
    "pd.set_option('display.max_columns', 200)\n",
    "\n",
    "import warnings\n",
    "warnings.filterwarnings('ignore')\n",
    "\n",
    "from itertools import chain\n",
    "import scipy.stats"
   ]
  },
  {
   "cell_type": "code",
   "execution_count": 3,
   "id": "fe6791ed-a965-4f5e-a237-d4b5f6620d12",
   "metadata": {
    "tags": []
   },
   "outputs": [],
   "source": [
    "df= pd.read_csv(\"../data/aff+conc/wn_pron_all.csv\")"
   ]
  },
  {
   "cell_type": "code",
   "execution_count": 40,
   "id": "74000f22-9d06-49ca-ba4f-986df4fd6746",
   "metadata": {
    "tags": []
   },
   "outputs": [
    {
     "data": {
      "text/plain": [
       "142"
      ]
     },
     "execution_count": 40,
     "metadata": {},
     "output_type": "execute_result"
    }
   ],
   "source": [
    "len(df[\"LANG_PRON\"].value_counts())"
   ]
  },
  {
   "cell_type": "code",
   "execution_count": 4,
   "id": "f0285e17-eaad-401d-8e9b-8ebf04ebd544",
   "metadata": {
    "tags": []
   },
   "outputs": [
    {
     "data": {
      "text/plain": [
       "<Axes: xlabel='Conc.Mean', ylabel='Count'>"
      ]
     },
     "execution_count": 4,
     "metadata": {},
     "output_type": "execute_result"
    },
    {
     "data": {
      "image/png": "[encoded data removed]",
      "text/plain": [
       "<Figure size 640x480 with 1 Axes>"
      ]
     },
     "metadata": {},
     "output_type": "display_data"
    }
   ],
   "source": [
    "sns.histplot(data=df, x= \"Conc.Mean\")"
   ]
  },
  {
   "cell_type": "code",
   "execution_count": 5,
   "id": "2d1d5732-4a13-4dcb-ab38-113c0d38b3e2",
   "metadata": {
    "tags": []
   },
   "outputs": [],
   "source": [
    "df = df.dropna(subset=[\"Conc.Mean\"])"
   ]
  },
  {
   "cell_type": "code",
   "execution_count": 6,
   "id": "eec1b864-0d98-4228-a1b1-c29bd18210d9",
   "metadata": {
    "tags": []
   },
   "outputs": [],
   "source": [
    "df = df.drop_duplicates(subset=[\"PRON\"])"
   ]
  },
  {
   "cell_type": "code",
   "execution_count": 10,
   "id": "742a9ae6-5119-41df-b264-4641e712dc0a",
   "metadata": {
    "tags": []
   },
   "outputs": [],
   "source": [
    "vectorizer = CountVectorizer(ngram_range=(2,3))"
   ]
  },
  {
   "cell_type": "code",
   "execution_count": 11,
   "id": "0556dce0-a2e8-4bff-9a5e-c07b16d0fb06",
   "metadata": {
    "tags": []
   },
   "outputs": [],
   "source": [
    "prons = df[\"PRON\"].tolist()"
   ]
  },
  {
   "cell_type": "code",
   "execution_count": 12,
   "id": "e99a70a2-24ed-48a1-baa1-1d4549cf4597",
   "metadata": {
    "tags": []
   },
   "outputs": [],
   "source": [
    "X= vectorizer.fit_transform(prons)"
   ]
  },
  {
   "cell_type": "code",
   "execution_count": 15,
   "id": "7f7c63f1-4f26-43b7-a336-f9fef1614652",
   "metadata": {
    "tags": []
   },
   "outputs": [
    {
     "data": {
      "text/plain": [
       "(81444, 2973)"
      ]
     },
     "execution_count": 15,
     "metadata": {},
     "output_type": "execute_result"
    }
   ],
   "source": [
    "X.toarray().shape"
   ]
  },
  {
   "cell_type": "code",
   "execution_count": 33,
   "id": "02f8d42e-2786-4061-aee0-9650743f77c3",
   "metadata": {
    "tags": []
   },
   "outputs": [],
   "source": [
    "y = np.array(df[\"Conc.Mean\"].tolist())"
   ]
  },
  {
   "cell_type": "code",
   "execution_count": 37,
   "id": "1af29135-14a8-4280-994a-ccbd00233d48",
   "metadata": {
    "tags": []
   },
   "outputs": [],
   "source": [
    "y= y.reshape(1, y.shape[0])"
   ]
  },
  {
   "cell_type": "code",
   "execution_count": 35,
   "id": "82d09082-d806-4171-9794-6c996c33ee2f",
   "metadata": {
    "tags": []
   },
   "outputs": [
    {
     "data": {
      "text/plain": [
       "array([2.035, 3.855, 2.56 , ..., 2.005, 2.775, 2.315])"
      ]
     },
     "execution_count": 35,
     "metadata": {},
     "output_type": "execute_result"
    }
   ],
   "source": [
    "y"
   ]
  },
  {
   "cell_type": "code",
   "execution_count": 26,
   "id": "d597027b-09b4-460e-8418-c403974ea4d5",
   "metadata": {
    "tags": []
   },
   "outputs": [
    {
     "data": {
      "text/plain": [
       "(81444, 2973)"
      ]
     },
     "execution_count": 26,
     "metadata": {},
     "output_type": "execute_result"
    }
   ],
   "source": [
    "X.toarray().shape"
   ]
  },
  {
   "cell_type": "code",
   "execution_count": 38,
   "id": "9dc13a5c-0dee-4359-8815-b903d58fbf3c",
   "metadata": {
    "tags": []
   },
   "outputs": [
    {
     "ename": "ValueError",
     "evalue": "all the input array dimensions for the concatenation axis must match exactly, but along dimension 1, the array at index 0 has size 81444 and the array at index 1 has size 1",
     "output_type": "error",
     "traceback": [
      "\u001b[0;31m---------------------------------------------------------------------------\u001b[0m",
      "\u001b[0;31mValueError\u001b[0m                                Traceback (most recent call last)",
      "Cell \u001b[0;32mIn[38], line 1\u001b[0m\n\u001b[0;32m----> 1\u001b[0m \u001b[43mnp\u001b[49m\u001b[38;5;241;43m.\u001b[39;49m\u001b[43mcorrcoef\u001b[49m\u001b[43m(\u001b[49m\u001b[43my\u001b[49m\u001b[43m,\u001b[49m\u001b[43m \u001b[49m\u001b[43mX\u001b[49m\u001b[43m)\u001b[49m\n",
      "File \u001b[0;32m<__array_function__ internals>:180\u001b[0m, in \u001b[0;36mcorrcoef\u001b[0;34m(*args, **kwargs)\u001b[0m\n",
      "File \u001b[0;32m~/anaconda3/envs/colexphon/lib/python3.10/site-packages/numpy/lib/function_base.py:2845\u001b[0m, in \u001b[0;36mcorrcoef\u001b[0;34m(x, y, rowvar, bias, ddof, dtype)\u001b[0m\n\u001b[1;32m   2841\u001b[0m \u001b[38;5;28;01mif\u001b[39;00m bias \u001b[38;5;129;01mis\u001b[39;00m \u001b[38;5;129;01mnot\u001b[39;00m np\u001b[38;5;241m.\u001b[39m_NoValue \u001b[38;5;129;01mor\u001b[39;00m ddof \u001b[38;5;129;01mis\u001b[39;00m \u001b[38;5;129;01mnot\u001b[39;00m np\u001b[38;5;241m.\u001b[39m_NoValue:\n\u001b[1;32m   2842\u001b[0m     \u001b[38;5;66;03m# 2015-03-15, 1.10\u001b[39;00m\n\u001b[1;32m   2843\u001b[0m     warnings\u001b[38;5;241m.\u001b[39mwarn(\u001b[38;5;124m'\u001b[39m\u001b[38;5;124mbias and ddof have no effect and are deprecated\u001b[39m\u001b[38;5;124m'\u001b[39m,\n\u001b[1;32m   2844\u001b[0m                   \u001b[38;5;167;01mDeprecationWarning\u001b[39;00m, stacklevel\u001b[38;5;241m=\u001b[39m\u001b[38;5;241m3\u001b[39m)\n\u001b[0;32m-> 2845\u001b[0m c \u001b[38;5;241m=\u001b[39m \u001b[43mcov\u001b[49m\u001b[43m(\u001b[49m\u001b[43mx\u001b[49m\u001b[43m,\u001b[49m\u001b[43m \u001b[49m\u001b[43my\u001b[49m\u001b[43m,\u001b[49m\u001b[43m \u001b[49m\u001b[43mrowvar\u001b[49m\u001b[43m,\u001b[49m\u001b[43m \u001b[49m\u001b[43mdtype\u001b[49m\u001b[38;5;241;43m=\u001b[39;49m\u001b[43mdtype\u001b[49m\u001b[43m)\u001b[49m\n\u001b[1;32m   2846\u001b[0m \u001b[38;5;28;01mtry\u001b[39;00m:\n\u001b[1;32m   2847\u001b[0m     d \u001b[38;5;241m=\u001b[39m diag(c)\n",
      "File \u001b[0;32m<__array_function__ internals>:180\u001b[0m, in \u001b[0;36mcov\u001b[0;34m(*args, **kwargs)\u001b[0m\n",
      "File \u001b[0;32m~/anaconda3/envs/colexphon/lib/python3.10/site-packages/numpy/lib/function_base.py:2639\u001b[0m, in \u001b[0;36mcov\u001b[0;34m(m, y, rowvar, bias, ddof, fweights, aweights, dtype)\u001b[0m\n\u001b[1;32m   2637\u001b[0m     \u001b[38;5;28;01mif\u001b[39;00m \u001b[38;5;129;01mnot\u001b[39;00m rowvar \u001b[38;5;129;01mand\u001b[39;00m y\u001b[38;5;241m.\u001b[39mshape[\u001b[38;5;241m0\u001b[39m] \u001b[38;5;241m!=\u001b[39m \u001b[38;5;241m1\u001b[39m:\n\u001b[1;32m   2638\u001b[0m         y \u001b[38;5;241m=\u001b[39m y\u001b[38;5;241m.\u001b[39mT\n\u001b[0;32m-> 2639\u001b[0m     X \u001b[38;5;241m=\u001b[39m \u001b[43mnp\u001b[49m\u001b[38;5;241;43m.\u001b[39;49m\u001b[43mconcatenate\u001b[49m\u001b[43m(\u001b[49m\u001b[43m(\u001b[49m\u001b[43mX\u001b[49m\u001b[43m,\u001b[49m\u001b[43m \u001b[49m\u001b[43my\u001b[49m\u001b[43m)\u001b[49m\u001b[43m,\u001b[49m\u001b[43m \u001b[49m\u001b[43maxis\u001b[49m\u001b[38;5;241;43m=\u001b[39;49m\u001b[38;5;241;43m0\u001b[39;49m\u001b[43m)\u001b[49m\n\u001b[1;32m   2641\u001b[0m \u001b[38;5;28;01mif\u001b[39;00m ddof \u001b[38;5;129;01mis\u001b[39;00m \u001b[38;5;28;01mNone\u001b[39;00m:\n\u001b[1;32m   2642\u001b[0m     \u001b[38;5;28;01mif\u001b[39;00m bias \u001b[38;5;241m==\u001b[39m \u001b[38;5;241m0\u001b[39m:\n",
      "File \u001b[0;32m<__array_function__ internals>:180\u001b[0m, in \u001b[0;36mconcatenate\u001b[0;34m(*args, **kwargs)\u001b[0m\n",
      "\u001b[0;31mValueError\u001b[0m: all the input array dimensions for the concatenation axis must match exactly, but along dimension 1, the array at index 0 has size 81444 and the array at index 1 has size 1"
     ]
    }
   ],
   "source": [
    "np.corrcoef(y, X)"
   ]
  },
  {
   "cell_type": "code",
   "execution_count": null,
   "id": "1d456f34-e07d-4adc-9479-c0864f88e1e0",
   "metadata": {},
   "outputs": [],
   "source": []
  },
  {
   "cell_type": "code",
   "execution_count": null,
   "id": "ec9214b8-ca7b-4aa2-a533-dc1ae90b5960",
   "metadata": {},
   "outputs": [],
   "source": []
  },
  {
   "cell_type": "code",
   "execution_count": null,
   "id": "a2055c2c-8ef3-46b9-8e49-139734f8a209",
   "metadata": {},
   "outputs": [],
   "source": []
  },
  {
   "cell_type": "code",
   "execution_count": 29,
   "id": "d6330bbc-0d88-4f47-880c-638549af7794",
   "metadata": {
    "tags": []
   },
   "outputs": [],
   "source": [
    "def paerson_np(x, y):\n",
    "    return np.array([corr_np(x[:, i], y) for i in range(x.shape[1])])"
   ]
  },
  {
   "cell_type": "code",
   "execution_count": null,
   "id": "e3ba102e-d286-46fc-bf28-62cbf77747b4",
   "metadata": {},
   "outputs": [],
   "source": [
    "pearson_np("
   ]
  },
  {
   "cell_type": "code",
   "execution_count": 10,
   "id": "8f77913d-96f0-49a2-bf11-0971f46f13c4",
   "metadata": {
    "tags": []
   },
   "outputs": [
    {
     "data": {
      "text/plain": [
       "array(['aː aː aː', 'aː aː eː', 'aː aː iː', ..., 'ʒʲ sʲ tʲ', 'ʒʲ vʲ ěː',\n",
       "       'ʒʲ æː mʲ'], dtype=object)"
      ]
     },
     "execution_count": 10,
     "metadata": {},
     "output_type": "execute_result"
    }
   ],
   "source": [
    "vectorizer.get_feature_names_out()\n"
   ]
  },
  {
   "cell_type": "code",
   "execution_count": 11,
   "id": "7ca5cb4b-ed75-4c42-99ae-6adf4517dd89",
   "metadata": {
    "tags": []
   },
   "outputs": [
    {
     "data": {
      "text/plain": [
       "(81444, 1467)"
      ]
     },
     "execution_count": 11,
     "metadata": {},
     "output_type": "execute_result"
    }
   ],
   "source": [
    "X.toarray().shape"
   ]
  },
  {
   "cell_type": "code",
   "execution_count": 12,
   "id": "7b29f53a-4a2f-4217-97ac-5e7370120e3a",
   "metadata": {
    "tags": []
   },
   "outputs": [
    {
     "data": {
      "text/plain": [
       "(1, 2273)"
      ]
     },
     "execution_count": 12,
     "metadata": {},
     "output_type": "execute_result"
    }
   ],
   "source": [
    "X[X>0].shape"
   ]
  },
  {
   "cell_type": "code",
   "execution_count": null,
   "id": "0afa16fa-e05d-42fa-aba2-7e476b402ed9",
   "metadata": {
    "tags": []
   },
   "outputs": [],
   "source": [
    "clustering = AffinityPropagation(random_state=42).fit(X)"
   ]
  },
  {
   "cell_type": "code",
   "execution_count": null,
   "id": "ad616431-bb05-4f53-ae92-a6d67ee7a73c",
   "metadata": {},
   "outputs": [],
   "source": [
    "df[\"Conc_affp_label\"]= clustering.predict(X)"
   ]
  },
  {
   "cell_type": "code",
   "execution_count": null,
   "id": "cd972338-d92c-4b95-b7de-1a7eee4a0525",
   "metadata": {},
   "outputs": [],
   "source": []
  },
  {
   "cell_type": "code",
   "execution_count": null,
   "id": "a31bbca9-8d46-4194-8837-0b292543ae00",
   "metadata": {},
   "outputs": [],
   "source": []
  },
  {
   "cell_type": "code",
   "execution_count": null,
   "id": "7e0085d0-0019-4e1c-b3cf-2101d20e5af3",
   "metadata": {},
   "outputs": [],
   "source": []
  },
  {
   "cell_type": "code",
   "execution_count": null,
   "id": "59ac46d5-bcd4-4f81-94e0-cacafdc53307",
   "metadata": {},
   "outputs": [],
   "source": []
  },
  {
   "cell_type": "code",
   "execution_count": 45,
   "id": "c90fb3a7-615e-4ba3-9202-ff2ea0dacdff",
   "metadata": {
    "tags": []
   },
   "outputs": [],
   "source": [
    "kmeans = KMeans(n_clusters =6,  random_state=0, n_init=\"auto\").fit(X)"
   ]
  },
  {
   "cell_type": "code",
   "execution_count": 55,
   "id": "436f23ae-ef2b-4be5-b004-afe71baf3bd2",
   "metadata": {
    "tags": []
   },
   "outputs": [],
   "source": [
    "labels = kmeans.labels_"
   ]
  },
  {
   "cell_type": "code",
   "execution_count": 58,
   "id": "74b3bee7-bcb6-4338-b6ab-fe8373bc7d5c",
   "metadata": {
    "tags": []
   },
   "outputs": [
    {
     "data": {
      "text/plain": [
       "{0, 1, 2, 3, 4, 5}"
      ]
     },
     "execution_count": 58,
     "metadata": {},
     "output_type": "execute_result"
    }
   ],
   "source": [
    "set(labels)"
   ]
  },
  {
   "cell_type": "code",
   "execution_count": 59,
   "id": "ad8c5ac2-ee7d-4f8f-ac86-3f8f4801c837",
   "metadata": {
    "tags": []
   },
   "outputs": [],
   "source": [
    "df[\"Conc_kmeans_label\"]= labels"
   ]
  },
  {
   "cell_type": "code",
   "execution_count": 68,
   "id": "71b4a5a2-e93b-4b71-bea4-ba41a93cf9f1",
   "metadata": {
    "tags": []
   },
   "outputs": [],
   "source": [
    "df0 = df[df[\"Conc_kmeans_label\"]==0]\n",
    "df1 = df[df[\"Conc_kmeans_label\"]==1]\n",
    "df2 = df[df[\"Conc_kmeans_label\"]==2]\n",
    "df3 = df[df[\"Conc_kmeans_label\"]==3]\n",
    "df4 = df[df[\"Conc_kmeans_label\"]==4]\n",
    "df5 = df[df[\"Conc_kmeans_label\"]==5]"
   ]
  },
  {
   "cell_type": "code",
   "execution_count": 73,
   "id": "8cb57633-982d-4f77-93fb-9b0d655793f0",
   "metadata": {
    "tags": []
   },
   "outputs": [
    {
     "data": {
      "text/plain": [
       "Family\n",
       "Indo-European              56892\n",
       "Uralic                      6560\n",
       "Sino-Tibetan                2961\n",
       "Austronesian                2626\n",
       "Koreanic                    2296\n",
       "Austroasiatic               1428\n",
       "Tai-Kadai                   1263\n",
       "Turkic                      1033\n",
       "Japonic                      792\n",
       "Kartvelian                   521\n",
       "Afro-Asiatic                 472\n",
       "Artificial Language          434\n",
       "Dravidian                    209\n",
       "Atlantic-Congo                43\n",
       "Mongolic-Khitan               40\n",
       "Athabaskan-Eyak-Tlingit        9\n",
       "Abkhaz-Adyge                   3\n",
       "Nakh-Daghestanian              3\n",
       "Tungusic                       2\n",
       "Algic                          1\n",
       "Uto-Aztecan                    1\n",
       "Name: count, dtype: int64"
      ]
     },
     "execution_count": 73,
     "metadata": {},
     "output_type": "execute_result"
    }
   ],
   "source": [
    "df1[\"Family\"].value_counts()"
   ]
  },
  {
   "cell_type": "code",
   "execution_count": 69,
   "id": "f7c3193d-4f10-4685-9fdf-9accd2c90558",
   "metadata": {
    "tags": []
   },
   "outputs": [
    {
     "data": {
      "text/plain": [
       "<Axes: xlabel='Conc.Mean', ylabel='Count'>"
      ]
     },
     "execution_count": 69,
     "metadata": {},
     "output_type": "execute_result"
    },
    {
     "data": {
      "image/png": "[encoded data removed]",
      "text/plain": [
       "<Figure size 640x480 with 1 Axes>"
      ]
     },
     "metadata": {},
     "output_type": "display_data"
    }
   ],
   "source": [
    "sns.histplot(data=df2, x= \"Conc.Mean\")"
   ]
  },
  {
   "cell_type": "code",
   "execution_count": 70,
   "id": "71995d30-e730-489b-bde9-96c81b57c493",
   "metadata": {
    "tags": []
   },
   "outputs": [
    {
     "data": {
      "text/plain": [
       "<Axes: xlabel='Conc.Mean', ylabel='Count'>"
      ]
     },
     "execution_count": 70,
     "metadata": {},
     "output_type": "execute_result"
    },
    {
     "data": {
      "image/png": "[encoded data removed]",
      "text/plain": [
       "<Figure size 640x480 with 1 Axes>"
      ]
     },
     "metadata": {},
     "output_type": "display_data"
    }
   ],
   "source": [
    "sns.histplot(data=df3, x= \"Conc.Mean\")"
   ]
  },
  {
   "cell_type": "code",
   "execution_count": 63,
   "id": "bbf439a3-bf7e-4aec-ac23-50f956676c30",
   "metadata": {
    "tags": []
   },
   "outputs": [
    {
     "data": {
      "text/plain": [
       "<Axes: xlabel='Conc.Mean', ylabel='Count'>"
      ]
     },
     "execution_count": 63,
     "metadata": {},
     "output_type": "execute_result"
    },
    {
     "data": {
      "image/png": "[encoded data removed]",
      "text/plain": [
       "<Figure size 640x480 with 1 Axes>"
      ]
     },
     "metadata": {},
     "output_type": "display_data"
    }
   ],
   "source": [
    "sns.histplot(data=df0, x= \"Conc.Mean\")"
   ]
  },
  {
   "cell_type": "code",
   "execution_count": 67,
   "id": "9daa7173-6051-420d-9b9d-1245323e50ec",
   "metadata": {
    "tags": []
   },
   "outputs": [
    {
     "data": {
      "text/plain": [
       "<Axes: xlabel='Conc.Mean', ylabel='Count'>"
      ]
     },
     "execution_count": 67,
     "metadata": {},
     "output_type": "execute_result"
    },
    {
     "data": {
      "image/png": "[encoded data removed]",
      "text/plain": [
       "<Figure size 640x480 with 1 Axes>"
      ]
     },
     "metadata": {},
     "output_type": "display_data"
    }
   ],
   "source": [
    "sns.histplot(data=df1, x= \"Conc.Mean\")"
   ]
  },
  {
   "cell_type": "markdown",
   "id": "d2b84595-8fd2-486b-89cf-10dafbe9b360",
   "metadata": {},
   "source": [
    "# Get Language Family for the WN PHONEME DATA"
   ]
  },
  {
   "cell_type": "code",
   "execution_count": 3,
   "id": "58b2f9e0-22fa-4603-93a3-48eba8faf559",
   "metadata": {
    "tags": []
   },
   "outputs": [],
   "source": [
    "df=pd.read_csv(\"../data/aff+conc/phone_aff_conc_classes.csv\")"
   ]
  },
  {
   "cell_type": "code",
   "execution_count": 24,
   "id": "8f8f4ebe-240a-4d11-a7c0-5be03c127793",
   "metadata": {
    "tags": []
   },
   "outputs": [],
   "source": [
    "df = df.drop([\"Unnamed: 0.1\", \"Unnamed: 0\"], axis=1)"
   ]
  },
  {
   "cell_type": "code",
   "execution_count": 25,
   "id": "2e90b191-541b-45a4-a094-96aebe4eb8a9",
   "metadata": {
    "tags": []
   },
   "outputs": [
    {
     "data": {
      "text/html": [
       "<div>\n",
       "<style scoped>\n",
       "    .dataframe tbody tr th:only-of-type {\n",
       "        vertical-align: middle;\n",
       "    }\n",
       "\n",
       "    .dataframe tbody tr th {\n",
       "        vertical-align: top;\n",
       "    }\n",
       "\n",
       "    .dataframe thead th {\n",
       "        text-align: right;\n",
       "    }\n",
       "</style>\n",
       "<table border=\"1\" class=\"dataframe\">\n",
       "  <thead>\n",
       "    <tr style=\"text-align: right;\">\n",
       "      <th></th>\n",
       "      <th>SENSE_LEMMA</th>\n",
       "      <th>LANG_PRON</th>\n",
       "      <th>PRON</th>\n",
       "      <th>COLEX</th>\n",
       "      <th>Conc.Mean</th>\n",
       "      <th>Conc.SD</th>\n",
       "      <th>V.Mean</th>\n",
       "      <th>V.SD</th>\n",
       "      <th>A.Mean</th>\n",
       "      <th>A.SD</th>\n",
       "      <th>D.Mean</th>\n",
       "      <th>D.SD</th>\n",
       "      <th>Aff.Mean</th>\n",
       "      <th>Aff.all.Mean</th>\n",
       "      <th>macroarae</th>\n",
       "      <th>Conc.CLASS</th>\n",
       "      <th>V.CLASS</th>\n",
       "      <th>A.CLASS</th>\n",
       "      <th>D.CLASS</th>\n",
       "      <th>Conc</th>\n",
       "      <th>V</th>\n",
       "      <th>A</th>\n",
       "      <th>D</th>\n",
       "      <th>Aff</th>\n",
       "      <th>Aff.all</th>\n",
       "    </tr>\n",
       "  </thead>\n",
       "  <tbody>\n",
       "    <tr>\n",
       "      <th>0</th>\n",
       "      <td>a</td>\n",
       "      <td>eng</td>\n",
       "      <td>ə</td>\n",
       "      <td>alpha~settling</td>\n",
       "      <td>2.035</td>\n",
       "      <td>1.230</td>\n",
       "      <td>5.500</td>\n",
       "      <td>2.240</td>\n",
       "      <td>3.670</td>\n",
       "      <td>2.630</td>\n",
       "      <td>6.320</td>\n",
       "      <td>2.480</td>\n",
       "      <td>5.163333</td>\n",
       "      <td>0.490352</td>\n",
       "      <td>Eurasia</td>\n",
       "      <td>0.0</td>\n",
       "      <td>1.0</td>\n",
       "      <td>0.0</td>\n",
       "      <td>2.0</td>\n",
       "      <td>1.0</td>\n",
       "      <td>4.0</td>\n",
       "      <td>2.0</td>\n",
       "      <td>5.0</td>\n",
       "      <td>3.0</td>\n",
       "      <td>-1.0</td>\n",
       "    </tr>\n",
       "    <tr>\n",
       "      <th>1</th>\n",
       "      <td>a</td>\n",
       "      <td>hun</td>\n",
       "      <td>ɒː</td>\n",
       "      <td>amplitude~elevator</td>\n",
       "      <td>3.855</td>\n",
       "      <td>0.985</td>\n",
       "      <td>5.950</td>\n",
       "      <td>1.500</td>\n",
       "      <td>3.650</td>\n",
       "      <td>2.250</td>\n",
       "      <td>4.920</td>\n",
       "      <td>2.260</td>\n",
       "      <td>4.840000</td>\n",
       "      <td>0.654389</td>\n",
       "      <td>Eurasia</td>\n",
       "      <td>1.0</td>\n",
       "      <td>1.0</td>\n",
       "      <td>0.0</td>\n",
       "      <td>1.0</td>\n",
       "      <td>2.0</td>\n",
       "      <td>4.0</td>\n",
       "      <td>2.0</td>\n",
       "      <td>3.0</td>\n",
       "      <td>2.0</td>\n",
       "      <td>-1.0</td>\n",
       "    </tr>\n",
       "    <tr>\n",
       "      <th>2</th>\n",
       "      <td>a</td>\n",
       "      <td>hun</td>\n",
       "      <td>ɒː</td>\n",
       "      <td>amplitude~legislature</td>\n",
       "      <td>2.730</td>\n",
       "      <td>1.360</td>\n",
       "      <td>3.550</td>\n",
       "      <td>1.570</td>\n",
       "      <td>3.220</td>\n",
       "      <td>2.180</td>\n",
       "      <td>4.480</td>\n",
       "      <td>1.990</td>\n",
       "      <td>3.750000</td>\n",
       "      <td>0.481333</td>\n",
       "      <td>Eurasia</td>\n",
       "      <td>0.0</td>\n",
       "      <td>0.0</td>\n",
       "      <td>0.0</td>\n",
       "      <td>1.0</td>\n",
       "      <td>1.0</td>\n",
       "      <td>2.0</td>\n",
       "      <td>2.0</td>\n",
       "      <td>3.0</td>\n",
       "      <td>1.0</td>\n",
       "      <td>-1.0</td>\n",
       "    </tr>\n",
       "    <tr>\n",
       "      <th>3</th>\n",
       "      <td>a</td>\n",
       "      <td>hun</td>\n",
       "      <td>ɒː</td>\n",
       "      <td>amplitude~menopause</td>\n",
       "      <td>3.055</td>\n",
       "      <td>1.405</td>\n",
       "      <td>1.890</td>\n",
       "      <td>1.020</td>\n",
       "      <td>3.550</td>\n",
       "      <td>2.240</td>\n",
       "      <td>4.320</td>\n",
       "      <td>2.810</td>\n",
       "      <td>3.253333</td>\n",
       "      <td>0.486241</td>\n",
       "      <td>Eurasia</td>\n",
       "      <td>1.0</td>\n",
       "      <td>0.0</td>\n",
       "      <td>0.0</td>\n",
       "      <td>1.0</td>\n",
       "      <td>2.0</td>\n",
       "      <td>0.0</td>\n",
       "      <td>2.0</td>\n",
       "      <td>3.0</td>\n",
       "      <td>1.0</td>\n",
       "      <td>-1.0</td>\n",
       "    </tr>\n",
       "    <tr>\n",
       "      <th>4</th>\n",
       "      <td>a</td>\n",
       "      <td>hun</td>\n",
       "      <td>ɒː</td>\n",
       "      <td>amplitude~movie</td>\n",
       "      <td>3.755</td>\n",
       "      <td>1.185</td>\n",
       "      <td>7.240</td>\n",
       "      <td>1.510</td>\n",
       "      <td>4.390</td>\n",
       "      <td>2.630</td>\n",
       "      <td>5.680</td>\n",
       "      <td>2.160</td>\n",
       "      <td>5.770000</td>\n",
       "      <td>0.696056</td>\n",
       "      <td>Eurasia</td>\n",
       "      <td>1.0</td>\n",
       "      <td>2.0</td>\n",
       "      <td>1.0</td>\n",
       "      <td>1.0</td>\n",
       "      <td>2.0</td>\n",
       "      <td>6.0</td>\n",
       "      <td>3.0</td>\n",
       "      <td>4.0</td>\n",
       "      <td>3.0</td>\n",
       "      <td>-1.0</td>\n",
       "    </tr>\n",
       "    <tr>\n",
       "      <th>...</th>\n",
       "      <td>...</td>\n",
       "      <td>...</td>\n",
       "      <td>...</td>\n",
       "      <td>...</td>\n",
       "      <td>...</td>\n",
       "      <td>...</td>\n",
       "      <td>...</td>\n",
       "      <td>...</td>\n",
       "      <td>...</td>\n",
       "      <td>...</td>\n",
       "      <td>...</td>\n",
       "      <td>...</td>\n",
       "      <td>...</td>\n",
       "      <td>...</td>\n",
       "      <td>...</td>\n",
       "      <td>...</td>\n",
       "      <td>...</td>\n",
       "      <td>...</td>\n",
       "      <td>...</td>\n",
       "      <td>...</td>\n",
       "      <td>...</td>\n",
       "      <td>...</td>\n",
       "      <td>...</td>\n",
       "      <td>...</td>\n",
       "      <td>...</td>\n",
       "    </tr>\n",
       "    <tr>\n",
       "      <th>339687</th>\n",
       "      <td>𐌿𐍂𐍂𐌿𐌽𐍃</td>\n",
       "      <td>got</td>\n",
       "      <td>u r r u n s</td>\n",
       "      <td>dawn~departure</td>\n",
       "      <td>3.765</td>\n",
       "      <td>1.170</td>\n",
       "      <td>5.395</td>\n",
       "      <td>1.750</td>\n",
       "      <td>3.375</td>\n",
       "      <td>2.535</td>\n",
       "      <td>5.035</td>\n",
       "      <td>2.615</td>\n",
       "      <td>4.601667</td>\n",
       "      <td>0.632148</td>\n",
       "      <td>Eurasia</td>\n",
       "      <td>1.0</td>\n",
       "      <td>1.0</td>\n",
       "      <td>0.0</td>\n",
       "      <td>1.0</td>\n",
       "      <td>2.0</td>\n",
       "      <td>4.0</td>\n",
       "      <td>2.0</td>\n",
       "      <td>4.0</td>\n",
       "      <td>2.0</td>\n",
       "      <td>-1.0</td>\n",
       "    </tr>\n",
       "    <tr>\n",
       "      <th>339688</th>\n",
       "      <td>𐍃𐌺𐌴𐌹𐌼𐌰</td>\n",
       "      <td>got</td>\n",
       "      <td>s k iː m a</td>\n",
       "      <td>lantern~torch</td>\n",
       "      <td>4.880</td>\n",
       "      <td>0.320</td>\n",
       "      <td>4.935</td>\n",
       "      <td>1.700</td>\n",
       "      <td>4.165</td>\n",
       "      <td>2.195</td>\n",
       "      <td>5.550</td>\n",
       "      <td>2.160</td>\n",
       "      <td>4.883333</td>\n",
       "      <td>0.759296</td>\n",
       "      <td>Eurasia</td>\n",
       "      <td>2.0</td>\n",
       "      <td>1.0</td>\n",
       "      <td>1.0</td>\n",
       "      <td>1.0</td>\n",
       "      <td>3.0</td>\n",
       "      <td>3.0</td>\n",
       "      <td>3.0</td>\n",
       "      <td>4.0</td>\n",
       "      <td>2.0</td>\n",
       "      <td>-1.0</td>\n",
       "    </tr>\n",
       "    <tr>\n",
       "      <th>339689</th>\n",
       "      <td>𐍅𐌰𐌹𐌽𐌰𐌷𐍃</td>\n",
       "      <td>got</td>\n",
       "      <td>w ɛː n a h s</td>\n",
       "      <td>miserable~unhappy</td>\n",
       "      <td>2.005</td>\n",
       "      <td>1.320</td>\n",
       "      <td>2.220</td>\n",
       "      <td>1.485</td>\n",
       "      <td>5.080</td>\n",
       "      <td>2.720</td>\n",
       "      <td>3.785</td>\n",
       "      <td>2.170</td>\n",
       "      <td>3.695000</td>\n",
       "      <td>0.405778</td>\n",
       "      <td>Eurasia</td>\n",
       "      <td>0.0</td>\n",
       "      <td>0.0</td>\n",
       "      <td>2.0</td>\n",
       "      <td>0.0</td>\n",
       "      <td>1.0</td>\n",
       "      <td>1.0</td>\n",
       "      <td>4.0</td>\n",
       "      <td>2.0</td>\n",
       "      <td>1.0</td>\n",
       "      <td>-1.0</td>\n",
       "    </tr>\n",
       "    <tr>\n",
       "      <th>339690</th>\n",
       "      <td>𐍅𐍉𐌸𐌴𐌹𐍃</td>\n",
       "      <td>got</td>\n",
       "      <td>w oː θ iː s</td>\n",
       "      <td>pleasant~sweet</td>\n",
       "      <td>2.775</td>\n",
       "      <td>1.020</td>\n",
       "      <td>7.505</td>\n",
       "      <td>1.445</td>\n",
       "      <td>3.525</td>\n",
       "      <td>2.720</td>\n",
       "      <td>6.410</td>\n",
       "      <td>1.965</td>\n",
       "      <td>5.813333</td>\n",
       "      <td>0.600463</td>\n",
       "      <td>Eurasia</td>\n",
       "      <td>0.0</td>\n",
       "      <td>2.0</td>\n",
       "      <td>0.0</td>\n",
       "      <td>2.0</td>\n",
       "      <td>1.0</td>\n",
       "      <td>6.0</td>\n",
       "      <td>2.0</td>\n",
       "      <td>5.0</td>\n",
       "      <td>3.0</td>\n",
       "      <td>-1.0</td>\n",
       "    </tr>\n",
       "    <tr>\n",
       "      <th>339691</th>\n",
       "      <td>𐍆𐌿𐌻𐌻𐌰𐍆𐌰𐌷𐌾𐌰𐌽</td>\n",
       "      <td>got</td>\n",
       "      <td>f u l l a f a h j a n</td>\n",
       "      <td>content~satisfy</td>\n",
       "      <td>2.315</td>\n",
       "      <td>1.270</td>\n",
       "      <td>6.895</td>\n",
       "      <td>1.825</td>\n",
       "      <td>4.350</td>\n",
       "      <td>2.655</td>\n",
       "      <td>6.125</td>\n",
       "      <td>2.265</td>\n",
       "      <td>5.790000</td>\n",
       "      <td>0.553167</td>\n",
       "      <td>Eurasia</td>\n",
       "      <td>0.0</td>\n",
       "      <td>2.0</td>\n",
       "      <td>1.0</td>\n",
       "      <td>2.0</td>\n",
       "      <td>1.0</td>\n",
       "      <td>5.0</td>\n",
       "      <td>3.0</td>\n",
       "      <td>5.0</td>\n",
       "      <td>3.0</td>\n",
       "      <td>-1.0</td>\n",
       "    </tr>\n",
       "  </tbody>\n",
       "</table>\n",
       "<p>339692 rows × 25 columns</p>\n",
       "</div>"
      ],
      "text/plain": [
       "        SENSE_LEMMA LANG_PRON                   PRON                  COLEX   \n",
       "0                 a       eng                      ə         alpha~settling  \\\n",
       "1                 a       hun                     ɒː     amplitude~elevator   \n",
       "2                 a       hun                     ɒː  amplitude~legislature   \n",
       "3                 a       hun                     ɒː    amplitude~menopause   \n",
       "4                 a       hun                     ɒː        amplitude~movie   \n",
       "...             ...       ...                    ...                    ...   \n",
       "339687       𐌿𐍂𐍂𐌿𐌽𐍃       got            u r r u n s         dawn~departure   \n",
       "339688       𐍃𐌺𐌴𐌹𐌼𐌰       got             s k iː m a          lantern~torch   \n",
       "339689      𐍅𐌰𐌹𐌽𐌰𐌷𐍃       got           w ɛː n a h s      miserable~unhappy   \n",
       "339690       𐍅𐍉𐌸𐌴𐌹𐍃       got            w oː θ iː s         pleasant~sweet   \n",
       "339691  𐍆𐌿𐌻𐌻𐌰𐍆𐌰𐌷𐌾𐌰𐌽       got  f u l l a f a h j a n        content~satisfy   \n",
       "\n",
       "        Conc.Mean  Conc.SD  V.Mean   V.SD  A.Mean   A.SD  D.Mean   D.SD   \n",
       "0           2.035    1.230   5.500  2.240   3.670  2.630   6.320  2.480  \\\n",
       "1           3.855    0.985   5.950  1.500   3.650  2.250   4.920  2.260   \n",
       "2           2.730    1.360   3.550  1.570   3.220  2.180   4.480  1.990   \n",
       "3           3.055    1.405   1.890  1.020   3.550  2.240   4.320  2.810   \n",
       "4           3.755    1.185   7.240  1.510   4.390  2.630   5.680  2.160   \n",
       "...           ...      ...     ...    ...     ...    ...     ...    ...   \n",
       "339687      3.765    1.170   5.395  1.750   3.375  2.535   5.035  2.615   \n",
       "339688      4.880    0.320   4.935  1.700   4.165  2.195   5.550  2.160   \n",
       "339689      2.005    1.320   2.220  1.485   5.080  2.720   3.785  2.170   \n",
       "339690      2.775    1.020   7.505  1.445   3.525  2.720   6.410  1.965   \n",
       "339691      2.315    1.270   6.895  1.825   4.350  2.655   6.125  2.265   \n",
       "\n",
       "        Aff.Mean  Aff.all.Mean macroarae  Conc.CLASS  V.CLASS  A.CLASS   \n",
       "0       5.163333      0.490352   Eurasia         0.0      1.0      0.0  \\\n",
       "1       4.840000      0.654389   Eurasia         1.0      1.0      0.0   \n",
       "2       3.750000      0.481333   Eurasia         0.0      0.0      0.0   \n",
       "3       3.253333      0.486241   Eurasia         1.0      0.0      0.0   \n",
       "4       5.770000      0.696056   Eurasia         1.0      2.0      1.0   \n",
       "...          ...           ...       ...         ...      ...      ...   \n",
       "339687  4.601667      0.632148   Eurasia         1.0      1.0      0.0   \n",
       "339688  4.883333      0.759296   Eurasia         2.0      1.0      1.0   \n",
       "339689  3.695000      0.405778   Eurasia         0.0      0.0      2.0   \n",
       "339690  5.813333      0.600463   Eurasia         0.0      2.0      0.0   \n",
       "339691  5.790000      0.553167   Eurasia         0.0      2.0      1.0   \n",
       "\n",
       "        D.CLASS  Conc    V    A    D  Aff  Aff.all  \n",
       "0           2.0   1.0  4.0  2.0  5.0  3.0     -1.0  \n",
       "1           1.0   2.0  4.0  2.0  3.0  2.0     -1.0  \n",
       "2           1.0   1.0  2.0  2.0  3.0  1.0     -1.0  \n",
       "3           1.0   2.0  0.0  2.0  3.0  1.0     -1.0  \n",
       "4           1.0   2.0  6.0  3.0  4.0  3.0     -1.0  \n",
       "...         ...   ...  ...  ...  ...  ...      ...  \n",
       "339687      1.0   2.0  4.0  2.0  4.0  2.0     -1.0  \n",
       "339688      1.0   3.0  3.0  3.0  4.0  2.0     -1.0  \n",
       "339689      0.0   1.0  1.0  4.0  2.0  1.0     -1.0  \n",
       "339690      2.0   1.0  6.0  2.0  5.0  3.0     -1.0  \n",
       "339691      2.0   1.0  5.0  3.0  5.0  3.0     -1.0  \n",
       "\n",
       "[339692 rows x 25 columns]"
      ]
     },
     "execution_count": 25,
     "metadata": {},
     "output_type": "execute_result"
    }
   ],
   "source": [
    "df"
   ]
  },
  {
   "cell_type": "code",
   "execution_count": 6,
   "id": "1f45c9ea-73d6-4800-8dd6-9287b63c6185",
   "metadata": {
    "tags": []
   },
   "outputs": [],
   "source": [
    "with open(\"../glottolog-glottolog-2699d10/languages.json\") as f:\n",
    "    languages = json.load(f)"
   ]
  },
  {
   "cell_type": "code",
   "execution_count": 12,
   "id": "b3df912d-708c-4cde-b87a-538dbc84c55a",
   "metadata": {
    "scrolled": true,
    "tags": []
   },
   "outputs": [],
   "source": [
    "iso2id = {}\n",
    "for d in languages[\"resources\"]:\n",
    "    idx = d[\"id\"]\n",
    "    if len(d[\"identifiers\"])>0:\n",
    "        identifier = d[\"identifiers\"][0]\n",
    "        type_identifier = identifier[\"type\"]\n",
    "        if type_identifier== \"iso639-3\":\n",
    "            isocode = identifier[\"identifier\"]\n",
    "            iso2id[isocode] = idx\n",
    "    "
   ]
  },
  {
   "cell_type": "code",
   "execution_count": 14,
   "id": "d429f562-8803-4467-943f-710281be345a",
   "metadata": {
    "tags": []
   },
   "outputs": [],
   "source": [
    "langs =list(set(df[\"LANG_PRON\"].tolist()))"
   ]
  },
  {
   "cell_type": "code",
   "execution_count": 16,
   "id": "ea9594b8-6bb8-4fef-a21c-944a0cbd8318",
   "metadata": {
    "tags": []
   },
   "outputs": [],
   "source": [
    "iso2id_dict = {k:v for k,v in iso2id.items() if k in langs}"
   ]
  },
  {
   "cell_type": "code",
   "execution_count": 18,
   "id": "d7685c75-6f91-4a4e-8824-15091da0bb90",
   "metadata": {
    "tags": []
   },
   "outputs": [
    {
     "data": {
      "text/plain": [
       "(134, 142)"
      ]
     },
     "execution_count": 18,
     "metadata": {},
     "output_type": "execute_result"
    }
   ],
   "source": [
    "len(iso2id_dict), len(langs)"
   ]
  },
  {
   "cell_type": "code",
   "execution_count": 20,
   "id": "02e3c016-aec6-4803-b408-87ae1f1fbe55",
   "metadata": {
    "tags": []
   },
   "outputs": [],
   "source": [
    "with open(\"../data/languages/wn_pron_langs.json\", \"w\") as f:\n",
    "    json.dump(iso2id_dict, f)"
   ]
  },
  {
   "cell_type": "code",
   "execution_count": 21,
   "id": "268df400-9f20-4e1a-8ec0-1ffb5f7fed9b",
   "metadata": {
    "tags": []
   },
   "outputs": [],
   "source": [
    "df_langs = pd.read_csv(\"../data/languages/wn_pron_languages_glotto.csv\")"
   ]
  },
  {
   "cell_type": "code",
   "execution_count": 29,
   "id": "7d384ce2-279e-4a5c-b2cd-17684043c9c6",
   "metadata": {
    "tags": []
   },
   "outputs": [],
   "source": [
    "df_langs = df_langs[[\"Name\",\"Top-level family\", \"Macroarea\", \"Latitude\", \"Longitude\", \"ISO\"]]"
   ]
  },
  {
   "cell_type": "code",
   "execution_count": 30,
   "id": "489f542a-fc27-4d2c-b2e9-481633e34b4c",
   "metadata": {
    "tags": []
   },
   "outputs": [
    {
     "data": {
      "text/html": [
       "<div>\n",
       "<style scoped>\n",
       "    .dataframe tbody tr th:only-of-type {\n",
       "        vertical-align: middle;\n",
       "    }\n",
       "\n",
       "    .dataframe tbody tr th {\n",
       "        vertical-align: top;\n",
       "    }\n",
       "\n",
       "    .dataframe thead th {\n",
       "        text-align: right;\n",
       "    }\n",
       "</style>\n",
       "<table border=\"1\" class=\"dataframe\">\n",
       "  <thead>\n",
       "    <tr style=\"text-align: right;\">\n",
       "      <th></th>\n",
       "      <th>Name</th>\n",
       "      <th>Top-level family</th>\n",
       "      <th>Macroarea</th>\n",
       "      <th>Latitude</th>\n",
       "      <th>Longitude</th>\n",
       "      <th>ISO</th>\n",
       "    </tr>\n",
       "  </thead>\n",
       "  <tbody>\n",
       "    <tr>\n",
       "      <th>0</th>\n",
       "      <td>Basque</td>\n",
       "      <td>NaN</td>\n",
       "      <td>Eurasia</td>\n",
       "      <td>43.27870</td>\n",
       "      <td>-1.31622</td>\n",
       "      <td>eus</td>\n",
       "    </tr>\n",
       "    <tr>\n",
       "      <th>1</th>\n",
       "      <td>Tonga (Tonga Islands)</td>\n",
       "      <td>Austronesian</td>\n",
       "      <td>Papunesia</td>\n",
       "      <td>-21.17000</td>\n",
       "      <td>-175.25000</td>\n",
       "      <td>ton</td>\n",
       "    </tr>\n",
       "    <tr>\n",
       "      <th>2</th>\n",
       "      <td>Hawaiian</td>\n",
       "      <td>Austronesian</td>\n",
       "      <td>Papunesia</td>\n",
       "      <td>19.62970</td>\n",
       "      <td>-155.43000</td>\n",
       "      <td>haw</td>\n",
       "    </tr>\n",
       "    <tr>\n",
       "      <th>3</th>\n",
       "      <td>Standard Indonesian</td>\n",
       "      <td>Austronesian</td>\n",
       "      <td>Papunesia</td>\n",
       "      <td>-7.33458</td>\n",
       "      <td>109.71600</td>\n",
       "      <td>ind</td>\n",
       "    </tr>\n",
       "    <tr>\n",
       "      <th>4</th>\n",
       "      <td>Tagalog</td>\n",
       "      <td>Austronesian</td>\n",
       "      <td>Papunesia</td>\n",
       "      <td>14.06000</td>\n",
       "      <td>121.74700</td>\n",
       "      <td>tgl</td>\n",
       "    </tr>\n",
       "    <tr>\n",
       "      <th>...</th>\n",
       "      <td>...</td>\n",
       "      <td>...</td>\n",
       "      <td>...</td>\n",
       "      <td>...</td>\n",
       "      <td>...</td>\n",
       "      <td>...</td>\n",
       "    </tr>\n",
       "    <tr>\n",
       "      <th>129</th>\n",
       "      <td>Finnish</td>\n",
       "      <td>Uralic</td>\n",
       "      <td>Eurasia</td>\n",
       "      <td>64.76280</td>\n",
       "      <td>25.55770</td>\n",
       "      <td>fin</td>\n",
       "    </tr>\n",
       "    <tr>\n",
       "      <th>130</th>\n",
       "      <td>Karelian</td>\n",
       "      <td>Uralic</td>\n",
       "      <td>Eurasia</td>\n",
       "      <td>65.16910</td>\n",
       "      <td>30.86550</td>\n",
       "      <td>krl</td>\n",
       "    </tr>\n",
       "    <tr>\n",
       "      <th>131</th>\n",
       "      <td>North Saami</td>\n",
       "      <td>Uralic</td>\n",
       "      <td>Eurasia</td>\n",
       "      <td>68.72500</td>\n",
       "      <td>22.11130</td>\n",
       "      <td>sme</td>\n",
       "    </tr>\n",
       "    <tr>\n",
       "      <th>132</th>\n",
       "      <td>Classical Nahuatl</td>\n",
       "      <td>Uto-Aztecan</td>\n",
       "      <td>North America</td>\n",
       "      <td>19.72000</td>\n",
       "      <td>-96.97000</td>\n",
       "      <td>nci</td>\n",
       "    </tr>\n",
       "    <tr>\n",
       "      <th>133</th>\n",
       "      <td>Chechen</td>\n",
       "      <td>Nakh-Daghestanian</td>\n",
       "      <td>Eurasia</td>\n",
       "      <td>43.50000</td>\n",
       "      <td>45.50000</td>\n",
       "      <td>che</td>\n",
       "    </tr>\n",
       "  </tbody>\n",
       "</table>\n",
       "<p>134 rows × 6 columns</p>\n",
       "</div>"
      ],
      "text/plain": [
       "                      Name   Top-level family      Macroarea  Latitude   \n",
       "0                   Basque                NaN        Eurasia  43.27870  \\\n",
       "1    Tonga (Tonga Islands)       Austronesian      Papunesia -21.17000   \n",
       "2                 Hawaiian       Austronesian      Papunesia  19.62970   \n",
       "3      Standard Indonesian       Austronesian      Papunesia  -7.33458   \n",
       "4                  Tagalog       Austronesian      Papunesia  14.06000   \n",
       "..                     ...                ...            ...       ...   \n",
       "129                Finnish             Uralic        Eurasia  64.76280   \n",
       "130               Karelian             Uralic        Eurasia  65.16910   \n",
       "131            North Saami             Uralic        Eurasia  68.72500   \n",
       "132      Classical Nahuatl        Uto-Aztecan  North America  19.72000   \n",
       "133                Chechen  Nakh-Daghestanian        Eurasia  43.50000   \n",
       "\n",
       "     Longitude  ISO  \n",
       "0     -1.31622  eus  \n",
       "1   -175.25000  ton  \n",
       "2   -155.43000  haw  \n",
       "3    109.71600  ind  \n",
       "4    121.74700  tgl  \n",
       "..         ...  ...  \n",
       "129   25.55770  fin  \n",
       "130   30.86550  krl  \n",
       "131   22.11130  sme  \n",
       "132  -96.97000  nci  \n",
       "133   45.50000  che  \n",
       "\n",
       "[134 rows x 6 columns]"
      ]
     },
     "execution_count": 30,
     "metadata": {},
     "output_type": "execute_result"
    }
   ],
   "source": [
    "df_langs"
   ]
  },
  {
   "cell_type": "code",
   "execution_count": 31,
   "id": "e3989e50-02e4-4d1f-8b4a-df9b1ad2256f",
   "metadata": {
    "tags": []
   },
   "outputs": [
    {
     "data": {
      "text/html": [
       "<div>\n",
       "<style scoped>\n",
       "    .dataframe tbody tr th:only-of-type {\n",
       "        vertical-align: middle;\n",
       "    }\n",
       "\n",
       "    .dataframe tbody tr th {\n",
       "        vertical-align: top;\n",
       "    }\n",
       "\n",
       "    .dataframe thead th {\n",
       "        text-align: right;\n",
       "    }\n",
       "</style>\n",
       "<table border=\"1\" class=\"dataframe\">\n",
       "  <thead>\n",
       "    <tr style=\"text-align: right;\">\n",
       "      <th></th>\n",
       "      <th>SENSE_LEMMA</th>\n",
       "      <th>LANG_PRON</th>\n",
       "      <th>PRON</th>\n",
       "      <th>COLEX</th>\n",
       "      <th>Conc.Mean</th>\n",
       "      <th>Conc.SD</th>\n",
       "      <th>V.Mean</th>\n",
       "      <th>V.SD</th>\n",
       "      <th>A.Mean</th>\n",
       "      <th>A.SD</th>\n",
       "      <th>D.Mean</th>\n",
       "      <th>D.SD</th>\n",
       "      <th>Aff.Mean</th>\n",
       "      <th>Aff.all.Mean</th>\n",
       "      <th>macroarae</th>\n",
       "      <th>Conc.CLASS</th>\n",
       "      <th>V.CLASS</th>\n",
       "      <th>A.CLASS</th>\n",
       "      <th>D.CLASS</th>\n",
       "      <th>Conc</th>\n",
       "      <th>V</th>\n",
       "      <th>A</th>\n",
       "      <th>D</th>\n",
       "      <th>Aff</th>\n",
       "      <th>Aff.all</th>\n",
       "    </tr>\n",
       "  </thead>\n",
       "  <tbody>\n",
       "    <tr>\n",
       "      <th>0</th>\n",
       "      <td>a</td>\n",
       "      <td>eng</td>\n",
       "      <td>ə</td>\n",
       "      <td>alpha~settling</td>\n",
       "      <td>2.035</td>\n",
       "      <td>1.230</td>\n",
       "      <td>5.500</td>\n",
       "      <td>2.240</td>\n",
       "      <td>3.670</td>\n",
       "      <td>2.630</td>\n",
       "      <td>6.320</td>\n",
       "      <td>2.480</td>\n",
       "      <td>5.163333</td>\n",
       "      <td>0.490352</td>\n",
       "      <td>Eurasia</td>\n",
       "      <td>0.0</td>\n",
       "      <td>1.0</td>\n",
       "      <td>0.0</td>\n",
       "      <td>2.0</td>\n",
       "      <td>1.0</td>\n",
       "      <td>4.0</td>\n",
       "      <td>2.0</td>\n",
       "      <td>5.0</td>\n",
       "      <td>3.0</td>\n",
       "      <td>-1.0</td>\n",
       "    </tr>\n",
       "    <tr>\n",
       "      <th>1</th>\n",
       "      <td>a</td>\n",
       "      <td>hun</td>\n",
       "      <td>ɒː</td>\n",
       "      <td>amplitude~elevator</td>\n",
       "      <td>3.855</td>\n",
       "      <td>0.985</td>\n",
       "      <td>5.950</td>\n",
       "      <td>1.500</td>\n",
       "      <td>3.650</td>\n",
       "      <td>2.250</td>\n",
       "      <td>4.920</td>\n",
       "      <td>2.260</td>\n",
       "      <td>4.840000</td>\n",
       "      <td>0.654389</td>\n",
       "      <td>Eurasia</td>\n",
       "      <td>1.0</td>\n",
       "      <td>1.0</td>\n",
       "      <td>0.0</td>\n",
       "      <td>1.0</td>\n",
       "      <td>2.0</td>\n",
       "      <td>4.0</td>\n",
       "      <td>2.0</td>\n",
       "      <td>3.0</td>\n",
       "      <td>2.0</td>\n",
       "      <td>-1.0</td>\n",
       "    </tr>\n",
       "    <tr>\n",
       "      <th>2</th>\n",
       "      <td>a</td>\n",
       "      <td>hun</td>\n",
       "      <td>ɒː</td>\n",
       "      <td>amplitude~legislature</td>\n",
       "      <td>2.730</td>\n",
       "      <td>1.360</td>\n",
       "      <td>3.550</td>\n",
       "      <td>1.570</td>\n",
       "      <td>3.220</td>\n",
       "      <td>2.180</td>\n",
       "      <td>4.480</td>\n",
       "      <td>1.990</td>\n",
       "      <td>3.750000</td>\n",
       "      <td>0.481333</td>\n",
       "      <td>Eurasia</td>\n",
       "      <td>0.0</td>\n",
       "      <td>0.0</td>\n",
       "      <td>0.0</td>\n",
       "      <td>1.0</td>\n",
       "      <td>1.0</td>\n",
       "      <td>2.0</td>\n",
       "      <td>2.0</td>\n",
       "      <td>3.0</td>\n",
       "      <td>1.0</td>\n",
       "      <td>-1.0</td>\n",
       "    </tr>\n",
       "    <tr>\n",
       "      <th>3</th>\n",
       "      <td>a</td>\n",
       "      <td>hun</td>\n",
       "      <td>ɒː</td>\n",
       "      <td>amplitude~menopause</td>\n",
       "      <td>3.055</td>\n",
       "      <td>1.405</td>\n",
       "      <td>1.890</td>\n",
       "      <td>1.020</td>\n",
       "      <td>3.550</td>\n",
       "      <td>2.240</td>\n",
       "      <td>4.320</td>\n",
       "      <td>2.810</td>\n",
       "      <td>3.253333</td>\n",
       "      <td>0.486241</td>\n",
       "      <td>Eurasia</td>\n",
       "      <td>1.0</td>\n",
       "      <td>0.0</td>\n",
       "      <td>0.0</td>\n",
       "      <td>1.0</td>\n",
       "      <td>2.0</td>\n",
       "      <td>0.0</td>\n",
       "      <td>2.0</td>\n",
       "      <td>3.0</td>\n",
       "      <td>1.0</td>\n",
       "      <td>-1.0</td>\n",
       "    </tr>\n",
       "    <tr>\n",
       "      <th>4</th>\n",
       "      <td>a</td>\n",
       "      <td>hun</td>\n",
       "      <td>ɒː</td>\n",
       "      <td>amplitude~movie</td>\n",
       "      <td>3.755</td>\n",
       "      <td>1.185</td>\n",
       "      <td>7.240</td>\n",
       "      <td>1.510</td>\n",
       "      <td>4.390</td>\n",
       "      <td>2.630</td>\n",
       "      <td>5.680</td>\n",
       "      <td>2.160</td>\n",
       "      <td>5.770000</td>\n",
       "      <td>0.696056</td>\n",
       "      <td>Eurasia</td>\n",
       "      <td>1.0</td>\n",
       "      <td>2.0</td>\n",
       "      <td>1.0</td>\n",
       "      <td>1.0</td>\n",
       "      <td>2.0</td>\n",
       "      <td>6.0</td>\n",
       "      <td>3.0</td>\n",
       "      <td>4.0</td>\n",
       "      <td>3.0</td>\n",
       "      <td>-1.0</td>\n",
       "    </tr>\n",
       "    <tr>\n",
       "      <th>...</th>\n",
       "      <td>...</td>\n",
       "      <td>...</td>\n",
       "      <td>...</td>\n",
       "      <td>...</td>\n",
       "      <td>...</td>\n",
       "      <td>...</td>\n",
       "      <td>...</td>\n",
       "      <td>...</td>\n",
       "      <td>...</td>\n",
       "      <td>...</td>\n",
       "      <td>...</td>\n",
       "      <td>...</td>\n",
       "      <td>...</td>\n",
       "      <td>...</td>\n",
       "      <td>...</td>\n",
       "      <td>...</td>\n",
       "      <td>...</td>\n",
       "      <td>...</td>\n",
       "      <td>...</td>\n",
       "      <td>...</td>\n",
       "      <td>...</td>\n",
       "      <td>...</td>\n",
       "      <td>...</td>\n",
       "      <td>...</td>\n",
       "      <td>...</td>\n",
       "    </tr>\n",
       "    <tr>\n",
       "      <th>339687</th>\n",
       "      <td>𐌿𐍂𐍂𐌿𐌽𐍃</td>\n",
       "      <td>got</td>\n",
       "      <td>u r r u n s</td>\n",
       "      <td>dawn~departure</td>\n",
       "      <td>3.765</td>\n",
       "      <td>1.170</td>\n",
       "      <td>5.395</td>\n",
       "      <td>1.750</td>\n",
       "      <td>3.375</td>\n",
       "      <td>2.535</td>\n",
       "      <td>5.035</td>\n",
       "      <td>2.615</td>\n",
       "      <td>4.601667</td>\n",
       "      <td>0.632148</td>\n",
       "      <td>Eurasia</td>\n",
       "      <td>1.0</td>\n",
       "      <td>1.0</td>\n",
       "      <td>0.0</td>\n",
       "      <td>1.0</td>\n",
       "      <td>2.0</td>\n",
       "      <td>4.0</td>\n",
       "      <td>2.0</td>\n",
       "      <td>4.0</td>\n",
       "      <td>2.0</td>\n",
       "      <td>-1.0</td>\n",
       "    </tr>\n",
       "    <tr>\n",
       "      <th>339688</th>\n",
       "      <td>𐍃𐌺𐌴𐌹𐌼𐌰</td>\n",
       "      <td>got</td>\n",
       "      <td>s k iː m a</td>\n",
       "      <td>lantern~torch</td>\n",
       "      <td>4.880</td>\n",
       "      <td>0.320</td>\n",
       "      <td>4.935</td>\n",
       "      <td>1.700</td>\n",
       "      <td>4.165</td>\n",
       "      <td>2.195</td>\n",
       "      <td>5.550</td>\n",
       "      <td>2.160</td>\n",
       "      <td>4.883333</td>\n",
       "      <td>0.759296</td>\n",
       "      <td>Eurasia</td>\n",
       "      <td>2.0</td>\n",
       "      <td>1.0</td>\n",
       "      <td>1.0</td>\n",
       "      <td>1.0</td>\n",
       "      <td>3.0</td>\n",
       "      <td>3.0</td>\n",
       "      <td>3.0</td>\n",
       "      <td>4.0</td>\n",
       "      <td>2.0</td>\n",
       "      <td>-1.0</td>\n",
       "    </tr>\n",
       "    <tr>\n",
       "      <th>339689</th>\n",
       "      <td>𐍅𐌰𐌹𐌽𐌰𐌷𐍃</td>\n",
       "      <td>got</td>\n",
       "      <td>w ɛː n a h s</td>\n",
       "      <td>miserable~unhappy</td>\n",
       "      <td>2.005</td>\n",
       "      <td>1.320</td>\n",
       "      <td>2.220</td>\n",
       "      <td>1.485</td>\n",
       "      <td>5.080</td>\n",
       "      <td>2.720</td>\n",
       "      <td>3.785</td>\n",
       "      <td>2.170</td>\n",
       "      <td>3.695000</td>\n",
       "      <td>0.405778</td>\n",
       "      <td>Eurasia</td>\n",
       "      <td>0.0</td>\n",
       "      <td>0.0</td>\n",
       "      <td>2.0</td>\n",
       "      <td>0.0</td>\n",
       "      <td>1.0</td>\n",
       "      <td>1.0</td>\n",
       "      <td>4.0</td>\n",
       "      <td>2.0</td>\n",
       "      <td>1.0</td>\n",
       "      <td>-1.0</td>\n",
       "    </tr>\n",
       "    <tr>\n",
       "      <th>339690</th>\n",
       "      <td>𐍅𐍉𐌸𐌴𐌹𐍃</td>\n",
       "      <td>got</td>\n",
       "      <td>w oː θ iː s</td>\n",
       "      <td>pleasant~sweet</td>\n",
       "      <td>2.775</td>\n",
       "      <td>1.020</td>\n",
       "      <td>7.505</td>\n",
       "      <td>1.445</td>\n",
       "      <td>3.525</td>\n",
       "      <td>2.720</td>\n",
       "      <td>6.410</td>\n",
       "      <td>1.965</td>\n",
       "      <td>5.813333</td>\n",
       "      <td>0.600463</td>\n",
       "      <td>Eurasia</td>\n",
       "      <td>0.0</td>\n",
       "      <td>2.0</td>\n",
       "      <td>0.0</td>\n",
       "      <td>2.0</td>\n",
       "      <td>1.0</td>\n",
       "      <td>6.0</td>\n",
       "      <td>2.0</td>\n",
       "      <td>5.0</td>\n",
       "      <td>3.0</td>\n",
       "      <td>-1.0</td>\n",
       "    </tr>\n",
       "    <tr>\n",
       "      <th>339691</th>\n",
       "      <td>𐍆𐌿𐌻𐌻𐌰𐍆𐌰𐌷𐌾𐌰𐌽</td>\n",
       "      <td>got</td>\n",
       "      <td>f u l l a f a h j a n</td>\n",
       "      <td>content~satisfy</td>\n",
       "      <td>2.315</td>\n",
       "      <td>1.270</td>\n",
       "      <td>6.895</td>\n",
       "      <td>1.825</td>\n",
       "      <td>4.350</td>\n",
       "      <td>2.655</td>\n",
       "      <td>6.125</td>\n",
       "      <td>2.265</td>\n",
       "      <td>5.790000</td>\n",
       "      <td>0.553167</td>\n",
       "      <td>Eurasia</td>\n",
       "      <td>0.0</td>\n",
       "      <td>2.0</td>\n",
       "      <td>1.0</td>\n",
       "      <td>2.0</td>\n",
       "      <td>1.0</td>\n",
       "      <td>5.0</td>\n",
       "      <td>3.0</td>\n",
       "      <td>5.0</td>\n",
       "      <td>3.0</td>\n",
       "      <td>-1.0</td>\n",
       "    </tr>\n",
       "  </tbody>\n",
       "</table>\n",
       "<p>339692 rows × 25 columns</p>\n",
       "</div>"
      ],
      "text/plain": [
       "        SENSE_LEMMA LANG_PRON                   PRON                  COLEX   \n",
       "0                 a       eng                      ə         alpha~settling  \\\n",
       "1                 a       hun                     ɒː     amplitude~elevator   \n",
       "2                 a       hun                     ɒː  amplitude~legislature   \n",
       "3                 a       hun                     ɒː    amplitude~menopause   \n",
       "4                 a       hun                     ɒː        amplitude~movie   \n",
       "...             ...       ...                    ...                    ...   \n",
       "339687       𐌿𐍂𐍂𐌿𐌽𐍃       got            u r r u n s         dawn~departure   \n",
       "339688       𐍃𐌺𐌴𐌹𐌼𐌰       got             s k iː m a          lantern~torch   \n",
       "339689      𐍅𐌰𐌹𐌽𐌰𐌷𐍃       got           w ɛː n a h s      miserable~unhappy   \n",
       "339690       𐍅𐍉𐌸𐌴𐌹𐍃       got            w oː θ iː s         pleasant~sweet   \n",
       "339691  𐍆𐌿𐌻𐌻𐌰𐍆𐌰𐌷𐌾𐌰𐌽       got  f u l l a f a h j a n        content~satisfy   \n",
       "\n",
       "        Conc.Mean  Conc.SD  V.Mean   V.SD  A.Mean   A.SD  D.Mean   D.SD   \n",
       "0           2.035    1.230   5.500  2.240   3.670  2.630   6.320  2.480  \\\n",
       "1           3.855    0.985   5.950  1.500   3.650  2.250   4.920  2.260   \n",
       "2           2.730    1.360   3.550  1.570   3.220  2.180   4.480  1.990   \n",
       "3           3.055    1.405   1.890  1.020   3.550  2.240   4.320  2.810   \n",
       "4           3.755    1.185   7.240  1.510   4.390  2.630   5.680  2.160   \n",
       "...           ...      ...     ...    ...     ...    ...     ...    ...   \n",
       "339687      3.765    1.170   5.395  1.750   3.375  2.535   5.035  2.615   \n",
       "339688      4.880    0.320   4.935  1.700   4.165  2.195   5.550  2.160   \n",
       "339689      2.005    1.320   2.220  1.485   5.080  2.720   3.785  2.170   \n",
       "339690      2.775    1.020   7.505  1.445   3.525  2.720   6.410  1.965   \n",
       "339691      2.315    1.270   6.895  1.825   4.350  2.655   6.125  2.265   \n",
       "\n",
       "        Aff.Mean  Aff.all.Mean macroarae  Conc.CLASS  V.CLASS  A.CLASS   \n",
       "0       5.163333      0.490352   Eurasia         0.0      1.0      0.0  \\\n",
       "1       4.840000      0.654389   Eurasia         1.0      1.0      0.0   \n",
       "2       3.750000      0.481333   Eurasia         0.0      0.0      0.0   \n",
       "3       3.253333      0.486241   Eurasia         1.0      0.0      0.0   \n",
       "4       5.770000      0.696056   Eurasia         1.0      2.0      1.0   \n",
       "...          ...           ...       ...         ...      ...      ...   \n",
       "339687  4.601667      0.632148   Eurasia         1.0      1.0      0.0   \n",
       "339688  4.883333      0.759296   Eurasia         2.0      1.0      1.0   \n",
       "339689  3.695000      0.405778   Eurasia         0.0      0.0      2.0   \n",
       "339690  5.813333      0.600463   Eurasia         0.0      2.0      0.0   \n",
       "339691  5.790000      0.553167   Eurasia         0.0      2.0      1.0   \n",
       "\n",
       "        D.CLASS  Conc    V    A    D  Aff  Aff.all  \n",
       "0           2.0   1.0  4.0  2.0  5.0  3.0     -1.0  \n",
       "1           1.0   2.0  4.0  2.0  3.0  2.0     -1.0  \n",
       "2           1.0   1.0  2.0  2.0  3.0  1.0     -1.0  \n",
       "3           1.0   2.0  0.0  2.0  3.0  1.0     -1.0  \n",
       "4           1.0   2.0  6.0  3.0  4.0  3.0     -1.0  \n",
       "...         ...   ...  ...  ...  ...  ...      ...  \n",
       "339687      1.0   2.0  4.0  2.0  4.0  2.0     -1.0  \n",
       "339688      1.0   3.0  3.0  3.0  4.0  2.0     -1.0  \n",
       "339689      0.0   1.0  1.0  4.0  2.0  1.0     -1.0  \n",
       "339690      2.0   1.0  6.0  2.0  5.0  3.0     -1.0  \n",
       "339691      2.0   1.0  5.0  3.0  5.0  3.0     -1.0  \n",
       "\n",
       "[339692 rows x 25 columns]"
      ]
     },
     "execution_count": 31,
     "metadata": {},
     "output_type": "execute_result"
    }
   ],
   "source": [
    "df"
   ]
  },
  {
   "cell_type": "code",
   "execution_count": 32,
   "id": "9ee758e0-74e1-4522-be26-234d7a8c437f",
   "metadata": {
    "tags": []
   },
   "outputs": [],
   "source": [
    "df_merge = pd.merge(df, df_langs, how=\"left\",  left_on=\"LANG_PRON\", right_on=\"ISO\")"
   ]
  },
  {
   "cell_type": "code",
   "execution_count": 35,
   "id": "5a7cf9e2-e9d8-4148-8946-b55ced3e0dae",
   "metadata": {
    "tags": []
   },
   "outputs": [],
   "source": [
    "df_merge.rename(columns={\"Top-level family\":\"Family\"}, inplace=True)"
   ]
  },
  {
   "cell_type": "code",
   "execution_count": 37,
   "id": "3ed32ff9-87a8-4182-9b33-cbfeee12e92a",
   "metadata": {
    "tags": []
   },
   "outputs": [],
   "source": [
    "df_merge.to_csv(\"../data/aff+conc/wn_pron_all.csv\", index=False)"
   ]
  },
  {
   "cell_type": "code",
   "execution_count": null,
   "id": "9ea65911-f5c5-4566-8447-6cbe4b3a94d6",
   "metadata": {},
   "outputs": [],
   "source": []
  },
  {
   "cell_type": "code",
   "execution_count": null,
   "id": "4b299539-a0cd-4326-aebd-014328aa5bbb",
   "metadata": {},
   "outputs": [],
   "source": []
  },
  {
   "cell_type": "code",
   "execution_count": null,
   "id": "15c508b4-fb4f-4286-8251-48b68cbf7b8d",
   "metadata": {},
   "outputs": [],
   "source": []
  },
  {
   "cell_type": "code",
   "execution_count": null,
   "id": "e029cca4-4c10-48a8-a6e0-6bbb2d2c181e",
   "metadata": {},
   "outputs": [],
   "source": []
  }
 ],
 "metadata": {
  "kernelspec": {
   "display_name": "colexphon",
   "language": "python",
   "name": "colexphon"
  },
  "language_info": {
   "codemirror_mode": {
    "name": "ipython",
    "version": 3
   },
   "file_extension": ".py",
   "mimetype": "text/x-python",
   "name": "python",
   "nbconvert_exporter": "python",
   "pygments_lexer": "ipython3",
   "version": "3.10.0"
  }
 },
 "nbformat": 4,
 "nbformat_minor": 5
}
